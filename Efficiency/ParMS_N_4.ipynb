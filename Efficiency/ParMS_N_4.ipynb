{
  "cells": [
    {
      "cell_type": "code",
      "execution_count": 1,
      "metadata": {
        "id": "uG6SJN7fZa4_"
      },
      "outputs": [],
      "source": [
        "import torch\n",
        "from torch.utils.data import DataLoader, Dataset\n",
        "import numpy as np\n",
        "import torch.nn as nn\n",
        "import torch.nn.functional as F\n",
        "from torchvision import datasets, transforms\n",
        "import matplotlib.pyplot as plt\n",
        "import copy\n",
        "from tqdm import trange\n",
        "from torchsummary import summary\n",
        "\n",
        "import torchvision\n",
        "import torchvision.transforms as transforms\n",
        "from typing import List, Any, Tuple, Optional\n",
        "from collections import OrderedDict\n",
        "import EarlyStopping\n",
        "from pytorchtools import EarlyStopping"
      ]
    },
    {
      "cell_type": "code",
      "execution_count": 2,
      "metadata": {},
      "outputs": [
        {
          "data": {
            "text/plain": [
              "True"
            ]
          },
          "execution_count": 2,
          "metadata": {},
          "output_type": "execute_result"
        }
      ],
      "source": [
        "torch.cuda.is_available()"
      ]
    },
    {
      "cell_type": "code",
      "execution_count": 3,
      "metadata": {},
      "outputs": [
        {
          "data": {
            "text/plain": [
              "6"
            ]
          },
          "execution_count": 3,
          "metadata": {},
          "output_type": "execute_result"
        }
      ],
      "source": [
        "torch.cuda.device_count()"
      ]
    },
    {
      "cell_type": "code",
      "execution_count": 4,
      "metadata": {},
      "outputs": [
        {
          "data": {
            "text/plain": [
              "'NVIDIA RTX A5000'"
            ]
          },
          "execution_count": 4,
          "metadata": {},
          "output_type": "execute_result"
        }
      ],
      "source": [
        "torch.cuda.get_device_name()"
      ]
    },
    {
      "cell_type": "code",
      "execution_count": 5,
      "metadata": {},
      "outputs": [
        {
          "name": "stdout",
          "output_type": "stream",
          "text": [
            "144 or 37\n"
          ]
        }
      ],
      "source": [
        "print(\"144 or 37\")"
      ]
    },
    {
      "cell_type": "code",
      "execution_count": 6,
      "metadata": {
        "id": "VzJRdXpobgBG"
      },
      "outputs": [],
      "source": [
        "# Hyperparameters for training\n",
        "num_rounds = 50\n",
        "local_rounds = 10\n",
        "num_clients = 10  # Total number of clients\n",
        "num_selected = 10  # Number of selected clients per round\n",
        "local_bs = 10\n",
        "lr = 0.001\n",
        "num_channels = 3\n",
        "num_classes = 10\n",
        "test_bs = 128\n",
        "gamma = 0.1\n",
        "milestones = [0.5 * num_rounds, 0.75 * num_rounds]"
      ]
    },
    {
      "cell_type": "code",
      "execution_count": 7,
      "metadata": {
        "id": "PYbUdZkjbmZH"
      },
      "outputs": [],
      "source": [
        "device = torch.device('cuda:3' if torch.cuda.is_available() else 'cpu')"
      ]
    },
    {
      "cell_type": "code",
      "execution_count": 8,
      "metadata": {},
      "outputs": [
        {
          "data": {
            "text/plain": [
              "device(type='cuda', index=3)"
            ]
          },
          "execution_count": 8,
          "metadata": {},
          "output_type": "execute_result"
        }
      ],
      "source": [
        "device"
      ]
    },
    {
      "cell_type": "code",
      "execution_count": 9,
      "metadata": {},
      "outputs": [],
      "source": [
        "#ResNet9\n",
        "def conv_block(in_channels, out_channels, pool=False):\n",
        "    layers = [nn.Conv2d(in_channels, out_channels, kernel_size=3, padding=1), \n",
        "              nn.BatchNorm2d(out_channels), \n",
        "              nn.ReLU(inplace=True)]\n",
        "    if pool: layers.append(nn.MaxPool2d(2))\n",
        "    return nn.Sequential(*layers)"
      ]
    },
    {
      "cell_type": "code",
      "execution_count": 10,
      "metadata": {},
      "outputs": [],
      "source": [
        "class ResNet9(nn.Module):\n",
        "    def __init__(\n",
        "            self, \n",
        "            in_channels, \n",
        "            num_classes, \n",
        "            grid_size=5,\n",
        "            spline_order=3,\n",
        "            scale_noise=0.1,\n",
        "            scale_base=1.0,\n",
        "            scale_spline=1.0,\n",
        "            base_activation=torch.nn.SiLU,\n",
        "            grid_eps=0.02,\n",
        "            grid_range=[-1, 1],\n",
        "            ):\n",
        "        super(ResNet9, self).__init__()\n",
        "        self.grid_size = grid_size\n",
        "        self.spline_order = spline_order\n",
        "        \n",
        "        self.conv1 = conv_block(in_channels, 64)\n",
        "        self.conv2 = conv_block(64, 128, pool=True)\n",
        "        self.res1 = nn.Sequential(conv_block(128, 128), conv_block(128, 128))\n",
        "        \n",
        "        self.conv3 = conv_block(128, 256, pool=True)\n",
        "        self.conv4 = conv_block(256, 512, pool=True)\n",
        "        self.res2 = nn.Sequential(conv_block(512, 512), conv_block(512, 512))\n",
        "        \n",
        "        self.classifier = nn.Sequential(nn.AdaptiveMaxPool2d((1,1)), \n",
        "                                        nn.Flatten(), \n",
        "                                        nn.Dropout(0.2),\n",
        "                                        nn.Linear(512, num_classes))\n",
        "        \n",
        "    def forward(self, xb):\n",
        "        out = self.conv1(xb)\n",
        "        out = self.conv2(out)\n",
        "        out = self.res1(out) + out\n",
        "        out = self.conv3(out)\n",
        "        out = self.conv4(out)\n",
        "        out = self.res2(out) + out\n",
        "        out = self.classifier(out)\n",
        "        return out\n"
      ]
    },
    {
      "cell_type": "code",
      "execution_count": 11,
      "metadata": {},
      "outputs": [],
      "source": [
        "class CIFAR10_truncated(Dataset):\n",
        "\n",
        "    def __init__(self, root, dataidxs=None, train=True, transform=None, target_transform=None, download=False):\n",
        "\n",
        "        self.root = root\n",
        "        self.dataidxs = dataidxs\n",
        "        self.train = train\n",
        "        self.transform = transform\n",
        "        self.target_transform = target_transform\n",
        "        self.download = download\n",
        "\n",
        "        self.data, self.target = self.__build_truncated_dataset__()\n",
        "\n",
        "    def __build_truncated_dataset__(self):\n",
        "\n",
        "        cifar_dataobj = datasets.CIFAR10(self.root, self.train, self.transform, self.target_transform, self.download)\n",
        "\n",
        "        data = np.array(cifar_dataobj.data)\n",
        "        target = np.array(cifar_dataobj.targets)\n",
        "\n",
        "        if self.dataidxs is not None:\n",
        "            data = data[self.dataidxs]\n",
        "            target = target[self.dataidxs]\n",
        "\n",
        "        return data, target\n",
        "\n",
        "    def __getitem__(self, index):\n",
        "        \"\"\"\n",
        "        Args:\n",
        "            index (int): Index\n",
        "\n",
        "        Returns:\n",
        "            tuple: (image, target) where target is index of the target class.\n",
        "        \"\"\"\n",
        "        img, target = self.data[index], self.target[index]\n",
        "\n",
        "        if self.transform is not None:\n",
        "            img = self.transform(img)\n",
        "\n",
        "        if self.target_transform is not None:\n",
        "            target = self.target_transform(target)\n",
        "\n",
        "        return img, target\n",
        "\n",
        "    def __len__(self):\n",
        "        return len(self.data)"
      ]
    },
    {
      "cell_type": "code",
      "execution_count": 12,
      "metadata": {
        "id": "cRVoTdg5cowo"
      },
      "outputs": [],
      "source": [
        "transform_train = transforms.Compose([transforms.ToTensor(),\n",
        "                                      transforms.RandomCrop(32, padding=4),\n",
        "                                      transforms.RandomHorizontalFlip(),\n",
        "                                      transforms.Normalize(mean=[x / 255.0 for x in [125.3, 123.0, 113.9]],\n",
        "                                     std=[x / 255.0 for x in [63.0, 62.1, 66.7]])])\n",
        "transform_test = transforms.Compose([\n",
        "    transforms.ToTensor(),\n",
        "    transforms.Normalize(mean=[x / 255.0 for x in [125.3, 123.0, 113.9]], std=[x / 255.0 for x in [63.0, 62.1, 66.7]])])"
      ]
    },
    {
      "cell_type": "code",
      "execution_count": 13,
      "metadata": {
        "colab": {
          "base_uri": "https://localhost:8080/"
        },
        "id": "ApAnVijabpCO",
        "outputId": "ead7b612-e8d1-48a4-932a-3104e1555c93"
      },
      "outputs": [
        {
          "name": "stdout",
          "output_type": "stream",
          "text": [
            "Files already downloaded and verified\n",
            "Files already downloaded and verified\n"
          ]
        }
      ],
      "source": [
        "# CIFAR10 Data loading\n",
        "train_dataset = CIFAR10_truncated('./data', train=True, download=True, transform=transform_train)\n",
        "test_dataset = CIFAR10_truncated('./data', train=False, download=True, transform=transform_test)\n",
        "\n",
        "X_train, y_train = train_dataset.data, train_dataset.target\n",
        "X_test, y_test = test_dataset.data, test_dataset.target"
      ]
    },
    {
      "cell_type": "code",
      "execution_count": 14,
      "metadata": {},
      "outputs": [],
      "source": [
        "def record_net_data_stats(y_train, net_dataidx_map):\n",
        "\n",
        "    net_cls_counts = {}\n",
        "\n",
        "    for net_i, dataidx in net_dataidx_map.items():\n",
        "        unq, unq_cnt = np.unique(y_train[dataidx], return_counts=True)\n",
        "        tmp = {unq[i]: unq_cnt[i] for i in range(len(unq))}\n",
        "        net_cls_counts[net_i] = tmp\n",
        "\n",
        "    #print('Data statistics: %s' % str(net_cls_counts))\n",
        "\n",
        "    return net_cls_counts"
      ]
    },
    {
      "cell_type": "code",
      "execution_count": 15,
      "metadata": {},
      "outputs": [],
      "source": [
        "class DatasetSplit(Dataset):\n",
        "    def __init__(self, dataset, idxs):\n",
        "        self.dataset = dataset\n",
        "        self.targets = dataset.targets\n",
        "        self.idxs = list(idxs)\n",
        "\n",
        "    def __len__(self):\n",
        "        return len(self.idxs)\n",
        "\n",
        "    def __getitem__(self, item):\n",
        "        image, label = self.dataset[self.idxs[item]]\n",
        "        return image, label"
      ]
    },
    {
      "cell_type": "code",
      "execution_count": 16,
      "metadata": {
        "id": "7WqBz6HobwuF"
      },
      "outputs": [],
      "source": [
        "# for IID case\n",
        "def generate_iid_cifar(X_train,y_train, num_of_clients):\n",
        "    \"\"\"\n",
        "    Sample I.I.D. client data from CIFAR10 dataset\n",
        "    :param n_nets: Number of clients\n",
        "    :return: Tuple containing train and test datasets, data index map for each client, and train data class counts\n",
        "    \"\"\"\n",
        "    \n",
        "    n_train = X_train.shape[0]\n",
        "\n",
        "    # Shuffle and partition the data\n",
        "    idxs = np.arange(n_train)\n",
        "    np.random.shuffle(idxs)\n",
        "\n",
        "    net_data_idx_map = {}\n",
        "    batch_idxs = np.array_split(idxs, num_of_clients)\n",
        "\n",
        "    for i in range(num_of_clients):\n",
        "        net_data_idx_map[i] = batch_idxs[i]\n",
        "\n",
        "    traindata_class_counts = record_net_data_stats(y_train, net_data_idx_map)\n",
        "\n",
        "    return net_data_idx_map, traindata_class_counts\n"
      ]
    },
    {
      "cell_type": "code",
      "execution_count": 17,
      "metadata": {},
      "outputs": [],
      "source": [
        "def generate_noniid_cifar(X_train,y_train, num_of_clients, alpha=0.5):\n",
        "    \"\"\"\n",
        "    Sample non I.I.D. client data from CIFAR10 dataset\n",
        "    :param dataset: \n",
        "    :param num_users: \n",
        "    :return: \n",
        "    \"\"\"\n",
        "\n",
        "    n_train = len(X_train.shape)\n",
        "\n",
        "    min_size = 0\n",
        "    K = 10\n",
        "    N = len(y_train)\n",
        "    net_dataidx_map = {}\n",
        "\n",
        "    while min_size < 10:\n",
        "        idx_batch = [[] for _ in range(num_of_clients)]\n",
        "        for k in range(K):\n",
        "            idx_k = np.where(y_train == k)[0]\n",
        "            np.random.shuffle(idx_k)\n",
        "            proportions = np.random.dirichlet(np.repeat(alpha, num_of_clients))\n",
        "            ## Balance\n",
        "            proportions = np.array([p*(len(idx_j)<N/num_of_clients) for p,idx_j in zip(proportions,idx_batch)])\n",
        "            proportions = proportions/proportions.sum()\n",
        "            proportions = (np.cumsum(proportions)*len(idx_k)).astype(int)[:-1]\n",
        "            idx_batch = [idx_j + idx.tolist() for idx_j,idx in zip(idx_batch,np.split(idx_k,proportions))]\n",
        "            min_size = min([len(idx_j) for idx_j in idx_batch])\n",
        "\n",
        "    for j in range(num_of_clients):\n",
        "        np.random.shuffle(idx_batch[j])\n",
        "        net_dataidx_map[j] = idx_batch[j]\n",
        "    traindata_class_counts = record_net_data_stats(y_train, net_dataidx_map)\n",
        "\n",
        "    return net_dataidx_map, traindata_class_counts"
      ]
    },
    {
      "cell_type": "code",
      "execution_count": 18,
      "metadata": {},
      "outputs": [],
      "source": [
        "#iid_dataidx_map, iid_traindata_cls_counts = generate_iid_cifar(X_train,y_train, num_clients)"
      ]
    },
    {
      "cell_type": "code",
      "execution_count": 19,
      "metadata": {},
      "outputs": [],
      "source": [
        "noniid_dataidx_map, noniid_traindata_cls_counts = generate_noniid_cifar(X_train,y_train, num_clients)"
      ]
    },
    {
      "cell_type": "code",
      "execution_count": 20,
      "metadata": {},
      "outputs": [
        {
          "data": {
            "image/png": "[encoded data removed]",
            "text/plain": [
              "<Figure size 2000x800 with 10 Axes>"
            ]
          },
          "metadata": {},
          "output_type": "display_data"
        }
      ],
      "source": [
        "import numpy as np\n",
        "import matplotlib.pyplot as plt\n",
        "from torchvision import datasets, transforms\n",
        "from collections import Counter\n",
        "\n",
        "# Assuming you have already run the partition_data function and obtained the following:\n",
        "# X_train, y_train, X_test, y_test, net_dataidx_map, traindata_cls_counts\n",
        "\n",
        "def visualize_client_distribution(traindata_cls_counts, n_clients):\n",
        "    \"\"\"\n",
        "    Visualizes the class distribution for each client.\n",
        "    \n",
        "    :param traindata_cls_counts: Dictionary of class counts per client\n",
        "    :param n_clients: Number of clients\n",
        "    \"\"\"\n",
        "    fig, axes = plt.subplots(n_clients // 5, 5, figsize=(20, 4 * (n_clients // 5)))\n",
        "    axes = axes.flatten()\n",
        "\n",
        "    for client_id, cls_counts in traindata_cls_counts.items():\n",
        "        classes = list(cls_counts.keys())\n",
        "        counts = list(cls_counts.values())\n",
        "\n",
        "        axes[client_id].bar(classes, counts)\n",
        "        axes[client_id].set_xticks(classes)\n",
        "        axes[client_id].set_xticklabels(classes)\n",
        "        axes[client_id].set_title(f'Client {client_id}')\n",
        "        axes[client_id].set_xlabel('Class')\n",
        "        axes[client_id].set_ylabel('Number of samples')\n",
        "\n",
        "    plt.tight_layout()\n",
        "    plt.show()\n",
        "\n",
        "# Visualize the distribution of the class counts for each client\n",
        "visualize_client_distribution(noniid_traindata_cls_counts, num_clients)"
      ]
    },
    {
      "cell_type": "code",
      "execution_count": 21,
      "metadata": {
        "id": "bXma7Ut0bz2Z"
      },
      "outputs": [],
      "source": [
        "# Initialize and synchronize models###\n",
        "global_model = ResNet9(\n",
        "    in_channels=num_channels, num_classes=num_classes).to(device)\n",
        "criterion = nn.CrossEntropyLoss()"
      ]
    },
    {
      "cell_type": "code",
      "execution_count": 22,
      "metadata": {
        "colab": {
          "base_uri": "https://localhost:8080/"
        },
        "id": "NJ5AHOOi3f57",
        "outputId": "84123030-b73d-43d8-c4e0-553873c91fef"
      },
      "outputs": [],
      "source": [
        "# summary(global_model, (3, 32, 32), device=\"cuda\")"
      ]
    },
    {
      "cell_type": "code",
      "execution_count": 23,
      "metadata": {},
      "outputs": [
        {
          "name": "stdout",
          "output_type": "stream",
          "text": [
            "conv1.0.weight is on cuda:3\n",
            "conv1.0.bias is on cuda:3\n",
            "conv1.1.weight is on cuda:3\n",
            "conv1.1.bias is on cuda:3\n",
            "conv2.0.weight is on cuda:3\n",
            "conv2.0.bias is on cuda:3\n",
            "conv2.1.weight is on cuda:3\n",
            "conv2.1.bias is on cuda:3\n",
            "res1.0.0.weight is on cuda:3\n",
            "res1.0.0.bias is on cuda:3\n",
            "res1.0.1.weight is on cuda:3\n",
            "res1.0.1.bias is on cuda:3\n",
            "res1.1.0.weight is on cuda:3\n",
            "res1.1.0.bias is on cuda:3\n",
            "res1.1.1.weight is on cuda:3\n",
            "res1.1.1.bias is on cuda:3\n",
            "conv3.0.weight is on cuda:3\n",
            "conv3.0.bias is on cuda:3\n",
            "conv3.1.weight is on cuda:3\n",
            "conv3.1.bias is on cuda:3\n",
            "conv4.0.weight is on cuda:3\n",
            "conv4.0.bias is on cuda:3\n",
            "conv4.1.weight is on cuda:3\n",
            "conv4.1.bias is on cuda:3\n",
            "res2.0.0.weight is on cuda:3\n",
            "res2.0.0.bias is on cuda:3\n",
            "res2.0.1.weight is on cuda:3\n",
            "res2.0.1.bias is on cuda:3\n",
            "res2.1.0.weight is on cuda:3\n",
            "res2.1.0.bias is on cuda:3\n",
            "res2.1.1.weight is on cuda:3\n",
            "res2.1.1.bias is on cuda:3\n",
            "classifier.3.weight is on cuda:3\n",
            "classifier.3.bias is on cuda:3\n"
          ]
        }
      ],
      "source": [
        "# Example for checking device of each parameter in a model\n",
        "for name, param in global_model.named_parameters():\n",
        "    print(f\"{name} is on {param.device}\")"
      ]
    },
    {
      "cell_type": "code",
      "execution_count": 24,
      "metadata": {
        "id": "J0okEWXv45np"
      },
      "outputs": [],
      "source": [
        "# from torchviz import make_dot\n",
        "\n",
        "# # Sample input to model for visualization\n",
        "# sample_input = torch.randn(1, num_channels, 32, 32).to(device)\n",
        "# model_vis = LeNet(num_classes).to(device)\n",
        "\n",
        "# # Visualize the model\n",
        "# model_dot = make_dot(global_model(sample_input), params=dict(list(global_model.named_parameters())))\n",
        "# model_dot.render(\"model_architecture\", format=\"png\")  # Saves the diagram as PNG"
      ]
    },
    {
      "cell_type": "code",
      "execution_count": 25,
      "metadata": {
        "id": "N5IEM7bdb2b4"
      },
      "outputs": [],
      "source": [
        "# Client training function\n",
        "def client_train(model: nn.Module, loader: DataLoader, optimizer, criterion, local_rounds:int):\n",
        "    model.train()\n",
        "    epoch_loss = []\n",
        "    epoch_acc = []\n",
        "    for _ in trange(local_rounds):\n",
        "        batch_loss = []\n",
        "        for batch_idx, (data, target) in enumerate(loader):\n",
        "            data, target = data.to(device), target.to(device)\n",
        "            optimizer.zero_grad()\n",
        "            output = model(data)\n",
        "            loss = criterion(output, target)\n",
        "            loss.backward()\n",
        "            optimizer.step()\n",
        "            batch_loss.append(loss.item())\n",
        "\n",
        "            _, pred = torch.max(output, dim=1)\n",
        "            correct_train = pred.eq(target.data.view_as(pred))\n",
        "            accuracy_train = torch.mean(correct_train.type(torch.FloatTensor))\n",
        "            epoch_acc.append(accuracy_train.item())\n",
        "\n",
        "        epoch_loss.append(sum(batch_loss) / len(batch_loss))\n",
        "    return model.state_dict(), sum(epoch_loss) / len(epoch_loss), sum(epoch_acc) / len(epoch_acc)"
      ]
    },
    {
      "cell_type": "code",
      "execution_count": 26,
      "metadata": {
        "id": "bAXYEu_Db4jX"
      },
      "outputs": [],
      "source": [
        "# 'FedAvg' aggregation\n",
        "def FedAvg(w):\n",
        "    w_avg = copy.deepcopy(w[0])\n",
        "    for k in w_avg.keys():\n",
        "        for i in range(1, len(w)):\n",
        "            w_avg[k] += w[i][k]\n",
        "        w_avg[k] = torch.div(w_avg[k], len(w))\n",
        "    return w_avg"
      ]
    },
    {
      "cell_type": "code",
      "execution_count": 27,
      "metadata": {
        "id": "Kx1_Y0onb_Qu"
      },
      "outputs": [],
      "source": [
        "# Evaluate on Test dataset\n",
        "def evaluate(model, datatest, test_bs, device):\n",
        "    model.eval()\n",
        "    # testing\n",
        "    test_loss = 0\n",
        "    correct = 0\n",
        "    data_loader = DataLoader(datatest, batch_size=test_bs)\n",
        "    with torch.no_grad():\n",
        "        for data, target in data_loader:\n",
        "            data, target = data.to(device), target.to(device)\n",
        "            log_probs = model(data)\n",
        "            # sum up batch loss\n",
        "            test_loss += F.cross_entropy(log_probs,\n",
        "                                         target, reduction='sum').item()\n",
        "            # get the index of the max log-probability\n",
        "            y_pred = log_probs.data.max(1, keepdim=True)[1]\n",
        "            correct += y_pred.eq(target.data.view_as(y_pred)\n",
        "                                 ).long().cpu().sum()\n",
        "\n",
        "        test_loss /= len(data_loader.dataset)\n",
        "        accuracy = 100.00 * correct.item() / len(data_loader.dataset)\n",
        "    return accuracy, test_loss"
      ]
    },
    {
      "cell_type": "code",
      "execution_count": 28,
      "metadata": {},
      "outputs": [],
      "source": [
        "# for model in client_models:\n",
        "#   model.load_state_dict(global_model.state_dict())"
      ]
    },
    {
      "cell_type": "code",
      "execution_count": 29,
      "metadata": {},
      "outputs": [],
      "source": [
        "# # Evaluation on test dataset for each round\n",
        "# client_acc = []\n",
        "# for client in selected_clients:\n",
        "#     cur_auc, test_loss = evaluate(\n",
        "#         sampled_clients_models[client], test_dataset, test_bs, device)\n",
        "#     client_acc.append(cur_auc)\n",
        "# print(f'Round Test, Test Loss: {test_loss:.4f}, Test Accuracy: {cur_auc:.2f}%')"
      ]
    },
    {
      "cell_type": "code",
      "execution_count": 30,
      "metadata": {},
      "outputs": [],
      "source": [
        "# client_acc"
      ]
    },
    {
      "cell_type": "code",
      "execution_count": 31,
      "metadata": {},
      "outputs": [],
      "source": [
        "# optimizer = SGD(\n",
        "#         net.parameters(), lr=learning_rate, momentum=momentum, weight_decay=weight_decay\n",
        "#     )"
      ]
    },
    {
      "cell_type": "code",
      "execution_count": 32,
      "metadata": {},
      "outputs": [],
      "source": [
        "trained_weights = global_model.state_dict()\n",
        "shapes = {key: tensor.shape for key, tensor in trained_weights.items()}\n",
        "sizes = {key: tensor.numel() for key, tensor in trained_weights.items()}\n",
        "\n",
        "clients_models = {i: ResNet9(in_channels=num_channels, num_classes=num_classes).to(device) for i in range(num_clients)}\n",
        "optimizers={}\n",
        "for key, model in clients_models.items():\n",
        "   optimizers[key] =  torch.optim.Adam(model.parameters(), lr=lr)\n",
        "\n",
        "schedulers={}\n",
        "for key, optimizer in optimizers.items():\n",
        "   schedulers[key] =  torch.optim.lr_scheduler.MultiStepLR(optimizer, milestones=milestones, gamma=gamma)"
      ]
    },
    {
      "cell_type": "code",
      "execution_count": 33,
      "metadata": {},
      "outputs": [
        {
          "name": "stdout",
          "output_type": "stream",
          "text": [
            "Round Test, Test Loss: 2.3037, Test Accuracy: 11.75%\n"
          ]
        }
      ],
      "source": [
        "# Evaluation on test dataset for each round\n",
        "cur_auc, test_loss = evaluate(\n",
        "   global_model, test_dataset, test_bs, device)\n",
        "print(f'Round Test, Test Loss: {test_loss:.4f}, Test Accuracy: {cur_auc:.2f}%')"
      ]
    },
    {
      "cell_type": "code",
      "execution_count": 34,
      "metadata": {},
      "outputs": [
        {
          "name": "stdout",
          "output_type": "stream",
          "text": [
            "Round Test, Test Loss: 2.3044, Test Accuracy: 10.18%\n"
          ]
        }
      ],
      "source": [
        "# Evaluation on test dataset for each round\n",
        "cur_auc, test_loss = evaluate(\n",
        "    clients_models[0], test_dataset, test_bs, device)\n",
        "print(f'Round Test, Test Loss: {test_loss:.4f}, Test Accuracy: {cur_auc:.2f}%')"
      ]
    },
    {
      "cell_type": "code",
      "execution_count": 35,
      "metadata": {},
      "outputs": [],
      "source": [
        "for model in clients_models.values():\n",
        "  model.load_state_dict(global_model.state_dict())"
      ]
    },
    {
      "cell_type": "code",
      "execution_count": 36,
      "metadata": {},
      "outputs": [
        {
          "name": "stdout",
          "output_type": "stream",
          "text": [
            "Round Test, Test Loss: 2.3037, Test Accuracy: 11.75%\n"
          ]
        }
      ],
      "source": [
        "# Evaluation on test dataset for each round\n",
        "cur_auc, test_loss = evaluate(\n",
        "    clients_models[0], test_dataset, test_bs, device)\n",
        "print(f'Round Test, Test Loss: {test_loss:.4f}, Test Accuracy: {cur_auc:.2f}%')"
      ]
    },
    {
      "cell_type": "code",
      "execution_count": 37,
      "metadata": {},
      "outputs": [
        {
          "data": {
            "text/plain": [
              "[4353, 5490, 5348, 3466, 7259, 5299, 5090, 4720, 4663, 4312]"
            ]
          },
          "execution_count": 37,
          "metadata": {},
          "output_type": "execute_result"
        }
      ],
      "source": [
        "client_dataset_cnt = [len(v) for k, v in noniid_dataidx_map.items()]\n",
        "client_dataset_cnt"
      ]
    },
    {
      "cell_type": "code",
      "execution_count": 38,
      "metadata": {},
      "outputs": [
        {
          "data": {
            "text/plain": [
              "50000"
            ]
          },
          "execution_count": 38,
          "metadata": {},
          "output_type": "execute_result"
        }
      ],
      "source": [
        "np.sum(client_dataset_cnt)"
      ]
    },
    {
      "cell_type": "code",
      "execution_count": 39,
      "metadata": {},
      "outputs": [],
      "source": [
        "def flatten_resnet_parameters(state_dict):\n",
        "    \"\"\"\n",
        "    Flatten and concatenate all parameters from a state_dict into a single vector.\n",
        "    \"\"\"\n",
        "    flat_params = torch.cat([p.view(-1).float() for p in state_dict.values()])\n",
        "    return flat_params\n",
        "\n",
        "def reconstruct_parameters(flat_params, shapes, sizes, trained_weights):\n",
        "    \"\"\"\n",
        "    Reconstruct the original tensors from a flattened parameter tensor.\n",
        "    \n",
        "    :param flat_params: 1D tensor containing all weights concatenated\n",
        "    :param shapes: Dictionary of parameter names to their shapes\n",
        "    :param sizes: Dictionary of parameter names to their sizes (number of elements)\n",
        "    :param trained_weights: Original state_dict containing the data types\n",
        "    :return: OrderedDict of reconstructed tensors with their original shapes and types\n",
        "    \"\"\"\n",
        "    reconstructed_params = OrderedDict()\n",
        "    offset = 0\n",
        "    for key in shapes:\n",
        "        num_elements = sizes[key]\n",
        "        # Extract the relevant slice from the flattened tensor\n",
        "        param_slice = flat_params[offset:offset + num_elements]\n",
        "        # Reshape it according to the original shape and convert to the original data type\n",
        "        reconstructed_params[key] = param_slice.view(shapes[key])\n",
        "        offset += num_elements\n",
        "    return reconstructed_params"
      ]
    },
    {
      "cell_type": "code",
      "execution_count": 40,
      "metadata": {},
      "outputs": [],
      "source": [
        "def segment_resnet_parameters(flat_params, num_segments):\n",
        "    \"\"\"\n",
        "    Divide the flat parameters into equal segments, ensuring all elements are included.\n",
        "    \"\"\"\n",
        "    total_len = len(flat_params)\n",
        "    segment_size = total_len // num_segments\n",
        "    remainder = total_len % num_segments\n",
        "    \n",
        "    segments = []\n",
        "    start = 0\n",
        "    for i in range(num_segments):\n",
        "        # Calculate end point for the current segment\n",
        "        end = start + segment_size + (1 if i < remainder else 0)\n",
        "        segments.append(flat_params[start:end])\n",
        "        start = end\n",
        "\n",
        "    return segments\n"
      ]
    },
    {
      "cell_type": "code",
      "execution_count": 41,
      "metadata": {},
      "outputs": [],
      "source": [
        "from typing import Dict\n",
        "\n",
        "def preprocess_weights(weights: Dict, num_segments):\n",
        "    \"\"\"\n",
        "    Preprocess the weights of a model to prepare for federated learning.\n",
        "    \"\"\"\n",
        "    # Flatten the parameters\n",
        "    # flat_params = {}\n",
        "    # for item in weights:\n",
        "    #     flat_params[list(item.keys())[0]] = flatten_resnet_parameters(list(item.values())[0])\n",
        "    flat_params_n = {}\n",
        "    for key, value in weights.items():\n",
        "        flat_params_n[key] = flatten_resnet_parameters(value)\n",
        "\n",
        "    # Segment the parameters\n",
        "    segmented_params = {}\n",
        "    for key, flat_param in flat_params_n.items():\n",
        "        segmented_params[key] = segment_resnet_parameters(flat_param, num_segments)\n",
        "\n",
        "    return flat_params_n, segmented_params"
      ]
    },
    {
      "cell_type": "code",
      "execution_count": 42,
      "metadata": {},
      "outputs": [],
      "source": [
        "def extract_shared_segments(clients_dict, client_shared_segments):\n",
        "    \"\"\"\n",
        "    Extract segments from each client's data based on the segments they are supposed to share.\n",
        "    \n",
        "    :param clients_dict: Dictionary containing each client's data.\n",
        "    :param client_shared_segments: Dictionary indicating which segments each client should share.\n",
        "    :return: A dictionary with client IDs as keys and the segments they are sharing as values.\n",
        "    \"\"\"\n",
        "    shared_data = {}\n",
        "    for client_id, segment_id in client_shared_segments.items():\n",
        "        # Initialize dictionary to hold shared segments for the current client\n",
        "        shared_data[client_id] = {}\n",
        "        # Loop through the list of segment IDs this client should share\n",
        "        # for segment_id in segments:\n",
        "        shared_data[client_id][segment_id] = clients_dict[client_id][segment_id]\n",
        "    return shared_data"
      ]
    },
    {
      "cell_type": "code",
      "execution_count": 43,
      "metadata": {},
      "outputs": [],
      "source": [
        "def reconstruct_parameters(flat_params, shapes, sizes, trained_weights):\n",
        "    \"\"\"\n",
        "    Reconstruct the original tensors from a flattened parameter tensor.\n",
        "    \n",
        "    :param flat_params: 1D tensor containing all weights concatenated\n",
        "    :param shapes: Dictionary of parameter names to their shapes\n",
        "    :param sizes: Dictionary of parameter names to their sizes (number of elements)\n",
        "    :param trained_weights: Original state_dict containing the data types\n",
        "    :return: OrderedDict of reconstructed tensors with their original shapes and types\n",
        "    \"\"\"\n",
        "    reconstructed_params = OrderedDict()\n",
        "    offset = 0\n",
        "    for key in shapes:\n",
        "        num_elements = sizes[key]\n",
        "        # Extract the relevant slice from the flattened tensor\n",
        "        param_slice = flat_params[offset:offset + num_elements]\n",
        "        # Reshape it according to the original shape and convert to the original data type\n",
        "        reconstructed_params[key] = param_slice.view(shapes[key]).to(trained_weights[key].dtype)\n",
        "        offset += num_elements\n",
        "    return reconstructed_params"
      ]
    },
    {
      "cell_type": "code",
      "execution_count": 44,
      "metadata": {},
      "outputs": [],
      "source": [
        "def aggregate_data_by_key(shared_data):\n",
        "    \"\"\"\n",
        "    Aggregate data received from clients by key.\n",
        "    \n",
        "    :param shared_data: Dictionary with client IDs as keys and their shared segments as values.\n",
        "    :return: A dictionary with aggregated data per segment.\n",
        "    \"\"\"\n",
        "    aggregation = {}\n",
        "    count = {}\n",
        "\n",
        "    # Simulate the aggregation process based on keys\n",
        "    for client_data in shared_data.values():\n",
        "        for key, values in client_data.items():\n",
        "            if key in aggregation:\n",
        "                # Perform element-wise addition directly on tensors\n",
        "                aggregation[key] += values\n",
        "                count[key] += 1\n",
        "            else:\n",
        "                # Initialize the aggregation for new keys\n",
        "                aggregation[key] = values.clone()  \n",
        "                count[key] = 1\n",
        "\n",
        "    # Divide each aggregated tensor by its respective count to get the mean\n",
        "    for key in aggregation.keys():\n",
        "        aggregation[key] = aggregation[key] / count[key]\n",
        "\n",
        "    return aggregation"
      ]
    },
    {
      "cell_type": "code",
      "execution_count": 45,
      "metadata": {},
      "outputs": [],
      "source": [
        "def weighted_aggregation(shared_data, num_examples):\n",
        "    \"\"\"\n",
        "    Aggregate data received from clients by key.\n",
        "    \n",
        "    :param shared_data: Dictionary with client IDs as keys and their shared segments as values.\n",
        "    :return: A dictionary with aggregated data per segment.\n",
        "    \"\"\"\n",
        "    aggregation = {}\n",
        "    # Initialize an empty tensor for the weighted sum\n",
        "    weighted_sum = torch.zeros_like(next(iter(next(iter(shared_data.values())).values())))\n",
        "    # Total number of examples\n",
        "    total_examples = sum(num_examples)\n",
        "\n",
        "    # Multiply each segment by its corresponding client dataset count and sum them up\n",
        "    for client_id, value in shared_data.items():\n",
        "        for seg_id, tensor in value.items():\n",
        "            weighted_sum += tensor * num_examples[client_id]\n",
        "\n",
        "    # Calculate the weighted average\n",
        "    weighted_average = weighted_sum / total_examples\n",
        "    aggregation = {}\n",
        "    #  Update the shared_data dictionary with the weighted average\n",
        "    for client_id in shared_data.keys():\n",
        "        for seg_id in shared_data[client_id].keys():\n",
        "            aggregation[seg_id] = weighted_average\n",
        "\n",
        "    return aggregation"
      ]
    },
    {
      "cell_type": "code",
      "execution_count": 46,
      "metadata": {},
      "outputs": [],
      "source": [
        "def handle_partial_updates(client_weights: List[Dict], num_segments, client_segment_map):\n",
        "    \"\"\"\n",
        "    Handle partial updates from clients by averaging the weights.\n",
        "    \"\"\"\n",
        "    # Preprocess the weights\n",
        "    flat_params, segmented_params = preprocess_weights(client_weights, num_segments)\n",
        "    # Extract the shared segments\n",
        "    segments_to_send = extract_shared_segments(segmented_params, client_segment_map)\n",
        "    # Aggregate the shared segments\n",
        "    aggregated_segments = weighted_aggregation(segments_to_send, client_dataset_cnt)\n",
        "    \n",
        "    # Reconstruct the global modelE\n",
        "    # Now here aggregated segments will have only one segment, 0, 1 or 2\n",
        "    # hence we can only focus on those params.\n",
        "    # \n",
        "\n",
        "    # params = torch.cat([aggregated_segments[0], aggregated_segments[1], aggregated_segments[2]], dim=0)\n",
        "    #params = torch.cat([aggregated_segments[0], aggregated_segments[1]], dim=0)\n",
        "    # Reconstruct the parameters\n",
        "    # reconstructed_params = reconstruct_parameters(params, shapes, sizes, trained_weights)\n",
        "\n",
        "    # Check if both dictionaries have the same set of keys\n",
        "    # assert set(reconstructed_params.keys()) == set(trained_weights.keys()), \"Parameter keys do not match.\"\n",
        "    \n",
        "    return segmented_params, aggregated_segments"
      ]
    },
    {
      "cell_type": "code",
      "execution_count": 47,
      "metadata": {},
      "outputs": [],
      "source": [
        "def update_client_models(clients_segmented_params, aggregated_segments, client_segment_map):\n",
        "    \"\"\"\n",
        "    Update client models with aggregated segments and average unshared segments.\n",
        "    \"\"\"\n",
        "    # Initialize the updated parameters dictionary\n",
        "    updated_params = {}\n",
        "\n",
        "    # Iterate through each client's parameters\n",
        "    for client_id, segments in clients_segmented_params.items():\n",
        "        updated_segments = []\n",
        "        # Determine which segment this client shared\n",
        "        shared_segment_index = client_segment_map[client_id]\n",
        "        \n",
        "        # Iterate over all segments\n",
        "        for i, segment_data in enumerate(segments):\n",
        "            if i == shared_segment_index:\n",
        "                # Directly use the aggregated segment for the shared index\n",
        "                updated_segments.append(aggregated_segments[shared_segment_index])\n",
        "            else:\n",
        "                # Average the unshared segment with the corresponding aggregated segment\n",
        "                updated_segments.append(segment_data)\n",
        "\n",
        "        # Store the updated segments for this client\n",
        "        updated_params[client_id] = updated_segments\n",
        "    updated_client_segments = {}\n",
        "    for client_id, segments in updated_params.items():\n",
        "        updated_client_segments[client_id] = torch.cat(segments)\n",
        "\n",
        "    return updated_client_segments"
      ]
    },
    {
      "cell_type": "code",
      "execution_count": 48,
      "metadata": {},
      "outputs": [],
      "source": [
        "def extract_shared_segments(clients_dict, client_shared_segments):\n",
        "    \"\"\"\n",
        "    Extract segments from each client's data based on the segments they are supposed to share.\n",
        "    \n",
        "    :param clients_dict: Dictionary containing each client's data.\n",
        "    :param client_shared_segments: Dictionary indicating which segments each client should share.\n",
        "    :return: A dictionary with client IDs as keys and the segments they are sharing as values.\n",
        "    \"\"\"\n",
        "    shared_data = {}\n",
        "    for client_id, segment_id in client_shared_segments.items():\n",
        "        # Initialize dictionary to hold shared segments for the current client\n",
        "        shared_data[client_id] = {}\n",
        "        # Loop through the list of segment IDs this client should share\n",
        "        # for segment_id in segments:\n",
        "        shared_data[client_id][segment_id] = clients_dict[client_id][segment_id]\n",
        "    return shared_data"
      ]
    },
    {
      "cell_type": "code",
      "execution_count": 49,
      "metadata": {},
      "outputs": [],
      "source": [
        "def handle_segment_map(server_round):\n",
        "    \"\"\"\n",
        "    Handle the segment map for each round.\n",
        "    \"\"\"\n",
        "    # Initialize the segment map\n",
        "    client_segment_map = {}\n",
        "    # for first few rounds, share only the first segment\n",
        "    # if server_round < 6:\n",
        "    #     for client_id in range(num_clients):\n",
        "    #         client_segment_map[client_id] = 0\n",
        "    # if server_round < 10 and server_round >= 6:\n",
        "    #     for client_id in range(num_clients):\n",
        "    #         client_segment_map[client_id] = server_round % 2\n",
        "    # elif server_round > 40:\n",
        "    #     for client_id in range(num_clients):\n",
        "    #         client_segment_map[client_id] = 4\n",
        "    # else:\n",
        "        # Determine which segments each client should share\n",
        "    for client_id in range(num_clients):\n",
        "        # Assign the client's segment based on the round number\n",
        "        client_segment_map[client_id] = server_round % 4\n",
        "    return client_segment_map"
      ]
    },
    {
      "cell_type": "code",
      "execution_count": 50,
      "metadata": {},
      "outputs": [],
      "source": [
        "client_segment_map = {0: 0, 1: 0, 2: 0, 3: 0, 4: 0, 5: 0, 6: 0, 7: 0, 8: 0, 9: 0}"
      ]
    },
    {
      "cell_type": "code",
      "execution_count": 51,
      "metadata": {},
      "outputs": [],
      "source": [
        "client_weights = {i: clients_models[i].state_dict() for i in range(num_clients)}"
      ]
    },
    {
      "cell_type": "code",
      "execution_count": 51,
      "metadata": {
        "colab": {
          "base_uri": "https://localhost:8080/"
        },
        "id": "OKcIqAX-cDBe",
        "outputId": "430da6c5-5b94-4d56-b7de-ffbc0f17c9b8"
      },
      "outputs": [
        {
          "name": "stdout",
          "output_type": "stream",
          "text": [
            "{0: 0, 1: 0, 2: 0, 3: 0, 4: 0, 5: 0, 6: 0, 7: 0, 8: 0, 9: 0}\n"
          ]
        },
        {
          "name": "stderr",
          "output_type": "stream",
          "text": [
            "100%|██████████| 10/10 [00:42<00:00,  4.28s/it]\n",
            "100%|██████████| 10/10 [00:31<00:00,  3.16s/it]\n",
            "100%|██████████| 10/10 [00:48<00:00,  4.82s/it]\n",
            "100%|██████████| 10/10 [00:48<00:00,  4.87s/it]\n",
            "100%|██████████| 10/10 [01:06<00:00,  6.62s/it]\n",
            "100%|██████████| 10/10 [00:39<00:00,  3.96s/it]\n",
            "100%|██████████| 10/10 [00:40<00:00,  4.02s/it]\n",
            "100%|██████████| 10/10 [00:50<00:00,  5.02s/it]\n",
            "100%|██████████| 10/10 [00:46<00:00,  4.64s/it]\n",
            "100%|██████████| 10/10 [00:42<00:00,  4.30s/it]\n"
          ]
        },
        {
          "name": "stdout",
          "output_type": "stream",
          "text": [
            "Round 1, Train loss: 0.9685, Test Loss: 2.6869, Test Accuracy: 10.00%\n",
            "{0: 1, 1: 1, 2: 1, 3: 1, 4: 1, 5: 1, 6: 1, 7: 1, 8: 1, 9: 1}\n"
          ]
        },
        {
          "name": "stderr",
          "output_type": "stream",
          "text": [
            "100%|██████████| 10/10 [00:49<00:00,  4.96s/it]\n",
            "100%|██████████| 10/10 [00:31<00:00,  3.12s/it]\n",
            "100%|██████████| 10/10 [00:39<00:00,  3.94s/it]\n",
            "100%|██████████| 10/10 [00:39<00:00,  3.93s/it]\n",
            "100%|██████████| 10/10 [00:46<00:00,  4.66s/it]\n",
            "100%|██████████| 10/10 [00:49<00:00,  4.91s/it]\n",
            "100%|██████████| 10/10 [00:42<00:00,  4.30s/it]\n",
            "100%|██████████| 10/10 [01:06<00:00,  6.60s/it]\n",
            "100%|██████████| 10/10 [00:42<00:00,  4.24s/it]\n",
            "100%|██████████| 10/10 [00:48<00:00,  4.83s/it]\n"
          ]
        },
        {
          "name": "stdout",
          "output_type": "stream",
          "text": [
            "Round 2, Train loss: 0.6407, Test Loss: 2.3150, Test Accuracy: 13.23%\n",
            "{0: 2, 1: 2, 2: 2, 3: 2, 4: 2, 5: 2, 6: 2, 7: 2, 8: 2, 9: 2}\n"
          ]
        },
        {
          "name": "stderr",
          "output_type": "stream",
          "text": [
            "100%|██████████| 10/10 [00:31<00:00,  3.13s/it]\n",
            "100%|██████████| 10/10 [00:39<00:00,  3.93s/it]\n",
            "100%|██████████| 10/10 [00:45<00:00,  4.56s/it]\n",
            "100%|██████████| 10/10 [00:38<00:00,  3.88s/it]\n",
            "100%|██████████| 10/10 [00:42<00:00,  4.29s/it]\n",
            "100%|██████████| 10/10 [00:42<00:00,  4.21s/it]\n",
            "100%|██████████| 10/10 [00:49<00:00,  4.98s/it]\n",
            "100%|██████████| 10/10 [00:48<00:00,  4.82s/it]\n",
            "100%|██████████| 10/10 [01:05<00:00,  6.57s/it]\n",
            "100%|██████████| 10/10 [00:47<00:00,  4.77s/it]\n"
          ]
        },
        {
          "name": "stdout",
          "output_type": "stream",
          "text": [
            "Round 3, Train loss: 0.3425, Test Loss: 2.3173, Test Accuracy: 10.02%\n",
            "{0: 3, 1: 3, 2: 3, 3: 3, 4: 3, 5: 3, 6: 3, 7: 3, 8: 3, 9: 3}\n"
          ]
        },
        {
          "name": "stderr",
          "output_type": "stream",
          "text": [
            "100%|██████████| 10/10 [00:45<00:00,  4.59s/it]\n",
            "100%|██████████| 10/10 [00:48<00:00,  4.85s/it]\n",
            "100%|██████████| 10/10 [00:31<00:00,  3.14s/it]\n",
            "100%|██████████| 10/10 [00:39<00:00,  3.93s/it]\n",
            "100%|██████████| 10/10 [01:05<00:00,  6.54s/it]\n",
            "100%|██████████| 10/10 [00:42<00:00,  4.24s/it]\n",
            "100%|██████████| 10/10 [00:49<00:00,  4.98s/it]\n",
            "100%|██████████| 10/10 [00:42<00:00,  4.23s/it]\n",
            "100%|██████████| 10/10 [00:48<00:00,  4.82s/it]\n",
            "100%|██████████| 10/10 [00:39<00:00,  3.95s/it]\n"
          ]
        },
        {
          "name": "stdout",
          "output_type": "stream",
          "text": [
            "Round 4, Train loss: 0.1974, Test Loss: 2.5227, Test Accuracy: 10.03%\n",
            "{0: 0, 1: 0, 2: 0, 3: 0, 4: 0, 5: 0, 6: 0, 7: 0, 8: 0, 9: 0}\n"
          ]
        },
        {
          "name": "stderr",
          "output_type": "stream",
          "text": [
            "100%|██████████| 10/10 [00:42<00:00,  4.29s/it]\n",
            "100%|██████████| 10/10 [00:50<00:00,  5.00s/it]\n",
            "100%|██████████| 10/10 [00:39<00:00,  3.91s/it]\n",
            "100%|██████████| 10/10 [00:42<00:00,  4.26s/it]\n",
            "100%|██████████| 10/10 [00:39<00:00,  3.96s/it]\n",
            "100%|██████████| 10/10 [00:48<00:00,  4.83s/it]\n",
            "100%|██████████| 10/10 [00:47<00:00,  4.74s/it]\n",
            "100%|██████████| 10/10 [00:46<00:00,  4.61s/it]\n",
            "100%|██████████| 10/10 [00:31<00:00,  3.14s/it]\n",
            "100%|██████████| 10/10 [01:07<00:00,  6.72s/it]\n"
          ]
        },
        {
          "name": "stdout",
          "output_type": "stream",
          "text": [
            "Round 5, Train loss: 0.1428, Test Loss: 2.5163, Test Accuracy: 11.45%\n",
            "{0: 1, 1: 1, 2: 1, 3: 1, 4: 1, 5: 1, 6: 1, 7: 1, 8: 1, 9: 1}\n"
          ]
        },
        {
          "name": "stderr",
          "output_type": "stream",
          "text": [
            "100%|██████████| 10/10 [00:42<00:00,  4.22s/it]\n",
            "100%|██████████| 10/10 [00:50<00:00,  5.04s/it]\n",
            "100%|██████████| 10/10 [00:39<00:00,  3.91s/it]\n",
            "100%|██████████| 10/10 [00:43<00:00,  4.32s/it]\n",
            "100%|██████████| 10/10 [00:48<00:00,  4.84s/it]\n",
            "100%|██████████| 10/10 [01:05<00:00,  6.52s/it]\n",
            "100%|██████████| 10/10 [00:48<00:00,  4.85s/it]\n",
            "100%|██████████| 10/10 [00:39<00:00,  3.97s/it]\n",
            "100%|██████████| 10/10 [00:46<00:00,  4.63s/it]\n",
            "100%|██████████| 10/10 [00:31<00:00,  3.17s/it]\n"
          ]
        },
        {
          "name": "stdout",
          "output_type": "stream",
          "text": [
            "Round 6, Train loss: 0.3171, Test Loss: 2.2723, Test Accuracy: 19.25%\n",
            "{0: 2, 1: 2, 2: 2, 3: 2, 4: 2, 5: 2, 6: 2, 7: 2, 8: 2, 9: 2}\n"
          ]
        },
        {
          "name": "stderr",
          "output_type": "stream",
          "text": [
            "100%|██████████| 10/10 [00:38<00:00,  3.86s/it]\n",
            "100%|██████████| 10/10 [00:50<00:00,  5.04s/it]\n",
            "100%|██████████| 10/10 [00:43<00:00,  4.31s/it]\n",
            "100%|██████████| 10/10 [00:48<00:00,  4.86s/it]\n",
            "100%|██████████| 10/10 [00:48<00:00,  4.90s/it]\n",
            "100%|██████████| 10/10 [01:05<00:00,  6.55s/it]\n",
            "100%|██████████| 10/10 [00:31<00:00,  3.19s/it]\n",
            "100%|██████████| 10/10 [00:40<00:00,  4.02s/it]\n",
            "100%|██████████| 10/10 [00:42<00:00,  4.26s/it]\n",
            "100%|██████████| 10/10 [00:46<00:00,  4.64s/it]\n"
          ]
        },
        {
          "name": "stdout",
          "output_type": "stream",
          "text": [
            "Round 7, Train loss: 0.1646, Test Loss: 2.2727, Test Accuracy: 19.59%\n",
            "{0: 3, 1: 3, 2: 3, 3: 3, 4: 3, 5: 3, 6: 3, 7: 3, 8: 3, 9: 3}\n"
          ]
        },
        {
          "name": "stderr",
          "output_type": "stream",
          "text": [
            "100%|██████████| 10/10 [00:47<00:00,  4.77s/it]\n",
            "100%|██████████| 10/10 [00:48<00:00,  4.85s/it]\n",
            "100%|██████████| 10/10 [00:39<00:00,  3.98s/it]\n",
            "100%|██████████| 10/10 [01:06<00:00,  6.66s/it]\n",
            "100%|██████████| 10/10 [00:39<00:00,  3.93s/it]\n",
            "100%|██████████| 10/10 [00:49<00:00,  4.96s/it]\n",
            "100%|██████████| 10/10 [00:46<00:00,  4.63s/it]\n",
            "100%|██████████| 10/10 [00:42<00:00,  4.29s/it]\n",
            "100%|██████████| 10/10 [00:31<00:00,  3.18s/it]\n",
            "100%|██████████| 10/10 [00:42<00:00,  4.27s/it]\n"
          ]
        },
        {
          "name": "stdout",
          "output_type": "stream",
          "text": [
            "Round 8, Train loss: 0.1072, Test Loss: 2.3058, Test Accuracy: 18.53%\n",
            "{0: 0, 1: 0, 2: 0, 3: 0, 4: 0, 5: 0, 6: 0, 7: 0, 8: 0, 9: 0}\n"
          ]
        },
        {
          "name": "stderr",
          "output_type": "stream",
          "text": [
            "100%|██████████| 10/10 [00:39<00:00,  3.95s/it]\n",
            "100%|██████████| 10/10 [00:48<00:00,  4.87s/it]\n",
            "100%|██████████| 10/10 [00:46<00:00,  4.67s/it]\n",
            "100%|██████████| 10/10 [00:50<00:00,  5.00s/it]\n",
            "100%|██████████| 10/10 [00:48<00:00,  4.81s/it]\n",
            "100%|██████████| 10/10 [00:31<00:00,  3.20s/it]\n",
            "100%|██████████| 10/10 [01:06<00:00,  6.62s/it]\n",
            "100%|██████████| 10/10 [00:39<00:00,  3.94s/it]\n",
            "100%|██████████| 10/10 [00:43<00:00,  4.32s/it]\n",
            "100%|██████████| 10/10 [00:42<00:00,  4.25s/it]\n"
          ]
        },
        {
          "name": "stdout",
          "output_type": "stream",
          "text": [
            "Round 9, Train loss: 0.0917, Test Loss: 1.9159, Test Accuracy: 45.06%\n",
            "{0: 1, 1: 1, 2: 1, 3: 1, 4: 1, 5: 1, 6: 1, 7: 1, 8: 1, 9: 1}\n"
          ]
        },
        {
          "name": "stderr",
          "output_type": "stream",
          "text": [
            "100%|██████████| 10/10 [00:39<00:00,  3.92s/it]\n",
            "100%|██████████| 10/10 [00:46<00:00,  4.62s/it]\n",
            "100%|██████████| 10/10 [01:06<00:00,  6.65s/it]\n",
            "100%|██████████| 10/10 [00:48<00:00,  4.89s/it]\n",
            "100%|██████████| 10/10 [00:49<00:00,  4.99s/it]\n",
            "100%|██████████| 10/10 [00:47<00:00,  4.77s/it]\n",
            "100%|██████████| 10/10 [00:31<00:00,  3.18s/it]\n",
            "100%|██████████| 10/10 [00:39<00:00,  3.96s/it]\n",
            "100%|██████████| 10/10 [00:42<00:00,  4.23s/it]\n",
            "100%|██████████| 10/10 [00:42<00:00,  4.28s/it]\n"
          ]
        },
        {
          "name": "stdout",
          "output_type": "stream",
          "text": [
            "Round 10, Train loss: 0.1957, Test Loss: 1.8607, Test Accuracy: 47.59%\n",
            "{0: 2, 1: 2, 2: 2, 3: 2, 4: 2, 5: 2, 6: 2, 7: 2, 8: 2, 9: 2}\n"
          ]
        },
        {
          "name": "stderr",
          "output_type": "stream",
          "text": [
            "100%|██████████| 10/10 [00:49<00:00,  4.97s/it]\n",
            "100%|██████████| 10/10 [01:05<00:00,  6.59s/it]\n",
            "100%|██████████| 10/10 [00:48<00:00,  4.80s/it]\n",
            "100%|██████████| 10/10 [00:40<00:00,  4.00s/it]\n",
            "100%|██████████| 10/10 [00:41<00:00,  4.17s/it]\n",
            "100%|██████████| 10/10 [00:31<00:00,  3.17s/it]\n",
            "100%|██████████| 10/10 [00:39<00:00,  3.92s/it]\n",
            "100%|██████████| 10/10 [00:42<00:00,  4.28s/it]\n",
            "100%|██████████| 10/10 [00:46<00:00,  4.61s/it]\n",
            "100%|██████████| 10/10 [00:47<00:00,  4.80s/it]\n"
          ]
        },
        {
          "name": "stdout",
          "output_type": "stream",
          "text": [
            "Round 11, Train loss: 0.1119, Test Loss: 1.8539, Test Accuracy: 46.32%\n",
            "{0: 3, 1: 3, 2: 3, 3: 3, 4: 3, 5: 3, 6: 3, 7: 3, 8: 3, 9: 3}\n"
          ]
        },
        {
          "name": "stderr",
          "output_type": "stream",
          "text": [
            "100%|██████████| 10/10 [00:42<00:00,  4.25s/it]\n",
            "100%|██████████| 10/10 [00:31<00:00,  3.13s/it]\n",
            "100%|██████████| 10/10 [00:42<00:00,  4.28s/it]\n",
            "100%|██████████| 10/10 [00:48<00:00,  4.86s/it]\n",
            "100%|██████████| 10/10 [01:06<00:00,  6.64s/it]\n",
            "100%|██████████| 10/10 [00:48<00:00,  4.84s/it]\n",
            "100%|██████████| 10/10 [00:49<00:00,  4.94s/it]\n",
            "100%|██████████| 10/10 [00:39<00:00,  3.91s/it]\n",
            "100%|██████████| 10/10 [00:39<00:00,  3.94s/it]\n",
            "100%|██████████| 10/10 [00:46<00:00,  4.63s/it]\n"
          ]
        },
        {
          "name": "stdout",
          "output_type": "stream",
          "text": [
            "Round 12, Train loss: 0.0788, Test Loss: 1.7281, Test Accuracy: 45.94%\n",
            "{0: 0, 1: 0, 2: 0, 3: 0, 4: 0, 5: 0, 6: 0, 7: 0, 8: 0, 9: 0}\n"
          ]
        },
        {
          "name": "stderr",
          "output_type": "stream",
          "text": [
            "100%|██████████| 10/10 [00:46<00:00,  4.62s/it]\n",
            "100%|██████████| 10/10 [00:39<00:00,  3.99s/it]\n",
            "100%|██████████| 10/10 [00:48<00:00,  4.86s/it]\n",
            "100%|██████████| 10/10 [00:39<00:00,  3.97s/it]\n",
            "100%|██████████| 10/10 [00:42<00:00,  4.22s/it]\n",
            "100%|██████████| 10/10 [00:48<00:00,  4.85s/it]\n",
            "100%|██████████| 10/10 [01:05<00:00,  6.54s/it]\n",
            "100%|██████████| 10/10 [00:31<00:00,  3.14s/it]\n",
            "100%|██████████| 10/10 [00:49<00:00,  4.96s/it]\n",
            "100%|██████████| 10/10 [00:42<00:00,  4.26s/it]\n"
          ]
        },
        {
          "name": "stdout",
          "output_type": "stream",
          "text": [
            "Round 13, Train loss: 0.0712, Test Loss: 1.4011, Test Accuracy: 62.49%\n",
            "{0: 1, 1: 1, 2: 1, 3: 1, 4: 1, 5: 1, 6: 1, 7: 1, 8: 1, 9: 1}\n"
          ]
        },
        {
          "name": "stderr",
          "output_type": "stream",
          "text": [
            "100%|██████████| 10/10 [00:38<00:00,  3.89s/it]\n",
            "100%|██████████| 10/10 [00:48<00:00,  4.83s/it]\n",
            "100%|██████████| 10/10 [00:49<00:00,  4.98s/it]\n",
            "100%|██████████| 10/10 [00:48<00:00,  4.83s/it]\n",
            "100%|██████████| 10/10 [00:31<00:00,  3.19s/it]\n",
            "100%|██████████| 10/10 [01:05<00:00,  6.54s/it]\n",
            "100%|██████████| 10/10 [00:46<00:00,  4.65s/it]\n",
            "100%|██████████| 10/10 [00:43<00:00,  4.30s/it]\n",
            "100%|██████████| 10/10 [00:39<00:00,  3.94s/it]\n",
            "100%|██████████| 10/10 [00:42<00:00,  4.23s/it]\n"
          ]
        },
        {
          "name": "stdout",
          "output_type": "stream",
          "text": [
            "Round 14, Train loss: 0.1362, Test Loss: 1.3658, Test Accuracy: 63.29%\n",
            "{0: 2, 1: 2, 2: 2, 3: 2, 4: 2, 5: 2, 6: 2, 7: 2, 8: 2, 9: 2}\n"
          ]
        },
        {
          "name": "stderr",
          "output_type": "stream",
          "text": [
            "100%|██████████| 10/10 [00:42<00:00,  4.25s/it]\n",
            "100%|██████████| 10/10 [01:06<00:00,  6.63s/it]\n",
            "100%|██████████| 10/10 [00:48<00:00,  4.90s/it]\n",
            "100%|██████████| 10/10 [00:39<00:00,  3.95s/it]\n",
            "100%|██████████| 10/10 [00:31<00:00,  3.16s/it]\n",
            "100%|██████████| 10/10 [00:49<00:00,  4.99s/it]\n",
            "100%|██████████| 10/10 [00:48<00:00,  4.86s/it]\n",
            "100%|██████████| 10/10 [00:43<00:00,  4.31s/it]\n",
            "100%|██████████| 10/10 [00:46<00:00,  4.62s/it]\n",
            "100%|██████████| 10/10 [00:39<00:00,  3.96s/it]\n"
          ]
        },
        {
          "name": "stdout",
          "output_type": "stream",
          "text": [
            "Round 15, Train loss: 0.0829, Test Loss: 1.3280, Test Accuracy: 63.52%\n",
            "{0: 3, 1: 3, 2: 3, 3: 3, 4: 3, 5: 3, 6: 3, 7: 3, 8: 3, 9: 3}\n"
          ]
        },
        {
          "name": "stderr",
          "output_type": "stream",
          "text": [
            "100%|██████████| 10/10 [00:42<00:00,  4.30s/it]\n",
            "100%|██████████| 10/10 [00:49<00:00,  4.98s/it]\n",
            "100%|██████████| 10/10 [00:48<00:00,  4.85s/it]\n",
            "100%|██████████| 10/10 [00:48<00:00,  4.86s/it]\n",
            "100%|██████████| 10/10 [00:47<00:00,  4.71s/it]\n",
            "100%|██████████| 10/10 [00:40<00:00,  4.04s/it]\n",
            "100%|██████████| 10/10 [00:31<00:00,  3.14s/it]\n",
            "100%|██████████| 10/10 [00:42<00:00,  4.26s/it]\n",
            "100%|██████████| 10/10 [01:06<00:00,  6.66s/it]\n",
            "100%|██████████| 10/10 [00:39<00:00,  3.98s/it]\n"
          ]
        },
        {
          "name": "stdout",
          "output_type": "stream",
          "text": [
            "Round 16, Train loss: 0.0628, Test Loss: 1.1875, Test Accuracy: 65.52%\n",
            "{0: 0, 1: 0, 2: 0, 3: 0, 4: 0, 5: 0, 6: 0, 7: 0, 8: 0, 9: 0}\n"
          ]
        },
        {
          "name": "stderr",
          "output_type": "stream",
          "text": [
            "100%|██████████| 10/10 [00:48<00:00,  4.86s/it]\n",
            "100%|██████████| 10/10 [00:31<00:00,  3.16s/it]\n",
            "100%|██████████| 10/10 [00:43<00:00,  4.34s/it]\n",
            "100%|██████████| 10/10 [00:50<00:00,  5.01s/it]\n",
            "100%|██████████| 10/10 [00:40<00:00,  4.02s/it]\n",
            "100%|██████████| 10/10 [01:06<00:00,  6.65s/it]\n",
            "100%|██████████| 10/10 [00:42<00:00,  4.23s/it]\n",
            "100%|██████████| 10/10 [00:39<00:00,  3.93s/it]\n",
            "100%|██████████| 10/10 [00:46<00:00,  4.64s/it]\n",
            "100%|██████████| 10/10 [00:48<00:00,  4.88s/it]\n"
          ]
        },
        {
          "name": "stdout",
          "output_type": "stream",
          "text": [
            "Round 17, Train loss: 0.0575, Test Loss: 1.3417, Test Accuracy: 69.98%\n",
            "{0: 1, 1: 1, 2: 1, 3: 1, 4: 1, 5: 1, 6: 1, 7: 1, 8: 1, 9: 1}\n"
          ]
        },
        {
          "name": "stderr",
          "output_type": "stream",
          "text": [
            "100%|██████████| 10/10 [00:49<00:00,  4.94s/it]\n",
            "100%|██████████| 10/10 [00:42<00:00,  4.23s/it]\n",
            "100%|██████████| 10/10 [00:48<00:00,  4.85s/it]\n",
            "100%|██████████| 10/10 [00:39<00:00,  3.94s/it]\n",
            "100%|██████████| 10/10 [00:45<00:00,  4.59s/it]\n",
            "100%|██████████| 10/10 [01:05<00:00,  6.53s/it]\n",
            "100%|██████████| 10/10 [00:39<00:00,  3.99s/it]\n",
            "100%|██████████| 10/10 [00:42<00:00,  4.28s/it]\n",
            "100%|██████████| 10/10 [00:48<00:00,  4.84s/it]\n",
            "100%|██████████| 10/10 [00:31<00:00,  3.19s/it]\n"
          ]
        },
        {
          "name": "stdout",
          "output_type": "stream",
          "text": [
            "Round 18, Train loss: 0.1031, Test Loss: 1.1231, Test Accuracy: 71.41%\n",
            "{0: 2, 1: 2, 2: 2, 3: 2, 4: 2, 5: 2, 6: 2, 7: 2, 8: 2, 9: 2}\n"
          ]
        },
        {
          "name": "stderr",
          "output_type": "stream",
          "text": [
            "100%|██████████| 10/10 [00:48<00:00,  4.81s/it]\n",
            "100%|██████████| 10/10 [00:39<00:00,  3.95s/it]\n",
            "100%|██████████| 10/10 [00:42<00:00,  4.20s/it]\n",
            "100%|██████████| 10/10 [00:42<00:00,  4.29s/it]\n",
            "100%|██████████| 10/10 [00:31<00:00,  3.17s/it]\n",
            "100%|██████████| 10/10 [01:05<00:00,  6.53s/it]\n",
            "100%|██████████| 10/10 [00:45<00:00,  4.58s/it]\n",
            "100%|██████████| 10/10 [00:49<00:00,  4.96s/it]\n",
            "100%|██████████| 10/10 [00:39<00:00,  4.00s/it]\n",
            "100%|██████████| 10/10 [00:48<00:00,  4.84s/it]\n"
          ]
        },
        {
          "name": "stdout",
          "output_type": "stream",
          "text": [
            "Round 19, Train loss: 0.0669, Test Loss: 1.0982, Test Accuracy: 71.97%\n",
            "{0: 3, 1: 3, 2: 3, 3: 3, 4: 3, 5: 3, 6: 3, 7: 3, 8: 3, 9: 3}\n"
          ]
        },
        {
          "name": "stderr",
          "output_type": "stream",
          "text": [
            "100%|██████████| 10/10 [00:46<00:00,  4.62s/it]\n",
            "100%|██████████| 10/10 [00:48<00:00,  4.86s/it]\n",
            "100%|██████████| 10/10 [00:39<00:00,  3.95s/it]\n",
            "100%|██████████| 10/10 [00:40<00:00,  4.00s/it]\n",
            "100%|██████████| 10/10 [00:49<00:00,  4.90s/it]\n",
            "100%|██████████| 10/10 [01:06<00:00,  6.60s/it]\n",
            "100%|██████████| 10/10 [00:42<00:00,  4.28s/it]\n",
            "100%|██████████| 10/10 [00:30<00:00,  3.09s/it]\n",
            "100%|██████████| 10/10 [00:49<00:00,  4.95s/it]\n",
            "100%|██████████| 10/10 [00:42<00:00,  4.29s/it]\n"
          ]
        },
        {
          "name": "stdout",
          "output_type": "stream",
          "text": [
            "Round 20, Train loss: 0.0514, Test Loss: 1.0351, Test Accuracy: 72.83%\n",
            "{0: 0, 1: 0, 2: 0, 3: 0, 4: 0, 5: 0, 6: 0, 7: 0, 8: 0, 9: 0}\n"
          ]
        },
        {
          "name": "stderr",
          "output_type": "stream",
          "text": [
            "100%|██████████| 10/10 [00:42<00:00,  4.27s/it]\n",
            "100%|██████████| 10/10 [00:31<00:00,  3.12s/it]\n",
            "100%|██████████| 10/10 [00:48<00:00,  4.87s/it]\n",
            "100%|██████████| 10/10 [00:42<00:00,  4.30s/it]\n",
            "100%|██████████| 10/10 [00:39<00:00,  3.98s/it]\n",
            "100%|██████████| 10/10 [00:48<00:00,  4.86s/it]\n",
            "100%|██████████| 10/10 [00:46<00:00,  4.63s/it]\n",
            "100%|██████████| 10/10 [01:06<00:00,  6.64s/it]\n",
            "100%|██████████| 10/10 [00:39<00:00,  3.97s/it]\n",
            "100%|██████████| 10/10 [00:49<00:00,  4.99s/it]\n"
          ]
        },
        {
          "name": "stdout",
          "output_type": "stream",
          "text": [
            "Round 21, Train loss: 0.0467, Test Loss: 1.2324, Test Accuracy: 75.09%\n",
            "{0: 1, 1: 1, 2: 1, 3: 1, 4: 1, 5: 1, 6: 1, 7: 1, 8: 1, 9: 1}\n"
          ]
        },
        {
          "name": "stderr",
          "output_type": "stream",
          "text": [
            "100%|██████████| 10/10 [00:46<00:00,  4.66s/it]\n",
            "100%|██████████| 10/10 [00:38<00:00,  3.88s/it]\n",
            "100%|██████████| 10/10 [00:43<00:00,  4.30s/it]\n",
            "100%|██████████| 10/10 [00:48<00:00,  4.81s/it]\n",
            "100%|██████████| 10/10 [00:49<00:00,  4.99s/it]\n",
            "100%|██████████| 10/10 [00:48<00:00,  4.85s/it]\n",
            "100%|██████████| 10/10 [01:05<00:00,  6.54s/it]\n",
            "100%|██████████| 10/10 [00:31<00:00,  3.18s/it]\n",
            "100%|██████████| 10/10 [00:39<00:00,  3.96s/it]\n",
            "100%|██████████| 10/10 [00:42<00:00,  4.25s/it]\n"
          ]
        },
        {
          "name": "stdout",
          "output_type": "stream",
          "text": [
            "Round 22, Train loss: 0.0820, Test Loss: 1.0276, Test Accuracy: 75.70%\n",
            "{0: 2, 1: 2, 2: 2, 3: 2, 4: 2, 5: 2, 6: 2, 7: 2, 8: 2, 9: 2}\n"
          ]
        },
        {
          "name": "stderr",
          "output_type": "stream",
          "text": [
            "100%|██████████| 10/10 [00:50<00:00,  5.02s/it]\n",
            "100%|██████████| 10/10 [00:48<00:00,  4.84s/it]\n",
            "100%|██████████| 10/10 [00:39<00:00,  3.94s/it]\n",
            "100%|██████████| 10/10 [00:31<00:00,  3.13s/it]\n",
            "100%|██████████| 10/10 [00:49<00:00,  4.93s/it]\n",
            "100%|██████████| 10/10 [00:43<00:00,  4.39s/it]\n",
            "100%|██████████| 10/10 [00:46<00:00,  4.63s/it]\n",
            "100%|██████████| 10/10 [00:39<00:00,  3.99s/it]\n",
            "100%|██████████| 10/10 [00:42<00:00,  4.27s/it]\n",
            "100%|██████████| 10/10 [01:06<00:00,  6.62s/it]\n"
          ]
        },
        {
          "name": "stdout",
          "output_type": "stream",
          "text": [
            "Round 23, Train loss: 0.0557, Test Loss: 1.0123, Test Accuracy: 74.95%\n",
            "{0: 3, 1: 3, 2: 3, 3: 3, 4: 3, 5: 3, 6: 3, 7: 3, 8: 3, 9: 3}\n"
          ]
        },
        {
          "name": "stderr",
          "output_type": "stream",
          "text": [
            "100%|██████████| 10/10 [00:31<00:00,  3.11s/it]\n",
            "100%|██████████| 10/10 [00:46<00:00,  4.68s/it]\n",
            "100%|██████████| 10/10 [00:48<00:00,  4.84s/it]\n",
            "100%|██████████| 10/10 [00:43<00:00,  4.31s/it]\n",
            "100%|██████████| 10/10 [00:39<00:00,  3.98s/it]\n",
            "100%|██████████| 10/10 [00:50<00:00,  5.04s/it]\n",
            "100%|██████████| 10/10 [00:48<00:00,  4.87s/it]\n",
            "100%|██████████| 10/10 [00:42<00:00,  4.25s/it]\n",
            "100%|██████████| 10/10 [01:06<00:00,  6.62s/it]\n",
            "100%|██████████| 10/10 [00:40<00:00,  4.01s/it]\n"
          ]
        },
        {
          "name": "stdout",
          "output_type": "stream",
          "text": [
            "Round 24, Train loss: 0.0454, Test Loss: 0.9686, Test Accuracy: 76.12%\n",
            "{0: 0, 1: 0, 2: 0, 3: 0, 4: 0, 5: 0, 6: 0, 7: 0, 8: 0, 9: 0}\n"
          ]
        },
        {
          "name": "stderr",
          "output_type": "stream",
          "text": [
            "100%|██████████| 10/10 [00:31<00:00,  3.17s/it]\n",
            "100%|██████████| 10/10 [00:38<00:00,  3.89s/it]\n",
            "100%|██████████| 10/10 [00:39<00:00,  3.99s/it]\n",
            "100%|██████████| 10/10 [01:05<00:00,  6.59s/it]\n",
            "100%|██████████| 10/10 [00:42<00:00,  4.26s/it]\n",
            "100%|██████████| 10/10 [00:42<00:00,  4.27s/it]\n",
            "100%|██████████| 10/10 [00:50<00:00,  5.01s/it]\n",
            "100%|██████████| 10/10 [00:49<00:00,  4.93s/it]\n",
            "100%|██████████| 10/10 [00:48<00:00,  4.87s/it]\n",
            "100%|██████████| 10/10 [00:46<00:00,  4.67s/it]\n"
          ]
        },
        {
          "name": "stdout",
          "output_type": "stream",
          "text": [
            "Round 25, Train loss: 0.0404, Test Loss: 1.2016, Test Accuracy: 77.18%\n",
            "{0: 1, 1: 1, 2: 1, 3: 1, 4: 1, 5: 1, 6: 1, 7: 1, 8: 1, 9: 1}\n"
          ]
        },
        {
          "name": "stderr",
          "output_type": "stream",
          "text": [
            "100%|██████████| 10/10 [01:06<00:00,  6.64s/it]\n",
            "100%|██████████| 10/10 [00:39<00:00,  3.99s/it]\n",
            "100%|██████████| 10/10 [00:48<00:00,  4.89s/it]\n",
            "100%|██████████| 10/10 [00:42<00:00,  4.29s/it]\n",
            "100%|██████████| 10/10 [00:40<00:00,  4.01s/it]\n",
            "100%|██████████| 10/10 [00:46<00:00,  4.62s/it]\n",
            "100%|██████████| 10/10 [00:48<00:00,  4.84s/it]\n",
            "100%|██████████| 10/10 [00:50<00:00,  5.04s/it]\n",
            "100%|██████████| 10/10 [00:31<00:00,  3.20s/it]\n",
            "100%|██████████| 10/10 [00:42<00:00,  4.27s/it]\n"
          ]
        },
        {
          "name": "stdout",
          "output_type": "stream",
          "text": [
            "Round 26, Train loss: 0.0499, Test Loss: 1.0185, Test Accuracy: 78.74%\n",
            "{0: 2, 1: 2, 2: 2, 3: 2, 4: 2, 5: 2, 6: 2, 7: 2, 8: 2, 9: 2}\n"
          ]
        },
        {
          "name": "stderr",
          "output_type": "stream",
          "text": [
            "100%|██████████| 10/10 [00:42<00:00,  4.29s/it]\n",
            "100%|██████████| 10/10 [00:31<00:00,  3.15s/it]\n",
            "100%|██████████| 10/10 [00:49<00:00,  4.92s/it]\n",
            "100%|██████████| 10/10 [00:43<00:00,  4.31s/it]\n",
            "100%|██████████| 10/10 [01:07<00:00,  6.70s/it]\n",
            "100%|██████████| 10/10 [00:39<00:00,  4.00s/it]\n",
            "100%|██████████| 10/10 [00:49<00:00,  4.93s/it]\n",
            "100%|██████████| 10/10 [00:40<00:00,  4.04s/it]\n",
            "100%|██████████| 10/10 [00:47<00:00,  4.71s/it]\n",
            "100%|██████████| 10/10 [00:50<00:00,  5.09s/it]\n"
          ]
        },
        {
          "name": "stdout",
          "output_type": "stream",
          "text": [
            "Round 27, Train loss: 0.0333, Test Loss: 1.0001, Test Accuracy: 80.10%\n",
            "{0: 3, 1: 3, 2: 3, 3: 3, 4: 3, 5: 3, 6: 3, 7: 3, 8: 3, 9: 3}\n"
          ]
        },
        {
          "name": "stderr",
          "output_type": "stream",
          "text": [
            "100%|██████████| 10/10 [00:48<00:00,  4.81s/it]\n",
            "100%|██████████| 10/10 [00:49<00:00,  5.00s/it]\n",
            "100%|██████████| 10/10 [00:42<00:00,  4.26s/it]\n",
            "100%|██████████| 10/10 [00:46<00:00,  4.61s/it]\n",
            "100%|██████████| 10/10 [00:42<00:00,  4.27s/it]\n",
            "100%|██████████| 10/10 [00:39<00:00,  3.96s/it]\n",
            "100%|██████████| 10/10 [00:39<00:00,  3.94s/it]\n",
            "100%|██████████| 10/10 [00:48<00:00,  4.87s/it]\n",
            "100%|██████████| 10/10 [00:31<00:00,  3.19s/it]\n",
            "100%|██████████| 10/10 [01:06<00:00,  6.65s/it]\n"
          ]
        },
        {
          "name": "stdout",
          "output_type": "stream",
          "text": [
            "Round 28, Train loss: 0.0216, Test Loss: 0.7505, Test Accuracy: 85.11%\n",
            "{0: 0, 1: 0, 2: 0, 3: 0, 4: 0, 5: 0, 6: 0, 7: 0, 8: 0, 9: 0}\n"
          ]
        },
        {
          "name": "stderr",
          "output_type": "stream",
          "text": [
            "100%|██████████| 10/10 [00:42<00:00,  4.21s/it]\n",
            "100%|██████████| 10/10 [00:43<00:00,  4.32s/it]\n",
            "100%|██████████| 10/10 [00:40<00:00,  4.07s/it]\n",
            "100%|██████████| 10/10 [00:49<00:00,  4.97s/it]\n",
            "100%|██████████| 10/10 [00:39<00:00,  3.92s/it]\n",
            "100%|██████████| 10/10 [00:48<00:00,  4.83s/it]\n",
            "100%|██████████| 10/10 [00:31<00:00,  3.19s/it]\n",
            "100%|██████████| 10/10 [00:46<00:00,  4.65s/it]\n",
            "100%|██████████| 10/10 [00:49<00:00,  4.97s/it]\n",
            "100%|██████████| 10/10 [01:06<00:00,  6.63s/it]\n"
          ]
        },
        {
          "name": "stdout",
          "output_type": "stream",
          "text": [
            "Round 29, Train loss: 0.0224, Test Loss: 0.6187, Test Accuracy: 86.57%\n",
            "{0: 1, 1: 1, 2: 1, 3: 1, 4: 1, 5: 1, 6: 1, 7: 1, 8: 1, 9: 1}\n"
          ]
        },
        {
          "name": "stderr",
          "output_type": "stream",
          "text": [
            "100%|██████████| 10/10 [00:39<00:00,  3.99s/it]\n",
            "100%|██████████| 10/10 [00:50<00:00,  5.01s/it]\n",
            "100%|██████████| 10/10 [00:39<00:00,  3.92s/it]\n",
            "100%|██████████| 10/10 [00:48<00:00,  4.87s/it]\n",
            "100%|██████████| 10/10 [00:46<00:00,  4.66s/it]\n",
            "100%|██████████| 10/10 [00:48<00:00,  4.86s/it]\n",
            "100%|██████████| 10/10 [01:06<00:00,  6.69s/it]\n",
            "100%|██████████| 10/10 [00:43<00:00,  4.30s/it]\n",
            "100%|██████████| 10/10 [00:31<00:00,  3.16s/it]\n",
            "100%|██████████| 10/10 [00:42<00:00,  4.26s/it]\n"
          ]
        },
        {
          "name": "stdout",
          "output_type": "stream",
          "text": [
            "Round 30, Train loss: 0.0355, Test Loss: 0.6072, Test Accuracy: 87.30%\n",
            "{0: 2, 1: 2, 2: 2, 3: 2, 4: 2, 5: 2, 6: 2, 7: 2, 8: 2, 9: 2}\n"
          ]
        },
        {
          "name": "stderr",
          "output_type": "stream",
          "text": [
            "100%|██████████| 10/10 [00:49<00:00,  4.99s/it]\n",
            "100%|██████████| 10/10 [00:48<00:00,  4.87s/it]\n",
            "100%|██████████| 10/10 [01:05<00:00,  6.59s/it]\n",
            "100%|██████████| 10/10 [00:42<00:00,  4.23s/it]\n",
            "100%|██████████| 10/10 [00:46<00:00,  4.60s/it]\n",
            "100%|██████████| 10/10 [00:39<00:00,  3.92s/it]\n",
            "100%|██████████| 10/10 [00:39<00:00,  3.96s/it]\n",
            "100%|██████████| 10/10 [00:42<00:00,  4.27s/it]\n",
            "100%|██████████| 10/10 [00:31<00:00,  3.17s/it]\n",
            "100%|██████████| 10/10 [00:48<00:00,  4.90s/it]\n"
          ]
        },
        {
          "name": "stdout",
          "output_type": "stream",
          "text": [
            "Round 31, Train loss: 0.0233, Test Loss: 0.6224, Test Accuracy: 87.54%\n",
            "{0: 3, 1: 3, 2: 3, 3: 3, 4: 3, 5: 3, 6: 3, 7: 3, 8: 3, 9: 3}\n"
          ]
        },
        {
          "name": "stderr",
          "output_type": "stream",
          "text": [
            "100%|██████████| 10/10 [00:31<00:00,  3.14s/it]\n",
            "100%|██████████| 10/10 [00:39<00:00,  3.99s/it]\n",
            "100%|██████████| 10/10 [00:46<00:00,  4.70s/it]\n",
            "100%|██████████| 10/10 [00:42<00:00,  4.26s/it]\n",
            "100%|██████████| 10/10 [00:43<00:00,  4.32s/it]\n",
            "100%|██████████| 10/10 [00:40<00:00,  4.03s/it]\n",
            "100%|██████████| 10/10 [01:05<00:00,  6.56s/it]\n",
            "100%|██████████| 10/10 [00:50<00:00,  5.00s/it]\n",
            "100%|██████████| 10/10 [00:48<00:00,  4.89s/it]\n",
            "100%|██████████| 10/10 [00:47<00:00,  4.80s/it]\n"
          ]
        },
        {
          "name": "stdout",
          "output_type": "stream",
          "text": [
            "Round 32, Train loss: 0.0148, Test Loss: 0.6389, Test Accuracy: 88.66%\n",
            "{0: 0, 1: 0, 2: 0, 3: 0, 4: 0, 5: 0, 6: 0, 7: 0, 8: 0, 9: 0}\n"
          ]
        },
        {
          "name": "stderr",
          "output_type": "stream",
          "text": [
            "100%|██████████| 10/10 [00:48<00:00,  4.87s/it]\n",
            "100%|██████████| 10/10 [01:05<00:00,  6.53s/it]\n",
            "100%|██████████| 10/10 [00:42<00:00,  4.22s/it]\n",
            "100%|██████████| 10/10 [00:49<00:00,  4.98s/it]\n",
            "100%|██████████| 10/10 [00:40<00:00,  4.06s/it]\n",
            "100%|██████████| 10/10 [00:31<00:00,  3.15s/it]\n",
            "100%|██████████| 10/10 [00:42<00:00,  4.26s/it]\n",
            "100%|██████████| 10/10 [00:46<00:00,  4.69s/it]\n",
            "100%|██████████| 10/10 [00:48<00:00,  4.83s/it]\n",
            "100%|██████████| 10/10 [00:39<00:00,  3.92s/it]\n"
          ]
        },
        {
          "name": "stdout",
          "output_type": "stream",
          "text": [
            "Round 33, Train loss: 0.0147, Test Loss: 0.5919, Test Accuracy: 88.68%\n",
            "{0: 1, 1: 1, 2: 1, 3: 1, 4: 1, 5: 1, 6: 1, 7: 1, 8: 1, 9: 1}\n"
          ]
        },
        {
          "name": "stderr",
          "output_type": "stream",
          "text": [
            "100%|██████████| 10/10 [00:43<00:00,  4.30s/it]\n",
            "100%|██████████| 10/10 [00:48<00:00,  4.87s/it]\n",
            "100%|██████████| 10/10 [00:48<00:00,  4.89s/it]\n",
            "100%|██████████| 10/10 [01:06<00:00,  6.64s/it]\n",
            "100%|██████████| 10/10 [00:50<00:00,  5.01s/it]\n",
            "100%|██████████| 10/10 [00:46<00:00,  4.64s/it]\n",
            "100%|██████████| 10/10 [00:39<00:00,  3.97s/it]\n",
            "100%|██████████| 10/10 [00:31<00:00,  3.13s/it]\n",
            "100%|██████████| 10/10 [00:42<00:00,  4.28s/it]\n",
            "100%|██████████| 10/10 [00:39<00:00,  3.98s/it]\n"
          ]
        },
        {
          "name": "stdout",
          "output_type": "stream",
          "text": [
            "Round 34, Train loss: 0.0271, Test Loss: 0.5950, Test Accuracy: 88.79%\n",
            "{0: 2, 1: 2, 2: 2, 3: 2, 4: 2, 5: 2, 6: 2, 7: 2, 8: 2, 9: 2}\n"
          ]
        },
        {
          "name": "stderr",
          "output_type": "stream",
          "text": [
            "100%|██████████| 10/10 [00:39<00:00,  3.99s/it]\n",
            "100%|██████████| 10/10 [00:39<00:00,  3.97s/it]\n",
            "100%|██████████| 10/10 [00:43<00:00,  4.30s/it]\n",
            "100%|██████████| 10/10 [00:48<00:00,  4.87s/it]\n",
            "100%|██████████| 10/10 [00:32<00:00,  3.26s/it]\n",
            "100%|██████████| 10/10 [00:48<00:00,  4.84s/it]\n",
            "100%|██████████| 10/10 [00:43<00:00,  4.31s/it]\n",
            "100%|██████████| 10/10 [00:46<00:00,  4.63s/it]\n",
            "100%|██████████| 10/10 [00:50<00:00,  5.03s/it]\n",
            "100%|██████████| 10/10 [01:06<00:00,  6.66s/it]\n"
          ]
        },
        {
          "name": "stdout",
          "output_type": "stream",
          "text": [
            "Round 35, Train loss: 0.0184, Test Loss: 0.5710, Test Accuracy: 88.75%\n",
            "{0: 3, 1: 3, 2: 3, 3: 3, 4: 3, 5: 3, 6: 3, 7: 3, 8: 3, 9: 3}\n"
          ]
        },
        {
          "name": "stderr",
          "output_type": "stream",
          "text": [
            "100%|██████████| 10/10 [00:39<00:00,  3.98s/it]\n",
            "100%|██████████| 10/10 [00:50<00:00,  5.05s/it]\n",
            "100%|██████████| 10/10 [00:42<00:00,  4.29s/it]\n",
            "100%|██████████| 10/10 [01:06<00:00,  6.66s/it]\n",
            "100%|██████████| 10/10 [00:43<00:00,  4.40s/it]\n",
            "100%|██████████| 10/10 [00:46<00:00,  4.68s/it]\n",
            "100%|██████████| 10/10 [00:39<00:00,  3.95s/it]\n",
            "100%|██████████| 10/10 [00:49<00:00,  4.92s/it]\n",
            "100%|██████████| 10/10 [00:48<00:00,  4.86s/it]\n",
            "100%|██████████| 10/10 [00:31<00:00,  3.18s/it]\n"
          ]
        },
        {
          "name": "stdout",
          "output_type": "stream",
          "text": [
            "Round 36, Train loss: 0.0124, Test Loss: 0.6018, Test Accuracy: 88.93%\n",
            "{0: 0, 1: 0, 2: 0, 3: 0, 4: 0, 5: 0, 6: 0, 7: 0, 8: 0, 9: 0}\n"
          ]
        },
        {
          "name": "stderr",
          "output_type": "stream",
          "text": [
            "100%|██████████| 10/10 [01:06<00:00,  6.66s/it]\n",
            "100%|██████████| 10/10 [00:50<00:00,  5.02s/it]\n",
            "100%|██████████| 10/10 [00:40<00:00,  4.00s/it]\n",
            "100%|██████████| 10/10 [00:43<00:00,  4.35s/it]\n",
            "100%|██████████| 10/10 [00:49<00:00,  4.97s/it]\n",
            "100%|██████████| 10/10 [00:46<00:00,  4.68s/it]\n",
            "100%|██████████| 10/10 [00:31<00:00,  3.14s/it]\n",
            "100%|██████████| 10/10 [00:48<00:00,  4.87s/it]\n",
            "100%|██████████| 10/10 [00:39<00:00,  3.95s/it]\n",
            "100%|██████████| 10/10 [00:42<00:00,  4.29s/it]\n"
          ]
        },
        {
          "name": "stdout",
          "output_type": "stream",
          "text": [
            "Round 37, Train loss: 0.0117, Test Loss: 0.5616, Test Accuracy: 88.98%\n",
            "{0: 1, 1: 1, 2: 1, 3: 1, 4: 1, 5: 1, 6: 1, 7: 1, 8: 1, 9: 1}\n"
          ]
        },
        {
          "name": "stderr",
          "output_type": "stream",
          "text": [
            "100%|██████████| 10/10 [00:50<00:00,  5.07s/it]\n",
            "100%|██████████| 10/10 [00:39<00:00,  3.97s/it]\n",
            "100%|██████████| 10/10 [00:48<00:00,  4.87s/it]\n",
            "100%|██████████| 10/10 [00:39<00:00,  3.99s/it]\n",
            "100%|██████████| 10/10 [00:43<00:00,  4.35s/it]\n",
            "100%|██████████| 10/10 [00:48<00:00,  4.90s/it]\n",
            "100%|██████████| 10/10 [00:42<00:00,  4.25s/it]\n",
            "100%|██████████| 10/10 [00:46<00:00,  4.65s/it]\n",
            "100%|██████████| 10/10 [01:06<00:00,  6.64s/it]\n",
            "100%|██████████| 10/10 [00:31<00:00,  3.16s/it]\n"
          ]
        },
        {
          "name": "stdout",
          "output_type": "stream",
          "text": [
            "Round 38, Train loss: 0.0219, Test Loss: 0.5715, Test Accuracy: 89.04%\n",
            "{0: 2, 1: 2, 2: 2, 3: 2, 4: 2, 5: 2, 6: 2, 7: 2, 8: 2, 9: 2}\n"
          ]
        },
        {
          "name": "stderr",
          "output_type": "stream",
          "text": [
            "100%|██████████| 10/10 [00:31<00:00,  3.20s/it]\n",
            "100%|██████████| 10/10 [00:46<00:00,  4.62s/it]\n",
            "100%|██████████| 10/10 [00:43<00:00,  4.33s/it]\n",
            "100%|██████████| 10/10 [00:42<00:00,  4.30s/it]\n",
            "100%|██████████| 10/10 [00:50<00:00,  5.06s/it]\n",
            "100%|██████████| 10/10 [00:39<00:00,  3.95s/it]\n",
            "100%|██████████| 10/10 [00:40<00:00,  4.03s/it]\n",
            "100%|██████████| 10/10 [00:48<00:00,  4.84s/it]\n",
            "100%|██████████| 10/10 [00:48<00:00,  4.89s/it]\n",
            "100%|██████████| 10/10 [01:06<00:00,  6.67s/it]\n"
          ]
        },
        {
          "name": "stdout",
          "output_type": "stream",
          "text": [
            "Round 39, Train loss: 0.0159, Test Loss: 0.5501, Test Accuracy: 89.08%\n",
            "{0: 3, 1: 3, 2: 3, 3: 3, 4: 3, 5: 3, 6: 3, 7: 3, 8: 3, 9: 3}\n"
          ]
        },
        {
          "name": "stderr",
          "output_type": "stream",
          "text": [
            "100%|██████████| 10/10 [01:06<00:00,  6.64s/it]\n",
            "100%|██████████| 10/10 [00:43<00:00,  4.34s/it]\n",
            "100%|██████████| 10/10 [00:46<00:00,  4.69s/it]\n",
            "100%|██████████| 10/10 [00:48<00:00,  4.86s/it]\n",
            "100%|██████████| 10/10 [00:31<00:00,  3.19s/it]\n",
            "100%|██████████| 10/10 [00:49<00:00,  4.90s/it]\n",
            "100%|██████████| 10/10 [00:42<00:00,  4.26s/it]\n",
            "100%|██████████| 10/10 [00:40<00:00,  4.02s/it]\n",
            "100%|██████████| 10/10 [00:39<00:00,  3.95s/it]\n",
            "100%|██████████| 10/10 [00:50<00:00,  5.01s/it]\n"
          ]
        },
        {
          "name": "stdout",
          "output_type": "stream",
          "text": [
            "Round 40, Train loss: 0.0106, Test Loss: 0.5851, Test Accuracy: 88.98%\n",
            "{0: 0, 1: 0, 2: 0, 3: 0, 4: 0, 5: 0, 6: 0, 7: 0, 8: 0, 9: 0}\n"
          ]
        },
        {
          "name": "stderr",
          "output_type": "stream",
          "text": [
            "100%|██████████| 10/10 [00:50<00:00,  5.03s/it]\n",
            "100%|██████████| 10/10 [00:49<00:00,  4.92s/it]\n",
            "100%|██████████| 10/10 [00:39<00:00,  3.95s/it]\n",
            "100%|██████████| 10/10 [00:48<00:00,  4.86s/it]\n",
            "100%|██████████| 10/10 [00:43<00:00,  4.34s/it]\n",
            "100%|██████████| 10/10 [00:31<00:00,  3.20s/it]\n",
            "100%|██████████| 10/10 [00:56<00:00,  5.68s/it]\n",
            "100%|██████████| 10/10 [00:26<00:00,  2.70s/it]\n",
            "100%|██████████| 10/10 [00:27<00:00,  2.78s/it]\n",
            "100%|██████████| 10/10 [00:31<00:00,  3.19s/it]\n"
          ]
        },
        {
          "name": "stdout",
          "output_type": "stream",
          "text": [
            "Round 41, Train loss: 0.0103, Test Loss: 0.5655, Test Accuracy: 89.12%\n",
            "{0: 1, 1: 1, 2: 1, 3: 1, 4: 1, 5: 1, 6: 1, 7: 1, 8: 1, 9: 1}\n"
          ]
        },
        {
          "name": "stderr",
          "output_type": "stream",
          "text": [
            "100%|██████████| 10/10 [00:31<00:00,  3.17s/it]\n",
            "100%|██████████| 10/10 [00:31<00:00,  3.15s/it]\n",
            "100%|██████████| 10/10 [00:25<00:00,  2.57s/it]\n",
            "100%|██████████| 10/10 [00:32<00:00,  3.28s/it]\n",
            "100%|██████████| 10/10 [00:25<00:00,  2.55s/it]\n",
            "100%|██████████| 10/10 [00:27<00:00,  2.78s/it]\n",
            "100%|██████████| 10/10 [00:42<00:00,  4.28s/it]\n",
            "100%|██████████| 10/10 [00:27<00:00,  2.76s/it]\n",
            "100%|██████████| 10/10 [00:34<00:00,  3.45s/it]\n",
            "100%|██████████| 10/10 [00:22<00:00,  2.27s/it]\n"
          ]
        },
        {
          "name": "stdout",
          "output_type": "stream",
          "text": [
            "Round 42, Train loss: 0.0179, Test Loss: 0.5807, Test Accuracy: 88.96%\n",
            "{0: 2, 1: 2, 2: 2, 3: 2, 4: 2, 5: 2, 6: 2, 7: 2, 8: 2, 9: 2}\n"
          ]
        },
        {
          "name": "stderr",
          "output_type": "stream",
          "text": [
            "100%|██████████| 10/10 [00:25<00:00,  2.55s/it]\n",
            "100%|██████████| 10/10 [00:45<00:00,  4.50s/it]\n",
            "100%|██████████| 10/10 [00:20<00:00,  2.02s/it]\n",
            "100%|██████████| 10/10 [00:32<00:00,  3.29s/it]\n",
            "100%|██████████| 10/10 [00:31<00:00,  3.16s/it]\n",
            "100%|██████████| 10/10 [00:29<00:00,  2.97s/it]\n",
            "100%|██████████| 10/10 [00:27<00:00,  2.77s/it]\n",
            "100%|██████████| 10/10 [00:32<00:00,  3.29s/it]\n",
            "100%|██████████| 10/10 [00:27<00:00,  2.71s/it]\n",
            "100%|██████████| 10/10 [00:28<00:00,  2.83s/it]\n"
          ]
        },
        {
          "name": "stdout",
          "output_type": "stream",
          "text": [
            "Round 43, Train loss: 0.0132, Test Loss: 0.5688, Test Accuracy: 89.05%\n",
            "{0: 3, 1: 3, 2: 3, 3: 3, 4: 3, 5: 3, 6: 3, 7: 3, 8: 3, 9: 3}\n"
          ]
        },
        {
          "name": "stderr",
          "output_type": "stream",
          "text": [
            "100%|██████████| 10/10 [00:43<00:00,  4.30s/it]\n",
            "100%|██████████| 10/10 [00:27<00:00,  2.76s/it]\n",
            "100%|██████████| 10/10 [00:32<00:00,  3.25s/it]\n",
            "100%|██████████| 10/10 [00:27<00:00,  2.77s/it]\n",
            "100%|██████████| 10/10 [00:20<00:00,  2.04s/it]\n",
            "100%|██████████| 10/10 [00:25<00:00,  2.57s/it]\n",
            "100%|██████████| 10/10 [00:26<00:00,  2.69s/it]\n",
            "100%|██████████| 10/10 [00:33<00:00,  3.32s/it]\n",
            "100%|██████████| 10/10 [00:35<00:00,  3.58s/it]\n",
            "100%|██████████| 10/10 [00:31<00:00,  3.20s/it]\n"
          ]
        },
        {
          "name": "stdout",
          "output_type": "stream",
          "text": [
            "Round 44, Train loss: 0.0093, Test Loss: 0.5914, Test Accuracy: 88.98%\n",
            "{0: 0, 1: 0, 2: 0, 3: 0, 4: 0, 5: 0, 6: 0, 7: 0, 8: 0, 9: 0}\n"
          ]
        },
        {
          "name": "stderr",
          "output_type": "stream",
          "text": [
            "100%|██████████| 10/10 [00:29<00:00,  2.98s/it]\n",
            "100%|██████████| 10/10 [00:34<00:00,  3.49s/it]\n",
            "100%|██████████| 10/10 [00:44<00:00,  4.42s/it]\n",
            "100%|██████████| 10/10 [00:29<00:00,  2.99s/it]\n",
            "100%|██████████| 10/10 [00:23<00:00,  2.30s/it]\n",
            "100%|██████████| 10/10 [00:33<00:00,  3.39s/it]\n",
            "100%|██████████| 10/10 [00:28<00:00,  2.80s/it]\n",
            "100%|██████████| 10/10 [00:33<00:00,  3.30s/it]\n",
            "100%|██████████| 10/10 [00:36<00:00,  3.69s/it]\n",
            "100%|██████████| 10/10 [00:27<00:00,  2.72s/it]\n"
          ]
        },
        {
          "name": "stdout",
          "output_type": "stream",
          "text": [
            "Round 45, Train loss: 0.0089, Test Loss: 0.5830, Test Accuracy: 89.09%\n",
            "{0: 1, 1: 1, 2: 1, 3: 1, 4: 1, 5: 1, 6: 1, 7: 1, 8: 1, 9: 1}\n"
          ]
        },
        {
          "name": "stderr",
          "output_type": "stream",
          "text": [
            "100%|██████████| 10/10 [00:30<00:00,  3.05s/it]\n",
            "100%|██████████| 10/10 [00:29<00:00,  2.97s/it]\n",
            "100%|██████████| 10/10 [00:28<00:00,  2.89s/it]\n",
            "100%|██████████| 10/10 [00:31<00:00,  3.16s/it]\n",
            "100%|██████████| 10/10 [00:26<00:00,  2.67s/it]\n",
            "100%|██████████| 10/10 [00:45<00:00,  4.53s/it]\n",
            "100%|██████████| 10/10 [00:36<00:00,  3.61s/it]\n",
            "100%|██████████| 10/10 [00:22<00:00,  2.26s/it]\n",
            "100%|██████████| 10/10 [00:27<00:00,  2.75s/it]\n",
            "100%|██████████| 10/10 [00:32<00:00,  3.24s/it]\n"
          ]
        },
        {
          "name": "stdout",
          "output_type": "stream",
          "text": [
            "Round 46, Train loss: 0.0160, Test Loss: 0.5886, Test Accuracy: 89.03%\n",
            "{0: 2, 1: 2, 2: 2, 3: 2, 4: 2, 5: 2, 6: 2, 7: 2, 8: 2, 9: 2}\n"
          ]
        },
        {
          "name": "stderr",
          "output_type": "stream",
          "text": [
            "100%|██████████| 10/10 [00:42<00:00,  4.21s/it]\n",
            "100%|██████████| 10/10 [00:31<00:00,  3.10s/it]\n",
            "100%|██████████| 10/10 [00:30<00:00,  3.01s/it]\n",
            "100%|██████████| 10/10 [00:28<00:00,  2.84s/it]\n",
            "100%|██████████| 10/10 [00:32<00:00,  3.26s/it]\n",
            "100%|██████████| 10/10 [00:25<00:00,  2.57s/it]\n",
            "100%|██████████| 10/10 [00:25<00:00,  2.52s/it]\n",
            "100%|██████████| 10/10 [00:20<00:00,  2.02s/it]\n",
            "100%|██████████| 10/10 [00:27<00:00,  2.71s/it]\n",
            "100%|██████████| 10/10 [00:31<00:00,  3.18s/it]\n"
          ]
        },
        {
          "name": "stdout",
          "output_type": "stream",
          "text": [
            "Round 47, Train loss: 0.0117, Test Loss: 0.5690, Test Accuracy: 89.06%\n",
            "{0: 3, 1: 3, 2: 3, 3: 3, 4: 3, 5: 3, 6: 3, 7: 3, 8: 3, 9: 3}\n"
          ]
        },
        {
          "name": "stderr",
          "output_type": "stream",
          "text": [
            "100%|██████████| 10/10 [00:27<00:00,  2.79s/it]\n",
            "100%|██████████| 10/10 [00:25<00:00,  2.52s/it]\n",
            "100%|██████████| 10/10 [00:27<00:00,  2.71s/it]\n",
            "100%|██████████| 10/10 [00:34<00:00,  3.41s/it]\n",
            "100%|██████████| 10/10 [00:33<00:00,  3.36s/it]\n",
            "100%|██████████| 10/10 [00:30<00:00,  3.01s/it]\n",
            "100%|██████████| 10/10 [00:46<00:00,  4.66s/it]\n",
            "100%|██████████| 10/10 [00:34<00:00,  3.44s/it]\n",
            "100%|██████████| 10/10 [00:20<00:00,  2.03s/it]\n",
            "100%|██████████| 10/10 [00:25<00:00,  2.57s/it]\n"
          ]
        },
        {
          "name": "stdout",
          "output_type": "stream",
          "text": [
            "Round 48, Train loss: 0.0087, Test Loss: 0.5913, Test Accuracy: 88.99%\n",
            "{0: 0, 1: 0, 2: 0, 3: 0, 4: 0, 5: 0, 6: 0, 7: 0, 8: 0, 9: 0}\n"
          ]
        },
        {
          "name": "stderr",
          "output_type": "stream",
          "text": [
            "100%|██████████| 10/10 [00:30<00:00,  3.07s/it]\n",
            "100%|██████████| 10/10 [00:30<00:00,  3.10s/it]\n",
            "100%|██████████| 10/10 [00:27<00:00,  2.73s/it]\n",
            "100%|██████████| 10/10 [00:33<00:00,  3.36s/it]\n",
            "100%|██████████| 10/10 [00:42<00:00,  4.27s/it]\n",
            "100%|██████████| 10/10 [00:32<00:00,  3.28s/it]\n",
            "100%|██████████| 10/10 [00:25<00:00,  2.58s/it]\n",
            "100%|██████████| 10/10 [00:20<00:00,  2.05s/it]\n",
            "100%|██████████| 10/10 [00:27<00:00,  2.77s/it]\n",
            "100%|██████████| 10/10 [00:26<00:00,  2.66s/it]\n"
          ]
        },
        {
          "name": "stdout",
          "output_type": "stream",
          "text": [
            "Round 49, Train loss: 0.0082, Test Loss: 0.5837, Test Accuracy: 89.17%\n",
            "{0: 1, 1: 1, 2: 1, 3: 1, 4: 1, 5: 1, 6: 1, 7: 1, 8: 1, 9: 1}\n"
          ]
        },
        {
          "name": "stderr",
          "output_type": "stream",
          "text": [
            "100%|██████████| 10/10 [00:33<00:00,  3.34s/it]\n",
            "100%|██████████| 10/10 [00:28<00:00,  2.84s/it]\n",
            "100%|██████████| 10/10 [00:32<00:00,  3.25s/it]\n",
            "100%|██████████| 10/10 [00:25<00:00,  2.55s/it]\n",
            "100%|██████████| 10/10 [00:42<00:00,  4.30s/it]\n",
            "100%|██████████| 10/10 [00:20<00:00,  2.03s/it]\n",
            "100%|██████████| 10/10 [00:28<00:00,  2.82s/it]\n",
            "100%|██████████| 10/10 [00:26<00:00,  2.68s/it]\n",
            "100%|██████████| 10/10 [00:29<00:00,  3.00s/it]\n",
            "100%|██████████| 10/10 [00:33<00:00,  3.39s/it]\n"
          ]
        },
        {
          "name": "stdout",
          "output_type": "stream",
          "text": [
            "Round 50, Train loss: 0.0136, Test Loss: 0.5857, Test Accuracy: 89.16%\n",
            "Early stopping called at 50 epochs\n"
          ]
        }
      ],
      "source": [
        "from datetime import datetime\n",
        "\n",
        "# Get the current date\n",
        "current_date = datetime.now().strftime(\"%Y-%m-%d\")\n",
        "global_model.train()\n",
        "for model in clients_models.values():\n",
        "    model.train()\n",
        "\n",
        "loss_train = []\n",
        "loss_test = []\n",
        "acc_train = []\n",
        "acc_test= []\n",
        "\n",
        "# Early stopping\n",
        "patience = 10 \n",
        "patience_counter = 0\n",
        "prev_weights = dict()\n",
        "aggregated_params = list()\n",
        "# local_indices = generate_iid_cifar(train_dataset, num_clients)\n",
        "num_segments = 4\n",
        "\n",
        "for round in range(num_rounds):\n",
        "    local_weights = {}\n",
        "    local_losses, local_acc = [], []\n",
        "    selected_clients = list(np.random.choice(range(num_clients), num_selected, replace=False))\n",
        "    # Initialize client segment index map\n",
        "    client_segment_map = handle_segment_map(round)\n",
        "    print(client_segment_map)\n",
        "   \n",
        "    # Train on local data\n",
        "    for i in selected_clients:\n",
        "        # Train on local data\n",
        "        #local_loader = DataLoader(DatasetSplit(train_dataset, noniid_dataidx_map[i]), batch_size=local_bs, shuffle=True)\n",
        "        local_loader = DataLoader(CIFAR10_truncated(\n",
        "        './data', dataidxs=noniid_dataidx_map[i], train=True, transform=transform_train), batch_size=local_bs, shuffle=True)\n",
        "\n",
        "        w, loss, acc = client_train(clients_models[i], local_loader, optimizers[i], criterion, local_rounds)\n",
        "\n",
        "        # Collect local model weights with thier examples\n",
        "        local_weights[i] = w\n",
        "        # local_weights.append(w)\n",
        "        local_losses.append(loss)\n",
        "        local_acc.append(acc)\n",
        "        schedulers[i].step()\n",
        "\n",
        "    prev_weights , aggregated_params = handle_partial_updates(local_weights, num_segments, client_segment_map)\n",
        "    \n",
        "    updated_client_dict = update_client_models(prev_weights, aggregated_params, client_segment_map)\n",
        "    \n",
        "    clients_reconstructed_params = {}\n",
        "    for client_id, weights in updated_client_dict.items():\n",
        "        clients_reconstructed_params[client_id] = reconstruct_parameters(weights, shapes, sizes, trained_weights)\n",
        "\n",
        "    for client in selected_clients:\n",
        "        clients_models[client].load_state_dict(clients_reconstructed_params[client])\n",
        "    \n",
        "    # for model in sampled_clients_models.values():\n",
        "    #     model.load_state_dict(global_model.state_dict())\n",
        "        \n",
        "    # To test the global model performance, we keep the replace the shared segments and aggregate the rest part of the segments.\n",
        "    flat_params_n = flatten_resnet_parameters(global_model.state_dict())\n",
        "    # Segment the parameters\n",
        "    segmented_params = segment_resnet_parameters(flat_params_n, 4)\n",
        "\n",
        "    shared_segment_index = client_segment_map[selected_clients[0]]\n",
        "    updated_global_params = [aggregated_params[i] if i == shared_segment_index else data for i, data in enumerate(segmented_params)]\n",
        "    params = torch.cat(updated_global_params)\n",
        "    # Reconstruct the parameters\n",
        "    updated_server_weights = reconstruct_parameters(params, shapes, sizes, trained_weights)\n",
        "\n",
        "    # Check if both dictionaries have the same set of keys\n",
        "    assert set(updated_server_weights.keys()) == set(trained_weights.keys()), \"Parameter keys do not match.\"\n",
        "\n",
        "\n",
        "    # Aggregate local weights to update global model\n",
        "    # rotate_shared_segments(client_segment_map, num_segments)\n",
        "    \n",
        "\n",
        "    # copy weight to global model\n",
        "    global_model.load_state_dict(updated_server_weights)\n",
        "\n",
        "    # Calulate loss\n",
        "    loss_avg = sum(local_losses) / len(local_losses)\n",
        "    # print('Round {:3d}, Train loss {:.3f}'.format(round, loss_avg))\n",
        "    loss_train.append(loss_avg)\n",
        "    acc_train.append(100 * sum(local_acc) / len(local_acc))\n",
        "\n",
        "    # Evaluation on test dataset for each round\n",
        "    cur_auc, test_loss = evaluate(\n",
        "        global_model, test_dataset, test_bs, device)\n",
        "    loss_test.append(test_loss)\n",
        "    acc_test.append(cur_auc)\n",
        "    print(f'Round {round+1}, Train loss: {loss_avg:.4f}, Test Loss: {test_loss:.4f}, Test Accuracy: {cur_auc:.2f}%')\n",
        "    ## Early Stopping\n",
        "    valid_loss_array = np.array(loss_test)\n",
        "    min_valid_loss = np.min(valid_loss_array)\n",
        "    \n",
        "    if(test_loss > min_valid_loss):\n",
        "        patience_counter += 1        \n",
        "    else:\n",
        "        patience_counter = 0       #setting the patience counter to zero if the test loss improves again \n",
        "    \n",
        "    ## Calling early stopping if test loss doest improves from last (patience) Iterations\n",
        "    if(patience_counter > patience):\n",
        "        print(\"Early stopping called at {} epochs\".format(round+1))\n",
        "        # break\n",
        "# After all rounds, log the values to the file with the date as the filename\n",
        "with open(f'training_log_{current_date}_{num_segments}.txt', 'w') as log_file:\n",
        "    log_file.write(f'Final Train Loss: {loss_train}\\n')\n",
        "    log_file.write(f'Final Train Accuracy: {acc_train}\\n')\n",
        "    log_file.write(f'Final Test Loss: {loss_test}\\n')\n",
        "    log_file.write(f'Final Test Accuracy: {acc_test}\\n')\n"
      ]
    },
    {
      "cell_type": "code",
      "execution_count": 78,
      "metadata": {
        "id": "BMu4zjVscHpL"
      },
      "outputs": [
        {
          "name": "stdout",
          "output_type": "stream",
          "text": [
            "Training accuracy: 95.74%\n",
            "Testing accuracy: 90.27%\n"
          ]
        }
      ],
      "source": [
        "# Testing\n",
        "global_model.eval()\n",
        "train_acc, train_loss = evaluate(\n",
        "    global_model, train_dataset, test_bs, device)\n",
        "test_acc, test_loss = evaluate(\n",
        "    global_model, test_dataset, test_bs, device)\n",
        "print(\"Training accuracy: {:.2f}%\".format(train_acc))\n",
        "print(\"Testing accuracy: {:.2f}%\".format(test_acc))"
      ]
    },
    {
      "cell_type": "code",
      "execution_count": 50,
      "metadata": {},
      "outputs": [],
      "source": [
        "# Save the entire model\n",
        "torch.save(global_model, 'model_resnet9_ps_same_portion_24_June.pth')\n",
        "\n",
        "# # To load the entire model\n",
        "# model = torch.load('model_complete.pth')\n",
        "# model.eval()"
      ]
    },
    {
      "cell_type": "code",
      "execution_count": 68,
      "metadata": {},
      "outputs": [],
      "source": [
        "# Save only the state dictionary\n",
        "torch.save(model.state_dict(), 'model_resnet9_ps_same_portion_06_June.pth')\n",
        "\n",
        "# # To load the state dictionary, you need to re-instantiate the model first\n",
        "# model = ResNet18()\n",
        "# model.load_state_dict(torch.load('model_state_dict.pth'))\n",
        "# model.eval()"
      ]
    },
    {
      "cell_type": "code",
      "execution_count": null,
      "metadata": {},
      "outputs": [],
      "source": [
        "with open(f'ParMS{num_segments}_acc_train.txt', 'w') as file:\n",
        "    # Write each value on a new line\n",
        "    file.write(f\"{acc_train}\\n\")\n",
        "with open(f'ParMS{num_segments}_acc_test.txt', 'w') as file:\n",
        "    # Write each value on a new line\n",
        "    file.write(f\"{acc_test}\\n\")\n",
        "with open(f'ParMS{num_segments}_loss_train.txt', 'w') as file:\n",
        "    # Write each value on a new line\n",
        "    file.write(f\"{loss_train}\\n\") \n",
        "with open(f'ParMS{num_segments}_loss_test.txt', 'w') as file:\n",
        "    # Write each value on a new line\n",
        "    file.write(f\"{loss_test}\\n\")"
      ]
    }
  ],
  "metadata": {
    "accelerator": "GPU",
    "colab": {
      "gpuType": "V100",
      "machine_shape": "hm",
      "provenance": []
    },
    "kernelspec": {
      "display_name": "Python 3",
      "name": "python3"
    },
    "language_info": {
      "codemirror_mode": {
        "name": "ipython",
        "version": 3
      },
      "file_extension": ".py",
      "mimetype": "text/x-python",
      "name": "python",
      "nbconvert_exporter": "python",
      "pygments_lexer": "ipython3",
      "version": "3.11.0"
    }
  },
  "nbformat": 4,
  "nbformat_minor": 0
}
