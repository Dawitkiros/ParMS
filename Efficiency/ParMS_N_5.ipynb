{
  "cells": [
    {
      "cell_type": "code",
      "execution_count": 1,
      "metadata": {
        "id": "uG6SJN7fZa4_"
      },
      "outputs": [],
      "source": [
        "import torch\n",
        "from torch.utils.data import DataLoader, Dataset\n",
        "import numpy as np\n",
        "import torch.nn as nn\n",
        "import torch.nn.functional as F\n",
        "from torchvision import datasets, transforms\n",
        "import matplotlib.pyplot as plt\n",
        "import copy\n",
        "from tqdm import trange\n",
        "from torchsummary import summary\n",
        "\n",
        "import torchvision\n",
        "import torchvision.transforms as transforms\n",
        "from typing import List, Any, Tuple, Optional\n",
        "from collections import OrderedDict\n",
        "import EarlyStopping"
      ]
    },
    {
      "cell_type": "code",
      "execution_count": 2,
      "metadata": {},
      "outputs": [
        {
          "data": {
            "text/plain": [
              "True"
            ]
          },
          "execution_count": 2,
          "metadata": {},
          "output_type": "execute_result"
        }
      ],
      "source": [
        "torch.cuda.is_available()"
      ]
    },
    {
      "cell_type": "code",
      "execution_count": 3,
      "metadata": {},
      "outputs": [
        {
          "data": {
            "text/plain": [
              "6"
            ]
          },
          "execution_count": 3,
          "metadata": {},
          "output_type": "execute_result"
        }
      ],
      "source": [
        "torch.cuda.device_count()"
      ]
    },
    {
      "cell_type": "code",
      "execution_count": 4,
      "metadata": {},
      "outputs": [
        {
          "data": {
            "text/plain": [
              "'NVIDIA RTX A5000'"
            ]
          },
          "execution_count": 4,
          "metadata": {},
          "output_type": "execute_result"
        }
      ],
      "source": [
        "torch.cuda.get_device_name()"
      ]
    },
    {
      "cell_type": "code",
      "execution_count": 5,
      "metadata": {},
      "outputs": [
        {
          "name": "stdout",
          "output_type": "stream",
          "text": [
            "144 or 37\n"
          ]
        }
      ],
      "source": [
        "print(\"144 or 37\")"
      ]
    },
    {
      "cell_type": "code",
      "execution_count": 6,
      "metadata": {
        "id": "VzJRdXpobgBG"
      },
      "outputs": [],
      "source": [
        "# Hyperparameters for training\n",
        "num_rounds = 50\n",
        "local_rounds = 10\n",
        "num_clients = 10  # Total number of clients\n",
        "num_selected = 10  # Number of selected clients per round\n",
        "local_bs = 10\n",
        "lr = 0.001\n",
        "num_channels = 3\n",
        "num_classes = 10\n",
        "test_bs = 128\n",
        "gamma = 0.1\n",
        "milestones = [0.5 * num_rounds, 0.75 * num_rounds]"
      ]
    },
    {
      "cell_type": "code",
      "execution_count": 7,
      "metadata": {
        "id": "PYbUdZkjbmZH"
      },
      "outputs": [],
      "source": [
        "device = torch.device('cuda:5' if torch.cuda.is_available() else 'cpu')"
      ]
    },
    {
      "cell_type": "code",
      "execution_count": 8,
      "metadata": {},
      "outputs": [
        {
          "data": {
            "text/plain": [
              "device(type='cuda', index=5)"
            ]
          },
          "execution_count": 8,
          "metadata": {},
          "output_type": "execute_result"
        }
      ],
      "source": [
        "device"
      ]
    },
    {
      "cell_type": "code",
      "execution_count": 9,
      "metadata": {},
      "outputs": [],
      "source": [
        "#ResNet9\n",
        "def conv_block(in_channels, out_channels, pool=False):\n",
        "    layers = [nn.Conv2d(in_channels, out_channels, kernel_size=3, padding=1), \n",
        "              nn.BatchNorm2d(out_channels), \n",
        "              nn.ReLU(inplace=True)]\n",
        "    if pool: layers.append(nn.MaxPool2d(2))\n",
        "    return nn.Sequential(*layers)"
      ]
    },
    {
      "cell_type": "code",
      "execution_count": 10,
      "metadata": {},
      "outputs": [],
      "source": [
        "class ResNet9(nn.Module):\n",
        "    def __init__(\n",
        "            self, \n",
        "            in_channels, \n",
        "            num_classes, \n",
        "            grid_size=5,\n",
        "            spline_order=3,\n",
        "            scale_noise=0.1,\n",
        "            scale_base=1.0,\n",
        "            scale_spline=1.0,\n",
        "            base_activation=torch.nn.SiLU,\n",
        "            grid_eps=0.02,\n",
        "            grid_range=[-1, 1],\n",
        "            ):\n",
        "        super(ResNet9, self).__init__()\n",
        "        self.grid_size = grid_size\n",
        "        self.spline_order = spline_order\n",
        "        \n",
        "        self.conv1 = conv_block(in_channels, 64)\n",
        "        self.conv2 = conv_block(64, 128, pool=True)\n",
        "        self.res1 = nn.Sequential(conv_block(128, 128), conv_block(128, 128))\n",
        "        \n",
        "        self.conv3 = conv_block(128, 256, pool=True)\n",
        "        self.conv4 = conv_block(256, 512, pool=True)\n",
        "        self.res2 = nn.Sequential(conv_block(512, 512), conv_block(512, 512))\n",
        "        \n",
        "        self.classifier = nn.Sequential(nn.AdaptiveMaxPool2d((1,1)), \n",
        "                                        nn.Flatten(), \n",
        "                                        nn.Dropout(0.2),\n",
        "                                        nn.Linear(512, num_classes))\n",
        "        \n",
        "    def forward(self, xb):\n",
        "        out = self.conv1(xb)\n",
        "        out = self.conv2(out)\n",
        "        out = self.res1(out) + out\n",
        "        out = self.conv3(out)\n",
        "        out = self.conv4(out)\n",
        "        out = self.res2(out) + out\n",
        "        out = self.classifier(out)\n",
        "        return out\n"
      ]
    },
    {
      "cell_type": "code",
      "execution_count": 11,
      "metadata": {},
      "outputs": [],
      "source": [
        "class CIFAR10_truncated(Dataset):\n",
        "\n",
        "    def __init__(self, root, dataidxs=None, train=True, transform=None, target_transform=None, download=False):\n",
        "\n",
        "        self.root = root\n",
        "        self.dataidxs = dataidxs\n",
        "        self.train = train\n",
        "        self.transform = transform\n",
        "        self.target_transform = target_transform\n",
        "        self.download = download\n",
        "\n",
        "        self.data, self.target = self.__build_truncated_dataset__()\n",
        "\n",
        "    def __build_truncated_dataset__(self):\n",
        "\n",
        "        cifar_dataobj = datasets.CIFAR10(self.root, self.train, self.transform, self.target_transform, self.download)\n",
        "\n",
        "        data = np.array(cifar_dataobj.data)\n",
        "        target = np.array(cifar_dataobj.targets)\n",
        "\n",
        "        if self.dataidxs is not None:\n",
        "            data = data[self.dataidxs]\n",
        "            target = target[self.dataidxs]\n",
        "\n",
        "        return data, target\n",
        "\n",
        "    def __getitem__(self, index):\n",
        "        \"\"\"\n",
        "        Args:\n",
        "            index (int): Index\n",
        "\n",
        "        Returns:\n",
        "            tuple: (image, target) where target is index of the target class.\n",
        "        \"\"\"\n",
        "        img, target = self.data[index], self.target[index]\n",
        "\n",
        "        if self.transform is not None:\n",
        "            img = self.transform(img)\n",
        "\n",
        "        if self.target_transform is not None:\n",
        "            target = self.target_transform(target)\n",
        "\n",
        "        return img, target\n",
        "\n",
        "    def __len__(self):\n",
        "        return len(self.data)"
      ]
    },
    {
      "cell_type": "code",
      "execution_count": 12,
      "metadata": {
        "id": "cRVoTdg5cowo"
      },
      "outputs": [],
      "source": [
        "transform_train = transforms.Compose([transforms.ToTensor(),\n",
        "                                      transforms.RandomCrop(32, padding=4),\n",
        "                                      transforms.RandomHorizontalFlip(),\n",
        "                                      transforms.Normalize(mean=[x / 255.0 for x in [125.3, 123.0, 113.9]],\n",
        "                                     std=[x / 255.0 for x in [63.0, 62.1, 66.7]])])\n",
        "transform_test = transforms.Compose([\n",
        "    transforms.ToTensor(),\n",
        "    transforms.Normalize(mean=[x / 255.0 for x in [125.3, 123.0, 113.9]], std=[x / 255.0 for x in [63.0, 62.1, 66.7]])])"
      ]
    },
    {
      "cell_type": "code",
      "execution_count": 13,
      "metadata": {
        "colab": {
          "base_uri": "https://localhost:8080/"
        },
        "id": "ApAnVijabpCO",
        "outputId": "ead7b612-e8d1-48a4-932a-3104e1555c93"
      },
      "outputs": [
        {
          "name": "stdout",
          "output_type": "stream",
          "text": [
            "Files already downloaded and verified\n",
            "Files already downloaded and verified\n"
          ]
        }
      ],
      "source": [
        "# CIFAR10 Data loading\n",
        "train_dataset = CIFAR10_truncated('./data', train=True, download=True, transform=transform_train)\n",
        "test_dataset = CIFAR10_truncated('./data', train=False, download=True, transform=transform_test)\n",
        "\n",
        "X_train, y_train = train_dataset.data, train_dataset.target\n",
        "X_test, y_test = test_dataset.data, test_dataset.target"
      ]
    },
    {
      "cell_type": "code",
      "execution_count": 14,
      "metadata": {},
      "outputs": [],
      "source": [
        "def record_net_data_stats(y_train, net_dataidx_map):\n",
        "\n",
        "    net_cls_counts = {}\n",
        "\n",
        "    for net_i, dataidx in net_dataidx_map.items():\n",
        "        unq, unq_cnt = np.unique(y_train[dataidx], return_counts=True)\n",
        "        tmp = {unq[i]: unq_cnt[i] for i in range(len(unq))}\n",
        "        net_cls_counts[net_i] = tmp\n",
        "\n",
        "    #print('Data statistics: %s' % str(net_cls_counts))\n",
        "\n",
        "    return net_cls_counts"
      ]
    },
    {
      "cell_type": "code",
      "execution_count": 15,
      "metadata": {},
      "outputs": [],
      "source": [
        "class DatasetSplit(Dataset):\n",
        "    def __init__(self, dataset, idxs):\n",
        "        self.dataset = dataset\n",
        "        self.targets = dataset.targets\n",
        "        self.idxs = list(idxs)\n",
        "\n",
        "    def __len__(self):\n",
        "        return len(self.idxs)\n",
        "\n",
        "    def __getitem__(self, item):\n",
        "        image, label = self.dataset[self.idxs[item]]\n",
        "        return image, label"
      ]
    },
    {
      "cell_type": "code",
      "execution_count": 16,
      "metadata": {
        "id": "7WqBz6HobwuF"
      },
      "outputs": [],
      "source": [
        "# for IID case\n",
        "def generate_iid_cifar(X_train,y_train, num_of_clients):\n",
        "    \"\"\"\n",
        "    Sample I.I.D. client data from CIFAR10 dataset\n",
        "    :param n_nets: Number of clients\n",
        "    :return: Tuple containing train and test datasets, data index map for each client, and train data class counts\n",
        "    \"\"\"\n",
        "    \n",
        "    n_train = X_train.shape[0]\n",
        "\n",
        "    # Shuffle and partition the data\n",
        "    idxs = np.arange(n_train)\n",
        "    np.random.shuffle(idxs)\n",
        "\n",
        "    net_data_idx_map = {}\n",
        "    batch_idxs = np.array_split(idxs, num_of_clients)\n",
        "\n",
        "    for i in range(num_of_clients):\n",
        "        net_data_idx_map[i] = batch_idxs[i]\n",
        "\n",
        "    traindata_class_counts = record_net_data_stats(y_train, net_data_idx_map)\n",
        "\n",
        "    return net_data_idx_map, traindata_class_counts\n"
      ]
    },
    {
      "cell_type": "code",
      "execution_count": 17,
      "metadata": {},
      "outputs": [],
      "source": [
        "def generate_noniid_cifar(X_train,y_train, num_of_clients, alpha=0.5):\n",
        "    \"\"\"\n",
        "    Sample non I.I.D. client data from CIFAR10 dataset\n",
        "    :param dataset: \n",
        "    :param num_users: \n",
        "    :return: \n",
        "    \"\"\"\n",
        "\n",
        "    n_train = len(X_train.shape)\n",
        "\n",
        "    min_size = 0\n",
        "    K = 10\n",
        "    N = len(y_train)\n",
        "    net_dataidx_map = {}\n",
        "\n",
        "    while min_size < 10:\n",
        "        idx_batch = [[] for _ in range(num_of_clients)]\n",
        "        for k in range(K):\n",
        "            idx_k = np.where(y_train == k)[0]\n",
        "            np.random.shuffle(idx_k)\n",
        "            proportions = np.random.dirichlet(np.repeat(alpha, num_of_clients))\n",
        "            ## Balance\n",
        "            proportions = np.array([p*(len(idx_j)<N/num_of_clients) for p,idx_j in zip(proportions,idx_batch)])\n",
        "            proportions = proportions/proportions.sum()\n",
        "            proportions = (np.cumsum(proportions)*len(idx_k)).astype(int)[:-1]\n",
        "            idx_batch = [idx_j + idx.tolist() for idx_j,idx in zip(idx_batch,np.split(idx_k,proportions))]\n",
        "            min_size = min([len(idx_j) for idx_j in idx_batch])\n",
        "\n",
        "    for j in range(num_of_clients):\n",
        "        np.random.shuffle(idx_batch[j])\n",
        "        net_dataidx_map[j] = idx_batch[j]\n",
        "    traindata_class_counts = record_net_data_stats(y_train, net_dataidx_map)\n",
        "\n",
        "    return net_dataidx_map, traindata_class_counts"
      ]
    },
    {
      "cell_type": "code",
      "execution_count": 18,
      "metadata": {},
      "outputs": [],
      "source": [
        "#iid_dataidx_map, iid_traindata_cls_counts = generate_iid_cifar(X_train,y_train, num_clients)"
      ]
    },
    {
      "cell_type": "code",
      "execution_count": 19,
      "metadata": {},
      "outputs": [],
      "source": [
        "noniid_dataidx_map, noniid_traindata_cls_counts = generate_noniid_cifar(X_train,y_train, num_clients)"
      ]
    },
    {
      "cell_type": "code",
      "execution_count": 20,
      "metadata": {},
      "outputs": [
        {
          "data": {
            "image/png": "[encoded data removed]",
            "text/plain": [
              "<Figure size 2000x800 with 10 Axes>"
            ]
          },
          "metadata": {},
          "output_type": "display_data"
        }
      ],
      "source": [
        "import numpy as np\n",
        "import matplotlib.pyplot as plt\n",
        "from torchvision import datasets, transforms\n",
        "from collections import Counter\n",
        "\n",
        "def visualize_client_distribution(traindata_cls_counts, n_clients):\n",
        "    \"\"\"\n",
        "    Visualizes the class distribution for each client.\n",
        "    \n",
        "    :param traindata_cls_counts: Dictionary of class counts per client\n",
        "    :param n_clients: Number of clients\n",
        "    \"\"\"\n",
        "    fig, axes = plt.subplots(n_clients // 5, 5, figsize=(20, 4 * (n_clients // 5)))\n",
        "    axes = axes.flatten()\n",
        "\n",
        "    for client_id, cls_counts in traindata_cls_counts.items():\n",
        "        classes = list(cls_counts.keys())\n",
        "        counts = list(cls_counts.values())\n",
        "\n",
        "        axes[client_id].bar(classes, counts)\n",
        "        axes[client_id].set_xticks(classes)\n",
        "        axes[client_id].set_xticklabels(classes)\n",
        "        axes[client_id].set_title(f'Client {client_id}')\n",
        "        axes[client_id].set_xlabel('Class')\n",
        "        axes[client_id].set_ylabel('Number of samples')\n",
        "\n",
        "    plt.tight_layout()\n",
        "    plt.show()\n",
        "\n",
        "# Visualize the distribution of the class counts for each client\n",
        "visualize_client_distribution(noniid_traindata_cls_counts, num_clients)"
      ]
    },
    {
      "cell_type": "code",
      "execution_count": 21,
      "metadata": {
        "id": "bXma7Ut0bz2Z"
      },
      "outputs": [],
      "source": [
        "# Initialize and synchronize models###\n",
        "global_model = ResNet9(\n",
        "    in_channels=num_channels, num_classes=num_classes).to(device)\n",
        "criterion = nn.CrossEntropyLoss()"
      ]
    },
    {
      "cell_type": "code",
      "execution_count": 22,
      "metadata": {
        "colab": {
          "base_uri": "https://localhost:8080/"
        },
        "id": "NJ5AHOOi3f57",
        "outputId": "84123030-b73d-43d8-c4e0-553873c91fef"
      },
      "outputs": [],
      "source": [
        "# summary(global_model, (3, 32, 32), device=\"cuda\")"
      ]
    },
    {
      "cell_type": "code",
      "execution_count": 23,
      "metadata": {},
      "outputs": [
        {
          "name": "stdout",
          "output_type": "stream",
          "text": [
            "conv1.0.weight is on cuda:5\n",
            "conv1.0.bias is on cuda:5\n",
            "conv1.1.weight is on cuda:5\n",
            "conv1.1.bias is on cuda:5\n",
            "conv2.0.weight is on cuda:5\n",
            "conv2.0.bias is on cuda:5\n",
            "conv2.1.weight is on cuda:5\n",
            "conv2.1.bias is on cuda:5\n",
            "res1.0.0.weight is on cuda:5\n",
            "res1.0.0.bias is on cuda:5\n",
            "res1.0.1.weight is on cuda:5\n",
            "res1.0.1.bias is on cuda:5\n",
            "res1.1.0.weight is on cuda:5\n",
            "res1.1.0.bias is on cuda:5\n",
            "res1.1.1.weight is on cuda:5\n",
            "res1.1.1.bias is on cuda:5\n",
            "conv3.0.weight is on cuda:5\n",
            "conv3.0.bias is on cuda:5\n",
            "conv3.1.weight is on cuda:5\n",
            "conv3.1.bias is on cuda:5\n",
            "conv4.0.weight is on cuda:5\n",
            "conv4.0.bias is on cuda:5\n",
            "conv4.1.weight is on cuda:5\n",
            "conv4.1.bias is on cuda:5\n",
            "res2.0.0.weight is on cuda:5\n",
            "res2.0.0.bias is on cuda:5\n",
            "res2.0.1.weight is on cuda:5\n",
            "res2.0.1.bias is on cuda:5\n",
            "res2.1.0.weight is on cuda:5\n",
            "res2.1.0.bias is on cuda:5\n",
            "res2.1.1.weight is on cuda:5\n",
            "res2.1.1.bias is on cuda:5\n",
            "classifier.3.weight is on cuda:5\n",
            "classifier.3.bias is on cuda:5\n"
          ]
        }
      ],
      "source": [
        "# Example for checking device of each parameter in a model\n",
        "for name, param in global_model.named_parameters():\n",
        "    print(f\"{name} is on {param.device}\")"
      ]
    },
    {
      "cell_type": "code",
      "execution_count": 24,
      "metadata": {
        "id": "J0okEWXv45np"
      },
      "outputs": [],
      "source": [
        "# from torchviz import make_dot\n",
        "\n",
        "# # Sample input to model for visualization\n",
        "# sample_input = torch.randn(1, num_channels, 32, 32).to(device)\n",
        "# model_vis = LeNet(num_classes).to(device)\n",
        "\n",
        "# # Visualize the model\n",
        "# model_dot = make_dot(global_model(sample_input), params=dict(list(global_model.named_parameters())))\n",
        "# model_dot.render(\"model_architecture\", format=\"png\")  # Saves the diagram as PNG"
      ]
    },
    {
      "cell_type": "code",
      "execution_count": 25,
      "metadata": {
        "id": "N5IEM7bdb2b4"
      },
      "outputs": [],
      "source": [
        "# Client training function\n",
        "def client_train(model: nn.Module, loader: DataLoader, optimizer, criterion, local_rounds:int):\n",
        "    model.train()\n",
        "    epoch_loss = []\n",
        "    epoch_acc = []\n",
        "    for _ in trange(local_rounds):\n",
        "        batch_loss = []\n",
        "        for batch_idx, (data, target) in enumerate(loader):\n",
        "            data, target = data.to(device), target.to(device)\n",
        "            optimizer.zero_grad()\n",
        "            output = model(data)\n",
        "            loss = criterion(output, target)\n",
        "            loss.backward()\n",
        "            optimizer.step()\n",
        "            batch_loss.append(loss.item())\n",
        "\n",
        "            _, pred = torch.max(output, dim=1)\n",
        "            correct_train = pred.eq(target.data.view_as(pred))\n",
        "            accuracy_train = torch.mean(correct_train.type(torch.FloatTensor))\n",
        "            epoch_acc.append(accuracy_train.item())\n",
        "\n",
        "        epoch_loss.append(sum(batch_loss) / len(batch_loss))\n",
        "    return model.state_dict(), sum(epoch_loss) / len(epoch_loss), sum(epoch_acc) / len(epoch_acc)"
      ]
    },
    {
      "cell_type": "code",
      "execution_count": 26,
      "metadata": {
        "id": "bAXYEu_Db4jX"
      },
      "outputs": [],
      "source": [
        "# 'FedAvg' aggregation\n",
        "def FedAvg(w):\n",
        "    w_avg = copy.deepcopy(w[0])\n",
        "    for k in w_avg.keys():\n",
        "        for i in range(1, len(w)):\n",
        "            w_avg[k] += w[i][k]\n",
        "        w_avg[k] = torch.div(w_avg[k], len(w))\n",
        "    return w_avg"
      ]
    },
    {
      "cell_type": "code",
      "execution_count": 27,
      "metadata": {
        "id": "Kx1_Y0onb_Qu"
      },
      "outputs": [],
      "source": [
        "# Evaluate on Test dataset\n",
        "def evaluate(model, datatest, test_bs, device):\n",
        "    model.eval()\n",
        "    # testing\n",
        "    test_loss = 0\n",
        "    correct = 0\n",
        "    data_loader = DataLoader(datatest, batch_size=test_bs)\n",
        "    with torch.no_grad():\n",
        "        for data, target in data_loader:\n",
        "            data, target = data.to(device), target.to(device)\n",
        "            log_probs = model(data)\n",
        "            # sum up batch loss\n",
        "            test_loss += F.cross_entropy(log_probs,\n",
        "                                         target, reduction='sum').item()\n",
        "            # get the index of the max log-probability\n",
        "            y_pred = log_probs.data.max(1, keepdim=True)[1]\n",
        "            correct += y_pred.eq(target.data.view_as(y_pred)\n",
        "                                 ).long().cpu().sum()\n",
        "\n",
        "        test_loss /= len(data_loader.dataset)\n",
        "        accuracy = 100.00 * correct.item() / len(data_loader.dataset)\n",
        "    return accuracy, test_loss"
      ]
    },
    {
      "cell_type": "code",
      "execution_count": 28,
      "metadata": {},
      "outputs": [],
      "source": [
        "# for model in client_models:\n",
        "#   model.load_state_dict(global_model.state_dict())"
      ]
    },
    {
      "cell_type": "code",
      "execution_count": 29,
      "metadata": {},
      "outputs": [],
      "source": [
        "# # Evaluation on test dataset for each round\n",
        "# client_acc = []\n",
        "# for client in selected_clients:\n",
        "#     cur_auc, test_loss = evaluate(\n",
        "#         sampled_clients_models[client], test_dataset, test_bs, device)\n",
        "#     client_acc.append(cur_auc)\n",
        "# print(f'Round Test, Test Loss: {test_loss:.4f}, Test Accuracy: {cur_auc:.2f}%')"
      ]
    },
    {
      "cell_type": "code",
      "execution_count": 30,
      "metadata": {},
      "outputs": [],
      "source": [
        "# client_acc"
      ]
    },
    {
      "cell_type": "code",
      "execution_count": 31,
      "metadata": {},
      "outputs": [],
      "source": [
        "# optimizer = SGD(\n",
        "#         net.parameters(), lr=learning_rate, momentum=momentum, weight_decay=weight_decay\n",
        "#     )"
      ]
    },
    {
      "cell_type": "code",
      "execution_count": 32,
      "metadata": {},
      "outputs": [],
      "source": [
        "trained_weights = global_model.state_dict()\n",
        "shapes = {key: tensor.shape for key, tensor in trained_weights.items()}\n",
        "sizes = {key: tensor.numel() for key, tensor in trained_weights.items()}\n",
        "\n",
        "clients_models = {i: ResNet9(in_channels=num_channels, num_classes=num_classes).to(device) for i in range(num_clients)}\n",
        "optimizers={}\n",
        "for key, model in clients_models.items():\n",
        "   optimizers[key] =  torch.optim.SGD(model.parameters(), lr=lr, momentum=0.9, weight_decay=0.00001)\n",
        "\n",
        "# torch.optim.Adam(model.parameters(), lr=lr)\n",
        "\n",
        "schedulers={}\n",
        "for key, optimizer in optimizers.items():\n",
        "   schedulers[key] =  torch.optim.lr_scheduler.MultiStepLR(optimizer, milestones=milestones, gamma=gamma)"
      ]
    },
    {
      "cell_type": "code",
      "execution_count": 33,
      "metadata": {},
      "outputs": [
        {
          "name": "stdout",
          "output_type": "stream",
          "text": [
            "Round Test, Test Loss: 2.3055, Test Accuracy: 10.00%\n"
          ]
        }
      ],
      "source": [
        "# Evaluation on test dataset for each round\n",
        "cur_auc, test_loss = evaluate(\n",
        "   global_model, test_dataset, test_bs, device)\n",
        "print(f'Round Test, Test Loss: {test_loss:.4f}, Test Accuracy: {cur_auc:.2f}%')"
      ]
    },
    {
      "cell_type": "code",
      "execution_count": 34,
      "metadata": {},
      "outputs": [
        {
          "name": "stdout",
          "output_type": "stream",
          "text": [
            "Round Test, Test Loss: 2.3015, Test Accuracy: 11.89%\n"
          ]
        }
      ],
      "source": [
        "# Evaluation on test dataset for each round\n",
        "cur_auc, test_loss = evaluate(\n",
        "    clients_models[0], test_dataset, test_bs, device)\n",
        "print(f'Round Test, Test Loss: {test_loss:.4f}, Test Accuracy: {cur_auc:.2f}%')"
      ]
    },
    {
      "cell_type": "code",
      "execution_count": 35,
      "metadata": {},
      "outputs": [],
      "source": [
        "for model in clients_models.values():\n",
        "  model.load_state_dict(global_model.state_dict())"
      ]
    },
    {
      "cell_type": "code",
      "execution_count": 36,
      "metadata": {},
      "outputs": [
        {
          "name": "stdout",
          "output_type": "stream",
          "text": [
            "Round Test, Test Loss: 2.3055, Test Accuracy: 10.00%\n"
          ]
        }
      ],
      "source": [
        "# Evaluation on test dataset for each round\n",
        "cur_auc, test_loss = evaluate(\n",
        "    clients_models[0], test_dataset, test_bs, device)\n",
        "print(f'Round Test, Test Loss: {test_loss:.4f}, Test Accuracy: {cur_auc:.2f}%')"
      ]
    },
    {
      "cell_type": "code",
      "execution_count": 37,
      "metadata": {},
      "outputs": [
        {
          "data": {
            "text/plain": [
              "[5706, 3277, 4563, 5459, 3269, 6510, 5116, 7334, 4135, 4631]"
            ]
          },
          "execution_count": 37,
          "metadata": {},
          "output_type": "execute_result"
        }
      ],
      "source": [
        "client_dataset_cnt = [len(v) for k, v in noniid_dataidx_map.items()]\n",
        "client_dataset_cnt"
      ]
    },
    {
      "cell_type": "code",
      "execution_count": 38,
      "metadata": {},
      "outputs": [
        {
          "data": {
            "text/plain": [
              "50000"
            ]
          },
          "execution_count": 38,
          "metadata": {},
          "output_type": "execute_result"
        }
      ],
      "source": [
        "np.sum(client_dataset_cnt)"
      ]
    },
    {
      "cell_type": "code",
      "execution_count": 39,
      "metadata": {},
      "outputs": [],
      "source": [
        "def flatten_resnet_parameters(state_dict):\n",
        "    \"\"\"\n",
        "    Flatten and concatenate all parameters from a state_dict into a single vector.\n",
        "    \"\"\"\n",
        "    flat_params = torch.cat([p.view(-1).float() for p in state_dict.values()])\n",
        "    return flat_params\n",
        "\n",
        "def reconstruct_parameters(flat_params, shapes, sizes, trained_weights):\n",
        "    \"\"\"\n",
        "    Reconstruct the original tensors from a flattened parameter tensor.\n",
        "    \n",
        "    :param flat_params: 1D tensor containing all weights concatenated\n",
        "    :param shapes: Dictionary of parameter names to their shapes\n",
        "    :param sizes: Dictionary of parameter names to their sizes (number of elements)\n",
        "    :param trained_weights: Original state_dict containing the data types\n",
        "    :return: OrderedDict of reconstructed tensors with their original shapes and types\n",
        "    \"\"\"\n",
        "    reconstructed_params = OrderedDict()\n",
        "    offset = 0\n",
        "    for key in shapes:\n",
        "        num_elements = sizes[key]\n",
        "        # Extract the relevant slice from the flattened tensor\n",
        "        param_slice = flat_params[offset:offset + num_elements]\n",
        "        # Reshape it according to the original shape and convert to the original data type\n",
        "        reconstructed_params[key] = param_slice.view(shapes[key])\n",
        "        offset += num_elements\n",
        "    return reconstructed_params"
      ]
    },
    {
      "cell_type": "code",
      "execution_count": 40,
      "metadata": {},
      "outputs": [],
      "source": [
        "def segment_resnet_parameters(flat_params, num_segments):\n",
        "    \"\"\"\n",
        "    Divide the flat parameters into equal segments, ensuring all elements are included.\n",
        "    \"\"\"\n",
        "    total_len = len(flat_params)\n",
        "    segment_size = total_len // num_segments\n",
        "    remainder = total_len % num_segments\n",
        "    \n",
        "    segments = []\n",
        "    start = 0\n",
        "    for i in range(num_segments):\n",
        "        # Calculate end point for the current segment\n",
        "        end = start + segment_size + (1 if i < remainder else 0)\n",
        "        segments.append(flat_params[start:end])\n",
        "        start = end\n",
        "\n",
        "    return segments\n"
      ]
    },
    {
      "cell_type": "code",
      "execution_count": 41,
      "metadata": {},
      "outputs": [],
      "source": [
        "from typing import Dict\n",
        "\n",
        "def preprocess_weights(weights: Dict, num_segments):\n",
        "    \"\"\"\n",
        "    Preprocess the weights of a model to prepare for federated learning.\n",
        "    \"\"\"\n",
        "    # Flatten the parameters\n",
        "    # flat_params = {}\n",
        "    # for item in weights:\n",
        "    #     flat_params[list(item.keys())[0]] = flatten_resnet_parameters(list(item.values())[0])\n",
        "    flat_params_n = {}\n",
        "    for key, value in weights.items():\n",
        "        flat_params_n[key] = flatten_resnet_parameters(value)\n",
        "\n",
        "    # Segment the parameters\n",
        "    segmented_params = {}\n",
        "    for key, flat_param in flat_params_n.items():\n",
        "        segmented_params[key] = segment_resnet_parameters(flat_param, num_segments)\n",
        "\n",
        "    return flat_params_n, segmented_params"
      ]
    },
    {
      "cell_type": "code",
      "execution_count": 42,
      "metadata": {},
      "outputs": [],
      "source": [
        "def extract_shared_segments(clients_dict, client_shared_segments):\n",
        "    \"\"\"\n",
        "    Extract segments from each client's data based on the segments they are supposed to share.\n",
        "    \n",
        "    :param clients_dict: Dictionary containing each client's data.\n",
        "    :param client_shared_segments: Dictionary indicating which segments each client should share.\n",
        "    :return: A dictionary with client IDs as keys and the segments they are sharing as values.\n",
        "    \"\"\"\n",
        "    shared_data = {}\n",
        "    for client_id, segment_id in client_shared_segments.items():\n",
        "        # Initialize dictionary to hold shared segments for the current client\n",
        "        shared_data[client_id] = {}\n",
        "        # Loop through the list of segment IDs this client should share\n",
        "        # for segment_id in segments:\n",
        "        shared_data[client_id][segment_id] = clients_dict[client_id][segment_id]\n",
        "    return shared_data"
      ]
    },
    {
      "cell_type": "code",
      "execution_count": 43,
      "metadata": {},
      "outputs": [],
      "source": [
        "def reconstruct_parameters(flat_params, shapes, sizes, trained_weights):\n",
        "    \"\"\"\n",
        "    Reconstruct the original tensors from a flattened parameter tensor.\n",
        "    \n",
        "    :param flat_params: 1D tensor containing all weights concatenated\n",
        "    :param shapes: Dictionary of parameter names to their shapes\n",
        "    :param sizes: Dictionary of parameter names to their sizes (number of elements)\n",
        "    :param trained_weights: Original state_dict containing the data types\n",
        "    :return: OrderedDict of reconstructed tensors with their original shapes and types\n",
        "    \"\"\"\n",
        "    reconstructed_params = OrderedDict()\n",
        "    offset = 0\n",
        "    for key in shapes:\n",
        "        num_elements = sizes[key]\n",
        "        # Extract the relevant slice from the flattened tensor\n",
        "        param_slice = flat_params[offset:offset + num_elements]\n",
        "        # Reshape it according to the original shape and convert to the original data type\n",
        "        reconstructed_params[key] = param_slice.view(shapes[key]).to(trained_weights[key].dtype)\n",
        "        offset += num_elements\n",
        "    return reconstructed_params"
      ]
    },
    {
      "cell_type": "code",
      "execution_count": 44,
      "metadata": {},
      "outputs": [],
      "source": [
        "def aggregate_data_by_key(shared_data):\n",
        "    \"\"\"\n",
        "    Aggregate data received from clients by key.\n",
        "    \n",
        "    :param shared_data: Dictionary with client IDs as keys and their shared segments as values.\n",
        "    :return: A dictionary with aggregated data per segment.\n",
        "    \"\"\"\n",
        "    aggregation = {}\n",
        "    count = {}\n",
        "\n",
        "    # Simulate the aggregation process based on keys\n",
        "    for client_data in shared_data.values():\n",
        "        for key, values in client_data.items():\n",
        "            if key in aggregation:\n",
        "                # Perform element-wise addition directly on tensors\n",
        "                aggregation[key] += values\n",
        "                count[key] += 1\n",
        "            else:\n",
        "                # Initialize the aggregation for new keys\n",
        "                aggregation[key] = values.clone()  \n",
        "                count[key] = 1\n",
        "\n",
        "    # Divide each aggregated tensor by its respective count to get the mean\n",
        "    for key in aggregation.keys():\n",
        "        aggregation[key] = aggregation[key] / count[key]\n",
        "\n",
        "    return aggregation"
      ]
    },
    {
      "cell_type": "code",
      "execution_count": 45,
      "metadata": {},
      "outputs": [],
      "source": [
        "def weighted_aggregation(shared_data, num_examples):\n",
        "    \"\"\"\n",
        "    Aggregate data received from clients by key.\n",
        "    \n",
        "    :param shared_data: Dictionary with client IDs as keys and their shared segments as values.\n",
        "    :return: A dictionary with aggregated data per segment.\n",
        "    \"\"\"\n",
        "    aggregation = {}\n",
        "    # Initialize an empty tensor for the weighted sum\n",
        "    weighted_sum = torch.zeros_like(next(iter(next(iter(shared_data.values())).values())))\n",
        "    # Total number of examples\n",
        "    total_examples = sum(num_examples)\n",
        "\n",
        "    # Multiply each segment by its corresponding client dataset count and sum them up\n",
        "    for client_id, value in shared_data.items():\n",
        "        for seg_id, tensor in value.items():\n",
        "            weighted_sum += tensor * num_examples[client_id]\n",
        "\n",
        "    # Calculate the weighted average\n",
        "    weighted_average = weighted_sum / total_examples\n",
        "    aggregation = {}\n",
        "    #  Update the shared_data dictionary with the weighted average\n",
        "    for client_id in shared_data.keys():\n",
        "        for seg_id in shared_data[client_id].keys():\n",
        "            aggregation[seg_id] = weighted_average\n",
        "\n",
        "    return aggregation"
      ]
    },
    {
      "cell_type": "code",
      "execution_count": 46,
      "metadata": {},
      "outputs": [],
      "source": [
        "def handle_partial_updates(client_weights: List[Dict], num_segments, client_segment_map):\n",
        "    \"\"\"\n",
        "    Handle partial updates from clients by averaging the weights.\n",
        "    \"\"\"\n",
        "    # Preprocess the weights\n",
        "    flat_params, segmented_params = preprocess_weights(client_weights, num_segments)\n",
        "    # Extract the shared segments\n",
        "    segments_to_send = extract_shared_segments(segmented_params, client_segment_map)\n",
        "    # Aggregate the shared segments\n",
        "    aggregated_segments = weighted_aggregation(segments_to_send, client_dataset_cnt)\n",
        "    \n",
        "    # Reconstruct the global modelE\n",
        "    # Now here aggregated segments will have only one segment, 0, 1 or 2\n",
        "    # hence we can only focus on those params.\n",
        "    # \n",
        "\n",
        "    # params = torch.cat([aggregated_segments[0], aggregated_segments[1], aggregated_segments[2]], dim=0)\n",
        "    #params = torch.cat([aggregated_segments[0], aggregated_segments[1]], dim=0)\n",
        "    # Reconstruct the parameters\n",
        "    # reconstructed_params = reconstruct_parameters(params, shapes, sizes, trained_weights)\n",
        "\n",
        "    # Check if both dictionaries have the same set of keys\n",
        "    # assert set(reconstructed_params.keys()) == set(trained_weights.keys()), \"Parameter keys do not match.\"\n",
        "    \n",
        "    return segmented_params, aggregated_segments"
      ]
    },
    {
      "cell_type": "code",
      "execution_count": 47,
      "metadata": {},
      "outputs": [],
      "source": [
        "def update_client_models(clients_segmented_params, aggregated_segments, client_segment_map):\n",
        "    \"\"\"\n",
        "    Update client models with aggregated segments and average unshared segments.\n",
        "    \"\"\"\n",
        "    # Initialize the updated parameters dictionary\n",
        "    updated_params = {}\n",
        "\n",
        "    # Iterate through each client's parameters\n",
        "    for client_id, segments in clients_segmented_params.items():\n",
        "        updated_segments = []\n",
        "        # Determine which segment this client shared\n",
        "        shared_segment_index = client_segment_map[client_id]\n",
        "        \n",
        "        # Iterate over all segments\n",
        "        for i, segment_data in enumerate(segments):\n",
        "            if i == shared_segment_index:\n",
        "                # Directly use the aggregated segment for the shared index\n",
        "                updated_segments.append(aggregated_segments[shared_segment_index])\n",
        "            else:\n",
        "                # Average the unshared segment with the corresponding aggregated segment\n",
        "                updated_segments.append(segment_data)\n",
        "\n",
        "        # Store the updated segments for this client\n",
        "        updated_params[client_id] = updated_segments\n",
        "    updated_client_segments = {}\n",
        "    for client_id, segments in updated_params.items():\n",
        "        updated_client_segments[client_id] = torch.cat(segments)\n",
        "\n",
        "    return updated_client_segments"
      ]
    },
    {
      "cell_type": "code",
      "execution_count": 48,
      "metadata": {
        "colab": {
          "base_uri": "https://localhost:8080/"
        },
        "id": "OKcIqAX-cDBe",
        "outputId": "430da6c5-5b94-4d56-b7de-ffbc0f17c9b8"
      },
      "outputs": [
        {
          "name": "stdout",
          "output_type": "stream",
          "text": [
            "{6: 0, 9: 0, 5: 0, 1: 0, 2: 0, 8: 0, 0: 0, 3: 0, 4: 0, 7: 0}\n"
          ]
        },
        {
          "name": "stderr",
          "output_type": "stream",
          "text": [
            "100%|██████████| 10/10 [00:31<00:00,  3.13s/it]\n",
            "100%|██████████| 10/10 [00:25<00:00,  2.51s/it]\n",
            "100%|██████████| 10/10 [00:35<00:00,  3.52s/it]\n",
            "100%|██████████| 10/10 [00:17<00:00,  1.79s/it]\n",
            "100%|██████████| 10/10 [00:24<00:00,  2.48s/it]\n",
            "100%|██████████| 10/10 [00:22<00:00,  2.23s/it]\n",
            "100%|██████████| 10/10 [00:31<00:00,  3.17s/it]\n",
            "100%|██████████| 10/10 [00:30<00:00,  3.01s/it]\n",
            "100%|██████████| 10/10 [00:17<00:00,  1.77s/it]\n",
            "100%|██████████| 10/10 [00:40<00:00,  4.05s/it]\n"
          ]
        },
        {
          "name": "stdout",
          "output_type": "stream",
          "text": [
            "Round 1, Train loss: 1.3844, Test Loss: 2.2456, Test Accuracy: 17.29%\n",
            "{8: 1, 9: 1, 7: 1, 0: 1, 4: 1, 6: 1, 1: 1, 3: 1, 5: 1, 2: 1}\n"
          ]
        },
        {
          "name": "stderr",
          "output_type": "stream",
          "text": [
            "100%|██████████| 10/10 [00:22<00:00,  2.28s/it]\n",
            "100%|██████████| 10/10 [00:25<00:00,  2.56s/it]\n",
            "100%|██████████| 10/10 [00:40<00:00,  4.06s/it]\n",
            "100%|██████████| 10/10 [00:31<00:00,  3.11s/it]\n",
            "100%|██████████| 10/10 [00:17<00:00,  1.76s/it]\n",
            "100%|██████████| 10/10 [00:27<00:00,  2.77s/it]\n",
            "100%|██████████| 10/10 [00:17<00:00,  1.78s/it]\n",
            "100%|██████████| 10/10 [00:29<00:00,  2.95s/it]\n",
            "100%|██████████| 10/10 [00:35<00:00,  3.53s/it]\n",
            "100%|██████████| 10/10 [00:25<00:00,  2.54s/it]\n"
          ]
        },
        {
          "name": "stdout",
          "output_type": "stream",
          "text": [
            "Round 2, Train loss: 0.9830, Test Loss: 2.2977, Test Accuracy: 11.07%\n",
            "{7: 2, 8: 2, 9: 2, 2: 2, 3: 2, 0: 2, 6: 2, 4: 2, 5: 2, 1: 2}\n"
          ]
        },
        {
          "name": "stderr",
          "output_type": "stream",
          "text": [
            "100%|██████████| 10/10 [00:40<00:00,  4.06s/it]\n",
            "100%|██████████| 10/10 [00:22<00:00,  2.29s/it]\n",
            "100%|██████████| 10/10 [00:25<00:00,  2.55s/it]\n",
            "100%|██████████| 10/10 [00:25<00:00,  2.51s/it]\n",
            "100%|██████████| 10/10 [00:29<00:00,  2.96s/it]\n",
            "100%|██████████| 10/10 [00:31<00:00,  3.12s/it]\n",
            "100%|██████████| 10/10 [00:28<00:00,  2.84s/it]\n",
            "100%|██████████| 10/10 [00:17<00:00,  1.80s/it]\n",
            "100%|██████████| 10/10 [00:42<00:00,  4.23s/it]\n",
            "100%|██████████| 10/10 [00:20<00:00,  2.09s/it]\n"
          ]
        },
        {
          "name": "stdout",
          "output_type": "stream",
          "text": [
            "Round 3, Train loss: 0.6892, Test Loss: 2.2927, Test Accuracy: 11.48%\n",
            "{2: 3, 3: 3, 6: 3, 1: 3, 8: 3, 0: 3, 9: 3, 5: 3, 4: 3, 7: 3}\n"
          ]
        },
        {
          "name": "stderr",
          "output_type": "stream",
          "text": [
            "100%|██████████| 10/10 [00:26<00:00,  2.61s/it]\n",
            "100%|██████████| 10/10 [00:30<00:00,  3.02s/it]\n",
            "100%|██████████| 10/10 [00:27<00:00,  2.80s/it]\n",
            "100%|██████████| 10/10 [00:18<00:00,  1.80s/it]\n",
            "100%|██████████| 10/10 [00:22<00:00,  2.26s/it]\n",
            "100%|██████████| 10/10 [00:31<00:00,  3.18s/it]\n",
            "100%|██████████| 10/10 [00:25<00:00,  2.57s/it]\n",
            "100%|██████████| 10/10 [00:36<00:00,  3.62s/it]\n",
            "100%|██████████| 10/10 [00:18<00:00,  1.83s/it]\n",
            "100%|██████████| 10/10 [00:41<00:00,  4.13s/it]\n"
          ]
        },
        {
          "name": "stdout",
          "output_type": "stream",
          "text": [
            "Round 4, Train loss: 0.4970, Test Loss: 2.3006, Test Accuracy: 14.83%\n",
            "{9: 4, 6: 4, 2: 4, 0: 4, 3: 4, 4: 4, 1: 4, 8: 4, 5: 4, 7: 4}\n"
          ]
        },
        {
          "name": "stderr",
          "output_type": "stream",
          "text": [
            "100%|██████████| 10/10 [00:25<00:00,  2.59s/it]\n",
            "100%|██████████| 10/10 [00:28<00:00,  2.86s/it]\n",
            "100%|██████████| 10/10 [00:25<00:00,  2.58s/it]\n",
            "100%|██████████| 10/10 [00:32<00:00,  3.25s/it]\n",
            "100%|██████████| 10/10 [00:30<00:00,  3.10s/it]\n",
            "100%|██████████| 10/10 [00:18<00:00,  1.84s/it]\n",
            "100%|██████████| 10/10 [00:18<00:00,  1.84s/it]\n",
            "100%|██████████| 10/10 [00:23<00:00,  2.33s/it]\n",
            "100%|██████████| 10/10 [00:36<00:00,  3.67s/it]\n",
            "100%|██████████| 10/10 [00:41<00:00,  4.13s/it]\n"
          ]
        },
        {
          "name": "stdout",
          "output_type": "stream",
          "text": [
            "Round 5, Train loss: 0.3886, Test Loss: 2.6268, Test Accuracy: 10.87%\n",
            "{7: 0, 1: 0, 6: 0, 2: 0, 0: 0, 8: 0, 9: 0, 4: 0, 3: 0, 5: 0}\n"
          ]
        },
        {
          "name": "stderr",
          "output_type": "stream",
          "text": [
            "100%|██████████| 10/10 [00:40<00:00,  4.09s/it]\n",
            "100%|██████████| 10/10 [00:18<00:00,  1.84s/it]\n",
            "100%|██████████| 10/10 [00:28<00:00,  2.84s/it]\n",
            "100%|██████████| 10/10 [00:25<00:00,  2.53s/it]\n",
            "100%|██████████| 10/10 [00:31<00:00,  3.14s/it]\n",
            "100%|██████████| 10/10 [00:22<00:00,  2.26s/it]\n",
            "100%|██████████| 10/10 [00:25<00:00,  2.52s/it]\n",
            "100%|██████████| 10/10 [00:17<00:00,  1.79s/it]\n",
            "100%|██████████| 10/10 [00:30<00:00,  3.03s/it]\n",
            "100%|██████████| 10/10 [00:36<00:00,  3.61s/it]\n"
          ]
        },
        {
          "name": "stdout",
          "output_type": "stream",
          "text": [
            "Round 6, Train loss: 0.3181, Test Loss: 2.1509, Test Accuracy: 19.16%\n",
            "{0: 1, 8: 1, 1: 1, 2: 1, 7: 1, 4: 1, 5: 1, 3: 1, 9: 1, 6: 1}\n"
          ]
        },
        {
          "name": "stderr",
          "output_type": "stream",
          "text": [
            "100%|██████████| 10/10 [00:31<00:00,  3.15s/it]\n",
            "100%|██████████| 10/10 [00:22<00:00,  2.29s/it]\n",
            "100%|██████████| 10/10 [00:18<00:00,  1.82s/it]\n",
            "100%|██████████| 10/10 [00:25<00:00,  2.51s/it]\n",
            "100%|██████████| 10/10 [00:40<00:00,  4.06s/it]\n",
            "100%|██████████| 10/10 [00:18<00:00,  1.80s/it]\n",
            "100%|██████████| 10/10 [00:36<00:00,  3.62s/it]\n",
            "100%|██████████| 10/10 [00:30<00:00,  3.01s/it]\n",
            "100%|██████████| 10/10 [00:25<00:00,  2.55s/it]\n",
            "100%|██████████| 10/10 [00:28<00:00,  2.83s/it]\n"
          ]
        },
        {
          "name": "stdout",
          "output_type": "stream",
          "text": [
            "Round 7, Train loss: 0.4860, Test Loss: 2.1788, Test Accuracy: 17.98%\n",
            "{5: 2, 8: 2, 9: 2, 2: 2, 0: 2, 3: 2, 1: 2, 4: 2, 7: 2, 6: 2}\n"
          ]
        },
        {
          "name": "stderr",
          "output_type": "stream",
          "text": [
            "100%|██████████| 10/10 [00:35<00:00,  3.60s/it]\n",
            "100%|██████████| 10/10 [00:25<00:00,  2.52s/it]\n",
            "100%|██████████| 10/10 [00:28<00:00,  2.89s/it]\n",
            "100%|██████████| 10/10 [00:29<00:00,  2.96s/it]\n",
            "100%|██████████| 10/10 [00:37<00:00,  3.71s/it]\n",
            "100%|██████████| 10/10 [00:32<00:00,  3.30s/it]\n",
            "100%|██████████| 10/10 [00:18<00:00,  1.83s/it]\n",
            "100%|██████████| 10/10 [00:18<00:00,  1.85s/it]\n",
            "100%|██████████| 10/10 [00:41<00:00,  4.12s/it]\n",
            "100%|██████████| 10/10 [00:28<00:00,  2.83s/it]\n"
          ]
        },
        {
          "name": "stdout",
          "output_type": "stream",
          "text": [
            "Round 8, Train loss: 0.3348, Test Loss: 2.1814, Test Accuracy: 17.80%\n",
            "{7: 3, 9: 3, 5: 3, 8: 3, 6: 3, 0: 3, 4: 3, 1: 3, 3: 3, 2: 3}\n"
          ]
        },
        {
          "name": "stderr",
          "output_type": "stream",
          "text": [
            "100%|██████████| 10/10 [00:40<00:00,  4.08s/it]\n",
            "100%|██████████| 10/10 [00:25<00:00,  2.57s/it]\n",
            "100%|██████████| 10/10 [00:35<00:00,  3.59s/it]\n",
            "100%|██████████| 10/10 [00:22<00:00,  2.28s/it]\n",
            "100%|██████████| 10/10 [00:28<00:00,  2.83s/it]\n",
            "100%|██████████| 10/10 [00:31<00:00,  3.15s/it]\n",
            "100%|██████████| 10/10 [00:18<00:00,  1.81s/it]\n",
            "100%|██████████| 10/10 [00:18<00:00,  1.81s/it]\n",
            "100%|██████████| 10/10 [00:30<00:00,  3.01s/it]\n",
            "100%|██████████| 10/10 [00:25<00:00,  2.51s/it]\n"
          ]
        },
        {
          "name": "stdout",
          "output_type": "stream",
          "text": [
            "Round 9, Train loss: 0.2276, Test Loss: 2.1583, Test Accuracy: 18.93%\n",
            "{1: 4, 0: 4, 8: 4, 6: 4, 3: 4, 2: 4, 9: 4, 7: 4, 4: 4, 5: 4}\n"
          ]
        },
        {
          "name": "stderr",
          "output_type": "stream",
          "text": [
            "100%|██████████| 10/10 [00:18<00:00,  1.81s/it]\n",
            "100%|██████████| 10/10 [00:31<00:00,  3.18s/it]\n",
            "100%|██████████| 10/10 [00:22<00:00,  2.30s/it]\n",
            "100%|██████████| 10/10 [00:28<00:00,  2.84s/it]\n",
            "100%|██████████| 10/10 [00:30<00:00,  3.02s/it]\n",
            "100%|██████████| 10/10 [00:26<00:00,  2.60s/it]\n",
            "100%|██████████| 10/10 [00:29<00:00,  2.92s/it]\n",
            "100%|██████████| 10/10 [00:46<00:00,  4.61s/it]\n",
            "100%|██████████| 10/10 [00:19<00:00,  1.97s/it]\n",
            "100%|██████████| 10/10 [00:38<00:00,  3.81s/it]\n"
          ]
        },
        {
          "name": "stdout",
          "output_type": "stream",
          "text": [
            "Round 10, Train loss: 0.1653, Test Loss: 1.9469, Test Accuracy: 26.32%\n",
            "{5: 0, 6: 0, 4: 0, 0: 0, 8: 0, 3: 0, 7: 0, 1: 0, 9: 0, 2: 0}\n"
          ]
        },
        {
          "name": "stderr",
          "output_type": "stream",
          "text": [
            "100%|██████████| 10/10 [00:36<00:00,  3.63s/it]\n",
            "100%|██████████| 10/10 [00:28<00:00,  2.88s/it]\n",
            "100%|██████████| 10/10 [00:18<00:00,  1.83s/it]\n",
            "100%|██████████| 10/10 [00:31<00:00,  3.18s/it]\n",
            "100%|██████████| 10/10 [00:23<00:00,  2.31s/it]\n",
            "100%|██████████| 10/10 [00:30<00:00,  3.05s/it]\n",
            "100%|██████████| 10/10 [00:40<00:00,  4.10s/it]\n",
            "100%|██████████| 10/10 [00:18<00:00,  1.82s/it]\n",
            "100%|██████████| 10/10 [00:25<00:00,  2.59s/it]\n",
            "100%|██████████| 10/10 [00:26<00:00,  2.65s/it]\n"
          ]
        },
        {
          "name": "stdout",
          "output_type": "stream",
          "text": [
            "Round 11, Train loss: 0.1321, Test Loss: 1.4282, Test Accuracy: 49.58%\n",
            "{8: 1, 0: 1, 7: 1, 3: 1, 2: 1, 9: 1, 4: 1, 1: 1, 6: 1, 5: 1}\n"
          ]
        },
        {
          "name": "stderr",
          "output_type": "stream",
          "text": [
            "100%|██████████| 10/10 [00:25<00:00,  2.52s/it]\n",
            "100%|██████████| 10/10 [00:31<00:00,  3.20s/it]\n",
            "100%|██████████| 10/10 [00:40<00:00,  4.09s/it]\n",
            "100%|██████████| 10/10 [00:30<00:00,  3.02s/it]\n",
            "100%|██████████| 10/10 [00:25<00:00,  2.57s/it]\n",
            "100%|██████████| 10/10 [00:25<00:00,  2.57s/it]\n",
            "100%|██████████| 10/10 [00:17<00:00,  1.80s/it]\n",
            "100%|██████████| 10/10 [00:17<00:00,  1.80s/it]\n",
            "100%|██████████| 10/10 [00:28<00:00,  2.84s/it]\n",
            "100%|██████████| 10/10 [00:36<00:00,  3.63s/it]\n"
          ]
        },
        {
          "name": "stdout",
          "output_type": "stream",
          "text": [
            "Round 12, Train loss: 0.2737, Test Loss: 1.3724, Test Accuracy: 51.64%\n",
            "{7: 2, 6: 2, 0: 2, 2: 2, 5: 2, 4: 2, 9: 2, 1: 2, 3: 2, 8: 2}\n"
          ]
        },
        {
          "name": "stderr",
          "output_type": "stream",
          "text": [
            "100%|██████████| 10/10 [00:41<00:00,  4.13s/it]\n",
            "100%|██████████| 10/10 [00:28<00:00,  2.87s/it]\n",
            "100%|██████████| 10/10 [00:32<00:00,  3.21s/it]\n",
            "100%|██████████| 10/10 [00:25<00:00,  2.57s/it]\n",
            "100%|██████████| 10/10 [00:36<00:00,  3.64s/it]\n",
            "100%|██████████| 10/10 [00:18<00:00,  1.84s/it]\n",
            "100%|██████████| 10/10 [00:26<00:00,  2.62s/it]\n",
            "100%|██████████| 10/10 [00:18<00:00,  1.84s/it]\n",
            "100%|██████████| 10/10 [00:30<00:00,  3.05s/it]\n",
            "100%|██████████| 10/10 [00:23<00:00,  2.32s/it]\n"
          ]
        },
        {
          "name": "stdout",
          "output_type": "stream",
          "text": [
            "Round 13, Train loss: 0.1818, Test Loss: 1.3543, Test Accuracy: 51.67%\n",
            "{4: 3, 6: 3, 0: 3, 2: 3, 3: 3, 5: 3, 8: 3, 9: 3, 7: 3, 1: 3}\n"
          ]
        },
        {
          "name": "stderr",
          "output_type": "stream",
          "text": [
            "100%|██████████| 10/10 [00:18<00:00,  1.84s/it]\n",
            "100%|██████████| 10/10 [00:28<00:00,  2.87s/it]\n",
            "100%|██████████| 10/10 [00:31<00:00,  3.17s/it]\n",
            "100%|██████████| 10/10 [00:25<00:00,  2.52s/it]\n",
            "100%|██████████| 10/10 [00:29<00:00,  3.00s/it]\n",
            "100%|██████████| 10/10 [00:35<00:00,  3.58s/it]\n",
            "100%|██████████| 10/10 [00:22<00:00,  2.30s/it]\n",
            "100%|██████████| 10/10 [00:25<00:00,  2.55s/it]\n",
            "100%|██████████| 10/10 [00:40<00:00,  4.06s/it]\n",
            "100%|██████████| 10/10 [00:18<00:00,  1.83s/it]\n"
          ]
        },
        {
          "name": "stdout",
          "output_type": "stream",
          "text": [
            "Round 14, Train loss: 0.1242, Test Loss: 1.2719, Test Accuracy: 54.84%\n",
            "{2: 4, 0: 4, 3: 4, 7: 4, 4: 4, 5: 4, 6: 4, 8: 4, 1: 4, 9: 4}\n"
          ]
        },
        {
          "name": "stderr",
          "output_type": "stream",
          "text": [
            "100%|██████████| 10/10 [00:25<00:00,  2.53s/it]\n",
            "100%|██████████| 10/10 [00:31<00:00,  3.15s/it]\n",
            "100%|██████████| 10/10 [00:29<00:00,  3.00s/it]\n",
            "100%|██████████| 10/10 [00:40<00:00,  4.07s/it]\n",
            "100%|██████████| 10/10 [00:18<00:00,  1.81s/it]\n",
            "100%|██████████| 10/10 [00:36<00:00,  3.65s/it]\n",
            "100%|██████████| 10/10 [00:28<00:00,  2.89s/it]\n",
            "100%|██████████| 10/10 [00:23<00:00,  2.31s/it]\n",
            "100%|██████████| 10/10 [00:18<00:00,  1.82s/it]\n",
            "100%|██████████| 10/10 [00:26<00:00,  2.61s/it]\n"
          ]
        },
        {
          "name": "stdout",
          "output_type": "stream",
          "text": [
            "Round 15, Train loss: 0.0846, Test Loss: 1.1388, Test Accuracy: 59.70%\n",
            "{2: 0, 7: 0, 0: 0, 1: 0, 4: 0, 3: 0, 5: 0, 8: 0, 6: 0, 9: 0}\n"
          ]
        },
        {
          "name": "stderr",
          "output_type": "stream",
          "text": [
            "100%|██████████| 10/10 [00:25<00:00,  2.55s/it]\n",
            "100%|██████████| 10/10 [00:40<00:00,  4.06s/it]\n",
            "100%|██████████| 10/10 [00:32<00:00,  3.20s/it]\n",
            "100%|██████████| 10/10 [00:18<00:00,  1.85s/it]\n",
            "100%|██████████| 10/10 [00:18<00:00,  1.83s/it]\n",
            "100%|██████████| 10/10 [00:30<00:00,  3.06s/it]\n",
            "100%|██████████| 10/10 [00:36<00:00,  3.67s/it]\n",
            "100%|██████████| 10/10 [00:23<00:00,  2.34s/it]\n",
            "100%|██████████| 10/10 [00:28<00:00,  2.89s/it]\n",
            "100%|██████████| 10/10 [00:26<00:00,  2.60s/it]\n"
          ]
        },
        {
          "name": "stdout",
          "output_type": "stream",
          "text": [
            "Round 16, Train loss: 0.0723, Test Loss: 0.9599, Test Accuracy: 68.03%\n",
            "{0: 1, 8: 1, 4: 1, 2: 1, 3: 1, 5: 1, 6: 1, 9: 1, 1: 1, 7: 1}\n"
          ]
        },
        {
          "name": "stderr",
          "output_type": "stream",
          "text": [
            "100%|██████████| 10/10 [00:31<00:00,  3.15s/it]\n",
            "100%|██████████| 10/10 [00:23<00:00,  2.30s/it]\n",
            "100%|██████████| 10/10 [00:18<00:00,  1.83s/it]\n",
            "100%|██████████| 10/10 [00:25<00:00,  2.56s/it]\n",
            "100%|██████████| 10/10 [00:30<00:00,  3.05s/it]\n",
            "100%|██████████| 10/10 [00:36<00:00,  3.64s/it]\n",
            "100%|██████████| 10/10 [00:28<00:00,  2.87s/it]\n",
            "100%|██████████| 10/10 [00:26<00:00,  2.64s/it]\n",
            "100%|██████████| 10/10 [00:18<00:00,  1.82s/it]\n",
            "100%|██████████| 10/10 [00:41<00:00,  4.11s/it]\n"
          ]
        },
        {
          "name": "stdout",
          "output_type": "stream",
          "text": [
            "Round 17, Train loss: 0.1694, Test Loss: 0.8561, Test Accuracy: 72.62%\n",
            "{0: 2, 5: 2, 9: 2, 4: 2, 6: 2, 8: 2, 3: 2, 1: 2, 7: 2, 2: 2}\n"
          ]
        },
        {
          "name": "stderr",
          "output_type": "stream",
          "text": [
            "100%|██████████| 10/10 [00:32<00:00,  3.22s/it]\n",
            "100%|██████████| 10/10 [00:36<00:00,  3.65s/it]\n",
            "100%|██████████| 10/10 [00:26<00:00,  2.64s/it]\n",
            "100%|██████████| 10/10 [00:18<00:00,  1.82s/it]\n",
            "100%|██████████| 10/10 [00:28<00:00,  2.84s/it]\n",
            "100%|██████████| 10/10 [00:22<00:00,  2.30s/it]\n",
            "100%|██████████| 10/10 [00:30<00:00,  3.03s/it]\n",
            "100%|██████████| 10/10 [00:18<00:00,  1.84s/it]\n",
            "100%|██████████| 10/10 [00:40<00:00,  4.04s/it]\n",
            "100%|██████████| 10/10 [00:25<00:00,  2.53s/it]\n"
          ]
        },
        {
          "name": "stdout",
          "output_type": "stream",
          "text": [
            "Round 18, Train loss: 0.1060, Test Loss: 0.7987, Test Accuracy: 73.62%\n",
            "{8: 3, 3: 3, 4: 3, 2: 3, 0: 3, 5: 3, 1: 3, 9: 3, 6: 3, 7: 3}\n"
          ]
        },
        {
          "name": "stderr",
          "output_type": "stream",
          "text": [
            "100%|██████████| 10/10 [00:22<00:00,  2.30s/it]\n",
            "100%|██████████| 10/10 [00:30<00:00,  3.04s/it]\n",
            "100%|██████████| 10/10 [00:18<00:00,  1.85s/it]\n",
            "100%|██████████| 10/10 [00:25<00:00,  2.57s/it]\n",
            "100%|██████████| 10/10 [00:32<00:00,  3.22s/it]\n",
            "100%|██████████| 10/10 [00:36<00:00,  3.64s/it]\n",
            "100%|██████████| 10/10 [00:18<00:00,  1.84s/it]\n",
            "100%|██████████| 10/10 [00:25<00:00,  2.57s/it]\n",
            "100%|██████████| 10/10 [00:28<00:00,  2.87s/it]\n",
            "100%|██████████| 10/10 [00:41<00:00,  4.13s/it]\n"
          ]
        },
        {
          "name": "stdout",
          "output_type": "stream",
          "text": [
            "Round 19, Train loss: 0.0741, Test Loss: 0.8564, Test Accuracy: 74.48%\n",
            "{9: 4, 2: 4, 7: 4, 0: 4, 1: 4, 8: 4, 6: 4, 4: 4, 5: 4, 3: 4}\n"
          ]
        },
        {
          "name": "stderr",
          "output_type": "stream",
          "text": [
            "100%|██████████| 10/10 [00:25<00:00,  2.59s/it]\n",
            "100%|██████████| 10/10 [00:25<00:00,  2.57s/it]\n",
            "100%|██████████| 10/10 [00:41<00:00,  4.12s/it]\n",
            "100%|██████████| 10/10 [00:32<00:00,  3.22s/it]\n",
            "100%|██████████| 10/10 [00:20<00:00,  2.00s/it]\n",
            "100%|██████████| 10/10 [00:28<00:00,  2.89s/it]\n",
            "100%|██████████| 10/10 [00:32<00:00,  3.28s/it]\n",
            "100%|██████████| 10/10 [00:18<00:00,  1.82s/it]\n",
            "100%|██████████| 10/10 [00:35<00:00,  3.60s/it]\n",
            "100%|██████████| 10/10 [00:29<00:00,  2.99s/it]\n"
          ]
        },
        {
          "name": "stdout",
          "output_type": "stream",
          "text": [
            "Round 20, Train loss: 0.0540, Test Loss: 0.7922, Test Accuracy: 77.55%\n",
            "{2: 0, 0: 0, 6: 0, 1: 0, 9: 0, 3: 0, 7: 0, 5: 0, 4: 0, 8: 0}\n"
          ]
        },
        {
          "name": "stderr",
          "output_type": "stream",
          "text": [
            "100%|██████████| 10/10 [00:25<00:00,  2.54s/it]\n",
            "100%|██████████| 10/10 [00:31<00:00,  3.12s/it]\n",
            "100%|██████████| 10/10 [00:28<00:00,  2.85s/it]\n",
            "100%|██████████| 10/10 [00:17<00:00,  1.78s/it]\n",
            "100%|██████████| 10/10 [00:25<00:00,  2.55s/it]\n",
            "100%|██████████| 10/10 [00:30<00:00,  3.08s/it]\n",
            "100%|██████████| 10/10 [00:45<00:00,  4.59s/it]\n",
            "100%|██████████| 10/10 [00:39<00:00,  3.92s/it]\n",
            "100%|██████████| 10/10 [00:18<00:00,  1.82s/it]\n",
            "100%|██████████| 10/10 [00:23<00:00,  2.31s/it]\n"
          ]
        },
        {
          "name": "stdout",
          "output_type": "stream",
          "text": [
            "Round 21, Train loss: 0.0469, Test Loss: 0.6667, Test Accuracy: 79.86%\n",
            "{0: 1, 5: 1, 6: 1, 2: 1, 7: 1, 8: 1, 9: 1, 1: 1, 4: 1, 3: 1}\n"
          ]
        },
        {
          "name": "stderr",
          "output_type": "stream",
          "text": [
            "100%|██████████| 10/10 [00:31<00:00,  3.19s/it]\n",
            "100%|██████████| 10/10 [00:36<00:00,  3.62s/it]\n",
            "100%|██████████| 10/10 [00:27<00:00,  2.78s/it]\n",
            "100%|██████████| 10/10 [00:25<00:00,  2.52s/it]\n",
            "100%|██████████| 10/10 [00:40<00:00,  4.10s/it]\n",
            "100%|██████████| 10/10 [00:23<00:00,  2.31s/it]\n",
            "100%|██████████| 10/10 [00:26<00:00,  2.60s/it]\n",
            "100%|██████████| 10/10 [00:18<00:00,  1.84s/it]\n",
            "100%|██████████| 10/10 [00:18<00:00,  1.83s/it]\n",
            "100%|██████████| 10/10 [00:30<00:00,  3.05s/it]\n"
          ]
        },
        {
          "name": "stdout",
          "output_type": "stream",
          "text": [
            "Round 22, Train loss: 0.1169, Test Loss: 0.5355, Test Accuracy: 82.51%\n",
            "{8: 2, 6: 2, 5: 2, 0: 2, 2: 2, 9: 2, 3: 2, 4: 2, 7: 2, 1: 2}\n"
          ]
        },
        {
          "name": "stderr",
          "output_type": "stream",
          "text": [
            "100%|██████████| 10/10 [00:22<00:00,  2.30s/it]\n",
            "100%|██████████| 10/10 [00:27<00:00,  2.78s/it]\n",
            "100%|██████████| 10/10 [00:35<00:00,  3.53s/it]\n",
            "100%|██████████| 10/10 [00:32<00:00,  3.28s/it]\n",
            "100%|██████████| 10/10 [00:25<00:00,  2.54s/it]\n",
            "100%|██████████| 10/10 [00:26<00:00,  2.61s/it]\n",
            "100%|██████████| 10/10 [00:30<00:00,  3.05s/it]\n",
            "100%|██████████| 10/10 [00:21<00:00,  2.13s/it]\n",
            "100%|██████████| 10/10 [00:50<00:00,  5.07s/it]\n",
            "100%|██████████| 10/10 [00:22<00:00,  2.28s/it]\n"
          ]
        },
        {
          "name": "stdout",
          "output_type": "stream",
          "text": [
            "Round 23, Train loss: 0.0745, Test Loss: 0.5155, Test Accuracy: 82.97%\n",
            "{2: 3, 7: 3, 1: 3, 8: 3, 4: 3, 5: 3, 3: 3, 6: 3, 0: 3, 9: 3}\n"
          ]
        },
        {
          "name": "stderr",
          "output_type": "stream",
          "text": [
            "100%|██████████| 10/10 [00:26<00:00,  2.63s/it]\n",
            "100%|██████████| 10/10 [00:41<00:00,  4.15s/it]\n",
            "100%|██████████| 10/10 [00:18<00:00,  1.81s/it]\n",
            "100%|██████████| 10/10 [00:23<00:00,  2.31s/it]\n",
            "100%|██████████| 10/10 [00:18<00:00,  1.83s/it]\n",
            "100%|██████████| 10/10 [00:36<00:00,  3.65s/it]\n",
            "100%|██████████| 10/10 [00:30<00:00,  3.08s/it]\n",
            "100%|██████████| 10/10 [00:29<00:00,  2.91s/it]\n",
            "100%|██████████| 10/10 [00:32<00:00,  3.25s/it]\n",
            "100%|██████████| 10/10 [00:25<00:00,  2.59s/it]\n"
          ]
        },
        {
          "name": "stdout",
          "output_type": "stream",
          "text": [
            "Round 24, Train loss: 0.0520, Test Loss: 0.6302, Test Accuracy: 82.63%\n",
            "{0: 4, 3: 4, 5: 4, 4: 4, 2: 4, 7: 4, 6: 4, 9: 4, 8: 4, 1: 4}\n"
          ]
        },
        {
          "name": "stderr",
          "output_type": "stream",
          "text": [
            "100%|██████████| 10/10 [00:31<00:00,  3.17s/it]\n",
            "100%|██████████| 10/10 [00:30<00:00,  3.04s/it]\n",
            "100%|██████████| 10/10 [00:36<00:00,  3.65s/it]\n",
            "100%|██████████| 10/10 [00:18<00:00,  1.82s/it]\n",
            "100%|██████████| 10/10 [00:25<00:00,  2.56s/it]\n",
            "100%|██████████| 10/10 [00:41<00:00,  4.12s/it]\n",
            "100%|██████████| 10/10 [00:28<00:00,  2.86s/it]\n",
            "100%|██████████| 10/10 [00:25<00:00,  2.57s/it]\n",
            "100%|██████████| 10/10 [00:23<00:00,  2.32s/it]\n",
            "100%|██████████| 10/10 [00:18<00:00,  1.82s/it]\n"
          ]
        },
        {
          "name": "stdout",
          "output_type": "stream",
          "text": [
            "Round 25, Train loss: 0.0400, Test Loss: 0.6085, Test Accuracy: 84.28%\n",
            "{8: 0, 6: 0, 0: 0, 2: 0, 5: 0, 9: 0, 7: 0, 1: 0, 3: 0, 4: 0}\n"
          ]
        },
        {
          "name": "stderr",
          "output_type": "stream",
          "text": [
            "100%|██████████| 10/10 [00:23<00:00,  2.32s/it]\n",
            "100%|██████████| 10/10 [00:28<00:00,  2.87s/it]\n",
            "100%|██████████| 10/10 [00:31<00:00,  3.18s/it]\n",
            "100%|██████████| 10/10 [00:25<00:00,  2.56s/it]\n",
            "100%|██████████| 10/10 [00:36<00:00,  3.65s/it]\n",
            "100%|██████████| 10/10 [00:25<00:00,  2.58s/it]\n",
            "100%|██████████| 10/10 [00:40<00:00,  4.05s/it]\n",
            "100%|██████████| 10/10 [00:18<00:00,  1.82s/it]\n",
            "100%|██████████| 10/10 [00:30<00:00,  3.04s/it]\n",
            "100%|██████████| 10/10 [00:18<00:00,  1.82s/it]\n"
          ]
        },
        {
          "name": "stdout",
          "output_type": "stream",
          "text": [
            "Round 26, Train loss: 0.0167, Test Loss: 0.5442, Test Accuracy: 85.44%\n",
            "{8: 1, 9: 1, 0: 1, 2: 1, 1: 1, 6: 1, 5: 1, 3: 1, 7: 1, 4: 1}\n"
          ]
        },
        {
          "name": "stderr",
          "output_type": "stream",
          "text": [
            "100%|██████████| 10/10 [00:22<00:00,  2.30s/it]\n",
            "100%|██████████| 10/10 [00:25<00:00,  2.57s/it]\n",
            "100%|██████████| 10/10 [00:32<00:00,  3.23s/it]\n",
            "100%|██████████| 10/10 [00:27<00:00,  2.78s/it]\n",
            "100%|██████████| 10/10 [00:18<00:00,  1.80s/it]\n",
            "100%|██████████| 10/10 [00:28<00:00,  2.85s/it]\n",
            "100%|██████████| 10/10 [00:38<00:00,  3.90s/it]\n",
            "100%|██████████| 10/10 [00:31<00:00,  3.12s/it]\n",
            "100%|██████████| 10/10 [00:41<00:00,  4.11s/it]\n",
            "100%|██████████| 10/10 [00:18<00:00,  1.82s/it]\n"
          ]
        },
        {
          "name": "stdout",
          "output_type": "stream",
          "text": [
            "Round 27, Train loss: 0.0660, Test Loss: 0.4296, Test Accuracy: 86.71%\n",
            "{6: 2, 7: 2, 3: 2, 8: 2, 0: 2, 5: 2, 9: 2, 2: 2, 1: 2, 4: 2}\n"
          ]
        },
        {
          "name": "stderr",
          "output_type": "stream",
          "text": [
            "100%|██████████| 10/10 [00:28<00:00,  2.86s/it]\n",
            "100%|██████████| 10/10 [00:40<00:00,  4.10s/it]\n",
            "100%|██████████| 10/10 [00:30<00:00,  3.10s/it]\n",
            "100%|██████████| 10/10 [00:23<00:00,  2.32s/it]\n",
            "100%|██████████| 10/10 [00:31<00:00,  3.20s/it]\n",
            "100%|██████████| 10/10 [00:36<00:00,  3.62s/it]\n",
            "100%|██████████| 10/10 [00:25<00:00,  2.58s/it]\n",
            "100%|██████████| 10/10 [00:25<00:00,  2.54s/it]\n",
            "100%|██████████| 10/10 [00:19<00:00,  1.91s/it]\n",
            "100%|██████████| 10/10 [00:19<00:00,  1.99s/it]\n"
          ]
        },
        {
          "name": "stdout",
          "output_type": "stream",
          "text": [
            "Round 28, Train loss: 0.0565, Test Loss: 0.4121, Test Accuracy: 86.92%\n",
            "{3: 3, 4: 3, 5: 3, 0: 3, 2: 3, 6: 3, 7: 3, 1: 3, 9: 3, 8: 3}\n"
          ]
        },
        {
          "name": "stderr",
          "output_type": "stream",
          "text": [
            "100%|██████████| 10/10 [00:32<00:00,  3.28s/it]\n",
            "100%|██████████| 10/10 [00:19<00:00,  1.90s/it]\n",
            "100%|██████████| 10/10 [00:36<00:00,  3.61s/it]\n",
            "100%|██████████| 10/10 [00:32<00:00,  3.22s/it]\n",
            "100%|██████████| 10/10 [00:25<00:00,  2.58s/it]\n",
            "100%|██████████| 10/10 [00:28<00:00,  2.88s/it]\n",
            "100%|██████████| 10/10 [00:41<00:00,  4.11s/it]\n",
            "100%|██████████| 10/10 [00:18<00:00,  1.85s/it]\n",
            "100%|██████████| 10/10 [00:26<00:00,  2.61s/it]\n",
            "100%|██████████| 10/10 [00:23<00:00,  2.31s/it]\n"
          ]
        },
        {
          "name": "stdout",
          "output_type": "stream",
          "text": [
            "Round 29, Train loss: 0.0384, Test Loss: 0.5490, Test Accuracy: 86.73%\n",
            "{2: 4, 8: 4, 5: 4, 9: 4, 1: 4, 4: 4, 0: 4, 3: 4, 6: 4, 7: 4}\n"
          ]
        },
        {
          "name": "stderr",
          "output_type": "stream",
          "text": [
            "100%|██████████| 10/10 [00:25<00:00,  2.52s/it]\n",
            "100%|██████████| 10/10 [00:23<00:00,  2.31s/it]\n",
            "100%|██████████| 10/10 [00:36<00:00,  3.68s/it]\n",
            "100%|██████████| 10/10 [00:25<00:00,  2.60s/it]\n",
            "100%|██████████| 10/10 [00:18<00:00,  1.85s/it]\n",
            "100%|██████████| 10/10 [00:18<00:00,  1.85s/it]\n",
            "100%|██████████| 10/10 [00:32<00:00,  3.25s/it]\n",
            "100%|██████████| 10/10 [00:30<00:00,  3.07s/it]\n",
            "100%|██████████| 10/10 [00:28<00:00,  2.89s/it]\n",
            "100%|██████████| 10/10 [00:41<00:00,  4.15s/it]\n"
          ]
        },
        {
          "name": "stdout",
          "output_type": "stream",
          "text": [
            "Round 30, Train loss: 0.0260, Test Loss: 0.6159, Test Accuracy: 87.42%\n",
            "{3: 0, 8: 0, 5: 0, 7: 0, 0: 0, 6: 0, 4: 0, 1: 0, 2: 0, 9: 0}\n"
          ]
        },
        {
          "name": "stderr",
          "output_type": "stream",
          "text": [
            "100%|██████████| 10/10 [00:32<00:00,  3.29s/it]\n",
            "100%|██████████| 10/10 [00:27<00:00,  2.78s/it]\n",
            "100%|██████████| 10/10 [00:43<00:00,  4.31s/it]\n",
            "100%|██████████| 10/10 [00:41<00:00,  4.17s/it]\n",
            "100%|██████████| 10/10 [00:32<00:00,  3.23s/it]\n",
            "100%|██████████| 10/10 [00:33<00:00,  3.32s/it]\n",
            "100%|██████████| 10/10 [00:18<00:00,  1.82s/it]\n",
            "100%|██████████| 10/10 [00:18<00:00,  1.83s/it]\n",
            "100%|██████████| 10/10 [00:25<00:00,  2.56s/it]\n",
            "100%|██████████| 10/10 [00:29<00:00,  2.91s/it]\n"
          ]
        },
        {
          "name": "stdout",
          "output_type": "stream",
          "text": [
            "Round 31, Train loss: 0.0241, Test Loss: 0.4841, Test Accuracy: 88.32%\n",
            "{9: 1, 6: 1, 2: 1, 4: 1, 5: 1, 7: 1, 8: 1, 0: 1, 1: 1, 3: 1}\n"
          ]
        },
        {
          "name": "stderr",
          "output_type": "stream",
          "text": [
            "100%|██████████| 10/10 [00:26<00:00,  2.65s/it]\n",
            "100%|██████████| 10/10 [00:29<00:00,  2.92s/it]\n",
            "100%|██████████| 10/10 [00:25<00:00,  2.54s/it]\n",
            "100%|██████████| 10/10 [00:18<00:00,  1.82s/it]\n",
            "100%|██████████| 10/10 [00:36<00:00,  3.63s/it]\n",
            "100%|██████████| 10/10 [00:40<00:00,  4.08s/it]\n",
            "100%|██████████| 10/10 [00:23<00:00,  2.32s/it]\n",
            "100%|██████████| 10/10 [00:31<00:00,  3.18s/it]\n",
            "100%|██████████| 10/10 [00:18<00:00,  1.82s/it]\n",
            "100%|██████████| 10/10 [00:33<00:00,  3.30s/it]\n"
          ]
        },
        {
          "name": "stdout",
          "output_type": "stream",
          "text": [
            "Round 32, Train loss: 0.0536, Test Loss: 0.4645, Test Accuracy: 88.46%\n",
            "{6: 2, 8: 2, 2: 2, 0: 2, 7: 2, 1: 2, 5: 2, 9: 2, 4: 2, 3: 2}\n"
          ]
        },
        {
          "name": "stderr",
          "output_type": "stream",
          "text": [
            "100%|██████████| 10/10 [00:31<00:00,  3.16s/it]\n",
            "100%|██████████| 10/10 [00:23<00:00,  2.31s/it]\n",
            "100%|██████████| 10/10 [00:25<00:00,  2.56s/it]\n",
            "100%|██████████| 10/10 [00:31<00:00,  3.17s/it]\n",
            "100%|██████████| 10/10 [00:40<00:00,  4.06s/it]\n",
            "100%|██████████| 10/10 [00:18<00:00,  1.85s/it]\n",
            "100%|██████████| 10/10 [00:36<00:00,  3.61s/it]\n",
            "100%|██████████| 10/10 [00:25<00:00,  2.58s/it]\n",
            "100%|██████████| 10/10 [00:18<00:00,  1.82s/it]\n",
            "100%|██████████| 10/10 [00:30<00:00,  3.03s/it]\n"
          ]
        },
        {
          "name": "stdout",
          "output_type": "stream",
          "text": [
            "Round 33, Train loss: 0.0398, Test Loss: 0.4421, Test Accuracy: 88.59%\n",
            "{5: 3, 8: 3, 9: 3, 0: 3, 2: 3, 1: 3, 7: 3, 6: 3, 3: 3, 4: 3}\n"
          ]
        },
        {
          "name": "stderr",
          "output_type": "stream",
          "text": [
            "100%|██████████| 10/10 [00:36<00:00,  3.66s/it]\n",
            "100%|██████████| 10/10 [00:25<00:00,  2.52s/it]\n",
            "100%|██████████| 10/10 [00:28<00:00,  2.85s/it]\n",
            "100%|██████████| 10/10 [00:31<00:00,  3.19s/it]\n",
            "100%|██████████| 10/10 [00:25<00:00,  2.53s/it]\n",
            "100%|██████████| 10/10 [00:18<00:00,  1.82s/it]\n",
            "100%|██████████| 10/10 [00:40<00:00,  4.08s/it]\n",
            "100%|██████████| 10/10 [00:28<00:00,  2.85s/it]\n",
            "100%|██████████| 10/10 [00:30<00:00,  3.05s/it]\n",
            "100%|██████████| 10/10 [00:18<00:00,  1.81s/it]\n"
          ]
        },
        {
          "name": "stdout",
          "output_type": "stream",
          "text": [
            "Round 34, Train loss: 0.0277, Test Loss: 0.4782, Test Accuracy: 88.73%\n",
            "{4: 4, 6: 4, 3: 4, 7: 4, 2: 4, 8: 4, 1: 4, 5: 4, 0: 4, 9: 4}\n"
          ]
        },
        {
          "name": "stderr",
          "output_type": "stream",
          "text": [
            "100%|██████████| 10/10 [00:18<00:00,  1.81s/it]\n",
            "100%|██████████| 10/10 [00:28<00:00,  2.85s/it]\n",
            "100%|██████████| 10/10 [00:30<00:00,  3.06s/it]\n",
            "100%|██████████| 10/10 [00:43<00:00,  4.36s/it]\n",
            "100%|██████████| 10/10 [00:28<00:00,  2.85s/it]\n",
            "100%|██████████| 10/10 [00:26<00:00,  2.67s/it]\n",
            "100%|██████████| 10/10 [00:21<00:00,  2.14s/it]\n",
            "100%|██████████| 10/10 [00:41<00:00,  4.15s/it]\n",
            "100%|██████████| 10/10 [00:36<00:00,  3.61s/it]\n",
            "100%|██████████| 10/10 [00:29<00:00,  2.95s/it]\n"
          ]
        },
        {
          "name": "stdout",
          "output_type": "stream",
          "text": [
            "Round 35, Train loss: 0.0187, Test Loss: 0.5084, Test Accuracy: 88.71%\n",
            "{5: 0, 1: 0, 2: 0, 3: 0, 6: 0, 8: 0, 9: 0, 4: 0, 0: 0, 7: 0}\n"
          ]
        },
        {
          "name": "stderr",
          "output_type": "stream",
          "text": [
            "100%|██████████| 10/10 [00:40<00:00,  4.06s/it]\n",
            "100%|██████████| 10/10 [00:18<00:00,  1.84s/it]\n",
            "100%|██████████| 10/10 [00:25<00:00,  2.58s/it]\n",
            "100%|██████████| 10/10 [00:30<00:00,  3.09s/it]\n",
            "100%|██████████| 10/10 [00:29<00:00,  2.91s/it]\n",
            "100%|██████████| 10/10 [00:23<00:00,  2.39s/it]\n",
            "100%|██████████| 10/10 [00:26<00:00,  2.65s/it]\n",
            "100%|██████████| 10/10 [00:18<00:00,  1.82s/it]\n",
            "100%|██████████| 10/10 [00:31<00:00,  3.17s/it]\n",
            "100%|██████████| 10/10 [00:40<00:00,  4.08s/it]\n"
          ]
        },
        {
          "name": "stdout",
          "output_type": "stream",
          "text": [
            "Round 36, Train loss: 0.0195, Test Loss: 0.4710, Test Accuracy: 88.83%\n",
            "{9: 1, 5: 1, 4: 1, 0: 1, 7: 1, 2: 1, 6: 1, 1: 1, 3: 1, 8: 1}\n"
          ]
        },
        {
          "name": "stderr",
          "output_type": "stream",
          "text": [
            "100%|██████████| 10/10 [00:25<00:00,  2.59s/it]\n",
            "100%|██████████| 10/10 [00:36<00:00,  3.63s/it]\n",
            "100%|██████████| 10/10 [00:18<00:00,  1.81s/it]\n",
            "100%|██████████| 10/10 [00:31<00:00,  3.18s/it]\n",
            "100%|██████████| 10/10 [00:41<00:00,  4.15s/it]\n",
            "100%|██████████| 10/10 [00:25<00:00,  2.53s/it]\n",
            "100%|██████████| 10/10 [00:28<00:00,  2.85s/it]\n",
            "100%|██████████| 10/10 [00:18<00:00,  1.82s/it]\n",
            "100%|██████████| 10/10 [00:30<00:00,  3.00s/it]\n",
            "100%|██████████| 10/10 [00:22<00:00,  2.29s/it]\n"
          ]
        },
        {
          "name": "stdout",
          "output_type": "stream",
          "text": [
            "Round 37, Train loss: 0.0434, Test Loss: 0.4649, Test Accuracy: 89.02%\n",
            "{3: 2, 1: 2, 7: 2, 0: 2, 8: 2, 2: 2, 4: 2, 9: 2, 6: 2, 5: 2}\n"
          ]
        },
        {
          "name": "stderr",
          "output_type": "stream",
          "text": [
            "100%|██████████| 10/10 [00:30<00:00,  3.03s/it]\n",
            "100%|██████████| 10/10 [00:18<00:00,  1.83s/it]\n",
            "100%|██████████| 10/10 [00:40<00:00,  4.09s/it]\n",
            "100%|██████████| 10/10 [00:32<00:00,  3.24s/it]\n",
            "100%|██████████| 10/10 [00:23<00:00,  2.33s/it]\n",
            "100%|██████████| 10/10 [00:25<00:00,  2.55s/it]\n",
            "100%|██████████| 10/10 [00:18<00:00,  1.83s/it]\n",
            "100%|██████████| 10/10 [00:25<00:00,  2.59s/it]\n",
            "100%|██████████| 10/10 [00:28<00:00,  2.87s/it]\n",
            "100%|██████████| 10/10 [00:36<00:00,  3.66s/it]\n"
          ]
        },
        {
          "name": "stdout",
          "output_type": "stream",
          "text": [
            "Round 38, Train loss: 0.0339, Test Loss: 0.4599, Test Accuracy: 88.97%\n",
            "{6: 3, 2: 3, 9: 3, 1: 3, 8: 3, 0: 3, 3: 3, 5: 3, 7: 3, 4: 3}\n"
          ]
        },
        {
          "name": "stderr",
          "output_type": "stream",
          "text": [
            "100%|██████████| 10/10 [00:29<00:00,  2.92s/it]\n",
            "100%|██████████| 10/10 [00:25<00:00,  2.55s/it]\n",
            "100%|██████████| 10/10 [00:25<00:00,  2.60s/it]\n",
            "100%|██████████| 10/10 [00:18<00:00,  1.84s/it]\n",
            "100%|██████████| 10/10 [00:22<00:00,  2.29s/it]\n",
            "100%|██████████| 10/10 [00:32<00:00,  3.23s/it]\n",
            "100%|██████████| 10/10 [00:30<00:00,  3.03s/it]\n",
            "100%|██████████| 10/10 [00:36<00:00,  3.63s/it]\n",
            "100%|██████████| 10/10 [00:40<00:00,  4.08s/it]\n",
            "100%|██████████| 10/10 [00:18<00:00,  1.81s/it]\n"
          ]
        },
        {
          "name": "stdout",
          "output_type": "stream",
          "text": [
            "Round 39, Train loss: 0.0229, Test Loss: 0.4549, Test Accuracy: 89.03%\n",
            "Early stopping called at 39 epochs\n",
            "{0: 4, 5: 4, 3: 4, 4: 4, 8: 4, 6: 4, 2: 4, 7: 4, 9: 4, 1: 4}\n"
          ]
        },
        {
          "name": "stderr",
          "output_type": "stream",
          "text": [
            "100%|██████████| 10/10 [00:32<00:00,  3.21s/it]\n",
            "100%|██████████| 10/10 [00:36<00:00,  3.67s/it]\n",
            "100%|██████████| 10/10 [00:30<00:00,  3.03s/it]\n",
            "100%|██████████| 10/10 [00:18<00:00,  1.83s/it]\n",
            "100%|██████████| 10/10 [00:23<00:00,  2.32s/it]\n",
            "100%|██████████| 10/10 [00:28<00:00,  2.84s/it]\n",
            "100%|██████████| 10/10 [00:25<00:00,  2.54s/it]\n",
            "100%|██████████| 10/10 [00:41<00:00,  4.11s/it]\n",
            "100%|██████████| 10/10 [00:26<00:00,  2.63s/it]\n",
            "100%|██████████| 10/10 [00:18<00:00,  1.86s/it]\n"
          ]
        },
        {
          "name": "stdout",
          "output_type": "stream",
          "text": [
            "Round 40, Train loss: 0.0162, Test Loss: 0.4657, Test Accuracy: 89.07%\n",
            "Early stopping called at 40 epochs\n",
            "{0: 0, 8: 0, 5: 0, 9: 0, 1: 0, 7: 0, 2: 0, 3: 0, 4: 0, 6: 0}\n"
          ]
        },
        {
          "name": "stderr",
          "output_type": "stream",
          "text": [
            "100%|██████████| 10/10 [00:32<00:00,  3.24s/it]\n",
            "100%|██████████| 10/10 [00:23<00:00,  2.35s/it]\n",
            "100%|██████████| 10/10 [00:36<00:00,  3.64s/it]\n",
            "100%|██████████| 10/10 [00:26<00:00,  2.61s/it]\n",
            "100%|██████████| 10/10 [00:18<00:00,  1.87s/it]\n",
            "100%|██████████| 10/10 [00:41<00:00,  4.17s/it]\n",
            "100%|██████████| 10/10 [00:26<00:00,  2.61s/it]\n",
            "100%|██████████| 10/10 [00:31<00:00,  3.10s/it]\n",
            "100%|██████████| 10/10 [00:18<00:00,  1.85s/it]\n",
            "100%|██████████| 10/10 [00:28<00:00,  2.89s/it]\n"
          ]
        },
        {
          "name": "stdout",
          "output_type": "stream",
          "text": [
            "Round 41, Train loss: 0.0164, Test Loss: 0.4517, Test Accuracy: 89.12%\n",
            "Early stopping called at 41 epochs\n",
            "{5: 1, 0: 1, 9: 1, 2: 1, 3: 1, 6: 1, 1: 1, 8: 1, 7: 1, 4: 1}\n"
          ]
        },
        {
          "name": "stderr",
          "output_type": "stream",
          "text": [
            "100%|██████████| 10/10 [00:36<00:00,  3.65s/it]\n",
            "100%|██████████| 10/10 [00:31<00:00,  3.19s/it]\n",
            "100%|██████████| 10/10 [00:26<00:00,  2.62s/it]\n",
            "100%|██████████| 10/10 [00:25<00:00,  2.60s/it]\n",
            "100%|██████████| 10/10 [00:30<00:00,  3.01s/it]\n",
            "100%|██████████| 10/10 [00:28<00:00,  2.82s/it]\n",
            "100%|██████████| 10/10 [00:18<00:00,  1.81s/it]\n",
            "100%|██████████| 10/10 [00:22<00:00,  2.28s/it]\n",
            "100%|██████████| 10/10 [00:40<00:00,  4.05s/it]\n",
            "100%|██████████| 10/10 [00:19<00:00,  1.96s/it]\n"
          ]
        },
        {
          "name": "stdout",
          "output_type": "stream",
          "text": [
            "Round 42, Train loss: 0.0371, Test Loss: 0.4653, Test Accuracy: 89.02%\n",
            "Early stopping called at 42 epochs\n",
            "{5: 2, 9: 2, 7: 2, 2: 2, 1: 2, 8: 2, 6: 2, 4: 2, 3: 2, 0: 2}\n"
          ]
        },
        {
          "name": "stderr",
          "output_type": "stream",
          "text": [
            "100%|██████████| 10/10 [00:36<00:00,  3.66s/it]\n",
            "100%|██████████| 10/10 [00:25<00:00,  2.58s/it]\n",
            "100%|██████████| 10/10 [00:41<00:00,  4.13s/it]\n",
            "100%|██████████| 10/10 [00:25<00:00,  2.58s/it]\n",
            "100%|██████████| 10/10 [00:18<00:00,  1.83s/it]\n",
            "100%|██████████| 10/10 [00:23<00:00,  2.34s/it]\n",
            "100%|██████████| 10/10 [00:28<00:00,  2.84s/it]\n",
            "100%|██████████| 10/10 [00:17<00:00,  1.79s/it]\n",
            "100%|██████████| 10/10 [00:30<00:00,  3.02s/it]\n",
            "100%|██████████| 10/10 [00:32<00:00,  3.20s/it]\n"
          ]
        },
        {
          "name": "stdout",
          "output_type": "stream",
          "text": [
            "Round 43, Train loss: 0.0285, Test Loss: 0.4583, Test Accuracy: 89.00%\n",
            "Early stopping called at 43 epochs\n",
            "{1: 3, 0: 3, 6: 3, 4: 3, 2: 3, 3: 3, 5: 3, 8: 3, 7: 3, 9: 3}\n"
          ]
        },
        {
          "name": "stderr",
          "output_type": "stream",
          "text": [
            "100%|██████████| 10/10 [00:18<00:00,  1.81s/it]\n",
            "100%|██████████| 10/10 [00:31<00:00,  3.15s/it]\n",
            "100%|██████████| 10/10 [00:28<00:00,  2.86s/it]\n",
            "100%|██████████| 10/10 [00:18<00:00,  1.85s/it]\n",
            "100%|██████████| 10/10 [00:25<00:00,  2.60s/it]\n",
            "100%|██████████| 10/10 [00:30<00:00,  3.09s/it]\n",
            "100%|██████████| 10/10 [00:36<00:00,  3.67s/it]\n",
            "100%|██████████| 10/10 [00:24<00:00,  2.42s/it]\n",
            "100%|██████████| 10/10 [00:41<00:00,  4.11s/it]\n",
            "100%|██████████| 10/10 [00:26<00:00,  2.62s/it]\n"
          ]
        },
        {
          "name": "stdout",
          "output_type": "stream",
          "text": [
            "Round 44, Train loss: 0.0206, Test Loss: 0.4449, Test Accuracy: 89.04%\n",
            "Early stopping called at 44 epochs\n",
            "{9: 4, 1: 4, 7: 4, 6: 4, 8: 4, 2: 4, 5: 4, 3: 4, 0: 4, 4: 4}\n"
          ]
        },
        {
          "name": "stderr",
          "output_type": "stream",
          "text": [
            "100%|██████████| 10/10 [00:26<00:00,  2.62s/it]\n",
            "100%|██████████| 10/10 [00:18<00:00,  1.86s/it]\n",
            "100%|██████████| 10/10 [00:41<00:00,  4.14s/it]\n",
            "100%|██████████| 10/10 [00:28<00:00,  2.89s/it]\n",
            "100%|██████████| 10/10 [00:22<00:00,  2.29s/it]\n",
            "100%|██████████| 10/10 [00:25<00:00,  2.54s/it]\n",
            "100%|██████████| 10/10 [00:37<00:00,  3.73s/it]\n",
            "100%|██████████| 10/10 [00:30<00:00,  3.06s/it]\n",
            "100%|██████████| 10/10 [00:31<00:00,  3.14s/it]\n",
            "100%|██████████| 10/10 [00:18<00:00,  1.83s/it]\n"
          ]
        },
        {
          "name": "stdout",
          "output_type": "stream",
          "text": [
            "Round 45, Train loss: 0.0144, Test Loss: 0.4602, Test Accuracy: 89.07%\n",
            "Early stopping called at 45 epochs\n",
            "{6: 0, 4: 0, 1: 0, 5: 0, 9: 0, 0: 0, 3: 0, 8: 0, 2: 0, 7: 0}\n"
          ]
        },
        {
          "name": "stderr",
          "output_type": "stream",
          "text": [
            "100%|██████████| 10/10 [00:28<00:00,  2.88s/it]\n",
            "100%|██████████| 10/10 [00:18<00:00,  1.83s/it]\n",
            "100%|██████████| 10/10 [00:18<00:00,  1.85s/it]\n",
            "100%|██████████| 10/10 [00:36<00:00,  3.62s/it]\n",
            "100%|██████████| 10/10 [00:25<00:00,  2.57s/it]\n",
            "100%|██████████| 10/10 [00:31<00:00,  3.17s/it]\n",
            "100%|██████████| 10/10 [00:30<00:00,  3.02s/it]\n",
            "100%|██████████| 10/10 [00:22<00:00,  2.29s/it]\n",
            "100%|██████████| 10/10 [00:25<00:00,  2.53s/it]\n",
            "100%|██████████| 10/10 [00:40<00:00,  4.10s/it]\n"
          ]
        },
        {
          "name": "stdout",
          "output_type": "stream",
          "text": [
            "Round 46, Train loss: 0.0142, Test Loss: 0.4571, Test Accuracy: 89.17%\n",
            "Early stopping called at 46 epochs\n",
            "{9: 1, 6: 1, 1: 1, 7: 1, 8: 1, 3: 1, 0: 1, 2: 1, 4: 1, 5: 1}\n"
          ]
        },
        {
          "name": "stderr",
          "output_type": "stream",
          "text": [
            "100%|██████████| 10/10 [00:26<00:00,  2.60s/it]\n",
            "100%|██████████| 10/10 [00:28<00:00,  2.85s/it]\n",
            "100%|██████████| 10/10 [00:19<00:00,  1.92s/it]\n",
            "100%|██████████| 10/10 [00:41<00:00,  4.12s/it]\n",
            "100%|██████████| 10/10 [00:22<00:00,  2.29s/it]\n",
            "100%|██████████| 10/10 [00:30<00:00,  3.02s/it]\n",
            "100%|██████████| 10/10 [00:31<00:00,  3.14s/it]\n",
            "100%|██████████| 10/10 [00:25<00:00,  2.55s/it]\n",
            "100%|██████████| 10/10 [00:18<00:00,  1.86s/it]\n",
            "100%|██████████| 10/10 [00:38<00:00,  3.84s/it]\n"
          ]
        },
        {
          "name": "stdout",
          "output_type": "stream",
          "text": [
            "Round 47, Train loss: 0.0321, Test Loss: 0.4395, Test Accuracy: 89.17%\n",
            "Early stopping called at 47 epochs\n",
            "{6: 2, 2: 2, 5: 2, 4: 2, 9: 2, 0: 2, 7: 2, 8: 2, 3: 2, 1: 2}\n"
          ]
        },
        {
          "name": "stderr",
          "output_type": "stream",
          "text": [
            "100%|██████████| 10/10 [00:28<00:00,  2.83s/it]\n",
            "100%|██████████| 10/10 [00:25<00:00,  2.52s/it]\n",
            "100%|██████████| 10/10 [00:36<00:00,  3.60s/it]\n",
            "100%|██████████| 10/10 [00:18<00:00,  1.80s/it]\n",
            "100%|██████████| 10/10 [00:25<00:00,  2.57s/it]\n",
            "100%|██████████| 10/10 [00:31<00:00,  3.17s/it]\n",
            "100%|██████████| 10/10 [00:41<00:00,  4.18s/it]\n",
            "100%|██████████| 10/10 [00:24<00:00,  2.40s/it]\n",
            "100%|██████████| 10/10 [00:31<00:00,  3.15s/it]\n",
            "100%|██████████| 10/10 [00:19<00:00,  1.91s/it]\n"
          ]
        },
        {
          "name": "stdout",
          "output_type": "stream",
          "text": [
            "Round 48, Train loss: 0.0252, Test Loss: 0.4384, Test Accuracy: 89.13%\n",
            "Early stopping called at 48 epochs\n",
            "{8: 3, 5: 3, 4: 3, 9: 3, 2: 3, 1: 3, 6: 3, 7: 3, 3: 3, 0: 3}\n"
          ]
        },
        {
          "name": "stderr",
          "output_type": "stream",
          "text": [
            "100%|██████████| 10/10 [00:26<00:00,  2.63s/it]\n",
            "100%|██████████| 10/10 [00:37<00:00,  3.70s/it]\n",
            "100%|██████████| 10/10 [00:18<00:00,  1.82s/it]\n",
            "100%|██████████| 10/10 [00:25<00:00,  2.60s/it]\n",
            "100%|██████████| 10/10 [00:25<00:00,  2.55s/it]\n",
            "100%|██████████| 10/10 [00:18<00:00,  1.83s/it]\n",
            "100%|██████████| 10/10 [00:28<00:00,  2.90s/it]\n",
            "100%|██████████| 10/10 [00:41<00:00,  4.18s/it]\n",
            "100%|██████████| 10/10 [00:30<00:00,  3.05s/it]\n",
            "100%|██████████| 10/10 [00:32<00:00,  3.21s/it]\n"
          ]
        },
        {
          "name": "stdout",
          "output_type": "stream",
          "text": [
            "Round 49, Train loss: 0.0180, Test Loss: 0.4429, Test Accuracy: 89.04%\n",
            "Early stopping called at 49 epochs\n",
            "{2: 4, 5: 4, 8: 4, 1: 4, 9: 4, 3: 4, 7: 4, 4: 4, 0: 4, 6: 4}\n"
          ]
        },
        {
          "name": "stderr",
          "output_type": "stream",
          "text": [
            "100%|██████████| 10/10 [00:25<00:00,  2.56s/it]\n",
            "100%|██████████| 10/10 [00:37<00:00,  3.71s/it]\n",
            "100%|██████████| 10/10 [00:23<00:00,  2.35s/it]\n",
            "100%|██████████| 10/10 [00:18<00:00,  1.87s/it]\n",
            "100%|██████████| 10/10 [00:26<00:00,  2.62s/it]\n",
            "100%|██████████| 10/10 [00:30<00:00,  3.09s/it]\n",
            "100%|██████████| 10/10 [00:41<00:00,  4.13s/it]\n",
            "100%|██████████| 10/10 [00:18<00:00,  1.84s/it]\n",
            "100%|██████████| 10/10 [00:32<00:00,  3.21s/it]\n",
            "100%|██████████| 10/10 [00:29<00:00,  2.92s/it]\n"
          ]
        },
        {
          "name": "stdout",
          "output_type": "stream",
          "text": [
            "Round 50, Train loss: 0.0139, Test Loss: 0.4469, Test Accuracy: 89.15%\n",
            "Early stopping called at 50 epochs\n"
          ]
        }
      ],
      "source": [
        "global_model.train()\n",
        "for model in clients_models.values():\n",
        "    model.train()\n",
        "\n",
        "loss_train = []\n",
        "loss_test = []\n",
        "acc_train = []\n",
        "acc_test= []\n",
        "\n",
        "# Early stopping\n",
        "patience = 10 \n",
        "patience_counter = 0\n",
        "prev_weights = dict()\n",
        "aggregated_params = list()\n",
        "# local_indices = generate_iid_cifar(train_dataset, num_clients)\n",
        "num_segments = 5\n",
        "\n",
        "for round in range(num_rounds):\n",
        "    local_weights = {}\n",
        "    local_losses, local_acc = [], []\n",
        "    selected_clients = list(np.random.choice(range(num_clients), num_selected, replace=False))\n",
        "    # Initialize client segment index map\n",
        "    client_segment_map = {selected_clients[i]: round%num_segments for i in range(len(selected_clients))} \n",
        "    print(client_segment_map)\n",
        "   \n",
        "    # Train on local data\n",
        "    for i in selected_clients:\n",
        "        # Train on local data\n",
        "        #local_loader = DataLoader(DatasetSplit(train_dataset, noniid_dataidx_map[i]), batch_size=local_bs, shuffle=True)\n",
        "        local_loader = DataLoader(CIFAR10_truncated(\n",
        "        './data', dataidxs=noniid_dataidx_map[i], train=True, transform=transform_train), batch_size=local_bs, shuffle=True)\n",
        "\n",
        "        w, loss, acc = client_train(clients_models[i], local_loader, optimizers[i], criterion, local_rounds)\n",
        "\n",
        "        # Collect local model weights with thier examples\n",
        "        local_weights[i] = w\n",
        "        # local_weights.append(w)\n",
        "        local_losses.append(loss)\n",
        "        local_acc.append(acc)\n",
        "        schedulers[i].step()\n",
        "\n",
        "    prev_weights , aggregated_params = handle_partial_updates(local_weights, num_segments, client_segment_map)\n",
        "    \n",
        "    updated_client_dict = update_client_models(prev_weights, aggregated_params, client_segment_map)\n",
        "    \n",
        "    clients_reconstructed_params = {}\n",
        "    for client_id, weights in updated_client_dict.items():\n",
        "        clients_reconstructed_params[client_id] = reconstruct_parameters(weights, shapes, sizes, trained_weights)\n",
        "\n",
        "    for client in selected_clients:\n",
        "        clients_models[client].load_state_dict(clients_reconstructed_params[client])\n",
        "    \n",
        "    # for model in sampled_clients_models.values():\n",
        "    #     model.load_state_dict(global_model.state_dict())\n",
        "        \n",
        "    # To test the global model performance, we keep the replace the shared segments and aggregate the rest part of the segments.\n",
        "    flat_params_n = flatten_resnet_parameters(global_model.state_dict())\n",
        "    # Segment the parameters\n",
        "    segmented_params = segment_resnet_parameters(flat_params_n, num_segments)\n",
        "\n",
        "    shared_segment_index = client_segment_map[selected_clients[0]]\n",
        "    updated_global_params = [aggregated_params[i] if i == shared_segment_index else data for i, data in enumerate(segmented_params)]\n",
        "    params = torch.cat(updated_global_params)\n",
        "    # Reconstruct the parameters\n",
        "    updated_server_weights = reconstruct_parameters(params, shapes, sizes, trained_weights)\n",
        "\n",
        "    # Check if both dictionaries have the same set of keys\n",
        "    assert set(updated_server_weights.keys()) == set(trained_weights.keys()), \"Parameter keys do not match.\"\n",
        "\n",
        "\n",
        "    # Aggregate local weights to update global model\n",
        "    # rotate_shared_segments(client_segment_map, num_segments)\n",
        "    \n",
        "\n",
        "    # copy weight to global model\n",
        "    global_model.load_state_dict(updated_server_weights)\n",
        "\n",
        "    # Calulate loss\n",
        "    loss_avg = sum(local_losses) / len(local_losses)\n",
        "    # print('Round {:3d}, Train loss {:.3f}'.format(round, loss_avg))\n",
        "    loss_train.append(loss_avg)\n",
        "    acc_train.append(100 * sum(local_acc) / len(local_acc))\n",
        "\n",
        "    # Evaluation on test dataset for each round\n",
        "    cur_auc, test_loss = evaluate(\n",
        "        global_model, test_dataset, test_bs, device)\n",
        "    loss_test.append(test_loss)\n",
        "    acc_test.append(cur_auc)\n",
        "    print(f'Round {round+1}, Train loss: {loss_avg:.4f}, Test Loss: {test_loss:.4f}, Test Accuracy: {cur_auc:.2f}%')\n",
        "    ## Early Stopping\n",
        "    valid_loss_array = np.array(loss_test)\n",
        "    min_valid_loss = np.min(valid_loss_array)\n",
        "    \n",
        "    if(test_loss > min_valid_loss):\n",
        "        patience_counter += 1        \n",
        "    else:\n",
        "        patience_counter = 0       #setting the patience counter to zero if the test loss improves again \n",
        "    \n",
        "    ## Calling early stopping if test loss doest improves from last (patience) Iterations\n",
        "    if(patience_counter > patience):\n",
        "        print(\"Early stopping called at {} epochs\".format(round+1))\n",
        "        # break\n"
      ]
    },
    {
      "cell_type": "code",
      "execution_count": null,
      "metadata": {
        "id": "BMu4zjVscHpL"
      },
      "outputs": [],
      "source": [
        "# Testing\n",
        "global_model.eval()\n",
        "train_acc, train_loss = evaluate(\n",
        "    global_model, train_dataset, test_bs, device)\n",
        "test_acc, test_loss = evaluate(\n",
        "    global_model, test_dataset, test_bs, device)\n",
        "print(\"Training accuracy: {:.2f}%\".format(train_acc))\n",
        "print(\"Testing accuracy: {:.2f}%\".format(test_acc))"
      ]
    },
    {
      "cell_type": "code",
      "execution_count": null,
      "metadata": {},
      "outputs": [],
      "source": [
        "# Save the entire model\n",
        "torch.save(global_model, 'model_resnet9_ps_same_portion_24_June.pth')\n",
        "\n",
        "# # To load the entire model\n",
        "# model = torch.load('model_complete.pth')\n",
        "# model.eval()"
      ]
    },
    {
      "cell_type": "code",
      "execution_count": null,
      "metadata": {},
      "outputs": [],
      "source": [
        "# Save only the state dictionary\n",
        "torch.save(model.state_dict(), 'model_resnet9_ps_same_portion_06_June.pth')\n",
        "\n",
        "# # To load the state dictionary, you need to re-instantiate the model first\n",
        "# model = ResNet18()\n",
        "# model.load_state_dict(torch.load('model_state_dict.pth'))\n",
        "# model.eval()"
      ]
    },
    {
      "cell_type": "code",
      "execution_count": null,
      "metadata": {},
      "outputs": [],
      "source": [
        "with open(f'ParMS{num_segments}_acc_train.txt', 'w') as file:\n",
        "    # Write each value on a new line\n",
        "    file.write(f\"{acc_train}\\n\")\n",
        "with open(f'ParMS{num_segments}_acc_test.txt', 'w') as file:\n",
        "    # Write each value on a new line\n",
        "    file.write(f\"{acc_test}\\n\")\n",
        "with open(f'ParMS{num_segments}_loss_train.txt', 'w') as file:\n",
        "    # Write each value on a new line\n",
        "    file.write(f\"{loss_train}\\n\") \n",
        "with open(f'ParMS{num_segments}_loss_test.txt', 'w') as file:\n",
        "    # Write each value on a new line\n",
        "    file.write(f\"{loss_test}\\n\")"
      ]
    }
  ],
  "metadata": {
    "accelerator": "GPU",
    "colab": {
      "gpuType": "V100",
      "machine_shape": "hm",
      "provenance": []
    },
    "kernelspec": {
      "display_name": "Python 3",
      "name": "python3"
    },
    "language_info": {
      "codemirror_mode": {
        "name": "ipython",
        "version": 3
      },
      "file_extension": ".py",
      "mimetype": "text/x-python",
      "name": "python",
      "nbconvert_exporter": "python",
      "pygments_lexer": "ipython3",
      "version": "3.11.0"
    }
  },
  "nbformat": 4,
  "nbformat_minor": 0
}
