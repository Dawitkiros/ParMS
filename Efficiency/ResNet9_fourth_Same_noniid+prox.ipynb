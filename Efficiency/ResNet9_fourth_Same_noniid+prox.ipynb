{
  "cells": [
    {
      "cell_type": "code",
      "execution_count": 1,
      "metadata": {
        "id": "uG6SJN7fZa4_"
      },
      "outputs": [],
      "source": [
        "import torch\n",
        "from torch.utils.data import DataLoader, Dataset\n",
        "import numpy as np\n",
        "import torch.nn as nn\n",
        "import torch.nn.functional as F\n",
        "from torchvision import datasets, transforms\n",
        "import matplotlib.pyplot as plt\n",
        "import copy\n",
        "from tqdm import trange\n",
        "from torchsummary import summary\n",
        "\n",
        "import torchvision\n",
        "import torchvision.transforms as transforms\n",
        "from typing import List, Any, Tuple, Optional\n",
        "from collections import OrderedDict\n",
        "# import EarlyStopping\n",
        "#from pytorchtools import EarlyStopping"
      ]
    },
    {
      "cell_type": "code",
      "execution_count": 2,
      "metadata": {},
      "outputs": [
        {
          "data": {
            "text/plain": [
              "True"
            ]
          },
          "execution_count": 2,
          "metadata": {},
          "output_type": "execute_result"
        }
      ],
      "source": [
        "torch.cuda.is_available()"
      ]
    },
    {
      "cell_type": "code",
      "execution_count": 3,
      "metadata": {},
      "outputs": [
        {
          "data": {
            "text/plain": [
              "6"
            ]
          },
          "execution_count": 3,
          "metadata": {},
          "output_type": "execute_result"
        }
      ],
      "source": [
        "torch.cuda.device_count()"
      ]
    },
    {
      "cell_type": "code",
      "execution_count": 4,
      "metadata": {},
      "outputs": [
        {
          "data": {
            "text/plain": [
              "'NVIDIA RTX A5000'"
            ]
          },
          "execution_count": 4,
          "metadata": {},
          "output_type": "execute_result"
        }
      ],
      "source": [
        "torch.cuda.get_device_name()"
      ]
    },
    {
      "cell_type": "code",
      "execution_count": 5,
      "metadata": {},
      "outputs": [
        {
          "name": "stdout",
          "output_type": "stream",
          "text": [
            "144 or 37\n"
          ]
        }
      ],
      "source": [
        "print(\"144 or 37\")"
      ]
    },
    {
      "cell_type": "code",
      "execution_count": 6,
      "metadata": {
        "id": "VzJRdXpobgBG"
      },
      "outputs": [],
      "source": [
        "# Hyperparameters for training\n",
        "num_rounds = 50\n",
        "local_rounds = 10\n",
        "num_clients = 10  # Total number of clients\n",
        "num_selected = 10  # Number of selected clients per round\n",
        "local_bs = 10\n",
        "lr = 0.001\n",
        "num_channels = 3\n",
        "num_classes = 10\n",
        "test_bs = 128\n",
        "gamma = 0.1\n",
        "milestones = [0.5 * num_rounds, 0.75 * num_rounds]"
      ]
    },
    {
      "cell_type": "code",
      "execution_count": 7,
      "metadata": {
        "id": "PYbUdZkjbmZH"
      },
      "outputs": [],
      "source": [
        "device = torch.device('cuda:3' if torch.cuda.is_available() else 'cpu')"
      ]
    },
    {
      "cell_type": "code",
      "execution_count": 8,
      "metadata": {},
      "outputs": [
        {
          "data": {
            "text/plain": [
              "device(type='cuda', index=3)"
            ]
          },
          "execution_count": 8,
          "metadata": {},
          "output_type": "execute_result"
        }
      ],
      "source": [
        "device"
      ]
    },
    {
      "cell_type": "code",
      "execution_count": 9,
      "metadata": {},
      "outputs": [],
      "source": [
        "#ResNet9\n",
        "def conv_block(in_channels, out_channels, pool=False):\n",
        "    layers = [nn.Conv2d(in_channels, out_channels, kernel_size=3, padding=1), \n",
        "              nn.BatchNorm2d(out_channels), \n",
        "              nn.ReLU(inplace=True)]\n",
        "    if pool: layers.append(nn.MaxPool2d(2))\n",
        "    return nn.Sequential(*layers)"
      ]
    },
    {
      "cell_type": "code",
      "execution_count": 10,
      "metadata": {},
      "outputs": [],
      "source": [
        "class ResNet9(nn.Module):\n",
        "    def __init__(\n",
        "            self, \n",
        "            in_channels, \n",
        "            num_classes, \n",
        "            grid_size=5,\n",
        "            spline_order=3,\n",
        "            scale_noise=0.1,\n",
        "            scale_base=1.0,\n",
        "            scale_spline=1.0,\n",
        "            base_activation=torch.nn.SiLU,\n",
        "            grid_eps=0.02,\n",
        "            grid_range=[-1, 1],\n",
        "            ):\n",
        "        super(ResNet9, self).__init__()\n",
        "        self.grid_size = grid_size\n",
        "        self.spline_order = spline_order\n",
        "        \n",
        "        self.conv1 = conv_block(in_channels, 64)\n",
        "        self.conv2 = conv_block(64, 128, pool=True)\n",
        "        self.res1 = nn.Sequential(conv_block(128, 128), conv_block(128, 128))\n",
        "        \n",
        "        self.conv3 = conv_block(128, 256, pool=True)\n",
        "        self.conv4 = conv_block(256, 512, pool=True)\n",
        "        self.res2 = nn.Sequential(conv_block(512, 512), conv_block(512, 512))\n",
        "        \n",
        "        self.classifier = nn.Sequential(nn.AdaptiveMaxPool2d((1,1)), \n",
        "                                        nn.Flatten(), \n",
        "                                        nn.Dropout(0.2),\n",
        "                                        nn.Linear(512, num_classes))\n",
        "        \n",
        "    def forward(self, xb):\n",
        "        out = self.conv1(xb)\n",
        "        out = self.conv2(out)\n",
        "        out = self.res1(out) + out\n",
        "        out = self.conv3(out)\n",
        "        out = self.conv4(out)\n",
        "        out = self.res2(out) + out\n",
        "        out = self.classifier(out)\n",
        "        return out\n"
      ]
    },
    {
      "cell_type": "code",
      "execution_count": 11,
      "metadata": {},
      "outputs": [],
      "source": [
        "class CIFAR10_truncated(Dataset):\n",
        "\n",
        "    def __init__(self, root, dataidxs=None, train=True, transform=None, target_transform=None, download=False):\n",
        "\n",
        "        self.root = root\n",
        "        self.dataidxs = dataidxs\n",
        "        self.train = train\n",
        "        self.transform = transform\n",
        "        self.target_transform = target_transform\n",
        "        self.download = download\n",
        "\n",
        "        self.data, self.target = self.__build_truncated_dataset__()\n",
        "\n",
        "    def __build_truncated_dataset__(self):\n",
        "\n",
        "        cifar_dataobj = datasets.CIFAR10(self.root, self.train, self.transform, self.target_transform, self.download)\n",
        "\n",
        "        data = np.array(cifar_dataobj.data)\n",
        "        target = np.array(cifar_dataobj.targets)\n",
        "\n",
        "        if self.dataidxs is not None:\n",
        "            data = data[self.dataidxs]\n",
        "            target = target[self.dataidxs]\n",
        "\n",
        "        return data, target\n",
        "\n",
        "    def __getitem__(self, index):\n",
        "        \"\"\"\n",
        "        Args:\n",
        "            index (int): Index\n",
        "\n",
        "        Returns:\n",
        "            tuple: (image, target) where target is index of the target class.\n",
        "        \"\"\"\n",
        "        img, target = self.data[index], self.target[index]\n",
        "\n",
        "        if self.transform is not None:\n",
        "            img = self.transform(img)\n",
        "\n",
        "        if self.target_transform is not None:\n",
        "            target = self.target_transform(target)\n",
        "\n",
        "        return img, target\n",
        "\n",
        "    def __len__(self):\n",
        "        return len(self.data)"
      ]
    },
    {
      "cell_type": "code",
      "execution_count": 12,
      "metadata": {
        "id": "cRVoTdg5cowo"
      },
      "outputs": [],
      "source": [
        "transform_train = transforms.Compose([transforms.ToTensor(),\n",
        "                                      transforms.RandomCrop(32, padding=4),\n",
        "                                      transforms.RandomHorizontalFlip(),\n",
        "                                      transforms.Normalize(mean=[x / 255.0 for x in [125.3, 123.0, 113.9]],\n",
        "                                     std=[x / 255.0 for x in [63.0, 62.1, 66.7]])])\n",
        "transform_test = transforms.Compose([\n",
        "    transforms.ToTensor(),\n",
        "    transforms.Normalize(mean=[x / 255.0 for x in [125.3, 123.0, 113.9]], std=[x / 255.0 for x in [63.0, 62.1, 66.7]])])"
      ]
    },
    {
      "cell_type": "code",
      "execution_count": 13,
      "metadata": {
        "colab": {
          "base_uri": "https://localhost:8080/"
        },
        "id": "ApAnVijabpCO",
        "outputId": "ead7b612-e8d1-48a4-932a-3104e1555c93"
      },
      "outputs": [
        {
          "name": "stdout",
          "output_type": "stream",
          "text": [
            "Files already downloaded and verified\n",
            "Files already downloaded and verified\n"
          ]
        }
      ],
      "source": [
        "# CIFAR10 Data loading\n",
        "train_dataset = CIFAR10_truncated('./data', train=True, download=True, transform=transform_train)\n",
        "test_dataset = CIFAR10_truncated('./data', train=False, download=True, transform=transform_test)\n",
        "\n",
        "X_train, y_train = train_dataset.data, train_dataset.target\n",
        "X_test, y_test = test_dataset.data, test_dataset.target"
      ]
    },
    {
      "cell_type": "code",
      "execution_count": 14,
      "metadata": {},
      "outputs": [],
      "source": [
        "def record_net_data_stats(y_train, net_dataidx_map):\n",
        "\n",
        "    net_cls_counts = {}\n",
        "\n",
        "    for net_i, dataidx in net_dataidx_map.items():\n",
        "        unq, unq_cnt = np.unique(y_train[dataidx], return_counts=True)\n",
        "        tmp = {unq[i]: unq_cnt[i] for i in range(len(unq))}\n",
        "        net_cls_counts[net_i] = tmp\n",
        "\n",
        "    #print('Data statistics: %s' % str(net_cls_counts))\n",
        "\n",
        "    return net_cls_counts"
      ]
    },
    {
      "cell_type": "code",
      "execution_count": 15,
      "metadata": {},
      "outputs": [],
      "source": [
        "class DatasetSplit(Dataset):\n",
        "    def __init__(self, dataset, idxs):\n",
        "        self.dataset = dataset\n",
        "        self.targets = dataset.targets\n",
        "        self.idxs = list(idxs)\n",
        "\n",
        "    def __len__(self):\n",
        "        return len(self.idxs)\n",
        "\n",
        "    def __getitem__(self, item):\n",
        "        image, label = self.dataset[self.idxs[item]]\n",
        "        return image, label"
      ]
    },
    {
      "cell_type": "code",
      "execution_count": 16,
      "metadata": {
        "id": "7WqBz6HobwuF"
      },
      "outputs": [],
      "source": [
        "# for IID case\n",
        "def generate_iid_cifar(X_train,y_train, num_of_clients):\n",
        "    \"\"\"\n",
        "    Sample I.I.D. client data from CIFAR10 dataset\n",
        "    :param n_nets: Number of clients\n",
        "    :return: Tuple containing train and test datasets, data index map for each client, and train data class counts\n",
        "    \"\"\"\n",
        "    \n",
        "    n_train = X_train.shape[0]\n",
        "\n",
        "    # Shuffle and partition the data\n",
        "    idxs = np.arange(n_train)\n",
        "    np.random.shuffle(idxs)\n",
        "\n",
        "    net_data_idx_map = {}\n",
        "    batch_idxs = np.array_split(idxs, num_of_clients)\n",
        "\n",
        "    for i in range(num_of_clients):\n",
        "        net_data_idx_map[i] = batch_idxs[i]\n",
        "\n",
        "    traindata_class_counts = record_net_data_stats(y_train, net_data_idx_map)\n",
        "\n",
        "    return net_data_idx_map, traindata_class_counts\n"
      ]
    },
    {
      "cell_type": "code",
      "execution_count": 17,
      "metadata": {},
      "outputs": [],
      "source": [
        "def generate_noniid_cifar(X_train,y_train, num_of_clients, alpha=0.5):\n",
        "    \"\"\"\n",
        "    Sample non I.I.D. client data from CIFAR10 dataset\n",
        "    :param dataset: \n",
        "    :param num_users: \n",
        "    :return: \n",
        "    \"\"\"\n",
        "\n",
        "    n_train = len(X_train.shape)\n",
        "\n",
        "    min_size = 0\n",
        "    K = 10\n",
        "    N = len(y_train)\n",
        "    net_dataidx_map = {}\n",
        "\n",
        "    while min_size < 10:\n",
        "        idx_batch = [[] for _ in range(num_of_clients)]\n",
        "        for k in range(K):\n",
        "            idx_k = np.where(y_train == k)[0]\n",
        "            np.random.shuffle(idx_k)\n",
        "            proportions = np.random.dirichlet(np.repeat(alpha, num_of_clients))\n",
        "            ## Balance\n",
        "            proportions = np.array([p*(len(idx_j)<N/num_of_clients) for p,idx_j in zip(proportions,idx_batch)])\n",
        "            proportions = proportions/proportions.sum()\n",
        "            proportions = (np.cumsum(proportions)*len(idx_k)).astype(int)[:-1]\n",
        "            idx_batch = [idx_j + idx.tolist() for idx_j,idx in zip(idx_batch,np.split(idx_k,proportions))]\n",
        "            min_size = min([len(idx_j) for idx_j in idx_batch])\n",
        "\n",
        "    for j in range(num_of_clients):\n",
        "        np.random.shuffle(idx_batch[j])\n",
        "        net_dataidx_map[j] = idx_batch[j]\n",
        "    traindata_class_counts = record_net_data_stats(y_train, net_dataidx_map)\n",
        "\n",
        "    return net_dataidx_map, traindata_class_counts"
      ]
    },
    {
      "cell_type": "code",
      "execution_count": 18,
      "metadata": {},
      "outputs": [],
      "source": [
        "#iid_dataidx_map, iid_traindata_cls_counts = generate_iid_cifar(X_train,y_train, num_clients)"
      ]
    },
    {
      "cell_type": "code",
      "execution_count": 19,
      "metadata": {},
      "outputs": [],
      "source": [
        "noniid_dataidx_map, noniid_traindata_cls_counts = generate_noniid_cifar(X_train,y_train, num_clients)"
      ]
    },
    {
      "cell_type": "code",
      "execution_count": 20,
      "metadata": {},
      "outputs": [
        {
          "data": {
            "image/png": "[encoded data removed]",
            "text/plain": [
              "<Figure size 2000x800 with 10 Axes>"
            ]
          },
          "metadata": {},
          "output_type": "display_data"
        }
      ],
      "source": [
        "import numpy as np\n",
        "import matplotlib.pyplot as plt\n",
        "from torchvision import datasets, transforms\n",
        "from collections import Counter\n",
        "\n",
        "# Assuming you have already run the partition_data function and obtained the following:\n",
        "# X_train, y_train, X_test, y_test, net_dataidx_map, traindata_cls_counts\n",
        "\n",
        "def visualize_client_distribution(traindata_cls_counts, n_clients):\n",
        "    \"\"\"\n",
        "    Visualizes the class distribution for each client.\n",
        "    \n",
        "    :param traindata_cls_counts: Dictionary of class counts per client\n",
        "    :param n_clients: Number of clients\n",
        "    \"\"\"\n",
        "    fig, axes = plt.subplots(n_clients // 5, 5, figsize=(20, 4 * (n_clients // 5)))\n",
        "    axes = axes.flatten()\n",
        "\n",
        "    for client_id, cls_counts in traindata_cls_counts.items():\n",
        "        classes = list(cls_counts.keys())\n",
        "        counts = list(cls_counts.values())\n",
        "\n",
        "        axes[client_id].bar(classes, counts)\n",
        "        axes[client_id].set_xticks(classes)\n",
        "        axes[client_id].set_xticklabels(classes)\n",
        "        axes[client_id].set_title(f'Client {client_id}')\n",
        "        axes[client_id].set_xlabel('Class')\n",
        "        axes[client_id].set_ylabel('Number of samples')\n",
        "\n",
        "    plt.tight_layout()\n",
        "    plt.show()\n",
        "\n",
        "# Visualize the distribution of the class counts for each client\n",
        "visualize_client_distribution(noniid_traindata_cls_counts, num_clients)"
      ]
    },
    {
      "cell_type": "code",
      "execution_count": 21,
      "metadata": {
        "id": "bXma7Ut0bz2Z"
      },
      "outputs": [],
      "source": [
        "# Initialize and synchronize models###\n",
        "global_model = ResNet9(\n",
        "    in_channels=num_channels, num_classes=num_classes).to(device)\n",
        "criterion = nn.CrossEntropyLoss()"
      ]
    },
    {
      "cell_type": "code",
      "execution_count": 22,
      "metadata": {
        "colab": {
          "base_uri": "https://localhost:8080/"
        },
        "id": "NJ5AHOOi3f57",
        "outputId": "84123030-b73d-43d8-c4e0-553873c91fef"
      },
      "outputs": [],
      "source": [
        "# summary(global_model, (3, 32, 32), device=\"cuda\")"
      ]
    },
    {
      "cell_type": "code",
      "execution_count": 23,
      "metadata": {},
      "outputs": [
        {
          "name": "stdout",
          "output_type": "stream",
          "text": [
            "conv1.0.weight is on cuda:3\n",
            "conv1.0.bias is on cuda:3\n",
            "conv1.1.weight is on cuda:3\n",
            "conv1.1.bias is on cuda:3\n",
            "conv2.0.weight is on cuda:3\n",
            "conv2.0.bias is on cuda:3\n",
            "conv2.1.weight is on cuda:3\n",
            "conv2.1.bias is on cuda:3\n",
            "res1.0.0.weight is on cuda:3\n",
            "res1.0.0.bias is on cuda:3\n",
            "res1.0.1.weight is on cuda:3\n",
            "res1.0.1.bias is on cuda:3\n",
            "res1.1.0.weight is on cuda:3\n",
            "res1.1.0.bias is on cuda:3\n",
            "res1.1.1.weight is on cuda:3\n",
            "res1.1.1.bias is on cuda:3\n",
            "conv3.0.weight is on cuda:3\n",
            "conv3.0.bias is on cuda:3\n",
            "conv3.1.weight is on cuda:3\n",
            "conv3.1.bias is on cuda:3\n",
            "conv4.0.weight is on cuda:3\n",
            "conv4.0.bias is on cuda:3\n",
            "conv4.1.weight is on cuda:3\n",
            "conv4.1.bias is on cuda:3\n",
            "res2.0.0.weight is on cuda:3\n",
            "res2.0.0.bias is on cuda:3\n",
            "res2.0.1.weight is on cuda:3\n",
            "res2.0.1.bias is on cuda:3\n",
            "res2.1.0.weight is on cuda:3\n",
            "res2.1.0.bias is on cuda:3\n",
            "res2.1.1.weight is on cuda:3\n",
            "res2.1.1.bias is on cuda:3\n",
            "classifier.3.weight is on cuda:3\n",
            "classifier.3.bias is on cuda:3\n"
          ]
        }
      ],
      "source": [
        "# Example for checking device of each parameter in a model\n",
        "for name, param in global_model.named_parameters():\n",
        "    print(f\"{name} is on {param.device}\")"
      ]
    },
    {
      "cell_type": "code",
      "execution_count": 24,
      "metadata": {
        "id": "J0okEWXv45np"
      },
      "outputs": [],
      "source": [
        "# from torchviz import make_dot\n",
        "\n",
        "# # Sample input to model for visualization\n",
        "# sample_input = torch.randn(1, num_channels, 32, 32).to(device)\n",
        "# model_vis = LeNet(num_classes).to(device)\n",
        "\n",
        "# # Visualize the model\n",
        "# model_dot = make_dot(global_model(sample_input), params=dict(list(global_model.named_parameters())))\n",
        "# model_dot.render(\"model_architecture\", format=\"png\")  # Saves the diagram as PNG"
      ]
    },
    {
      "cell_type": "code",
      "execution_count": 25,
      "metadata": {
        "id": "N5IEM7bdb2b4"
      },
      "outputs": [],
      "source": [
        "# Client training function\n",
        "def client_train(model: nn.Module, loader: DataLoader, optimizer, criterion, local_rounds:int):\n",
        "    model.train()\n",
        "    epoch_loss = []\n",
        "    epoch_acc = []\n",
        "    for _ in trange(local_rounds):\n",
        "        batch_loss = []\n",
        "        for batch_idx, (data, target) in enumerate(loader):\n",
        "            data, target = data.to(device), target.to(device)\n",
        "            optimizer.zero_grad()\n",
        "            output = model(data)\n",
        "            loss = criterion(output, target)\n",
        "            loss.backward()\n",
        "            optimizer.step()\n",
        "            batch_loss.append(loss.item())\n",
        "\n",
        "            _, pred = torch.max(output, dim=1)\n",
        "            correct_train = pred.eq(target.data.view_as(pred))\n",
        "            accuracy_train = torch.mean(correct_train.type(torch.FloatTensor))\n",
        "            epoch_acc.append(accuracy_train.item())\n",
        "\n",
        "        epoch_loss.append(sum(batch_loss) / len(batch_loss))\n",
        "    return model.state_dict(), sum(epoch_loss) / len(epoch_loss), sum(epoch_acc) / len(epoch_acc)"
      ]
    },
    {
      "cell_type": "code",
      "execution_count": 26,
      "metadata": {
        "id": "bAXYEu_Db4jX"
      },
      "outputs": [],
      "source": [
        "# 'FedAvg' aggregation\n",
        "def FedAvg(w):\n",
        "    w_avg = copy.deepcopy(w[0])\n",
        "    for k in w_avg.keys():\n",
        "        for i in range(1, len(w)):\n",
        "            w_avg[k] += w[i][k]\n",
        "        w_avg[k] = torch.div(w_avg[k], len(w))\n",
        "    return w_avg"
      ]
    },
    {
      "cell_type": "code",
      "execution_count": 27,
      "metadata": {
        "id": "Kx1_Y0onb_Qu"
      },
      "outputs": [],
      "source": [
        "# Evaluate on Test dataset\n",
        "def evaluate(model, datatest, test_bs, device):\n",
        "    model.eval()\n",
        "    # testing\n",
        "    test_loss = 0\n",
        "    correct = 0\n",
        "    data_loader = DataLoader(datatest, batch_size=test_bs)\n",
        "    with torch.no_grad():\n",
        "        for data, target in data_loader:\n",
        "            data, target = data.to(device), target.to(device)\n",
        "            log_probs = model(data)\n",
        "            # sum up batch loss\n",
        "            test_loss += F.cross_entropy(log_probs,\n",
        "                                         target, reduction='sum').item()\n",
        "            # get the index of the max log-probability\n",
        "            y_pred = log_probs.data.max(1, keepdim=True)[1]\n",
        "            correct += y_pred.eq(target.data.view_as(y_pred)\n",
        "                                 ).long().cpu().sum()\n",
        "\n",
        "        test_loss /= len(data_loader.dataset)\n",
        "        accuracy = 100.00 * correct.item() / len(data_loader.dataset)\n",
        "    return accuracy, test_loss"
      ]
    },
    {
      "cell_type": "code",
      "execution_count": 28,
      "metadata": {},
      "outputs": [],
      "source": [
        "# for model in client_models:\n",
        "#   model.load_state_dict(global_model.state_dict())"
      ]
    },
    {
      "cell_type": "code",
      "execution_count": 29,
      "metadata": {},
      "outputs": [],
      "source": [
        "# # Evaluation on test dataset for each round\n",
        "# client_acc = []\n",
        "# for client in selected_clients:\n",
        "#     cur_auc, test_loss = evaluate(\n",
        "#         sampled_clients_models[client], test_dataset, test_bs, device)\n",
        "#     client_acc.append(cur_auc)\n",
        "# print(f'Round Test, Test Loss: {test_loss:.4f}, Test Accuracy: {cur_auc:.2f}%')"
      ]
    },
    {
      "cell_type": "code",
      "execution_count": 30,
      "metadata": {},
      "outputs": [],
      "source": [
        "# client_acc"
      ]
    },
    {
      "cell_type": "code",
      "execution_count": 31,
      "metadata": {},
      "outputs": [],
      "source": [
        "# optimizer = SGD(\n",
        "#         net.parameters(), lr=learning_rate, momentum=momentum, weight_decay=weight_decay\n",
        "#     )"
      ]
    },
    {
      "cell_type": "code",
      "execution_count": 32,
      "metadata": {},
      "outputs": [],
      "source": [
        "trained_weights = global_model.state_dict()\n",
        "shapes = {key: tensor.shape for key, tensor in trained_weights.items()}\n",
        "sizes = {key: tensor.numel() for key, tensor in trained_weights.items()}\n",
        "\n",
        "clients_models = {i: ResNet9(in_channels=num_channels, num_classes=num_classes).to(device) for i in range(num_clients)}\n",
        "optimizers={}\n",
        "for key, model in clients_models.items():\n",
        "   optimizers[key] =  torch.optim.Adam(model.parameters(), lr=lr)\n",
        "\n",
        "schedulers={}\n",
        "for key, optimizer in optimizers.items():\n",
        "   schedulers[key] =  torch.optim.lr_scheduler.MultiStepLR(optimizer, milestones=milestones, gamma=gamma)"
      ]
    },
    {
      "cell_type": "code",
      "execution_count": 33,
      "metadata": {},
      "outputs": [
        {
          "name": "stdout",
          "output_type": "stream",
          "text": [
            "Round Test, Test Loss: 2.3037, Test Accuracy: 11.75%\n"
          ]
        }
      ],
      "source": [
        "# Evaluation on test dataset for each round\n",
        "cur_auc, test_loss = evaluate(\n",
        "   global_model, test_dataset, test_bs, device)\n",
        "print(f'Round Test, Test Loss: {test_loss:.4f}, Test Accuracy: {cur_auc:.2f}%')"
      ]
    },
    {
      "cell_type": "code",
      "execution_count": 34,
      "metadata": {},
      "outputs": [
        {
          "name": "stdout",
          "output_type": "stream",
          "text": [
            "Round Test, Test Loss: 2.3044, Test Accuracy: 10.18%\n"
          ]
        }
      ],
      "source": [
        "# Evaluation on test dataset for each round\n",
        "cur_auc, test_loss = evaluate(\n",
        "    clients_models[0], test_dataset, test_bs, device)\n",
        "print(f'Round Test, Test Loss: {test_loss:.4f}, Test Accuracy: {cur_auc:.2f}%')"
      ]
    },
    {
      "cell_type": "code",
      "execution_count": 35,
      "metadata": {},
      "outputs": [],
      "source": [
        "for model in clients_models.values():\n",
        "  model.load_state_dict(global_model.state_dict())"
      ]
    },
    {
      "cell_type": "code",
      "execution_count": 36,
      "metadata": {},
      "outputs": [
        {
          "name": "stdout",
          "output_type": "stream",
          "text": [
            "Round Test, Test Loss: 2.3037, Test Accuracy: 11.75%\n"
          ]
        }
      ],
      "source": [
        "# Evaluation on test dataset for each round\n",
        "cur_auc, test_loss = evaluate(\n",
        "    clients_models[0], test_dataset, test_bs, device)\n",
        "print(f'Round Test, Test Loss: {test_loss:.4f}, Test Accuracy: {cur_auc:.2f}%')"
      ]
    },
    {
      "cell_type": "code",
      "execution_count": 37,
      "metadata": {},
      "outputs": [
        {
          "data": {
            "text/plain": [
              "[4353, 5490, 5348, 3466, 7259, 5299, 5090, 4720, 4663, 4312]"
            ]
          },
          "execution_count": 37,
          "metadata": {},
          "output_type": "execute_result"
        }
      ],
      "source": [
        "client_dataset_cnt = [len(v) for k, v in noniid_dataidx_map.items()]\n",
        "client_dataset_cnt"
      ]
    },
    {
      "cell_type": "code",
      "execution_count": 38,
      "metadata": {},
      "outputs": [
        {
          "data": {
            "text/plain": [
              "50000"
            ]
          },
          "execution_count": 38,
          "metadata": {},
          "output_type": "execute_result"
        }
      ],
      "source": [
        "np.sum(client_dataset_cnt)"
      ]
    },
    {
      "cell_type": "code",
      "execution_count": 39,
      "metadata": {},
      "outputs": [],
      "source": [
        "def flatten_resnet_parameters(state_dict):\n",
        "    \"\"\"\n",
        "    Flatten and concatenate all parameters from a state_dict into a single vector.\n",
        "    \"\"\"\n",
        "    flat_params = torch.cat([p.view(-1).float() for p in state_dict.values()])\n",
        "    return flat_params\n",
        "\n",
        "def reconstruct_parameters(flat_params, shapes, sizes, trained_weights):\n",
        "    \"\"\"\n",
        "    Reconstruct the original tensors from a flattened parameter tensor.\n",
        "    \n",
        "    :param flat_params: 1D tensor containing all weights concatenated\n",
        "    :param shapes: Dictionary of parameter names to their shapes\n",
        "    :param sizes: Dictionary of parameter names to their sizes (number of elements)\n",
        "    :param trained_weights: Original state_dict containing the data types\n",
        "    :return: OrderedDict of reconstructed tensors with their original shapes and types\n",
        "    \"\"\"\n",
        "    reconstructed_params = OrderedDict()\n",
        "    offset = 0\n",
        "    for key in shapes:\n",
        "        num_elements = sizes[key]\n",
        "        # Extract the relevant slice from the flattened tensor\n",
        "        param_slice = flat_params[offset:offset + num_elements]\n",
        "        # Reshape it according to the original shape and convert to the original data type\n",
        "        reconstructed_params[key] = param_slice.view(shapes[key])\n",
        "        offset += num_elements\n",
        "    return reconstructed_params"
      ]
    },
    {
      "cell_type": "code",
      "execution_count": 40,
      "metadata": {},
      "outputs": [],
      "source": [
        "def segment_resnet_parameters(flat_params, num_segments):\n",
        "    \"\"\"\n",
        "    Divide the flat parameters into equal segments, ensuring all elements are included.\n",
        "    \"\"\"\n",
        "    total_len = len(flat_params)\n",
        "    segment_size = total_len // num_segments\n",
        "    remainder = total_len % num_segments\n",
        "    \n",
        "    segments = []\n",
        "    start = 0\n",
        "    for i in range(num_segments):\n",
        "        # Calculate end point for the current segment\n",
        "        end = start + segment_size + (1 if i < remainder else 0)\n",
        "        segments.append(flat_params[start:end])\n",
        "        start = end\n",
        "\n",
        "    return segments\n"
      ]
    },
    {
      "cell_type": "code",
      "execution_count": 41,
      "metadata": {},
      "outputs": [],
      "source": [
        "from typing import Dict\n",
        "\n",
        "def preprocess_weights(weights: Dict, num_segments):\n",
        "    \"\"\"\n",
        "    Preprocess the weights of a model to prepare for federated learning.\n",
        "    \"\"\"\n",
        "    # Flatten the parameters\n",
        "    # flat_params = {}\n",
        "    # for item in weights:\n",
        "    #     flat_params[list(item.keys())[0]] = flatten_resnet_parameters(list(item.values())[0])\n",
        "    flat_params_n = {}\n",
        "    for key, value in weights.items():\n",
        "        flat_params_n[key] = flatten_resnet_parameters(value)\n",
        "\n",
        "    # Segment the parameters\n",
        "    segmented_params = {}\n",
        "    for key, flat_param in flat_params_n.items():\n",
        "        segmented_params[key] = segment_resnet_parameters(flat_param, num_segments)\n",
        "\n",
        "    return flat_params_n, segmented_params"
      ]
    },
    {
      "cell_type": "code",
      "execution_count": 42,
      "metadata": {},
      "outputs": [],
      "source": [
        "def extract_shared_segments(clients_dict, client_shared_segments):\n",
        "    \"\"\"\n",
        "    Extract segments from each client's data based on the segments they are supposed to share.\n",
        "    \n",
        "    :param clients_dict: Dictionary containing each client's data.\n",
        "    :param client_shared_segments: Dictionary indicating which segments each client should share.\n",
        "    :return: A dictionary with client IDs as keys and the segments they are sharing as values.\n",
        "    \"\"\"\n",
        "    shared_data = {}\n",
        "    for client_id, segment_id in client_shared_segments.items():\n",
        "        # Initialize dictionary to hold shared segments for the current client\n",
        "        shared_data[client_id] = {}\n",
        "        # Loop through the list of segment IDs this client should share\n",
        "        # for segment_id in segments:\n",
        "        shared_data[client_id][segment_id] = clients_dict[client_id][segment_id]\n",
        "    return shared_data"
      ]
    },
    {
      "cell_type": "code",
      "execution_count": 43,
      "metadata": {},
      "outputs": [],
      "source": [
        "def reconstruct_parameters(flat_params, shapes, sizes, trained_weights):\n",
        "    \"\"\"\n",
        "    Reconstruct the original tensors from a flattened parameter tensor.\n",
        "    \n",
        "    :param flat_params: 1D tensor containing all weights concatenated\n",
        "    :param shapes: Dictionary of parameter names to their shapes\n",
        "    :param sizes: Dictionary of parameter names to their sizes (number of elements)\n",
        "    :param trained_weights: Original state_dict containing the data types\n",
        "    :return: OrderedDict of reconstructed tensors with their original shapes and types\n",
        "    \"\"\"\n",
        "    reconstructed_params = OrderedDict()\n",
        "    offset = 0\n",
        "    for key in shapes:\n",
        "        num_elements = sizes[key]\n",
        "        # Extract the relevant slice from the flattened tensor\n",
        "        param_slice = flat_params[offset:offset + num_elements]\n",
        "        # Reshape it according to the original shape and convert to the original data type\n",
        "        reconstructed_params[key] = param_slice.view(shapes[key]).to(trained_weights[key].dtype)\n",
        "        offset += num_elements\n",
        "    return reconstructed_params"
      ]
    },
    {
      "cell_type": "code",
      "execution_count": 44,
      "metadata": {},
      "outputs": [],
      "source": [
        "def aggregate_data_by_key(shared_data):\n",
        "    \"\"\"\n",
        "    Aggregate data received from clients by key.\n",
        "    \n",
        "    :param shared_data: Dictionary with client IDs as keys and their shared segments as values.\n",
        "    :return: A dictionary with aggregated data per segment.\n",
        "    \"\"\"\n",
        "    aggregation = {}\n",
        "    count = {}\n",
        "\n",
        "    # Simulate the aggregation process based on keys\n",
        "    for client_data in shared_data.values():\n",
        "        for key, values in client_data.items():\n",
        "            if key in aggregation:\n",
        "                # Perform element-wise addition directly on tensors\n",
        "                aggregation[key] += values\n",
        "                count[key] += 1\n",
        "            else:\n",
        "                # Initialize the aggregation for new keys\n",
        "                aggregation[key] = values.clone()  \n",
        "                count[key] = 1\n",
        "\n",
        "    # Divide each aggregated tensor by its respective count to get the mean\n",
        "    for key in aggregation.keys():\n",
        "        aggregation[key] = aggregation[key] / count[key]\n",
        "\n",
        "    return aggregation"
      ]
    },
    {
      "cell_type": "code",
      "execution_count": 45,
      "metadata": {},
      "outputs": [],
      "source": [
        "def weighted_aggregation(shared_data, num_examples):\n",
        "    \"\"\"\n",
        "    Aggregate data received from clients by key.\n",
        "    \n",
        "    :param shared_data: Dictionary with client IDs as keys and their shared segments as values.\n",
        "    :return: A dictionary with aggregated data per segment.\n",
        "    \"\"\"\n",
        "    aggregation = {}\n",
        "    # Initialize an empty tensor for the weighted sum\n",
        "    weighted_sum = torch.zeros_like(next(iter(next(iter(shared_data.values())).values())))\n",
        "    # Total number of examples\n",
        "    total_examples = sum(num_examples)\n",
        "\n",
        "    # Multiply each segment by its corresponding client dataset count and sum them up\n",
        "    for client_id, value in shared_data.items():\n",
        "        for seg_id, tensor in value.items():\n",
        "            weighted_sum += tensor * num_examples[client_id]\n",
        "\n",
        "    # Calculate the weighted average\n",
        "    weighted_average = weighted_sum / total_examples\n",
        "    aggregation = {}\n",
        "    #  Update the shared_data dictionary with the weighted average\n",
        "    for client_id in shared_data.keys():\n",
        "        for seg_id in shared_data[client_id].keys():\n",
        "            aggregation[seg_id] = weighted_average\n",
        "\n",
        "    return aggregation"
      ]
    },
    {
      "cell_type": "code",
      "execution_count": 46,
      "metadata": {},
      "outputs": [],
      "source": [
        "def handle_partial_updates(client_weights: List[Dict], num_segments, client_segment_map):\n",
        "    \"\"\"\n",
        "    Handle partial updates from clients by averaging the weights.\n",
        "    \"\"\"\n",
        "    # Preprocess the weights\n",
        "    flat_params, segmented_params = preprocess_weights(client_weights, num_segments)\n",
        "    # Extract the shared segments\n",
        "    segments_to_send = extract_shared_segments(segmented_params, client_segment_map)\n",
        "    # Aggregate the shared segments\n",
        "    aggregated_segments = weighted_aggregation(segments_to_send, client_dataset_cnt)\n",
        "    \n",
        "    # Reconstruct the global modelE\n",
        "    # Now here aggregated segments will have only one segment, 0, 1 or 2\n",
        "    # hence we can only focus on those params.\n",
        "    # \n",
        "\n",
        "    # params = torch.cat([aggregated_segments[0], aggregated_segments[1], aggregated_segments[2]], dim=0)\n",
        "    #params = torch.cat([aggregated_segments[0], aggregated_segments[1]], dim=0)\n",
        "    # Reconstruct the parameters\n",
        "    # reconstructed_params = reconstruct_parameters(params, shapes, sizes, trained_weights)\n",
        "\n",
        "    # Check if both dictionaries have the same set of keys\n",
        "    # assert set(reconstructed_params.keys()) == set(trained_weights.keys()), \"Parameter keys do not match.\"\n",
        "    \n",
        "    return segmented_params, aggregated_segments"
      ]
    },
    {
      "cell_type": "code",
      "execution_count": 47,
      "metadata": {},
      "outputs": [],
      "source": [
        "def update_client_models(clients_segmented_params, aggregated_segments, client_segment_map):\n",
        "    \"\"\"\n",
        "    Update client models with aggregated segments and average unshared segments.\n",
        "    \"\"\"\n",
        "    # Initialize the updated parameters dictionary\n",
        "    updated_params = {}\n",
        "\n",
        "    # Iterate through each client's parameters\n",
        "    for client_id, segments in clients_segmented_params.items():\n",
        "        updated_segments = []\n",
        "        # Determine which segment this client shared\n",
        "        shared_segment_index = client_segment_map[client_id]\n",
        "        \n",
        "        # Iterate over all segments\n",
        "        for i, segment_data in enumerate(segments):\n",
        "            if i == shared_segment_index:\n",
        "                # Directly use the aggregated segment for the shared index\n",
        "                updated_segments.append(aggregated_segments[shared_segment_index])\n",
        "            else:\n",
        "                # Average the unshared segment with the corresponding aggregated segment\n",
        "                updated_segments.append(segment_data)\n",
        "\n",
        "        # Store the updated segments for this client\n",
        "        updated_params[client_id] = updated_segments\n",
        "    updated_client_segments = {}\n",
        "    for client_id, segments in updated_params.items():\n",
        "        updated_client_segments[client_id] = torch.cat(segments)\n",
        "\n",
        "    return updated_client_segments"
      ]
    },
    {
      "cell_type": "code",
      "execution_count": 48,
      "metadata": {},
      "outputs": [],
      "source": [
        "def extract_shared_segments(clients_dict, client_shared_segments):\n",
        "    \"\"\"\n",
        "    Extract segments from each client's data based on the segments they are supposed to share.\n",
        "    \n",
        "    :param clients_dict: Dictionary containing each client's data.\n",
        "    :param client_shared_segments: Dictionary indicating which segments each client should share.\n",
        "    :return: A dictionary with client IDs as keys and the segments they are sharing as values.\n",
        "    \"\"\"\n",
        "    shared_data = {}\n",
        "    for client_id, segment_id in client_shared_segments.items():\n",
        "        # Initialize dictionary to hold shared segments for the current client\n",
        "        shared_data[client_id] = {}\n",
        "        # Loop through the list of segment IDs this client should share\n",
        "        # for segment_id in segments:\n",
        "        shared_data[client_id][segment_id] = clients_dict[client_id][segment_id]\n",
        "    return shared_data"
      ]
    },
    {
      "cell_type": "code",
      "execution_count": 49,
      "metadata": {},
      "outputs": [],
      "source": [
        "def handle_segment_map(server_round):\n",
        "    \"\"\"\n",
        "    Handle the segment map for each round.\n",
        "    \"\"\"\n",
        "    # Initialize the segment map\n",
        "    client_segment_map = {}\n",
        "    # for first few rounds, share only the first segment\n",
        "    # if server_round < 6:\n",
        "    #     for client_id in range(num_clients):\n",
        "    #         client_segment_map[client_id] = 0\n",
        "    # if server_round < 10 and server_round >= 6:\n",
        "    #     for client_id in range(num_clients):\n",
        "    #         client_segment_map[client_id] = server_round % 2\n",
        "    # elif server_round > 40:\n",
        "    #     for client_id in range(num_clients):\n",
        "    #         client_segment_map[client_id] = 4\n",
        "    # else:\n",
        "        # Determine which segments each client should share\n",
        "    for client_id in range(num_clients):\n",
        "        # Assign the client's segment based on the round number\n",
        "        client_segment_map[client_id] = server_round % 4\n",
        "    return client_segment_map"
      ]
    },
    {
      "cell_type": "code",
      "execution_count": 50,
      "metadata": {},
      "outputs": [],
      "source": [
        "client_segment_map = {0: 0, 1: 0, 2: 0, 3: 0, 4: 0, 5: 0, 6: 0, 7: 0, 8: 0, 9: 0}"
      ]
    },
    {
      "cell_type": "code",
      "execution_count": 51,
      "metadata": {},
      "outputs": [],
      "source": [
        "client_weights = {i: clients_models[i].state_dict() for i in range(num_clients)}"
      ]
    },
    {
      "cell_type": "code",
      "execution_count": 52,
      "metadata": {},
      "outputs": [
        {
          "ename": "NameError",
          "evalue": "name 'num_segments' is not defined",
          "output_type": "error",
          "traceback": [
            "\u001b[0;31m---------------------------------------------------------------------------\u001b[0m",
            "\u001b[0;31mNameError\u001b[0m                                 Traceback (most recent call last)",
            "Cell \u001b[0;32mIn[52], line 2\u001b[0m\n\u001b[1;32m      1\u001b[0m \u001b[38;5;66;03m# Preprocess the weights\u001b[39;00m\n\u001b[0;32m----> 2\u001b[0m flat_params, segmented_params \u001b[38;5;241m=\u001b[39m preprocess_weights(client_weights, \u001b[43mnum_segments\u001b[49m)\n\u001b[1;32m      3\u001b[0m \u001b[38;5;66;03m# Extract the shared segments\u001b[39;00m\n\u001b[1;32m      4\u001b[0m segments_to_send \u001b[38;5;241m=\u001b[39m extract_shared_segments(segmented_params, client_segment_map)\n",
            "\u001b[0;31mNameError\u001b[0m: name 'num_segments' is not defined"
          ]
        }
      ],
      "source": [
        "# Preprocess the weights\n",
        "flat_params, segmented_params = preprocess_weights(client_weights, num_segments)\n",
        "# Extract the shared segments\n",
        "segments_to_send = extract_shared_segments(segmented_params, client_segment_map)\n",
        "# Aggregate the shared segments\n",
        "aggregated_segments = weighted_aggregation(segments_to_send, client_dataset_cnt)\n"
      ]
    },
    {
      "cell_type": "code",
      "execution_count": 68,
      "metadata": {},
      "outputs": [],
      "source": [
        "# Preprocess the weights\n",
        "flat_params, segmented_params = preprocess_weights(client_weights, num_segments)"
      ]
    },
    {
      "cell_type": "code",
      "execution_count": 71,
      "metadata": {},
      "outputs": [
        {
          "data": {
            "text/plain": [
              "10"
            ]
          },
          "execution_count": 71,
          "metadata": {},
          "output_type": "execute_result"
        }
      ],
      "source": [
        "num_segments"
      ]
    },
    {
      "cell_type": "code",
      "execution_count": 70,
      "metadata": {},
      "outputs": [
        {
          "data": {
            "text/plain": [
              "[tensor([-0.1568, -0.0683, -0.1534,  ...,  0.0233,  0.0091,  0.0066],\n",
              "        device='cuda:3'),\n",
              " tensor([ 0.0078,  0.0194, -0.0281,  ..., -0.0163,  0.0195,  0.0148],\n",
              "        device='cuda:3'),\n",
              " tensor([ 0.0276,  0.0049,  0.0055,  ...,  0.0030,  0.0132, -0.0109],\n",
              "        device='cuda:3'),\n",
              " tensor([-0.0095,  0.0032,  0.0085,  ...,  0.0066,  0.0058, -0.0102],\n",
              "        device='cuda:3'),\n",
              " tensor([-0.0071, -0.0025,  0.0016,  ..., -0.0137,  0.0056, -0.0015],\n",
              "        device='cuda:3'),\n",
              " tensor([ 0.0149,  0.0037,  0.0093,  ..., -0.0134,  0.0043,  0.0007],\n",
              "        device='cuda:3'),\n",
              " tensor([-0.0002, -0.0004, -0.0115,  ...,  0.0042, -0.0034,  0.0020],\n",
              "        device='cuda:3'),\n",
              " tensor([-0.0058, -0.0013,  0.0104,  ..., -0.0140,  0.0088,  0.0123],\n",
              "        device='cuda:3'),\n",
              " tensor([-0.0077,  0.0034,  0.0044,  ...,  0.0076,  0.0082, -0.0042],\n",
              "        device='cuda:3'),\n",
              " tensor([-0.0005,  0.0109,  0.0039,  ...,  0.0027, -0.0477,  0.0174],\n",
              "        device='cuda:3')]"
            ]
          },
          "execution_count": 70,
          "metadata": {},
          "output_type": "execute_result"
        }
      ],
      "source": [
        "segmented_params[0]"
      ]
    },
    {
      "cell_type": "code",
      "execution_count": 54,
      "metadata": {},
      "outputs": [
        {
          "data": {
            "text/plain": [
              "{0: tensor([-0.1568, -0.0683, -0.1534,  ...,  0.0233,  0.0091,  0.0066],\n",
              "        device='cuda:3')}"
            ]
          },
          "execution_count": 54,
          "metadata": {},
          "output_type": "execute_result"
        }
      ],
      "source": [
        "aggregated_segments"
      ]
    },
    {
      "cell_type": "code",
      "execution_count": 55,
      "metadata": {},
      "outputs": [],
      "source": [
        "flat_params_n = flatten_resnet_parameters(global_model.state_dict())\n",
        "# Segment the parameters\n",
        "segmented_params = segment_resnet_parameters(flat_params_n, 5)\n",
        "\n",
        "shared_segment_index = client_segment_map[selected_clients[0]]\n",
        "updated_global_params = [aggregated_params[i] if i == shared_segment_index else data for i, data in enumerate(segmented_params)]\n",
        "params = torch.cat(updated_global_params)"
      ]
    },
    {
      "cell_type": "code",
      "execution_count": 61,
      "metadata": {},
      "outputs": [
        {
          "data": {
            "text/plain": [
              "[tensor([-0.1123, -0.0291, -0.1130,  ..., -0.0191,  0.0155,  0.0105],\n",
              "        device='cuda:3'),\n",
              " tensor([ 0.0205, -0.0019,  0.0057,  ...,  0.0065,  0.0043, -0.0116],\n",
              "        device='cuda:3'),\n",
              " tensor([-7.6658e-03, -1.6071e-03,  2.6159e-03,  ..., -1.2120e-02,\n",
              "          4.4543e-03,  3.6053e-06], device='cuda:3'),\n",
              " tensor([-0.0004,  0.0005, -0.0119,  ..., -0.0036, -0.0118,  0.0090],\n",
              "        device='cuda:3'),\n",
              " tensor([ 0.0119, -0.0056,  0.0051,  ...,  0.0104, -0.0303,  0.0431],\n",
              "        device='cuda:3')]"
            ]
          },
          "execution_count": 61,
          "metadata": {},
          "output_type": "execute_result"
        }
      ],
      "source": [
        "segmented_params"
      ]
    },
    {
      "cell_type": "code",
      "execution_count": 63,
      "metadata": {},
      "outputs": [
        {
          "data": {
            "text/plain": [
              "0"
            ]
          },
          "execution_count": 63,
          "metadata": {},
          "output_type": "execute_result"
        }
      ],
      "source": [
        "shared_segment_index = client_segment_map[selected_clients[0]]\n",
        "shared_segment_index"
      ]
    },
    {
      "cell_type": "code",
      "execution_count": 67,
      "metadata": {},
      "outputs": [
        {
          "data": {
            "text/plain": [
              "1315971.6"
            ]
          },
          "execution_count": 67,
          "metadata": {},
          "output_type": "execute_result"
        }
      ],
      "source": [
        "6579858/5"
      ]
    },
    {
      "cell_type": "code",
      "execution_count": 66,
      "metadata": {},
      "outputs": [
        {
          "data": {
            "text/plain": [
              "torch.Size([1315972])"
            ]
          },
          "execution_count": 66,
          "metadata": {},
          "output_type": "execute_result"
        }
      ],
      "source": [
        "segmented_params[0].shape"
      ]
    },
    {
      "cell_type": "code",
      "execution_count": 65,
      "metadata": {},
      "outputs": [
        {
          "data": {
            "text/plain": [
              "torch.Size([657986])"
            ]
          },
          "execution_count": 65,
          "metadata": {},
          "output_type": "execute_result"
        }
      ],
      "source": [
        "aggregated_params[0].shape"
      ]
    },
    {
      "cell_type": "code",
      "execution_count": 60,
      "metadata": {},
      "outputs": [
        {
          "data": {
            "text/plain": [
              "torch.Size([6579858])"
            ]
          },
          "execution_count": 60,
          "metadata": {},
          "output_type": "execute_result"
        }
      ],
      "source": [
        "flat_params_n.shape"
      ]
    },
    {
      "cell_type": "code",
      "execution_count": 58,
      "metadata": {},
      "outputs": [
        {
          "data": {
            "text/plain": [
              "torch.Size([5921872])"
            ]
          },
          "execution_count": 58,
          "metadata": {},
          "output_type": "execute_result"
        }
      ],
      "source": [
        "params.shape"
      ]
    },
    {
      "cell_type": "code",
      "execution_count": 51,
      "metadata": {
        "colab": {
          "base_uri": "https://localhost:8080/"
        },
        "id": "OKcIqAX-cDBe",
        "outputId": "430da6c5-5b94-4d56-b7de-ffbc0f17c9b8"
      },
      "outputs": [
        {
          "name": "stdout",
          "output_type": "stream",
          "text": [
            "{0: 0, 1: 0, 2: 0, 3: 0, 4: 0, 5: 0, 6: 0, 7: 0, 8: 0, 9: 0}\n"
          ]
        },
        {
          "name": "stderr",
          "output_type": "stream",
          "text": [
            "100%|██████████| 10/10 [00:42<00:00,  4.28s/it]\n",
            "100%|██████████| 10/10 [00:31<00:00,  3.16s/it]\n",
            "100%|██████████| 10/10 [00:48<00:00,  4.82s/it]\n",
            "100%|██████████| 10/10 [00:48<00:00,  4.87s/it]\n",
            "100%|██████████| 10/10 [01:06<00:00,  6.62s/it]\n",
            "100%|██████████| 10/10 [00:39<00:00,  3.96s/it]\n",
            "100%|██████████| 10/10 [00:40<00:00,  4.02s/it]\n",
            "100%|██████████| 10/10 [00:50<00:00,  5.02s/it]\n",
            "100%|██████████| 10/10 [00:46<00:00,  4.64s/it]\n",
            "100%|██████████| 10/10 [00:42<00:00,  4.30s/it]\n"
          ]
        },
        {
          "name": "stdout",
          "output_type": "stream",
          "text": [
            "Round 1, Train loss: 0.9685, Test Loss: 2.6869, Test Accuracy: 10.00%\n",
            "{0: 1, 1: 1, 2: 1, 3: 1, 4: 1, 5: 1, 6: 1, 7: 1, 8: 1, 9: 1}\n"
          ]
        },
        {
          "name": "stderr",
          "output_type": "stream",
          "text": [
            "100%|██████████| 10/10 [00:49<00:00,  4.96s/it]\n",
            "100%|██████████| 10/10 [00:31<00:00,  3.12s/it]\n",
            "100%|██████████| 10/10 [00:39<00:00,  3.94s/it]\n",
            "100%|██████████| 10/10 [00:39<00:00,  3.93s/it]\n",
            "100%|██████████| 10/10 [00:46<00:00,  4.66s/it]\n",
            "100%|██████████| 10/10 [00:49<00:00,  4.91s/it]\n",
            "100%|██████████| 10/10 [00:42<00:00,  4.30s/it]\n",
            "100%|██████████| 10/10 [01:06<00:00,  6.60s/it]\n",
            "100%|██████████| 10/10 [00:42<00:00,  4.24s/it]\n",
            "100%|██████████| 10/10 [00:48<00:00,  4.83s/it]\n"
          ]
        },
        {
          "name": "stdout",
          "output_type": "stream",
          "text": [
            "Round 2, Train loss: 0.6407, Test Loss: 2.3150, Test Accuracy: 13.23%\n",
            "{0: 2, 1: 2, 2: 2, 3: 2, 4: 2, 5: 2, 6: 2, 7: 2, 8: 2, 9: 2}\n"
          ]
        },
        {
          "name": "stderr",
          "output_type": "stream",
          "text": [
            "100%|██████████| 10/10 [00:31<00:00,  3.13s/it]\n",
            "100%|██████████| 10/10 [00:39<00:00,  3.93s/it]\n",
            "100%|██████████| 10/10 [00:45<00:00,  4.56s/it]\n",
            "100%|██████████| 10/10 [00:38<00:00,  3.88s/it]\n",
            "100%|██████████| 10/10 [00:42<00:00,  4.29s/it]\n",
            "100%|██████████| 10/10 [00:42<00:00,  4.21s/it]\n",
            "100%|██████████| 10/10 [00:49<00:00,  4.98s/it]\n",
            "100%|██████████| 10/10 [00:48<00:00,  4.82s/it]\n",
            "100%|██████████| 10/10 [01:05<00:00,  6.57s/it]\n",
            "100%|██████████| 10/10 [00:47<00:00,  4.77s/it]\n"
          ]
        },
        {
          "name": "stdout",
          "output_type": "stream",
          "text": [
            "Round 3, Train loss: 0.3425, Test Loss: 2.3173, Test Accuracy: 10.02%\n",
            "{0: 3, 1: 3, 2: 3, 3: 3, 4: 3, 5: 3, 6: 3, 7: 3, 8: 3, 9: 3}\n"
          ]
        },
        {
          "name": "stderr",
          "output_type": "stream",
          "text": [
            "100%|██████████| 10/10 [00:45<00:00,  4.59s/it]\n",
            "100%|██████████| 10/10 [00:48<00:00,  4.85s/it]\n",
            "100%|██████████| 10/10 [00:31<00:00,  3.14s/it]\n",
            "100%|██████████| 10/10 [00:39<00:00,  3.93s/it]\n",
            "100%|██████████| 10/10 [01:05<00:00,  6.54s/it]\n",
            "100%|██████████| 10/10 [00:42<00:00,  4.24s/it]\n",
            "100%|██████████| 10/10 [00:49<00:00,  4.98s/it]\n",
            "100%|██████████| 10/10 [00:42<00:00,  4.23s/it]\n",
            "100%|██████████| 10/10 [00:48<00:00,  4.82s/it]\n",
            "100%|██████████| 10/10 [00:39<00:00,  3.95s/it]\n"
          ]
        },
        {
          "name": "stdout",
          "output_type": "stream",
          "text": [
            "Round 4, Train loss: 0.1974, Test Loss: 2.5227, Test Accuracy: 10.03%\n",
            "{0: 0, 1: 0, 2: 0, 3: 0, 4: 0, 5: 0, 6: 0, 7: 0, 8: 0, 9: 0}\n"
          ]
        },
        {
          "name": "stderr",
          "output_type": "stream",
          "text": [
            "100%|██████████| 10/10 [00:42<00:00,  4.29s/it]\n",
            "100%|██████████| 10/10 [00:50<00:00,  5.00s/it]\n",
            "100%|██████████| 10/10 [00:39<00:00,  3.91s/it]\n",
            "100%|██████████| 10/10 [00:42<00:00,  4.26s/it]\n",
            "100%|██████████| 10/10 [00:39<00:00,  3.96s/it]\n",
            "100%|██████████| 10/10 [00:48<00:00,  4.83s/it]\n",
            "100%|██████████| 10/10 [00:47<00:00,  4.74s/it]\n",
            "100%|██████████| 10/10 [00:46<00:00,  4.61s/it]\n",
            "100%|██████████| 10/10 [00:31<00:00,  3.14s/it]\n",
            "100%|██████████| 10/10 [01:07<00:00,  6.72s/it]\n"
          ]
        },
        {
          "name": "stdout",
          "output_type": "stream",
          "text": [
            "Round 5, Train loss: 0.1428, Test Loss: 2.5163, Test Accuracy: 11.45%\n",
            "{0: 1, 1: 1, 2: 1, 3: 1, 4: 1, 5: 1, 6: 1, 7: 1, 8: 1, 9: 1}\n"
          ]
        },
        {
          "name": "stderr",
          "output_type": "stream",
          "text": [
            "100%|██████████| 10/10 [00:42<00:00,  4.22s/it]\n",
            "100%|██████████| 10/10 [00:50<00:00,  5.04s/it]\n",
            "100%|██████████| 10/10 [00:39<00:00,  3.91s/it]\n",
            "100%|██████████| 10/10 [00:43<00:00,  4.32s/it]\n",
            "100%|██████████| 10/10 [00:48<00:00,  4.84s/it]\n",
            "100%|██████████| 10/10 [01:05<00:00,  6.52s/it]\n",
            "100%|██████████| 10/10 [00:48<00:00,  4.85s/it]\n",
            "100%|██████████| 10/10 [00:39<00:00,  3.97s/it]\n",
            "100%|██████████| 10/10 [00:46<00:00,  4.63s/it]\n",
            "100%|██████████| 10/10 [00:31<00:00,  3.17s/it]\n"
          ]
        },
        {
          "name": "stdout",
          "output_type": "stream",
          "text": [
            "Round 6, Train loss: 0.3171, Test Loss: 2.2723, Test Accuracy: 19.25%\n",
            "{0: 2, 1: 2, 2: 2, 3: 2, 4: 2, 5: 2, 6: 2, 7: 2, 8: 2, 9: 2}\n"
          ]
        },
        {
          "name": "stderr",
          "output_type": "stream",
          "text": [
            "100%|██████████| 10/10 [00:38<00:00,  3.86s/it]\n",
            "100%|██████████| 10/10 [00:50<00:00,  5.04s/it]\n",
            "100%|██████████| 10/10 [00:43<00:00,  4.31s/it]\n",
            "100%|██████████| 10/10 [00:48<00:00,  4.86s/it]\n",
            "100%|██████████| 10/10 [00:48<00:00,  4.90s/it]\n",
            "100%|██████████| 10/10 [01:05<00:00,  6.55s/it]\n",
            "100%|██████████| 10/10 [00:31<00:00,  3.19s/it]\n",
            "100%|██████████| 10/10 [00:40<00:00,  4.02s/it]\n",
            "100%|██████████| 10/10 [00:42<00:00,  4.26s/it]\n",
            "100%|██████████| 10/10 [00:46<00:00,  4.64s/it]\n"
          ]
        },
        {
          "name": "stdout",
          "output_type": "stream",
          "text": [
            "Round 7, Train loss: 0.1646, Test Loss: 2.2727, Test Accuracy: 19.59%\n",
            "{0: 3, 1: 3, 2: 3, 3: 3, 4: 3, 5: 3, 6: 3, 7: 3, 8: 3, 9: 3}\n"
          ]
        },
        {
          "name": "stderr",
          "output_type": "stream",
          "text": [
            "100%|██████████| 10/10 [00:47<00:00,  4.77s/it]\n",
            "100%|██████████| 10/10 [00:48<00:00,  4.85s/it]\n",
            "100%|██████████| 10/10 [00:39<00:00,  3.98s/it]\n",
            "100%|██████████| 10/10 [01:06<00:00,  6.66s/it]\n",
            "100%|██████████| 10/10 [00:39<00:00,  3.93s/it]\n",
            "100%|██████████| 10/10 [00:49<00:00,  4.96s/it]\n",
            "100%|██████████| 10/10 [00:46<00:00,  4.63s/it]\n",
            "100%|██████████| 10/10 [00:42<00:00,  4.29s/it]\n",
            "100%|██████████| 10/10 [00:31<00:00,  3.18s/it]\n",
            "100%|██████████| 10/10 [00:42<00:00,  4.27s/it]\n"
          ]
        },
        {
          "name": "stdout",
          "output_type": "stream",
          "text": [
            "Round 8, Train loss: 0.1072, Test Loss: 2.3058, Test Accuracy: 18.53%\n",
            "{0: 0, 1: 0, 2: 0, 3: 0, 4: 0, 5: 0, 6: 0, 7: 0, 8: 0, 9: 0}\n"
          ]
        },
        {
          "name": "stderr",
          "output_type": "stream",
          "text": [
            "100%|██████████| 10/10 [00:39<00:00,  3.95s/it]\n",
            "100%|██████████| 10/10 [00:48<00:00,  4.87s/it]\n",
            "100%|██████████| 10/10 [00:46<00:00,  4.67s/it]\n",
            "100%|██████████| 10/10 [00:50<00:00,  5.00s/it]\n",
            "100%|██████████| 10/10 [00:48<00:00,  4.81s/it]\n",
            "100%|██████████| 10/10 [00:31<00:00,  3.20s/it]\n",
            "100%|██████████| 10/10 [01:06<00:00,  6.62s/it]\n",
            "100%|██████████| 10/10 [00:39<00:00,  3.94s/it]\n",
            "100%|██████████| 10/10 [00:43<00:00,  4.32s/it]\n",
            "100%|██████████| 10/10 [00:42<00:00,  4.25s/it]\n"
          ]
        },
        {
          "name": "stdout",
          "output_type": "stream",
          "text": [
            "Round 9, Train loss: 0.0917, Test Loss: 1.9159, Test Accuracy: 45.06%\n",
            "{0: 1, 1: 1, 2: 1, 3: 1, 4: 1, 5: 1, 6: 1, 7: 1, 8: 1, 9: 1}\n"
          ]
        },
        {
          "name": "stderr",
          "output_type": "stream",
          "text": [
            "100%|██████████| 10/10 [00:39<00:00,  3.92s/it]\n",
            "100%|██████████| 10/10 [00:46<00:00,  4.62s/it]\n",
            "100%|██████████| 10/10 [01:06<00:00,  6.65s/it]\n",
            "100%|██████████| 10/10 [00:48<00:00,  4.89s/it]\n",
            "100%|██████████| 10/10 [00:49<00:00,  4.99s/it]\n",
            "100%|██████████| 10/10 [00:47<00:00,  4.77s/it]\n",
            "100%|██████████| 10/10 [00:31<00:00,  3.18s/it]\n",
            "100%|██████████| 10/10 [00:39<00:00,  3.96s/it]\n",
            "100%|██████████| 10/10 [00:42<00:00,  4.23s/it]\n",
            "100%|██████████| 10/10 [00:42<00:00,  4.28s/it]\n"
          ]
        },
        {
          "name": "stdout",
          "output_type": "stream",
          "text": [
            "Round 10, Train loss: 0.1957, Test Loss: 1.8607, Test Accuracy: 47.59%\n",
            "{0: 2, 1: 2, 2: 2, 3: 2, 4: 2, 5: 2, 6: 2, 7: 2, 8: 2, 9: 2}\n"
          ]
        },
        {
          "name": "stderr",
          "output_type": "stream",
          "text": [
            "100%|██████████| 10/10 [00:49<00:00,  4.97s/it]\n",
            "100%|██████████| 10/10 [01:05<00:00,  6.59s/it]\n",
            "100%|██████████| 10/10 [00:48<00:00,  4.80s/it]\n",
            "100%|██████████| 10/10 [00:40<00:00,  4.00s/it]\n",
            "100%|██████████| 10/10 [00:41<00:00,  4.17s/it]\n",
            "100%|██████████| 10/10 [00:31<00:00,  3.17s/it]\n",
            "100%|██████████| 10/10 [00:39<00:00,  3.92s/it]\n",
            "100%|██████████| 10/10 [00:42<00:00,  4.28s/it]\n",
            "100%|██████████| 10/10 [00:46<00:00,  4.61s/it]\n",
            "100%|██████████| 10/10 [00:47<00:00,  4.80s/it]\n"
          ]
        },
        {
          "name": "stdout",
          "output_type": "stream",
          "text": [
            "Round 11, Train loss: 0.1119, Test Loss: 1.8539, Test Accuracy: 46.32%\n",
            "{0: 3, 1: 3, 2: 3, 3: 3, 4: 3, 5: 3, 6: 3, 7: 3, 8: 3, 9: 3}\n"
          ]
        },
        {
          "name": "stderr",
          "output_type": "stream",
          "text": [
            "100%|██████████| 10/10 [00:42<00:00,  4.25s/it]\n",
            "100%|██████████| 10/10 [00:31<00:00,  3.13s/it]\n",
            "100%|██████████| 10/10 [00:42<00:00,  4.28s/it]\n",
            "100%|██████████| 10/10 [00:48<00:00,  4.86s/it]\n",
            "100%|██████████| 10/10 [01:06<00:00,  6.64s/it]\n",
            "100%|██████████| 10/10 [00:48<00:00,  4.84s/it]\n",
            "100%|██████████| 10/10 [00:49<00:00,  4.94s/it]\n",
            "100%|██████████| 10/10 [00:39<00:00,  3.91s/it]\n",
            "100%|██████████| 10/10 [00:39<00:00,  3.94s/it]\n",
            "100%|██████████| 10/10 [00:46<00:00,  4.63s/it]\n"
          ]
        },
        {
          "name": "stdout",
          "output_type": "stream",
          "text": [
            "Round 12, Train loss: 0.0788, Test Loss: 1.7281, Test Accuracy: 45.94%\n",
            "{0: 0, 1: 0, 2: 0, 3: 0, 4: 0, 5: 0, 6: 0, 7: 0, 8: 0, 9: 0}\n"
          ]
        },
        {
          "name": "stderr",
          "output_type": "stream",
          "text": [
            "100%|██████████| 10/10 [00:46<00:00,  4.62s/it]\n",
            "100%|██████████| 10/10 [00:39<00:00,  3.99s/it]\n",
            "100%|██████████| 10/10 [00:48<00:00,  4.86s/it]\n",
            "100%|██████████| 10/10 [00:39<00:00,  3.97s/it]\n",
            "100%|██████████| 10/10 [00:42<00:00,  4.22s/it]\n",
            "100%|██████████| 10/10 [00:48<00:00,  4.85s/it]\n",
            "100%|██████████| 10/10 [01:05<00:00,  6.54s/it]\n",
            "100%|██████████| 10/10 [00:31<00:00,  3.14s/it]\n",
            "100%|██████████| 10/10 [00:49<00:00,  4.96s/it]\n",
            "100%|██████████| 10/10 [00:42<00:00,  4.26s/it]\n"
          ]
        },
        {
          "name": "stdout",
          "output_type": "stream",
          "text": [
            "Round 13, Train loss: 0.0712, Test Loss: 1.4011, Test Accuracy: 62.49%\n",
            "{0: 1, 1: 1, 2: 1, 3: 1, 4: 1, 5: 1, 6: 1, 7: 1, 8: 1, 9: 1}\n"
          ]
        },
        {
          "name": "stderr",
          "output_type": "stream",
          "text": [
            "100%|██████████| 10/10 [00:38<00:00,  3.89s/it]\n",
            "100%|██████████| 10/10 [00:48<00:00,  4.83s/it]\n",
            "100%|██████████| 10/10 [00:49<00:00,  4.98s/it]\n",
            "100%|██████████| 10/10 [00:48<00:00,  4.83s/it]\n",
            "100%|██████████| 10/10 [00:31<00:00,  3.19s/it]\n",
            "100%|██████████| 10/10 [01:05<00:00,  6.54s/it]\n",
            "100%|██████████| 10/10 [00:46<00:00,  4.65s/it]\n",
            "100%|██████████| 10/10 [00:43<00:00,  4.30s/it]\n",
            "100%|██████████| 10/10 [00:39<00:00,  3.94s/it]\n",
            "100%|██████████| 10/10 [00:42<00:00,  4.23s/it]\n"
          ]
        },
        {
          "name": "stdout",
          "output_type": "stream",
          "text": [
            "Round 14, Train loss: 0.1362, Test Loss: 1.3658, Test Accuracy: 63.29%\n",
            "{0: 2, 1: 2, 2: 2, 3: 2, 4: 2, 5: 2, 6: 2, 7: 2, 8: 2, 9: 2}\n"
          ]
        },
        {
          "name": "stderr",
          "output_type": "stream",
          "text": [
            "100%|██████████| 10/10 [00:42<00:00,  4.25s/it]\n",
            "100%|██████████| 10/10 [01:06<00:00,  6.63s/it]\n",
            "100%|██████████| 10/10 [00:48<00:00,  4.90s/it]\n",
            "100%|██████████| 10/10 [00:39<00:00,  3.95s/it]\n",
            "100%|██████████| 10/10 [00:31<00:00,  3.16s/it]\n",
            "100%|██████████| 10/10 [00:49<00:00,  4.99s/it]\n",
            "100%|██████████| 10/10 [00:48<00:00,  4.86s/it]\n",
            "100%|██████████| 10/10 [00:43<00:00,  4.31s/it]\n",
            "100%|██████████| 10/10 [00:46<00:00,  4.62s/it]\n",
            "100%|██████████| 10/10 [00:39<00:00,  3.96s/it]\n"
          ]
        },
        {
          "name": "stdout",
          "output_type": "stream",
          "text": [
            "Round 15, Train loss: 0.0829, Test Loss: 1.3280, Test Accuracy: 63.52%\n",
            "{0: 3, 1: 3, 2: 3, 3: 3, 4: 3, 5: 3, 6: 3, 7: 3, 8: 3, 9: 3}\n"
          ]
        },
        {
          "name": "stderr",
          "output_type": "stream",
          "text": [
            "100%|██████████| 10/10 [00:42<00:00,  4.30s/it]\n",
            "100%|██████████| 10/10 [00:49<00:00,  4.98s/it]\n",
            "100%|██████████| 10/10 [00:48<00:00,  4.85s/it]\n",
            "100%|██████████| 10/10 [00:48<00:00,  4.86s/it]\n",
            "100%|██████████| 10/10 [00:47<00:00,  4.71s/it]\n",
            "100%|██████████| 10/10 [00:40<00:00,  4.04s/it]\n",
            "100%|██████████| 10/10 [00:31<00:00,  3.14s/it]\n",
            "100%|██████████| 10/10 [00:42<00:00,  4.26s/it]\n",
            "100%|██████████| 10/10 [01:06<00:00,  6.66s/it]\n",
            "100%|██████████| 10/10 [00:39<00:00,  3.98s/it]\n"
          ]
        },
        {
          "name": "stdout",
          "output_type": "stream",
          "text": [
            "Round 16, Train loss: 0.0628, Test Loss: 1.1875, Test Accuracy: 65.52%\n",
            "{0: 0, 1: 0, 2: 0, 3: 0, 4: 0, 5: 0, 6: 0, 7: 0, 8: 0, 9: 0}\n"
          ]
        },
        {
          "name": "stderr",
          "output_type": "stream",
          "text": [
            "100%|██████████| 10/10 [00:48<00:00,  4.86s/it]\n",
            "100%|██████████| 10/10 [00:31<00:00,  3.16s/it]\n",
            "100%|██████████| 10/10 [00:43<00:00,  4.34s/it]\n",
            "100%|██████████| 10/10 [00:50<00:00,  5.01s/it]\n",
            "100%|██████████| 10/10 [00:40<00:00,  4.02s/it]\n",
            "100%|██████████| 10/10 [01:06<00:00,  6.65s/it]\n",
            "100%|██████████| 10/10 [00:42<00:00,  4.23s/it]\n",
            "100%|██████████| 10/10 [00:39<00:00,  3.93s/it]\n",
            "100%|██████████| 10/10 [00:46<00:00,  4.64s/it]\n",
            "100%|██████████| 10/10 [00:48<00:00,  4.88s/it]\n"
          ]
        },
        {
          "name": "stdout",
          "output_type": "stream",
          "text": [
            "Round 17, Train loss: 0.0575, Test Loss: 1.3417, Test Accuracy: 69.98%\n",
            "{0: 1, 1: 1, 2: 1, 3: 1, 4: 1, 5: 1, 6: 1, 7: 1, 8: 1, 9: 1}\n"
          ]
        },
        {
          "name": "stderr",
          "output_type": "stream",
          "text": [
            "100%|██████████| 10/10 [00:49<00:00,  4.94s/it]\n",
            "100%|██████████| 10/10 [00:42<00:00,  4.23s/it]\n",
            "100%|██████████| 10/10 [00:48<00:00,  4.85s/it]\n",
            "100%|██████████| 10/10 [00:39<00:00,  3.94s/it]\n",
            "100%|██████████| 10/10 [00:45<00:00,  4.59s/it]\n",
            "100%|██████████| 10/10 [01:05<00:00,  6.53s/it]\n",
            "100%|██████████| 10/10 [00:39<00:00,  3.99s/it]\n",
            "100%|██████████| 10/10 [00:42<00:00,  4.28s/it]\n",
            "100%|██████████| 10/10 [00:48<00:00,  4.84s/it]\n",
            "100%|██████████| 10/10 [00:31<00:00,  3.19s/it]\n"
          ]
        },
        {
          "name": "stdout",
          "output_type": "stream",
          "text": [
            "Round 18, Train loss: 0.1031, Test Loss: 1.1231, Test Accuracy: 71.41%\n",
            "{0: 2, 1: 2, 2: 2, 3: 2, 4: 2, 5: 2, 6: 2, 7: 2, 8: 2, 9: 2}\n"
          ]
        },
        {
          "name": "stderr",
          "output_type": "stream",
          "text": [
            "100%|██████████| 10/10 [00:48<00:00,  4.81s/it]\n",
            "100%|██████████| 10/10 [00:39<00:00,  3.95s/it]\n",
            "100%|██████████| 10/10 [00:42<00:00,  4.20s/it]\n",
            "100%|██████████| 10/10 [00:42<00:00,  4.29s/it]\n",
            "100%|██████████| 10/10 [00:31<00:00,  3.17s/it]\n",
            "100%|██████████| 10/10 [01:05<00:00,  6.53s/it]\n",
            "100%|██████████| 10/10 [00:45<00:00,  4.58s/it]\n",
            "100%|██████████| 10/10 [00:49<00:00,  4.96s/it]\n",
            "100%|██████████| 10/10 [00:39<00:00,  4.00s/it]\n",
            "100%|██████████| 10/10 [00:48<00:00,  4.84s/it]\n"
          ]
        },
        {
          "name": "stdout",
          "output_type": "stream",
          "text": [
            "Round 19, Train loss: 0.0669, Test Loss: 1.0982, Test Accuracy: 71.97%\n",
            "{0: 3, 1: 3, 2: 3, 3: 3, 4: 3, 5: 3, 6: 3, 7: 3, 8: 3, 9: 3}\n"
          ]
        },
        {
          "name": "stderr",
          "output_type": "stream",
          "text": [
            "100%|██████████| 10/10 [00:46<00:00,  4.62s/it]\n",
            "100%|██████████| 10/10 [00:48<00:00,  4.86s/it]\n",
            "100%|██████████| 10/10 [00:39<00:00,  3.95s/it]\n",
            "100%|██████████| 10/10 [00:40<00:00,  4.00s/it]\n",
            "100%|██████████| 10/10 [00:49<00:00,  4.90s/it]\n",
            "100%|██████████| 10/10 [01:06<00:00,  6.60s/it]\n",
            "100%|██████████| 10/10 [00:42<00:00,  4.28s/it]\n",
            "100%|██████████| 10/10 [00:30<00:00,  3.09s/it]\n",
            "100%|██████████| 10/10 [00:49<00:00,  4.95s/it]\n",
            "100%|██████████| 10/10 [00:42<00:00,  4.29s/it]\n"
          ]
        },
        {
          "name": "stdout",
          "output_type": "stream",
          "text": [
            "Round 20, Train loss: 0.0514, Test Loss: 1.0351, Test Accuracy: 72.83%\n",
            "{0: 0, 1: 0, 2: 0, 3: 0, 4: 0, 5: 0, 6: 0, 7: 0, 8: 0, 9: 0}\n"
          ]
        },
        {
          "name": "stderr",
          "output_type": "stream",
          "text": [
            "100%|██████████| 10/10 [00:42<00:00,  4.27s/it]\n",
            "100%|██████████| 10/10 [00:31<00:00,  3.12s/it]\n",
            "100%|██████████| 10/10 [00:48<00:00,  4.87s/it]\n",
            "100%|██████████| 10/10 [00:42<00:00,  4.30s/it]\n",
            "100%|██████████| 10/10 [00:39<00:00,  3.98s/it]\n",
            "100%|██████████| 10/10 [00:48<00:00,  4.86s/it]\n",
            "100%|██████████| 10/10 [00:46<00:00,  4.63s/it]\n",
            "100%|██████████| 10/10 [01:06<00:00,  6.64s/it]\n",
            "100%|██████████| 10/10 [00:39<00:00,  3.97s/it]\n",
            "100%|██████████| 10/10 [00:49<00:00,  4.99s/it]\n"
          ]
        },
        {
          "name": "stdout",
          "output_type": "stream",
          "text": [
            "Round 21, Train loss: 0.0467, Test Loss: 1.2324, Test Accuracy: 75.09%\n",
            "{0: 1, 1: 1, 2: 1, 3: 1, 4: 1, 5: 1, 6: 1, 7: 1, 8: 1, 9: 1}\n"
          ]
        },
        {
          "name": "stderr",
          "output_type": "stream",
          "text": [
            "100%|██████████| 10/10 [00:46<00:00,  4.66s/it]\n",
            "100%|██████████| 10/10 [00:38<00:00,  3.88s/it]\n",
            "100%|██████████| 10/10 [00:43<00:00,  4.30s/it]\n",
            "100%|██████████| 10/10 [00:48<00:00,  4.81s/it]\n",
            "100%|██████████| 10/10 [00:49<00:00,  4.99s/it]\n",
            "100%|██████████| 10/10 [00:48<00:00,  4.85s/it]\n",
            "100%|██████████| 10/10 [01:05<00:00,  6.54s/it]\n",
            "100%|██████████| 10/10 [00:31<00:00,  3.18s/it]\n",
            "100%|██████████| 10/10 [00:39<00:00,  3.96s/it]\n",
            "100%|██████████| 10/10 [00:42<00:00,  4.25s/it]\n"
          ]
        },
        {
          "name": "stdout",
          "output_type": "stream",
          "text": [
            "Round 22, Train loss: 0.0820, Test Loss: 1.0276, Test Accuracy: 75.70%\n",
            "{0: 2, 1: 2, 2: 2, 3: 2, 4: 2, 5: 2, 6: 2, 7: 2, 8: 2, 9: 2}\n"
          ]
        },
        {
          "name": "stderr",
          "output_type": "stream",
          "text": [
            "100%|██████████| 10/10 [00:50<00:00,  5.02s/it]\n",
            "100%|██████████| 10/10 [00:48<00:00,  4.84s/it]\n",
            "100%|██████████| 10/10 [00:39<00:00,  3.94s/it]\n",
            "100%|██████████| 10/10 [00:31<00:00,  3.13s/it]\n",
            "100%|██████████| 10/10 [00:49<00:00,  4.93s/it]\n",
            "100%|██████████| 10/10 [00:43<00:00,  4.39s/it]\n",
            "100%|██████████| 10/10 [00:46<00:00,  4.63s/it]\n",
            "100%|██████████| 10/10 [00:39<00:00,  3.99s/it]\n",
            "100%|██████████| 10/10 [00:42<00:00,  4.27s/it]\n",
            "100%|██████████| 10/10 [01:06<00:00,  6.62s/it]\n"
          ]
        },
        {
          "name": "stdout",
          "output_type": "stream",
          "text": [
            "Round 23, Train loss: 0.0557, Test Loss: 1.0123, Test Accuracy: 74.95%\n",
            "{0: 3, 1: 3, 2: 3, 3: 3, 4: 3, 5: 3, 6: 3, 7: 3, 8: 3, 9: 3}\n"
          ]
        },
        {
          "name": "stderr",
          "output_type": "stream",
          "text": [
            "100%|██████████| 10/10 [00:31<00:00,  3.11s/it]\n",
            "100%|██████████| 10/10 [00:46<00:00,  4.68s/it]\n",
            "100%|██████████| 10/10 [00:48<00:00,  4.84s/it]\n",
            "100%|██████████| 10/10 [00:43<00:00,  4.31s/it]\n",
            "100%|██████████| 10/10 [00:39<00:00,  3.98s/it]\n",
            "100%|██████████| 10/10 [00:50<00:00,  5.04s/it]\n",
            "100%|██████████| 10/10 [00:48<00:00,  4.87s/it]\n",
            "100%|██████████| 10/10 [00:42<00:00,  4.25s/it]\n",
            "100%|██████████| 10/10 [01:06<00:00,  6.62s/it]\n",
            "100%|██████████| 10/10 [00:40<00:00,  4.01s/it]\n"
          ]
        },
        {
          "name": "stdout",
          "output_type": "stream",
          "text": [
            "Round 24, Train loss: 0.0454, Test Loss: 0.9686, Test Accuracy: 76.12%\n",
            "{0: 0, 1: 0, 2: 0, 3: 0, 4: 0, 5: 0, 6: 0, 7: 0, 8: 0, 9: 0}\n"
          ]
        },
        {
          "name": "stderr",
          "output_type": "stream",
          "text": [
            "100%|██████████| 10/10 [00:31<00:00,  3.17s/it]\n",
            "100%|██████████| 10/10 [00:38<00:00,  3.89s/it]\n",
            "100%|██████████| 10/10 [00:39<00:00,  3.99s/it]\n",
            "100%|██████████| 10/10 [01:05<00:00,  6.59s/it]\n",
            "100%|██████████| 10/10 [00:42<00:00,  4.26s/it]\n",
            "100%|██████████| 10/10 [00:42<00:00,  4.27s/it]\n",
            "100%|██████████| 10/10 [00:50<00:00,  5.01s/it]\n",
            "100%|██████████| 10/10 [00:49<00:00,  4.93s/it]\n",
            "100%|██████████| 10/10 [00:48<00:00,  4.87s/it]\n",
            "100%|██████████| 10/10 [00:46<00:00,  4.67s/it]\n"
          ]
        },
        {
          "name": "stdout",
          "output_type": "stream",
          "text": [
            "Round 25, Train loss: 0.0404, Test Loss: 1.2016, Test Accuracy: 77.18%\n",
            "{0: 1, 1: 1, 2: 1, 3: 1, 4: 1, 5: 1, 6: 1, 7: 1, 8: 1, 9: 1}\n"
          ]
        },
        {
          "name": "stderr",
          "output_type": "stream",
          "text": [
            "100%|██████████| 10/10 [01:06<00:00,  6.64s/it]\n",
            "100%|██████████| 10/10 [00:39<00:00,  3.99s/it]\n",
            "100%|██████████| 10/10 [00:48<00:00,  4.89s/it]\n",
            "100%|██████████| 10/10 [00:42<00:00,  4.29s/it]\n",
            "100%|██████████| 10/10 [00:40<00:00,  4.01s/it]\n",
            "100%|██████████| 10/10 [00:46<00:00,  4.62s/it]\n",
            "100%|██████████| 10/10 [00:48<00:00,  4.84s/it]\n",
            "100%|██████████| 10/10 [00:50<00:00,  5.04s/it]\n",
            "100%|██████████| 10/10 [00:31<00:00,  3.20s/it]\n",
            "100%|██████████| 10/10 [00:42<00:00,  4.27s/it]\n"
          ]
        },
        {
          "name": "stdout",
          "output_type": "stream",
          "text": [
            "Round 26, Train loss: 0.0499, Test Loss: 1.0185, Test Accuracy: 78.74%\n",
            "{0: 2, 1: 2, 2: 2, 3: 2, 4: 2, 5: 2, 6: 2, 7: 2, 8: 2, 9: 2}\n"
          ]
        },
        {
          "name": "stderr",
          "output_type": "stream",
          "text": [
            "100%|██████████| 10/10 [00:42<00:00,  4.29s/it]\n",
            "100%|██████████| 10/10 [00:31<00:00,  3.15s/it]\n",
            "100%|██████████| 10/10 [00:49<00:00,  4.92s/it]\n",
            "100%|██████████| 10/10 [00:43<00:00,  4.31s/it]\n",
            "100%|██████████| 10/10 [01:07<00:00,  6.70s/it]\n",
            "100%|██████████| 10/10 [00:39<00:00,  4.00s/it]\n",
            "100%|██████████| 10/10 [00:49<00:00,  4.93s/it]\n",
            "100%|██████████| 10/10 [00:40<00:00,  4.04s/it]\n",
            "100%|██████████| 10/10 [00:47<00:00,  4.71s/it]\n",
            "100%|██████████| 10/10 [00:50<00:00,  5.09s/it]\n"
          ]
        },
        {
          "name": "stdout",
          "output_type": "stream",
          "text": [
            "Round 27, Train loss: 0.0333, Test Loss: 1.0001, Test Accuracy: 80.10%\n",
            "{0: 3, 1: 3, 2: 3, 3: 3, 4: 3, 5: 3, 6: 3, 7: 3, 8: 3, 9: 3}\n"
          ]
        },
        {
          "name": "stderr",
          "output_type": "stream",
          "text": [
            "100%|██████████| 10/10 [00:48<00:00,  4.81s/it]\n",
            "100%|██████████| 10/10 [00:49<00:00,  5.00s/it]\n",
            "100%|██████████| 10/10 [00:42<00:00,  4.26s/it]\n",
            "100%|██████████| 10/10 [00:46<00:00,  4.61s/it]\n",
            "100%|██████████| 10/10 [00:42<00:00,  4.27s/it]\n",
            "100%|██████████| 10/10 [00:39<00:00,  3.96s/it]\n",
            "100%|██████████| 10/10 [00:39<00:00,  3.94s/it]\n",
            "100%|██████████| 10/10 [00:48<00:00,  4.87s/it]\n",
            "100%|██████████| 10/10 [00:31<00:00,  3.19s/it]\n",
            "100%|██████████| 10/10 [01:06<00:00,  6.65s/it]\n"
          ]
        },
        {
          "name": "stdout",
          "output_type": "stream",
          "text": [
            "Round 28, Train loss: 0.0216, Test Loss: 0.7505, Test Accuracy: 85.11%\n",
            "{0: 0, 1: 0, 2: 0, 3: 0, 4: 0, 5: 0, 6: 0, 7: 0, 8: 0, 9: 0}\n"
          ]
        },
        {
          "name": "stderr",
          "output_type": "stream",
          "text": [
            "100%|██████████| 10/10 [00:42<00:00,  4.21s/it]\n",
            "100%|██████████| 10/10 [00:43<00:00,  4.32s/it]\n",
            "100%|██████████| 10/10 [00:40<00:00,  4.07s/it]\n",
            "100%|██████████| 10/10 [00:49<00:00,  4.97s/it]\n",
            "100%|██████████| 10/10 [00:39<00:00,  3.92s/it]\n",
            "100%|██████████| 10/10 [00:48<00:00,  4.83s/it]\n",
            "100%|██████████| 10/10 [00:31<00:00,  3.19s/it]\n",
            "100%|██████████| 10/10 [00:46<00:00,  4.65s/it]\n",
            "100%|██████████| 10/10 [00:49<00:00,  4.97s/it]\n",
            "100%|██████████| 10/10 [01:06<00:00,  6.63s/it]\n"
          ]
        },
        {
          "name": "stdout",
          "output_type": "stream",
          "text": [
            "Round 29, Train loss: 0.0224, Test Loss: 0.6187, Test Accuracy: 86.57%\n",
            "{0: 1, 1: 1, 2: 1, 3: 1, 4: 1, 5: 1, 6: 1, 7: 1, 8: 1, 9: 1}\n"
          ]
        },
        {
          "name": "stderr",
          "output_type": "stream",
          "text": [
            "100%|██████████| 10/10 [00:39<00:00,  3.99s/it]\n",
            "100%|██████████| 10/10 [00:50<00:00,  5.01s/it]\n",
            "100%|██████████| 10/10 [00:39<00:00,  3.92s/it]\n",
            "100%|██████████| 10/10 [00:48<00:00,  4.87s/it]\n",
            "100%|██████████| 10/10 [00:46<00:00,  4.66s/it]\n",
            "100%|██████████| 10/10 [00:48<00:00,  4.86s/it]\n",
            "100%|██████████| 10/10 [01:06<00:00,  6.69s/it]\n",
            "100%|██████████| 10/10 [00:43<00:00,  4.30s/it]\n",
            "100%|██████████| 10/10 [00:31<00:00,  3.16s/it]\n",
            "100%|██████████| 10/10 [00:42<00:00,  4.26s/it]\n"
          ]
        },
        {
          "name": "stdout",
          "output_type": "stream",
          "text": [
            "Round 30, Train loss: 0.0355, Test Loss: 0.6072, Test Accuracy: 87.30%\n",
            "{0: 2, 1: 2, 2: 2, 3: 2, 4: 2, 5: 2, 6: 2, 7: 2, 8: 2, 9: 2}\n"
          ]
        },
        {
          "name": "stderr",
          "output_type": "stream",
          "text": [
            "100%|██████████| 10/10 [00:49<00:00,  4.99s/it]\n",
            "100%|██████████| 10/10 [00:48<00:00,  4.87s/it]\n",
            "100%|██████████| 10/10 [01:05<00:00,  6.59s/it]\n",
            "100%|██████████| 10/10 [00:42<00:00,  4.23s/it]\n",
            "100%|██████████| 10/10 [00:46<00:00,  4.60s/it]\n",
            "100%|██████████| 10/10 [00:39<00:00,  3.92s/it]\n",
            "100%|██████████| 10/10 [00:39<00:00,  3.96s/it]\n",
            "100%|██████████| 10/10 [00:42<00:00,  4.27s/it]\n",
            "100%|██████████| 10/10 [00:31<00:00,  3.17s/it]\n",
            "100%|██████████| 10/10 [00:48<00:00,  4.90s/it]\n"
          ]
        },
        {
          "name": "stdout",
          "output_type": "stream",
          "text": [
            "Round 31, Train loss: 0.0233, Test Loss: 0.6224, Test Accuracy: 87.54%\n",
            "{0: 3, 1: 3, 2: 3, 3: 3, 4: 3, 5: 3, 6: 3, 7: 3, 8: 3, 9: 3}\n"
          ]
        },
        {
          "name": "stderr",
          "output_type": "stream",
          "text": [
            "100%|██████████| 10/10 [00:31<00:00,  3.14s/it]\n",
            "100%|██████████| 10/10 [00:39<00:00,  3.99s/it]\n",
            "100%|██████████| 10/10 [00:46<00:00,  4.70s/it]\n",
            "100%|██████████| 10/10 [00:42<00:00,  4.26s/it]\n",
            "100%|██████████| 10/10 [00:43<00:00,  4.32s/it]\n",
            "100%|██████████| 10/10 [00:40<00:00,  4.03s/it]\n",
            "100%|██████████| 10/10 [01:05<00:00,  6.56s/it]\n",
            "100%|██████████| 10/10 [00:50<00:00,  5.00s/it]\n",
            "100%|██████████| 10/10 [00:48<00:00,  4.89s/it]\n",
            "100%|██████████| 10/10 [00:47<00:00,  4.80s/it]\n"
          ]
        },
        {
          "name": "stdout",
          "output_type": "stream",
          "text": [
            "Round 32, Train loss: 0.0148, Test Loss: 0.6389, Test Accuracy: 88.66%\n",
            "{0: 0, 1: 0, 2: 0, 3: 0, 4: 0, 5: 0, 6: 0, 7: 0, 8: 0, 9: 0}\n"
          ]
        },
        {
          "name": "stderr",
          "output_type": "stream",
          "text": [
            "100%|██████████| 10/10 [00:48<00:00,  4.87s/it]\n",
            "100%|██████████| 10/10 [01:05<00:00,  6.53s/it]\n",
            "100%|██████████| 10/10 [00:42<00:00,  4.22s/it]\n",
            "100%|██████████| 10/10 [00:49<00:00,  4.98s/it]\n",
            "100%|██████████| 10/10 [00:40<00:00,  4.06s/it]\n",
            "100%|██████████| 10/10 [00:31<00:00,  3.15s/it]\n",
            "100%|██████████| 10/10 [00:42<00:00,  4.26s/it]\n",
            "100%|██████████| 10/10 [00:46<00:00,  4.69s/it]\n",
            "100%|██████████| 10/10 [00:48<00:00,  4.83s/it]\n",
            "100%|██████████| 10/10 [00:39<00:00,  3.92s/it]\n"
          ]
        },
        {
          "name": "stdout",
          "output_type": "stream",
          "text": [
            "Round 33, Train loss: 0.0147, Test Loss: 0.5919, Test Accuracy: 88.68%\n",
            "{0: 1, 1: 1, 2: 1, 3: 1, 4: 1, 5: 1, 6: 1, 7: 1, 8: 1, 9: 1}\n"
          ]
        },
        {
          "name": "stderr",
          "output_type": "stream",
          "text": [
            "100%|██████████| 10/10 [00:43<00:00,  4.30s/it]\n",
            "100%|██████████| 10/10 [00:48<00:00,  4.87s/it]\n",
            "100%|██████████| 10/10 [00:48<00:00,  4.89s/it]\n",
            "100%|██████████| 10/10 [01:06<00:00,  6.64s/it]\n",
            "100%|██████████| 10/10 [00:50<00:00,  5.01s/it]\n",
            "100%|██████████| 10/10 [00:46<00:00,  4.64s/it]\n",
            "100%|██████████| 10/10 [00:39<00:00,  3.97s/it]\n",
            "100%|██████████| 10/10 [00:31<00:00,  3.13s/it]\n",
            "100%|██████████| 10/10 [00:42<00:00,  4.28s/it]\n",
            "100%|██████████| 10/10 [00:39<00:00,  3.98s/it]\n"
          ]
        },
        {
          "name": "stdout",
          "output_type": "stream",
          "text": [
            "Round 34, Train loss: 0.0271, Test Loss: 0.5950, Test Accuracy: 88.79%\n",
            "{0: 2, 1: 2, 2: 2, 3: 2, 4: 2, 5: 2, 6: 2, 7: 2, 8: 2, 9: 2}\n"
          ]
        },
        {
          "name": "stderr",
          "output_type": "stream",
          "text": [
            "100%|██████████| 10/10 [00:39<00:00,  3.99s/it]\n",
            "100%|██████████| 10/10 [00:39<00:00,  3.97s/it]\n",
            "100%|██████████| 10/10 [00:43<00:00,  4.30s/it]\n",
            "100%|██████████| 10/10 [00:48<00:00,  4.87s/it]\n",
            "100%|██████████| 10/10 [00:32<00:00,  3.26s/it]\n",
            "100%|██████████| 10/10 [00:48<00:00,  4.84s/it]\n",
            "100%|██████████| 10/10 [00:43<00:00,  4.31s/it]\n",
            "100%|██████████| 10/10 [00:46<00:00,  4.63s/it]\n",
            "100%|██████████| 10/10 [00:50<00:00,  5.03s/it]\n",
            "100%|██████████| 10/10 [01:06<00:00,  6.66s/it]\n"
          ]
        },
        {
          "name": "stdout",
          "output_type": "stream",
          "text": [
            "Round 35, Train loss: 0.0184, Test Loss: 0.5710, Test Accuracy: 88.75%\n",
            "{0: 3, 1: 3, 2: 3, 3: 3, 4: 3, 5: 3, 6: 3, 7: 3, 8: 3, 9: 3}\n"
          ]
        },
        {
          "name": "stderr",
          "output_type": "stream",
          "text": [
            "100%|██████████| 10/10 [00:39<00:00,  3.98s/it]\n",
            "100%|██████████| 10/10 [00:50<00:00,  5.05s/it]\n",
            "100%|██████████| 10/10 [00:42<00:00,  4.29s/it]\n",
            "100%|██████████| 10/10 [01:06<00:00,  6.66s/it]\n",
            "100%|██████████| 10/10 [00:43<00:00,  4.40s/it]\n",
            "100%|██████████| 10/10 [00:46<00:00,  4.68s/it]\n",
            "100%|██████████| 10/10 [00:39<00:00,  3.95s/it]\n",
            "100%|██████████| 10/10 [00:49<00:00,  4.92s/it]\n",
            "100%|██████████| 10/10 [00:48<00:00,  4.86s/it]\n",
            "100%|██████████| 10/10 [00:31<00:00,  3.18s/it]\n"
          ]
        },
        {
          "name": "stdout",
          "output_type": "stream",
          "text": [
            "Round 36, Train loss: 0.0124, Test Loss: 0.6018, Test Accuracy: 88.93%\n",
            "{0: 0, 1: 0, 2: 0, 3: 0, 4: 0, 5: 0, 6: 0, 7: 0, 8: 0, 9: 0}\n"
          ]
        },
        {
          "name": "stderr",
          "output_type": "stream",
          "text": [
            "100%|██████████| 10/10 [01:06<00:00,  6.66s/it]\n",
            "100%|██████████| 10/10 [00:50<00:00,  5.02s/it]\n",
            "100%|██████████| 10/10 [00:40<00:00,  4.00s/it]\n",
            "100%|██████████| 10/10 [00:43<00:00,  4.35s/it]\n",
            "100%|██████████| 10/10 [00:49<00:00,  4.97s/it]\n",
            "100%|██████████| 10/10 [00:46<00:00,  4.68s/it]\n",
            "100%|██████████| 10/10 [00:31<00:00,  3.14s/it]\n",
            "100%|██████████| 10/10 [00:48<00:00,  4.87s/it]\n",
            "100%|██████████| 10/10 [00:39<00:00,  3.95s/it]\n",
            "100%|██████████| 10/10 [00:42<00:00,  4.29s/it]\n"
          ]
        },
        {
          "name": "stdout",
          "output_type": "stream",
          "text": [
            "Round 37, Train loss: 0.0117, Test Loss: 0.5616, Test Accuracy: 88.98%\n",
            "{0: 1, 1: 1, 2: 1, 3: 1, 4: 1, 5: 1, 6: 1, 7: 1, 8: 1, 9: 1}\n"
          ]
        },
        {
          "name": "stderr",
          "output_type": "stream",
          "text": [
            "100%|██████████| 10/10 [00:50<00:00,  5.07s/it]\n",
            "100%|██████████| 10/10 [00:39<00:00,  3.97s/it]\n",
            "100%|██████████| 10/10 [00:48<00:00,  4.87s/it]\n",
            "100%|██████████| 10/10 [00:39<00:00,  3.99s/it]\n",
            "100%|██████████| 10/10 [00:43<00:00,  4.35s/it]\n",
            "100%|██████████| 10/10 [00:48<00:00,  4.90s/it]\n",
            "100%|██████████| 10/10 [00:42<00:00,  4.25s/it]\n",
            "100%|██████████| 10/10 [00:46<00:00,  4.65s/it]\n",
            "100%|██████████| 10/10 [01:06<00:00,  6.64s/it]\n",
            "100%|██████████| 10/10 [00:31<00:00,  3.16s/it]\n"
          ]
        },
        {
          "name": "stdout",
          "output_type": "stream",
          "text": [
            "Round 38, Train loss: 0.0219, Test Loss: 0.5715, Test Accuracy: 89.04%\n",
            "{0: 2, 1: 2, 2: 2, 3: 2, 4: 2, 5: 2, 6: 2, 7: 2, 8: 2, 9: 2}\n"
          ]
        },
        {
          "name": "stderr",
          "output_type": "stream",
          "text": [
            "100%|██████████| 10/10 [00:31<00:00,  3.20s/it]\n",
            "100%|██████████| 10/10 [00:46<00:00,  4.62s/it]\n",
            "100%|██████████| 10/10 [00:43<00:00,  4.33s/it]\n",
            "100%|██████████| 10/10 [00:42<00:00,  4.30s/it]\n",
            "100%|██████████| 10/10 [00:50<00:00,  5.06s/it]\n",
            "100%|██████████| 10/10 [00:39<00:00,  3.95s/it]\n",
            "100%|██████████| 10/10 [00:40<00:00,  4.03s/it]\n",
            "100%|██████████| 10/10 [00:48<00:00,  4.84s/it]\n",
            "100%|██████████| 10/10 [00:48<00:00,  4.89s/it]\n",
            "100%|██████████| 10/10 [01:06<00:00,  6.67s/it]\n"
          ]
        },
        {
          "name": "stdout",
          "output_type": "stream",
          "text": [
            "Round 39, Train loss: 0.0159, Test Loss: 0.5501, Test Accuracy: 89.08%\n",
            "{0: 3, 1: 3, 2: 3, 3: 3, 4: 3, 5: 3, 6: 3, 7: 3, 8: 3, 9: 3}\n"
          ]
        },
        {
          "name": "stderr",
          "output_type": "stream",
          "text": [
            "100%|██████████| 10/10 [01:06<00:00,  6.64s/it]\n",
            "100%|██████████| 10/10 [00:43<00:00,  4.34s/it]\n",
            "100%|██████████| 10/10 [00:46<00:00,  4.69s/it]\n",
            "100%|██████████| 10/10 [00:48<00:00,  4.86s/it]\n",
            "100%|██████████| 10/10 [00:31<00:00,  3.19s/it]\n",
            "100%|██████████| 10/10 [00:49<00:00,  4.90s/it]\n",
            "100%|██████████| 10/10 [00:42<00:00,  4.26s/it]\n",
            "100%|██████████| 10/10 [00:40<00:00,  4.02s/it]\n",
            "100%|██████████| 10/10 [00:39<00:00,  3.95s/it]\n",
            "100%|██████████| 10/10 [00:50<00:00,  5.01s/it]\n"
          ]
        },
        {
          "name": "stdout",
          "output_type": "stream",
          "text": [
            "Round 40, Train loss: 0.0106, Test Loss: 0.5851, Test Accuracy: 88.98%\n",
            "{0: 0, 1: 0, 2: 0, 3: 0, 4: 0, 5: 0, 6: 0, 7: 0, 8: 0, 9: 0}\n"
          ]
        },
        {
          "name": "stderr",
          "output_type": "stream",
          "text": [
            "100%|██████████| 10/10 [00:50<00:00,  5.03s/it]\n",
            "100%|██████████| 10/10 [00:49<00:00,  4.92s/it]\n",
            "100%|██████████| 10/10 [00:39<00:00,  3.95s/it]\n",
            "100%|██████████| 10/10 [00:48<00:00,  4.86s/it]\n",
            "100%|██████████| 10/10 [00:43<00:00,  4.34s/it]\n",
            "100%|██████████| 10/10 [00:31<00:00,  3.20s/it]\n",
            "100%|██████████| 10/10 [00:56<00:00,  5.68s/it]\n",
            "100%|██████████| 10/10 [00:26<00:00,  2.70s/it]\n",
            "100%|██████████| 10/10 [00:27<00:00,  2.78s/it]\n",
            "100%|██████████| 10/10 [00:31<00:00,  3.19s/it]\n"
          ]
        },
        {
          "name": "stdout",
          "output_type": "stream",
          "text": [
            "Round 41, Train loss: 0.0103, Test Loss: 0.5655, Test Accuracy: 89.12%\n",
            "{0: 1, 1: 1, 2: 1, 3: 1, 4: 1, 5: 1, 6: 1, 7: 1, 8: 1, 9: 1}\n"
          ]
        },
        {
          "name": "stderr",
          "output_type": "stream",
          "text": [
            "100%|██████████| 10/10 [00:31<00:00,  3.17s/it]\n",
            "100%|██████████| 10/10 [00:31<00:00,  3.15s/it]\n",
            "100%|██████████| 10/10 [00:25<00:00,  2.57s/it]\n",
            "100%|██████████| 10/10 [00:32<00:00,  3.28s/it]\n",
            "100%|██████████| 10/10 [00:25<00:00,  2.55s/it]\n",
            "100%|██████████| 10/10 [00:27<00:00,  2.78s/it]\n",
            "100%|██████████| 10/10 [00:42<00:00,  4.28s/it]\n",
            "100%|██████████| 10/10 [00:27<00:00,  2.76s/it]\n",
            "100%|██████████| 10/10 [00:34<00:00,  3.45s/it]\n",
            "100%|██████████| 10/10 [00:22<00:00,  2.27s/it]\n"
          ]
        },
        {
          "name": "stdout",
          "output_type": "stream",
          "text": [
            "Round 42, Train loss: 0.0179, Test Loss: 0.5807, Test Accuracy: 88.96%\n",
            "{0: 2, 1: 2, 2: 2, 3: 2, 4: 2, 5: 2, 6: 2, 7: 2, 8: 2, 9: 2}\n"
          ]
        },
        {
          "name": "stderr",
          "output_type": "stream",
          "text": [
            "100%|██████████| 10/10 [00:25<00:00,  2.55s/it]\n",
            "100%|██████████| 10/10 [00:45<00:00,  4.50s/it]\n",
            "100%|██████████| 10/10 [00:20<00:00,  2.02s/it]\n",
            "100%|██████████| 10/10 [00:32<00:00,  3.29s/it]\n",
            "100%|██████████| 10/10 [00:31<00:00,  3.16s/it]\n",
            "100%|██████████| 10/10 [00:29<00:00,  2.97s/it]\n",
            "100%|██████████| 10/10 [00:27<00:00,  2.77s/it]\n",
            "100%|██████████| 10/10 [00:32<00:00,  3.29s/it]\n",
            "100%|██████████| 10/10 [00:27<00:00,  2.71s/it]\n",
            "100%|██████████| 10/10 [00:28<00:00,  2.83s/it]\n"
          ]
        },
        {
          "name": "stdout",
          "output_type": "stream",
          "text": [
            "Round 43, Train loss: 0.0132, Test Loss: 0.5688, Test Accuracy: 89.05%\n",
            "{0: 3, 1: 3, 2: 3, 3: 3, 4: 3, 5: 3, 6: 3, 7: 3, 8: 3, 9: 3}\n"
          ]
        },
        {
          "name": "stderr",
          "output_type": "stream",
          "text": [
            "100%|██████████| 10/10 [00:43<00:00,  4.30s/it]\n",
            "100%|██████████| 10/10 [00:27<00:00,  2.76s/it]\n",
            "100%|██████████| 10/10 [00:32<00:00,  3.25s/it]\n",
            "100%|██████████| 10/10 [00:27<00:00,  2.77s/it]\n",
            "100%|██████████| 10/10 [00:20<00:00,  2.04s/it]\n",
            "100%|██████████| 10/10 [00:25<00:00,  2.57s/it]\n",
            "100%|██████████| 10/10 [00:26<00:00,  2.69s/it]\n",
            "100%|██████████| 10/10 [00:33<00:00,  3.32s/it]\n",
            "100%|██████████| 10/10 [00:35<00:00,  3.58s/it]\n",
            "100%|██████████| 10/10 [00:31<00:00,  3.20s/it]\n"
          ]
        },
        {
          "name": "stdout",
          "output_type": "stream",
          "text": [
            "Round 44, Train loss: 0.0093, Test Loss: 0.5914, Test Accuracy: 88.98%\n",
            "{0: 0, 1: 0, 2: 0, 3: 0, 4: 0, 5: 0, 6: 0, 7: 0, 8: 0, 9: 0}\n"
          ]
        },
        {
          "name": "stderr",
          "output_type": "stream",
          "text": [
            "100%|██████████| 10/10 [00:29<00:00,  2.98s/it]\n",
            "100%|██████████| 10/10 [00:34<00:00,  3.49s/it]\n",
            "100%|██████████| 10/10 [00:44<00:00,  4.42s/it]\n",
            "100%|██████████| 10/10 [00:29<00:00,  2.99s/it]\n",
            "100%|██████████| 10/10 [00:23<00:00,  2.30s/it]\n",
            "100%|██████████| 10/10 [00:33<00:00,  3.39s/it]\n",
            "100%|██████████| 10/10 [00:28<00:00,  2.80s/it]\n",
            "100%|██████████| 10/10 [00:33<00:00,  3.30s/it]\n",
            "100%|██████████| 10/10 [00:36<00:00,  3.69s/it]\n",
            "100%|██████████| 10/10 [00:27<00:00,  2.72s/it]\n"
          ]
        },
        {
          "name": "stdout",
          "output_type": "stream",
          "text": [
            "Round 45, Train loss: 0.0089, Test Loss: 0.5830, Test Accuracy: 89.09%\n",
            "{0: 1, 1: 1, 2: 1, 3: 1, 4: 1, 5: 1, 6: 1, 7: 1, 8: 1, 9: 1}\n"
          ]
        },
        {
          "name": "stderr",
          "output_type": "stream",
          "text": [
            "100%|██████████| 10/10 [00:30<00:00,  3.05s/it]\n",
            "100%|██████████| 10/10 [00:29<00:00,  2.97s/it]\n",
            "100%|██████████| 10/10 [00:28<00:00,  2.89s/it]\n",
            "100%|██████████| 10/10 [00:31<00:00,  3.16s/it]\n",
            "100%|██████████| 10/10 [00:26<00:00,  2.67s/it]\n",
            "100%|██████████| 10/10 [00:45<00:00,  4.53s/it]\n",
            "100%|██████████| 10/10 [00:36<00:00,  3.61s/it]\n",
            "100%|██████████| 10/10 [00:22<00:00,  2.26s/it]\n",
            "100%|██████████| 10/10 [00:27<00:00,  2.75s/it]\n",
            "100%|██████████| 10/10 [00:32<00:00,  3.24s/it]\n"
          ]
        },
        {
          "name": "stdout",
          "output_type": "stream",
          "text": [
            "Round 46, Train loss: 0.0160, Test Loss: 0.5886, Test Accuracy: 89.03%\n",
            "{0: 2, 1: 2, 2: 2, 3: 2, 4: 2, 5: 2, 6: 2, 7: 2, 8: 2, 9: 2}\n"
          ]
        },
        {
          "name": "stderr",
          "output_type": "stream",
          "text": [
            "100%|██████████| 10/10 [00:42<00:00,  4.21s/it]\n",
            "100%|██████████| 10/10 [00:31<00:00,  3.10s/it]\n",
            "100%|██████████| 10/10 [00:30<00:00,  3.01s/it]\n",
            "100%|██████████| 10/10 [00:28<00:00,  2.84s/it]\n",
            "100%|██████████| 10/10 [00:32<00:00,  3.26s/it]\n",
            "100%|██████████| 10/10 [00:25<00:00,  2.57s/it]\n",
            "100%|██████████| 10/10 [00:25<00:00,  2.52s/it]\n",
            "100%|██████████| 10/10 [00:20<00:00,  2.02s/it]\n",
            "100%|██████████| 10/10 [00:27<00:00,  2.71s/it]\n",
            "100%|██████████| 10/10 [00:31<00:00,  3.18s/it]\n"
          ]
        },
        {
          "name": "stdout",
          "output_type": "stream",
          "text": [
            "Round 47, Train loss: 0.0117, Test Loss: 0.5690, Test Accuracy: 89.06%\n",
            "{0: 3, 1: 3, 2: 3, 3: 3, 4: 3, 5: 3, 6: 3, 7: 3, 8: 3, 9: 3}\n"
          ]
        },
        {
          "name": "stderr",
          "output_type": "stream",
          "text": [
            "100%|██████████| 10/10 [00:27<00:00,  2.79s/it]\n",
            "100%|██████████| 10/10 [00:25<00:00,  2.52s/it]\n",
            "100%|██████████| 10/10 [00:27<00:00,  2.71s/it]\n",
            "100%|██████████| 10/10 [00:34<00:00,  3.41s/it]\n",
            "100%|██████████| 10/10 [00:33<00:00,  3.36s/it]\n",
            "100%|██████████| 10/10 [00:30<00:00,  3.01s/it]\n",
            "100%|██████████| 10/10 [00:46<00:00,  4.66s/it]\n",
            "100%|██████████| 10/10 [00:34<00:00,  3.44s/it]\n",
            "100%|██████████| 10/10 [00:20<00:00,  2.03s/it]\n",
            "100%|██████████| 10/10 [00:25<00:00,  2.57s/it]\n"
          ]
        },
        {
          "name": "stdout",
          "output_type": "stream",
          "text": [
            "Round 48, Train loss: 0.0087, Test Loss: 0.5913, Test Accuracy: 88.99%\n",
            "{0: 0, 1: 0, 2: 0, 3: 0, 4: 0, 5: 0, 6: 0, 7: 0, 8: 0, 9: 0}\n"
          ]
        },
        {
          "name": "stderr",
          "output_type": "stream",
          "text": [
            "100%|██████████| 10/10 [00:30<00:00,  3.07s/it]\n",
            "100%|██████████| 10/10 [00:30<00:00,  3.10s/it]\n",
            "100%|██████████| 10/10 [00:27<00:00,  2.73s/it]\n",
            "100%|██████████| 10/10 [00:33<00:00,  3.36s/it]\n",
            "100%|██████████| 10/10 [00:42<00:00,  4.27s/it]\n",
            "100%|██████████| 10/10 [00:32<00:00,  3.28s/it]\n",
            "100%|██████████| 10/10 [00:25<00:00,  2.58s/it]\n",
            "100%|██████████| 10/10 [00:20<00:00,  2.05s/it]\n",
            "100%|██████████| 10/10 [00:27<00:00,  2.77s/it]\n",
            "100%|██████████| 10/10 [00:26<00:00,  2.66s/it]\n"
          ]
        },
        {
          "name": "stdout",
          "output_type": "stream",
          "text": [
            "Round 49, Train loss: 0.0082, Test Loss: 0.5837, Test Accuracy: 89.17%\n",
            "{0: 1, 1: 1, 2: 1, 3: 1, 4: 1, 5: 1, 6: 1, 7: 1, 8: 1, 9: 1}\n"
          ]
        },
        {
          "name": "stderr",
          "output_type": "stream",
          "text": [
            "100%|██████████| 10/10 [00:33<00:00,  3.34s/it]\n",
            "100%|██████████| 10/10 [00:28<00:00,  2.84s/it]\n",
            "100%|██████████| 10/10 [00:32<00:00,  3.25s/it]\n",
            "100%|██████████| 10/10 [00:25<00:00,  2.55s/it]\n",
            "100%|██████████| 10/10 [00:42<00:00,  4.30s/it]\n",
            "100%|██████████| 10/10 [00:20<00:00,  2.03s/it]\n",
            "100%|██████████| 10/10 [00:28<00:00,  2.82s/it]\n",
            "100%|██████████| 10/10 [00:26<00:00,  2.68s/it]\n",
            "100%|██████████| 10/10 [00:29<00:00,  3.00s/it]\n",
            "100%|██████████| 10/10 [00:33<00:00,  3.39s/it]\n"
          ]
        },
        {
          "name": "stdout",
          "output_type": "stream",
          "text": [
            "Round 50, Train loss: 0.0136, Test Loss: 0.5857, Test Accuracy: 89.16%\n",
            "Early stopping called at 50 epochs\n"
          ]
        }
      ],
      "source": [
        "from datetime import datetime\n",
        "\n",
        "# Get the current date\n",
        "current_date = datetime.now().strftime(\"%Y-%m-%d\")\n",
        "global_model.train()\n",
        "for model in clients_models.values():\n",
        "    model.train()\n",
        "\n",
        "loss_train = []\n",
        "loss_test = []\n",
        "acc_train = []\n",
        "acc_test= []\n",
        "\n",
        "# Early stopping\n",
        "patience = 10 \n",
        "patience_counter = 0\n",
        "prev_weights = dict()\n",
        "aggregated_params = list()\n",
        "# local_indices = generate_iid_cifar(train_dataset, num_clients)\n",
        "num_segments = 4\n",
        "\n",
        "for round in range(num_rounds):\n",
        "    local_weights = {}\n",
        "    local_losses, local_acc = [], []\n",
        "    selected_clients = list(np.random.choice(range(num_clients), num_selected, replace=False))\n",
        "    # Initialize client segment index map\n",
        "    client_segment_map = handle_segment_map(round)\n",
        "    print(client_segment_map)\n",
        "   \n",
        "    # Train on local data\n",
        "    for i in selected_clients:\n",
        "        # Train on local data\n",
        "        #local_loader = DataLoader(DatasetSplit(train_dataset, noniid_dataidx_map[i]), batch_size=local_bs, shuffle=True)\n",
        "        local_loader = DataLoader(CIFAR10_truncated(\n",
        "        './data', dataidxs=noniid_dataidx_map[i], train=True, transform=transform_train), batch_size=local_bs, shuffle=True)\n",
        "\n",
        "        w, loss, acc = client_train(clients_models[i], local_loader, optimizers[i], criterion, local_rounds)\n",
        "\n",
        "        # Collect local model weights with thier examples\n",
        "        local_weights[i] = w\n",
        "        # local_weights.append(w)\n",
        "        local_losses.append(loss)\n",
        "        local_acc.append(acc)\n",
        "        schedulers[i].step()\n",
        "\n",
        "    prev_weights , aggregated_params = handle_partial_updates(local_weights, num_segments, client_segment_map)\n",
        "    \n",
        "    updated_client_dict = update_client_models(prev_weights, aggregated_params, client_segment_map)\n",
        "    \n",
        "    clients_reconstructed_params = {}\n",
        "    for client_id, weights in updated_client_dict.items():\n",
        "        clients_reconstructed_params[client_id] = reconstruct_parameters(weights, shapes, sizes, trained_weights)\n",
        "\n",
        "    for client in selected_clients:\n",
        "        clients_models[client].load_state_dict(clients_reconstructed_params[client])\n",
        "    \n",
        "    # for model in sampled_clients_models.values():\n",
        "    #     model.load_state_dict(global_model.state_dict())\n",
        "        \n",
        "    # To test the global model performance, we keep the replace the shared segments and aggregate the rest part of the segments.\n",
        "    flat_params_n = flatten_resnet_parameters(global_model.state_dict())\n",
        "    # Segment the parameters\n",
        "    segmented_params = segment_resnet_parameters(flat_params_n, 4)\n",
        "\n",
        "    shared_segment_index = client_segment_map[selected_clients[0]]\n",
        "    updated_global_params = [aggregated_params[i] if i == shared_segment_index else data for i, data in enumerate(segmented_params)]\n",
        "    params = torch.cat(updated_global_params)\n",
        "    # Reconstruct the parameters\n",
        "    updated_server_weights = reconstruct_parameters(params, shapes, sizes, trained_weights)\n",
        "\n",
        "    # Check if both dictionaries have the same set of keys\n",
        "    assert set(updated_server_weights.keys()) == set(trained_weights.keys()), \"Parameter keys do not match.\"\n",
        "\n",
        "\n",
        "    # Aggregate local weights to update global model\n",
        "    # rotate_shared_segments(client_segment_map, num_segments)\n",
        "    \n",
        "\n",
        "    # copy weight to global model\n",
        "    global_model.load_state_dict(updated_server_weights)\n",
        "\n",
        "    # Calulate loss\n",
        "    loss_avg = sum(local_losses) / len(local_losses)\n",
        "    # print('Round {:3d}, Train loss {:.3f}'.format(round, loss_avg))\n",
        "    loss_train.append(loss_avg)\n",
        "    acc_train.append(100 * sum(local_acc) / len(local_acc))\n",
        "\n",
        "    # Evaluation on test dataset for each round\n",
        "    cur_auc, test_loss = evaluate(\n",
        "        global_model, test_dataset, test_bs, device)\n",
        "    loss_test.append(test_loss)\n",
        "    acc_test.append(cur_auc)\n",
        "    print(f'Round {round+1}, Train loss: {loss_avg:.4f}, Test Loss: {test_loss:.4f}, Test Accuracy: {cur_auc:.2f}%')\n",
        "    ## Early Stopping\n",
        "    valid_loss_array = np.array(loss_test)\n",
        "    min_valid_loss = np.min(valid_loss_array)\n",
        "    \n",
        "    if(test_loss > min_valid_loss):\n",
        "        patience_counter += 1        \n",
        "    else:\n",
        "        patience_counter = 0       #setting the patience counter to zero if the test loss improves again \n",
        "    \n",
        "    ## Calling early stopping if test loss doest improves from last (patience) Iterations\n",
        "    if(patience_counter > patience):\n",
        "        print(\"Early stopping called at {} epochs\".format(round+1))\n",
        "        # break\n",
        "# After all rounds, log the values to the file with the date as the filename\n",
        "with open(f'training_log_{current_date}_{num_segments}.txt', 'w') as log_file:\n",
        "    log_file.write(f'Final Train Loss: {loss_train}\\n')\n",
        "    log_file.write(f'Final Train Accuracy: {acc_train}\\n')\n",
        "    log_file.write(f'Final Test Loss: {loss_test}\\n')\n",
        "    log_file.write(f'Final Test Accuracy: {acc_test}\\n')\n"
      ]
    },
    {
      "cell_type": "code",
      "execution_count": 78,
      "metadata": {
        "id": "BMu4zjVscHpL"
      },
      "outputs": [
        {
          "name": "stdout",
          "output_type": "stream",
          "text": [
            "Training accuracy: 95.74%\n",
            "Testing accuracy: 90.27%\n"
          ]
        }
      ],
      "source": [
        "# Testing\n",
        "global_model.eval()\n",
        "train_acc, train_loss = evaluate(\n",
        "    global_model, train_dataset, test_bs, device)\n",
        "test_acc, test_loss = evaluate(\n",
        "    global_model, test_dataset, test_bs, device)\n",
        "print(\"Training accuracy: {:.2f}%\".format(train_acc))\n",
        "print(\"Testing accuracy: {:.2f}%\".format(test_acc))"
      ]
    },
    {
      "cell_type": "code",
      "execution_count": 79,
      "metadata": {},
      "outputs": [
        {
          "name": "stdout",
          "output_type": "stream",
          "text": [
            "Client id: 6, Round Test, Test Loss: 0.4455, Test Accuracy: 89.53%\n",
            "Client id: 8, Round Test, Test Loss: 0.5798, Test Accuracy: 86.99%\n",
            "Client id: 4, Round Test, Test Loss: 0.4960, Test Accuracy: 88.61%\n",
            "Client id: 1, Round Test, Test Loss: 0.5808, Test Accuracy: 87.42%\n",
            "Client id: 3, Round Test, Test Loss: 0.5639, Test Accuracy: 86.86%\n",
            "Client id: 5, Round Test, Test Loss: 0.5098, Test Accuracy: 88.78%\n",
            "Client id: 0, Round Test, Test Loss: 0.5272, Test Accuracy: 87.93%\n",
            "Client id: 9, Round Test, Test Loss: 0.6134, Test Accuracy: 86.50%\n",
            "Client id: 2, Round Test, Test Loss: 0.4638, Test Accuracy: 89.13%\n",
            "Client id: 7, Round Test, Test Loss: 0.4616, Test Accuracy: 89.14%\n"
          ]
        }
      ],
      "source": [
        "# Evaluation on test dataset for each round\n",
        "for client in selected_clients:\n",
        "    cur_auc, test_loss = evaluate(\n",
        "        clients_models[client], test_dataset, test_bs, device)\n",
        "    print(f'Client id: {client}, Round Test, Test Loss: {test_loss:.4f}, Test Accuracy: {cur_auc:.2f}%')"
      ]
    },
    {
      "cell_type": "markdown",
      "metadata": {},
      "source": [
        "# Evaluation on test dataset for each round\n",
        "for client in range(len(clients_models)):\n",
        "    cur_auc, test_loss = evaluate(\n",
        "        clients_models[client], test_dataset, test_bs, device)\n",
        "    print(f'Client id: {client}, Round Test, Test Loss: {test_loss:.4f}, Test Accuracy: {cur_auc:.2f}%')"
      ]
    },
    {
      "cell_type": "code",
      "execution_count": 50,
      "metadata": {},
      "outputs": [],
      "source": [
        "# Save the entire model\n",
        "torch.save(global_model, 'model_resnet9_ps_same_portion_24_June.pth')\n",
        "\n",
        "# # To load the entire model\n",
        "# model = torch.load('model_complete.pth')\n",
        "# model.eval()"
      ]
    },
    {
      "cell_type": "code",
      "execution_count": 68,
      "metadata": {},
      "outputs": [],
      "source": [
        "# Save only the state dictionary\n",
        "torch.save(model.state_dict(), 'model_resnet9_ps_same_portion_06_June.pth')\n",
        "\n",
        "# # To load the state dictionary, you need to re-instantiate the model first\n",
        "# model = ResNet18()\n",
        "# model.load_state_dict(torch.load('model_state_dict.pth'))\n",
        "# model.eval()"
      ]
    },
    {
      "cell_type": "code",
      "execution_count": 69,
      "metadata": {
        "id": "AWLWYLZn5-xF"
      },
      "outputs": [
        {
          "data": {
            "image/png": "[encoded data removed]",
            "text/plain": [
              "<Figure size 640x480 with 1 Axes>"
            ]
          },
          "metadata": {},
          "output_type": "display_data"
        }
      ],
      "source": [
        "import matplotlib.pyplot as plt\n",
        "\n",
        "plt.plot(loss_train, label='Training Loss')\n",
        "#plt.plot(loss_test, label='Test Loss')\n",
        "plt.xlabel('Rounds')\n",
        "plt.ylabel('Loss')\n",
        "plt.title('Training and Test Loss Over Rounds')\n",
        "plt.legend()\n",
        "plt.show()"
      ]
    },
    {
      "cell_type": "code",
      "execution_count": 80,
      "metadata": {},
      "outputs": [],
      "source": [
        "# Plotting the graphs\n",
        "def plot_graphs(train_accuracy, test_accuracy, train_loss, test_loss):\n",
        "    plt.figure(1, figsize=(10,6))\n",
        "    plt.plot(train_accuracy, label='Train Accuracy', color='red', linewidth=2)\n",
        "    plt.plot(test_accuracy, label='Test Accuracy', color='blue', linewidth=2)\n",
        "    plt.xlabel(\"epochs\")\n",
        "    plt.ylabel(\"accuracy\")\n",
        "    plt.title(\"Epoch Accuracy Plot\")\n",
        "    plt.legend()\n",
        "    #plt.savefig('acc'+'_'+str(learning_rate)+'_'+key+'_'+str(weight_decay)+'_'+str(batch_size)+'_'+str(xavier)+'.jpg', dpi=100, bbox_inches='tight')\n",
        "\n",
        "    plt.figure(2, figsize=(10,6))\n",
        "    plt.plot(train_loss, label='Train loss', color='r', linewidth=2)\n",
        "    plt.plot(test_loss, label='Test loss', color='b', linewidth=2)\n",
        "    plt.xlabel(\"epochs\")\n",
        "    plt.ylabel(\"loss\")\n",
        "    plt.title(\"Epoch Loss Plot\")\n",
        "    plt.legend()"
      ]
    },
    {
      "cell_type": "code",
      "execution_count": 81,
      "metadata": {},
      "outputs": [
        {
          "data": {
            "image/png": "[encoded data removed]",
            "text/plain": [
              "<Figure size 1000x600 with 1 Axes>"
            ]
          },
          "metadata": {},
          "output_type": "display_data"
        },
        {
          "data": {
            "image/png": "[encoded data removed]",
            "text/plain": [
              "<Figure size 1000x600 with 1 Axes>"
            ]
          },
          "metadata": {},
          "output_type": "display_data"
        }
      ],
      "source": [
        "plot_graphs(acc_train, acc_test, loss_train, loss_test)"
      ]
    },
    {
      "cell_type": "code",
      "execution_count": 72,
      "metadata": {},
      "outputs": [],
      "source": [
        "with open('Acc_trainresnet9_ps_same_portion_21_June.txt', 'w') as file:\n",
        "    # Write each value on a new line\n",
        "    file.write(f\"{acc_train}\\n\")"
      ]
    },
    {
      "cell_type": "code",
      "execution_count": 82,
      "metadata": {},
      "outputs": [],
      "source": [
        "with open('Acc_testresnet9_ps_same_portion_23_July.txt', 'w') as file:\n",
        "    # Write each value on a new line\n",
        "    file.write(f\"{acc_test}\\n\")"
      ]
    },
    {
      "cell_type": "code",
      "execution_count": 74,
      "metadata": {},
      "outputs": [],
      "source": [
        "with open('resnet9_ps_same_portion_06_June.txt', 'w') as file:\n",
        "    # Write each value on a new line\n",
        "    file.write(f\"{loss_train}\\n\") "
      ]
    },
    {
      "cell_type": "code",
      "execution_count": 75,
      "metadata": {},
      "outputs": [],
      "source": [
        "with open('resnet9_ps_same_portion_06_June', 'w') as file:\n",
        "    # Write each value on a new line\n",
        "    file.write(f\"{loss_test}\\n\")"
      ]
    },
    {
      "cell_type": "code",
      "execution_count": null,
      "metadata": {},
      "outputs": [],
      "source": [
        "# import ast\n",
        "# with open('test_accuracy.txt', 'r') as file:\n",
        "#     loaded_t_acc = file.read()\n",
        "# ast.literal_eval(loaded_t_acc)"
      ]
    },
    {
      "cell_type": "code",
      "execution_count": null,
      "metadata": {
        "id": "Y5EY5n9eFDwa"
      },
      "outputs": [],
      "source": [
        "import os\n",
        "\n",
        "model_path = '/content/drive/MyDrive/Colab Notebooks/FL_Base/global_model_weights_resnet18.pth'\n",
        "\n",
        "# Initialize the model (make sure it has the same architecture as the saved weights)\n",
        "loaded_model = ResNet9(\n",
        "    in_channels=num_channels, num_classes=num_classes).to(device)\n",
        "\n",
        "# Load model weights\n",
        "loaded_model.load_state_dict(torch.load(model_path))\n",
        "print(f'Model weights loaded from {model_path}')"
      ]
    },
    {
      "cell_type": "code",
      "execution_count": 62,
      "metadata": {
        "id": "z3T4TaSyUDHL"
      },
      "outputs": [],
      "source": [
        "testloader = torch.utils.data.DataLoader(test_dataset, batch_size=128,\n",
        "                                         shuffle=False, num_workers=2)"
      ]
    },
    {
      "cell_type": "code",
      "execution_count": 63,
      "metadata": {
        "id": "7iq3yMzAUZGl"
      },
      "outputs": [],
      "source": [
        "# Use one batch for the attack\n",
        "images, labels = next(iter(testloader))"
      ]
    },
    {
      "cell_type": "code",
      "execution_count": 65,
      "metadata": {
        "id": "9vDQLz98Ubpy"
      },
      "outputs": [
        {
          "name": "stdout",
          "output_type": "stream",
          "text": [
            "Iteration 0, Loss: 10.4229097366333\n",
            "Iteration 10, Loss: 0.2576441168785095\n",
            "Iteration 20, Loss: 0.0006722206599079072\n",
            "Iteration 30, Loss: 5.538160621654242e-05\n",
            "Iteration 40, Loss: 4.242157501721522e-06\n",
            "Iteration 50, Loss: 3.4542649700597394e-06\n",
            "Iteration 60, Loss: 3.4542649700597394e-06\n",
            "Iteration 70, Loss: 3.4542649700597394e-06\n",
            "Iteration 80, Loss: 3.4542649700597394e-06\n",
            "Iteration 90, Loss: 3.4542649700597394e-06\n",
            "Iteration 100, Loss: 3.4542649700597394e-06\n",
            "Iteration 110, Loss: 3.4542649700597394e-06\n",
            "Iteration 120, Loss: 3.4542649700597394e-06\n",
            "Iteration 130, Loss: 3.4542649700597394e-06\n",
            "Iteration 140, Loss: 3.4542649700597394e-06\n",
            "Iteration 150, Loss: 3.4542649700597394e-06\n",
            "Iteration 160, Loss: 3.4542649700597394e-06\n",
            "Iteration 170, Loss: 3.4542649700597394e-06\n",
            "Iteration 180, Loss: 3.4542649700597394e-06\n",
            "Iteration 190, Loss: 3.4542649700597394e-06\n",
            "Iteration 200, Loss: 3.4542649700597394e-06\n",
            "Iteration 210, Loss: 3.4542649700597394e-06\n",
            "Iteration 220, Loss: 3.4542649700597394e-06\n",
            "Iteration 230, Loss: 3.4542649700597394e-06\n",
            "Iteration 240, Loss: 3.4542649700597394e-06\n",
            "Iteration 250, Loss: 3.4542649700597394e-06\n",
            "Iteration 260, Loss: 3.4542649700597394e-06\n",
            "Iteration 270, Loss: 3.4542649700597394e-06\n",
            "Iteration 280, Loss: 3.4542649700597394e-06\n",
            "Iteration 290, Loss: 3.4542649700597394e-06\n"
          ]
        }
      ],
      "source": [
        "# Initialize dummy data\n",
        "dummy_data = torch.randn_like(images, requires_grad=True, device=device)\n",
        "\n",
        "# Define optimizer for the dummy data\n",
        "optimizer = torch.optim.LBFGS([dummy_data], lr=0.01)\n",
        "\n",
        "def closure():\n",
        "    optimizer.zero_grad()\n",
        "    dummy_outputs = global_model(dummy_data)\n",
        "    dummy_loss = criterion(dummy_outputs, labels.to(device))\n",
        "    dummy_loss.backward()\n",
        "    return dummy_loss\n",
        "\n",
        "# Optimize the dummy data\n",
        "for it in range(300):  # Number of optimization iterations\n",
        "    optimizer.step(closure)\n",
        "\n",
        "    if it % 10 == 0:  # Print loss every 10 iterations\n",
        "        current_loss = closure()\n",
        "        print(f\"Iteration {it}, Loss: {current_loss.item()}\")"
      ]
    },
    {
      "cell_type": "code",
      "execution_count": 66,
      "metadata": {
        "id": "XHXwTI_XUdnN"
      },
      "outputs": [
        {
          "name": "stderr",
          "output_type": "stream",
          "text": [
            "Clipping input data to the valid range for imshow with RGB data ([0..1] for floats or [0..255] for integers).\n",
            "Clipping input data to the valid range for imshow with RGB data ([0..1] for floats or [0..255] for integers).\n",
            "Clipping input data to the valid range for imshow with RGB data ([0..1] for floats or [0..255] for integers).\n",
            "Clipping input data to the valid range for imshow with RGB data ([0..1] for floats or [0..255] for integers).\n",
            "Clipping input data to the valid range for imshow with RGB data ([0..1] for floats or [0..255] for integers).\n",
            "Clipping input data to the valid range for imshow with RGB data ([0..1] for floats or [0..255] for integers).\n",
            "Clipping input data to the valid range for imshow with RGB data ([0..1] for floats or [0..255] for integers).\n",
            "Clipping input data to the valid range for imshow with RGB data ([0..1] for floats or [0..255] for integers).\n"
          ]
        },
        {
          "data": {
            "image/png": "[encoded data removed]",
            "text/plain": [
              "<Figure size 1000x400 with 8 Axes>"
            ]
          },
          "metadata": {},
          "output_type": "display_data"
        }
      ],
      "source": [
        "import matplotlib.pyplot as plt\n",
        "\n",
        "# Move dummy data to CPU and remove gradients for visualization\n",
        "reconstructed = dummy_data.detach().cpu()\n",
        "\n",
        "# Visualize some original and reconstructed images\n",
        "fig, axs = plt.subplots(2, 4, figsize=(10, 4))\n",
        "for i in range(4):\n",
        "    axs[0, i].imshow(np.transpose(images[i].cpu().numpy(), (1, 2, 0)))\n",
        "    axs[0, i].title.set_text(f\"Original {i}\")\n",
        "    axs[0, i].axis('off')\n",
        "\n",
        "    axs[1, i].imshow(np.transpose(reconstructed[i].numpy(), (1, 2, 0)))\n",
        "    axs[1, i].title.set_text(f\"Reconstructed {i}\")\n",
        "    axs[1, i].axis('off')\n",
        "plt.show()"
      ]
    },
    {
      "cell_type": "code",
      "execution_count": 76,
      "metadata": {},
      "outputs": [],
      "source": [
        "central_loss = [0.9367780246734619, 0.6024799186706543, 0.5568815106868744, 0.4559904920578003, 0.4825022414207458, 0.43702771916389466, 0.399425066280365, 0.3618346434593201, 0.3294320668697357, 0.3584967755317688, 0.3102611982822418, 0.32123957765102384, 0.35648330643177034, 0.3352374472618103, 0.3250568242788315, 0.3009114432811737, 0.31380720019340513, 0.3115337154388428, 0.2880775971889496, 0.29117754831314085, 0.31935343656539916, 0.29513516845703125, 0.330580010843277, 0.291402260017395, 0.3165560384273529, 0.2935119930744171, 0.2817876832008362, 0.29611091980934146, 0.2833035600185394, 0.2867006880760193, 0.3033505478858948, 0.3059288251399994, 0.3229710032463074, 0.31097500858306887, 0.3264541922569275, 0.2831268483161926, 0.2953838870048523, 0.2919678658485413]"
      ]
    },
    {
      "cell_type": "code",
      "execution_count": 77,
      "metadata": {},
      "outputs": [],
      "source": [
        "central_test = [66.4, 79.19, 80.45, 84.15, 84.03, 85.21, 86.18, 87.65, 88.88, 87.9, 89.44, 89.24, 88.27, 89.23, 89.56, 90.28, 89.92, 90.21, 90.71, 90.67, 90.83, 91.1, 90.08, 91.4, 90.57, 91.34, 91.72, 91.54, 91.72, 91.8, 91.68, 91.27, 91.4, 91.84, 91.9, 92.61, 92.22, 92.66]"
      ]
    },
    {
      "cell_type": "code",
      "execution_count": 78,
      "metadata": {},
      "outputs": [],
      "source": [
        "fl_test = [11.39, 44.93, 79.9, 85.11, 86.97, 88.65, 89.68, 90.22, 90.96, 91.4, 91.5, 91.78, 92.13, 92.0, 92.01, 92.42, 92.52, 92.58, 92.77, 93.0, 92.96, 93.05, 93.15, 92.82, 93.2, 93.03, 93.04, 93.17, 93.34, 93.36, 93.29, 93.48, 93.5, 93.54, 93.49, 93.57, 93.37, 93.24, 93.6, 93.61, 93.47, 93.54, 93.72, 93.68, 93.66, 93.78, 93.73, 93.89, 93.71, 93.61]"
      ]
    },
    {
      "cell_type": "code",
      "execution_count": 79,
      "metadata": {},
      "outputs": [],
      "source": [
        "fl_loss = [2.4460764400482176, 1.4440922925949096, 0.5770800358772278, 0.47372434887886045, 0.4365600778102875, 0.3931789845943451, 0.3642325663089752, 0.3587616772651672, 0.348760612821579, 0.33131017439365384, 0.3406070181846619, 0.3409435050010681, 0.31629624338150025, 0.3248197310447693, 0.32302701659202576, 0.3262625814437866, 0.32419000968933104, 0.31497715601921084, 0.3205320776462555, 0.30374030122756956, 0.3158591908931732, 0.3135967821598053, 0.31723053441047666, 0.3261755410194397, 0.3155578875541687, 0.32434255714416504, 0.32406520295143126, 0.3275811056137085, 0.32356212139129636, 0.3234390698909759, 0.3358142679691315, 0.33074276962280275, 0.324874122428894, 0.3436338716506958, 0.3295611947059631, 0.33103010740280153, 0.34342753930091857, 0.351936093711853, 0.33757840900421143, 0.34453608531951907, 0.3488836561203003, 0.3515696603775024, 0.3326067240715027, 0.34024749612808225, 0.34850142102241516, 0.34747182540893556, 0.3464592590332031, 0.33558513164520265, 0.35945157871246336, 0.354887314414978]"
      ]
    },
    {
      "cell_type": "code",
      "execution_count": 80,
      "metadata": {},
      "outputs": [],
      "source": [
        "ps_test = [16.49, 17.15, 13.32, 37.41, 48.02, 55.81, 81.24, 81.79, 85.14, 86.23, 87.25, 88.5, 88.95, 88.91, 89.63, 90.28, 90.14, 90.14, 91.06, 91.08, 90.52, 91.32, 91.38, 91.58, 91.61, 92.68, 92.81, 92.61, 92.76, 92.74, 92.77, 92.8, 92.74]"
      ]
    },
    {
      "cell_type": "code",
      "execution_count": 81,
      "metadata": {},
      "outputs": [],
      "source": [
        "ps_loss = [2.3988666721343996, 2.4294231357574465, 2.4527080673217774, 1.6535986902236939, 1.5443821865081786, 1.4155148601531982, 0.6200998008728027, 0.547191070652008, 0.44466218786239625, 0.43050297346115113, 0.40464769968986514, 0.3870432250022888, 0.37368968086242677, 0.3937782172679901, 0.3765996111869812, 0.36727165699005127, 0.3739104016304016, 0.374108492231369, 0.3420161064147949, 0.3523150536060333, 0.393057110786438, 0.3395255877494812, 0.34593749713897703, 0.3471459406375885, 0.375442248916626, 0.3740967324256897, 0.3801098481655121, 0.38271478910446166, 0.39652752685546877, 0.393654918384552, 0.4055362723350525, 0.4053261598110199, 0.4233029920578003]"
      ]
    },
    {
      "cell_type": "code",
      "execution_count": 90,
      "metadata": {
        "id": "nXeRv13BUoa0"
      },
      "outputs": [],
      "source": [
        "import matplotlib.pyplot as plt\n",
        "\n",
        "def plot_graphs():\n",
        "    plt.figure(1, figsize=(10, 6))\n",
        "    plt.plot(ps_loss, label='FL with Partial Sharing', color='#e41a1c', linestyle='solid', linewidth=4)\n",
        "    plt.plot(fl_loss, label='Federated Learning', color='#4daf4a', linestyle='dashed', linewidth=4)\n",
        "    plt.plot(central_loss, label='Centralized Training', color='#377eb8', linestyle='dotted', linewidth=4)\n",
        "    plt.plot(loss_test, label='FL with Partial Sharing(Same portion)', color='#9999b8', linestyle='solid', linewidth=4)\n",
        "    plt.ylabel(\"Test Loss\", fontsize=18)\n",
        "    plt.xlabel(\"Number of Rounds\", fontsize=18)\n",
        "    plt.legend()\n",
        "    # plt.legend(fontsize=16)\n",
        "    plt.grid(True)\n",
        "    # plt.xticks(fontsize=16)\n",
        "    # plt.yticks(fontsize=16)\n",
        "    plt.show()\n",
        "\n",
        "def plot_acc():\n",
        "    plt.figure(1, figsize=(10, 6))\n",
        "    plt.plot(fl_test, label='Federated Learning', color='#4daf4a', linestyle='dashed', linewidth=4)\n",
        "    plt.plot(ps_test, label='FL with Partial Sharing', color='#e41a1c', linestyle='solid', linewidth=4)\n",
        "    plt.plot(central_test, label='Centralized Training', color='#377eb8', linestyle='dotted', linewidth=4)\n",
        "    plt.plot(acc_test, label='FL with Partial Sharing(Same portion)', color='#9999b8', linestyle='solid', linewidth=4)\n",
        "    plt.ylabel(\"Test Accuracy\")\n",
        "    plt.xlabel(\"Number of Rounds\")\n",
        "    plt.legend()\n",
        "    plt.grid(True)\n",
        "    plt.show()"
      ]
    },
    {
      "cell_type": "code",
      "execution_count": 91,
      "metadata": {},
      "outputs": [
        {
          "data": {
            "image/png": "[encoded data removed]",
            "text/plain": [
              "<Figure size 1000x600 with 1 Axes>"
            ]
          },
          "metadata": {},
          "output_type": "display_data"
        }
      ],
      "source": [
        "plot_graphs()"
      ]
    },
    {
      "cell_type": "code",
      "execution_count": 92,
      "metadata": {},
      "outputs": [
        {
          "data": {
            "image/png": "[encoded data removed]",
            "text/plain": [
              "<Figure size 1000x600 with 1 Axes>"
            ]
          },
          "metadata": {},
          "output_type": "display_data"
        }
      ],
      "source": [
        "plot_acc()"
      ]
    },
    {
      "cell_type": "code",
      "execution_count": 93,
      "metadata": {},
      "outputs": [
        {
          "data": {
            "text/plain": [
              "Dataset CIFAR10\n",
              "    Number of datapoints: 50000\n",
              "    Root location: ./data\n",
              "    Split: Train\n",
              "    StandardTransform\n",
              "Transform: Compose(\n",
              "               ToTensor()\n",
              "               RandomCrop(size=(32, 32), padding=4)\n",
              "               RandomHorizontalFlip(p=0.5)\n",
              "               Normalize(mean=[0.4913725490196078, 0.4823529411764706, 0.4466666666666667], std=[0.24705882352941178, 0.24352941176470588, 0.2615686274509804])\n",
              "           )"
            ]
          },
          "execution_count": 93,
          "metadata": {},
          "output_type": "execute_result"
        }
      ],
      "source": [
        "train_dataset"
      ]
    },
    {
      "cell_type": "code",
      "execution_count": 94,
      "metadata": {},
      "outputs": [],
      "source": [
        "local_indices = generate_iid_cifar(train_dataset, num_clients)"
      ]
    },
    {
      "cell_type": "code",
      "execution_count": 96,
      "metadata": {},
      "outputs": [
        {
          "data": {
            "text/plain": [
              "{2,\n",
              " 8,\n",
              " 13,\n",
              " 20,\n",
              " 32790,\n",
              " 25,\n",
              " 32800,\n",
              " 32801,\n",
              " 32825,\n",
              " 63,\n",
              " 66,\n",
              " 88,\n",
              " 32860,\n",
              " 93,\n",
              " 101,\n",
              " 32874,\n",
              " 32879,\n",
              " 32880,\n",
              " 117,\n",
              " 32887,\n",
              " 121,\n",
              " 32896,\n",
              " 32900,\n",
              " 139,\n",
              " 145,\n",
              " 147,\n",
              " 32915,\n",
              " 32917,\n",
              " 152,\n",
              " 32921,\n",
              " 32926,\n",
              " 32943,\n",
              " 180,\n",
              " 198,\n",
              " 32967,\n",
              " 201,\n",
              " 202,\n",
              " 32973,\n",
              " 32974,\n",
              " 208,\n",
              " 32980,\n",
              " 32982,\n",
              " 32984,\n",
              " 216,\n",
              " 236,\n",
              " 245,\n",
              " 33017,\n",
              " 258,\n",
              " 284,\n",
              " 33055,\n",
              " 295,\n",
              " 301,\n",
              " 303,\n",
              " 33073,\n",
              " 33075,\n",
              " 33079,\n",
              " 314,\n",
              " 322,\n",
              " 33095,\n",
              " 328,\n",
              " 327,\n",
              " 335,\n",
              " 341,\n",
              " 33113,\n",
              " 33114,\n",
              " 33119,\n",
              " 359,\n",
              " 33134,\n",
              " 368,\n",
              " 377,\n",
              " 33154,\n",
              " 33159,\n",
              " 392,\n",
              " 400,\n",
              " 33169,\n",
              " 409,\n",
              " 33178,\n",
              " 415,\n",
              " 33186,\n",
              " 33189,\n",
              " 426,\n",
              " 433,\n",
              " 436,\n",
              " 442,\n",
              " 33222,\n",
              " 459,\n",
              " 463,\n",
              " 465,\n",
              " 33236,\n",
              " 483,\n",
              " 492,\n",
              " 493,\n",
              " 33263,\n",
              " 33272,\n",
              " 33284,\n",
              " 517,\n",
              " 33291,\n",
              " 523,\n",
              " 33297,\n",
              " 33313,\n",
              " 33317,\n",
              " 561,\n",
              " 33343,\n",
              " 577,\n",
              " 579,\n",
              " 580,\n",
              " 33350,\n",
              " 33356,\n",
              " 33358,\n",
              " 595,\n",
              " 596,\n",
              " 33364,\n",
              " 33368,\n",
              " 33369,\n",
              " 33373,\n",
              " 33374,\n",
              " 33375,\n",
              " 33388,\n",
              " 621,\n",
              " 33397,\n",
              " 631,\n",
              " 33408,\n",
              " 33417,\n",
              " 654,\n",
              " 660,\n",
              " 661,\n",
              " 665,\n",
              " 33433,\n",
              " 668,\n",
              " 671,\n",
              " 33444,\n",
              " 33445,\n",
              " 681,\n",
              " 33462,\n",
              " 701,\n",
              " 707,\n",
              " 33477,\n",
              " 33480,\n",
              " 718,\n",
              " 723,\n",
              " 33492,\n",
              " 725,\n",
              " 728,\n",
              " 730,\n",
              " 33501,\n",
              " 735,\n",
              " 33504,\n",
              " 738,\n",
              " 739,\n",
              " 742,\n",
              " 744,\n",
              " 33517,\n",
              " 751,\n",
              " 33521,\n",
              " 33526,\n",
              " 759,\n",
              " 33534,\n",
              " 772,\n",
              " 773,\n",
              " 776,\n",
              " 785,\n",
              " 796,\n",
              " 33572,\n",
              " 33582,\n",
              " 817,\n",
              " 33590,\n",
              " 33592,\n",
              " 825,\n",
              " 33596,\n",
              " 833,\n",
              " 33601,\n",
              " 839,\n",
              " 842,\n",
              " 861,\n",
              " 33642,\n",
              " 876,\n",
              " 33645,\n",
              " 879,\n",
              " 33648,\n",
              " 33649,\n",
              " 33653,\n",
              " 33656,\n",
              " 33657,\n",
              " 33678,\n",
              " 913,\n",
              " 33691,\n",
              " 924,\n",
              " 33694,\n",
              " 929,\n",
              " 33698,\n",
              " 937,\n",
              " 33711,\n",
              " 33714,\n",
              " 33716,\n",
              " 949,\n",
              " 948,\n",
              " 952,\n",
              " 970,\n",
              " 33739,\n",
              " 33743,\n",
              " 977,\n",
              " 978,\n",
              " 33745,\n",
              " 982,\n",
              " 988,\n",
              " 33759,\n",
              " 33762,\n",
              " 996,\n",
              " 33765,\n",
              " 33769,\n",
              " 33775,\n",
              " 33779,\n",
              " 1016,\n",
              " 33786,\n",
              " 1023,\n",
              " 1024,\n",
              " 1025,\n",
              " 33795,\n",
              " 33807,\n",
              " 1045,\n",
              " 33816,\n",
              " 33820,\n",
              " 1056,\n",
              " 1087,\n",
              " 33859,\n",
              " 1091,\n",
              " 33863,\n",
              " 1095,\n",
              " 1122,\n",
              " 33890,\n",
              " 1123,\n",
              " 1127,\n",
              " 33896,\n",
              " 33897,\n",
              " 1142,\n",
              " 33917,\n",
              " 1157,\n",
              " 1159,\n",
              " 1166,\n",
              " 1167,\n",
              " 1192,\n",
              " 33967,\n",
              " 1202,\n",
              " 33970,\n",
              " 1210,\n",
              " 33985,\n",
              " 1217,\n",
              " 1236,\n",
              " 1240,\n",
              " 1251,\n",
              " 34034,\n",
              " 34045,\n",
              " 1278,\n",
              " 1287,\n",
              " 34062,\n",
              " 34072,\n",
              " 34075,\n",
              " 1318,\n",
              " 34094,\n",
              " 1338,\n",
              " 1341,\n",
              " 34119,\n",
              " 1351,\n",
              " 34122,\n",
              " 1356,\n",
              " 34125,\n",
              " 1375,\n",
              " 34151,\n",
              " 34159,\n",
              " 34163,\n",
              " 1400,\n",
              " 1402,\n",
              " 34179,\n",
              " 34180,\n",
              " 1416,\n",
              " 34185,\n",
              " 34186,\n",
              " 1418,\n",
              " 1424,\n",
              " 34194,\n",
              " 34207,\n",
              " 1440,\n",
              " 1439,\n",
              " 34212,\n",
              " 1450,\n",
              " 1451,\n",
              " 34221,\n",
              " 1453,\n",
              " 34222,\n",
              " 1459,\n",
              " 34245,\n",
              " 34249,\n",
              " 34252,\n",
              " 1487,\n",
              " 1488,\n",
              " 34256,\n",
              " 34257,\n",
              " 1492,\n",
              " 34268,\n",
              " 1502,\n",
              " 34273,\n",
              " 34274,\n",
              " 1508,\n",
              " 1512,\n",
              " 34285,\n",
              " 1519,\n",
              " 1525,\n",
              " 1526,\n",
              " 1542,\n",
              " 1546,\n",
              " 34318,\n",
              " 34320,\n",
              " 1552,\n",
              " 34326,\n",
              " 34329,\n",
              " 34331,\n",
              " 34340,\n",
              " 1574,\n",
              " 34343,\n",
              " 34344,\n",
              " 1575,\n",
              " 34348,\n",
              " 34371,\n",
              " 1603,\n",
              " 34377,\n",
              " 1611,\n",
              " 1612,\n",
              " 34382,\n",
              " 1616,\n",
              " 34388,\n",
              " 34391,\n",
              " 1625,\n",
              " 1627,\n",
              " 34403,\n",
              " 1643,\n",
              " 1647,\n",
              " 34416,\n",
              " 1651,\n",
              " 1657,\n",
              " 1667,\n",
              " 1668,\n",
              " 34450,\n",
              " 1683,\n",
              " 1684,\n",
              " 34452,\n",
              " 34460,\n",
              " 1694,\n",
              " 34467,\n",
              " 34470,\n",
              " 34474,\n",
              " 34478,\n",
              " 34491,\n",
              " 34506,\n",
              " 34507,\n",
              " 34513,\n",
              " 34514,\n",
              " 34526,\n",
              " 1758,\n",
              " 34536,\n",
              " 34539,\n",
              " 1775,\n",
              " 1780,\n",
              " 1781,\n",
              " 1796,\n",
              " 1798,\n",
              " 34578,\n",
              " 34579,\n",
              " 34580,\n",
              " 1812,\n",
              " 1813,\n",
              " 1824,\n",
              " 1830,\n",
              " 1834,\n",
              " 34605,\n",
              " 1843,\n",
              " 1844,\n",
              " 34614,\n",
              " 1852,\n",
              " 1856,\n",
              " 1868,\n",
              " 34637,\n",
              " 34639,\n",
              " 1882,\n",
              " 34650,\n",
              " 1884,\n",
              " 1895,\n",
              " 34665,\n",
              " 1902,\n",
              " 1909,\n",
              " 34691,\n",
              " 34696,\n",
              " 1929,\n",
              " 1930,\n",
              " 1932,\n",
              " 34702,\n",
              " 1941,\n",
              " 1945,\n",
              " 34720,\n",
              " 34721,\n",
              " 34722,\n",
              " 34723,\n",
              " 34726,\n",
              " 1959,\n",
              " 1963,\n",
              " 1970,\n",
              " 34738,\n",
              " 1974,\n",
              " 34743,\n",
              " 34751,\n",
              " 34761,\n",
              " 34769,\n",
              " 2002,\n",
              " 2004,\n",
              " 34778,\n",
              " 34779,\n",
              " 2011,\n",
              " 2015,\n",
              " 34784,\n",
              " 2021,\n",
              " 2023,\n",
              " 2024,\n",
              " 2032,\n",
              " 2033,\n",
              " 2040,\n",
              " 2043,\n",
              " 34811,\n",
              " 34814,\n",
              " 2052,\n",
              " 34822,\n",
              " 34828,\n",
              " 2062,\n",
              " 34835,\n",
              " 34838,\n",
              " 2074,\n",
              " 2075,\n",
              " 2080,\n",
              " 34851,\n",
              " 2085,\n",
              " 2087,\n",
              " 34862,\n",
              " 2096,\n",
              " 2097,\n",
              " 2101,\n",
              " 34872,\n",
              " 2106,\n",
              " 2112,\n",
              " 34886,\n",
              " 2123,\n",
              " 34892,\n",
              " 34891,\n",
              " 2127,\n",
              " 34897,\n",
              " 34900,\n",
              " 2132,\n",
              " 34905,\n",
              " 34912,\n",
              " 34919,\n",
              " 34925,\n",
              " 34927,\n",
              " 34931,\n",
              " 2165,\n",
              " 34943,\n",
              " 34946,\n",
              " 2184,\n",
              " 34953,\n",
              " 2187,\n",
              " 2203,\n",
              " 2207,\n",
              " 2208,\n",
              " 34980,\n",
              " 2233,\n",
              " 2234,\n",
              " 2237,\n",
              " 35008,\n",
              " 2241,\n",
              " 2253,\n",
              " 35027,\n",
              " 35029,\n",
              " 35032,\n",
              " 35041,\n",
              " 35043,\n",
              " 2279,\n",
              " 2295,\n",
              " 35064,\n",
              " 2297,\n",
              " 35066,\n",
              " 35069,\n",
              " 2305,\n",
              " 35075,\n",
              " 2308,\n",
              " 35079,\n",
              " 35086,\n",
              " 35090,\n",
              " 35093,\n",
              " 35094,\n",
              " 2335,\n",
              " 2349,\n",
              " 2354,\n",
              " 35123,\n",
              " 2357,\n",
              " 35127,\n",
              " 2367,\n",
              " 2379,\n",
              " 35149,\n",
              " 2384,\n",
              " 35158,\n",
              " 35166,\n",
              " 35173,\n",
              " 35178,\n",
              " 35183,\n",
              " 2418,\n",
              " 35189,\n",
              " 2439,\n",
              " 35209,\n",
              " 2457,\n",
              " 35230,\n",
              " 2466,\n",
              " 2477,\n",
              " 35246,\n",
              " 2499,\n",
              " 2500,\n",
              " 2510,\n",
              " 35281,\n",
              " 2526,\n",
              " 2535,\n",
              " 35304,\n",
              " 35307,\n",
              " 35308,\n",
              " 2544,\n",
              " 2548,\n",
              " 2551,\n",
              " 2554,\n",
              " 35327,\n",
              " 2559,\n",
              " 2562,\n",
              " 35331,\n",
              " 2564,\n",
              " 35334,\n",
              " 2567,\n",
              " 2590,\n",
              " 2595,\n",
              " 2597,\n",
              " 35367,\n",
              " 2600,\n",
              " 2603,\n",
              " 35372,\n",
              " 2609,\n",
              " 2614,\n",
              " 2620,\n",
              " 2636,\n",
              " 2640,\n",
              " 2641,\n",
              " 2668,\n",
              " 2670,\n",
              " 35446,\n",
              " 2681,\n",
              " 2686,\n",
              " 35464,\n",
              " 35468,\n",
              " 35474,\n",
              " 2710,\n",
              " 35479,\n",
              " 2722,\n",
              " 35500,\n",
              " 2742,\n",
              " 35513,\n",
              " 35518,\n",
              " 35525,\n",
              " 35526,\n",
              " 2766,\n",
              " 2768,\n",
              " 2774,\n",
              " 35556,\n",
              " 2790,\n",
              " 35559,\n",
              " 35566,\n",
              " 35567,\n",
              " 35569,\n",
              " 35572,\n",
              " 35574,\n",
              " 35575,\n",
              " 2811,\n",
              " 2821,\n",
              " 35589,\n",
              " 35603,\n",
              " 2835,\n",
              " 35615,\n",
              " 35621,\n",
              " 2854,\n",
              " 2865,\n",
              " 35649,\n",
              " 35650,\n",
              " 2886,\n",
              " 35661,\n",
              " 35666,\n",
              " 35676,\n",
              " 2913,\n",
              " 35689,\n",
              " 35690,\n",
              " 2922,\n",
              " 35709,\n",
              " 35716,\n",
              " 2956,\n",
              " 35724,\n",
              " 2966,\n",
              " 2972,\n",
              " 35743,\n",
              " 2975,\n",
              " 2978,\n",
              " 2979,\n",
              " 2980,\n",
              " 2988,\n",
              " 35763,\n",
              " 3002,\n",
              " 35779,\n",
              " 3013,\n",
              " 35788,\n",
              " 35790,\n",
              " 35794,\n",
              " 3032,\n",
              " 35801,\n",
              " 3038,\n",
              " 3040,\n",
              " 35812,\n",
              " 3064,\n",
              " 3080,\n",
              " 35853,\n",
              " 35856,\n",
              " 35879,\n",
              " 35882,\n",
              " 35886,\n",
              " 35891,\n",
              " 3125,\n",
              " 35894,\n",
              " 35895,\n",
              " 3131,\n",
              " 35900,\n",
              " 35905,\n",
              " 35912,\n",
              " 35920,\n",
              " 3154,\n",
              " 35929,\n",
              " 3162,\n",
              " 3165,\n",
              " 35944,\n",
              " 35946,\n",
              " 35956,\n",
              " 35957,\n",
              " 35962,\n",
              " 3213,\n",
              " 3217,\n",
              " 3219,\n",
              " 3224,\n",
              " 35999,\n",
              " 3233,\n",
              " 3234,\n",
              " 36010,\n",
              " 36014,\n",
              " 36017,\n",
              " 3255,\n",
              " 3257,\n",
              " 3260,\n",
              " 3263,\n",
              " 3265,\n",
              " 36038,\n",
              " 3282,\n",
              " 36057,\n",
              " 36069,\n",
              " 36075,\n",
              " 36078,\n",
              " 36083,\n",
              " 36086,\n",
              " 36098,\n",
              " 3330,\n",
              " 3335,\n",
              " 3338,\n",
              " 36110,\n",
              " 3343,\n",
              " 36113,\n",
              " 36118,\n",
              " 3352,\n",
              " 3357,\n",
              " 36134,\n",
              " 36143,\n",
              " 36146,\n",
              " 36148,\n",
              " 3384,\n",
              " 36156,\n",
              " 3388,\n",
              " 36159,\n",
              " 3413,\n",
              " 36192,\n",
              " 36194,\n",
              " 36205,\n",
              " 36206,\n",
              " 3439,\n",
              " 3447,\n",
              " 3463,\n",
              " 3486,\n",
              " 3490,\n",
              " 3496,\n",
              " 3504,\n",
              " 3508,\n",
              " 3514,\n",
              " 3516,\n",
              " 3519,\n",
              " 36296,\n",
              " 3528,\n",
              " 36298,\n",
              " 3537,\n",
              " 36307,\n",
              " 3541,\n",
              " 3544,\n",
              " 3549,\n",
              " 3570,\n",
              " 36338,\n",
              " 36341,\n",
              " 36346,\n",
              " 3578,\n",
              " 36354,\n",
              " 3588,\n",
              " 36358,\n",
              " 36366,\n",
              " 36373,\n",
              " 36379,\n",
              " 36389,\n",
              " 36392,\n",
              " 3639,\n",
              " 3644,\n",
              " 3646,\n",
              " 36415,\n",
              " 36414,\n",
              " 3649,\n",
              " 3652,\n",
              " 3653,\n",
              " 36426,\n",
              " 36435,\n",
              " 3671,\n",
              " 36441,\n",
              " 3682,\n",
              " 36450,\n",
              " 3692,\n",
              " 36469,\n",
              " 3704,\n",
              " 3708,\n",
              " 3709,\n",
              " 3716,\n",
              " 3717,\n",
              " 3723,\n",
              " 3725,\n",
              " 36500,\n",
              " 3740,\n",
              " 3742,\n",
              " 36511,\n",
              " 36518,\n",
              " 36522,\n",
              " 36523,\n",
              " 3766,\n",
              " 36535,\n",
              " 36536,\n",
              " 3773,\n",
              " 3797,\n",
              " 3802,\n",
              " 36571,\n",
              " 3814,\n",
              " 36585,\n",
              " 36591,\n",
              " 36593,\n",
              " 36596,\n",
              " 3829,\n",
              " 3831,\n",
              " 36599,\n",
              " 36621,\n",
              " 36625,\n",
              " 3865,\n",
              " 3880,\n",
              " 36662,\n",
              " 36663,\n",
              " 3903,\n",
              " 3904,\n",
              " 3905,\n",
              " 36675,\n",
              " 3914,\n",
              " 3916,\n",
              " 3920,\n",
              " 36690,\n",
              " 36698,\n",
              " 36699,\n",
              " 36704,\n",
              " 3938,\n",
              " 36709,\n",
              " 36728,\n",
              " 36730,\n",
              " 3964,\n",
              " 3985,\n",
              " 36754,\n",
              " 3996,\n",
              " 36767,\n",
              " 4003,\n",
              " 4012,\n",
              " 4019,\n",
              " 4025,\n",
              " 36795,\n",
              " 4028,\n",
              " 4034,\n",
              " 4038,\n",
              " 36808,\n",
              " 4042,\n",
              " 36811,\n",
              " 36816,\n",
              " 4052,\n",
              " 36824,\n",
              " 4058,\n",
              " 36830,\n",
              " 36831,\n",
              " 36839,\n",
              " 36843,\n",
              " 36848,\n",
              " 36849,\n",
              " 4082,\n",
              " 36850,\n",
              " 36852,\n",
              " 4088,\n",
              " 36857,\n",
              " 4095,\n",
              " 4096,\n",
              " 36868,\n",
              " 36870,\n",
              " 4113,\n",
              " 4126,\n",
              " 4128,\n",
              " 4129,\n",
              " 4131,\n",
              " 4133,\n",
              " 4135,\n",
              " 4136,\n",
              " 4140,\n",
              " 36909,\n",
              " 36915,\n",
              " 36922,\n",
              " 36923,\n",
              " 4156,\n",
              " 4165,\n",
              " 4167,\n",
              " 4169,\n",
              " 4175,\n",
              " 36946,\n",
              " 36947,\n",
              " 4190,\n",
              " 36959,\n",
              " 4193,\n",
              " 36967,\n",
              " 4203,\n",
              " 4212,\n",
              " 4218,\n",
              " 4219,\n",
              " 36990,\n",
              " 4222,\n",
              " 36992,\n",
              " 37000,\n",
              " 4240,\n",
              " 4247,\n",
              " 37019,\n",
              " 4261,\n",
              " 37030,\n",
              " 37032,\n",
              " 4275,\n",
              " 37043,\n",
              " 4277,\n",
              " 4281,\n",
              " 37050,\n",
              " 4289,\n",
              " 37063,\n",
              " 37064,\n",
              " 37075,\n",
              " 4311,\n",
              " 4312,\n",
              " 37082,\n",
              " 4319,\n",
              " 4320,\n",
              " 37106,\n",
              " 4339,\n",
              " 4346,\n",
              " 4350,\n",
              " 4365,\n",
              " 37140,\n",
              " 37141,\n",
              " 4384,\n",
              " 37170,\n",
              " 4409,\n",
              " 37187,\n",
              " 37188,\n",
              " 4426,\n",
              " 37198,\n",
              " 4440,\n",
              " 4449,\n",
              " 37232,\n",
              " 37235,\n",
              " 4476,\n",
              " 37251,\n",
              " 4484,\n",
              " 4483,\n",
              " 37252,\n",
              " 4490,\n",
              " 37261,\n",
              " 4494,\n",
              " 37264,\n",
              " 4508,\n",
              " 37278,\n",
              " 4511,\n",
              " 37280,\n",
              " 4523,\n",
              " 37291,\n",
              " 37294,\n",
              " 4526,\n",
              " 37298,\n",
              " 4535,\n",
              " 4537,\n",
              " 37311,\n",
              " 37316,\n",
              " 4549,\n",
              " 37325,\n",
              " 37333,\n",
              " 37335,\n",
              " 4572,\n",
              " 37345,\n",
              " 4582,\n",
              " 4588,\n",
              " 4589,\n",
              " 4593,\n",
              " 37361,\n",
              " 37372,\n",
              " 37380,\n",
              " 4614,\n",
              " 4615,\n",
              " 37382,\n",
              " 37391,\n",
              " 4629,\n",
              " 37399,\n",
              " 4648,\n",
              " 37425,\n",
              " 37426,\n",
              " 37430,\n",
              " 37431,\n",
              " 37451,\n",
              " 37452,\n",
              " 4695,\n",
              " 37466,\n",
              " 4698,\n",
              " 37471,\n",
              " 4711,\n",
              " 37485,\n",
              " 37497,\n",
              " 4731,\n",
              " 4733,\n",
              " 4737,\n",
              " 4738,\n",
              " 37511,\n",
              " 37518,\n",
              " 37519,\n",
              " 4753,\n",
              " 4762,\n",
              " 37550,\n",
              " 37553,\n",
              " 4791,\n",
              " 37559,\n",
              " 4794,\n",
              " 37575,\n",
              " 4814,\n",
              " 37584,\n",
              " 4818,\n",
              " 37594,\n",
              " 4839,\n",
              " 37612,\n",
              " 4846,\n",
              " 37614,\n",
              " 4849,\n",
              " 37619,\n",
              " 37623,\n",
              " 4856,\n",
              " 4857,\n",
              " 4860,\n",
              " 37654,\n",
              " 37655,\n",
              " 37664,\n",
              " 4899,\n",
              " 4900,\n",
              " 4904,\n",
              " 37676,\n",
              " 37677,\n",
              " 4919,\n",
              " 37689,\n",
              " 37692,\n",
              " 37698,\n",
              " 37699,\n",
              " 4932,\n",
              " 4940,\n",
              " 37708,\n",
              " 37710,\n",
              " 37715,\n",
              " ...}"
            ]
          },
          "execution_count": 96,
          "metadata": {},
          "output_type": "execute_result"
        }
      ],
      "source": [
        "local_indices[0]"
      ]
    },
    {
      "cell_type": "code",
      "execution_count": 111,
      "metadata": {},
      "outputs": [
        {
          "name": "stdout",
          "output_type": "stream",
          "text": [
            "5000\n",
            "5000\n",
            "5000\n",
            "5000\n",
            "5000\n",
            "5000\n",
            "5000\n",
            "5000\n",
            "5000\n",
            "5000\n"
          ]
        }
      ],
      "source": [
        "for i in range(len(local_indices)):\n",
        "    print(len(local_indices[i]))"
      ]
    },
    {
      "cell_type": "code",
      "execution_count": 103,
      "metadata": {},
      "outputs": [],
      "source": [
        "local_loader_sample = DataLoader(DatasetSplit(train_dataset, local_indices[i]), batch_size=local_bs, shuffle=True)"
      ]
    },
    {
      "cell_type": "code",
      "execution_count": 113,
      "metadata": {},
      "outputs": [
        {
          "name": "stdout",
          "output_type": "stream",
          "text": [
            "Number of samples: 5000\n",
            "Number of batches: 500\n"
          ]
        }
      ],
      "source": [
        "from torch.utils.data import DataLoader, Subset\n",
        "\n",
        "# Get the subset of the dataset\n",
        "subset_dataset = Subset(train_dataset, local_indices[0])\n",
        "\n",
        "# Number of samples in the subset dataset\n",
        "num_samples = len(subset_dataset)\n",
        "print(f\"Number of samples: {num_samples}\")\n",
        "\n",
        "# Number of batches in the DataLoader\n",
        "num_batches = len(local_loader_sample)\n",
        "print(f\"Number of batches: {num_batches}\")\n"
      ]
    },
    {
      "cell_type": "code",
      "execution_count": 116,
      "metadata": {},
      "outputs": [
        {
          "name": "stdout",
          "output_type": "stream",
          "text": [
            "Number of samples in the subset: 5000\n"
          ]
        },
        {
          "data": {
            "image/png": "[encoded data removed]",
            "text/plain": [
              "<Figure size 1000x600 with 1 Axes>"
            ]
          },
          "metadata": {},
          "output_type": "display_data"
        },
        {
          "name": "stdout",
          "output_type": "stream",
          "text": [
            "Number of samples in the subset: 5000\n"
          ]
        },
        {
          "data": {
            "image/png": "[encoded data removed]",
            "text/plain": [
              "<Figure size 1000x600 with 1 Axes>"
            ]
          },
          "metadata": {},
          "output_type": "display_data"
        },
        {
          "name": "stdout",
          "output_type": "stream",
          "text": [
            "Number of samples in the subset: 5000\n"
          ]
        },
        {
          "data": {
            "image/png": "[encoded data removed]",
            "text/plain": [
              "<Figure size 1000x600 with 1 Axes>"
            ]
          },
          "metadata": {},
          "output_type": "display_data"
        },
        {
          "name": "stdout",
          "output_type": "stream",
          "text": [
            "Number of samples in the subset: 5000\n"
          ]
        },
        {
          "data": {
            "image/png": "[encoded data removed]",
            "text/plain": [
              "<Figure size 1000x600 with 1 Axes>"
            ]
          },
          "metadata": {},
          "output_type": "display_data"
        },
        {
          "name": "stdout",
          "output_type": "stream",
          "text": [
            "Number of samples in the subset: 5000\n"
          ]
        },
        {
          "data": {
            "image/png": "[encoded data removed]",
            "text/plain": [
              "<Figure size 1000x600 with 1 Axes>"
            ]
          },
          "metadata": {},
          "output_type": "display_data"
        },
        {
          "name": "stdout",
          "output_type": "stream",
          "text": [
            "Number of samples in the subset: 5000\n"
          ]
        },
        {
          "data": {
            "image/png": "[encoded data removed]",
            "text/plain": [
              "<Figure size 1000x600 with 1 Axes>"
            ]
          },
          "metadata": {},
          "output_type": "display_data"
        },
        {
          "name": "stdout",
          "output_type": "stream",
          "text": [
            "Number of samples in the subset: 5000\n"
          ]
        },
        {
          "data": {
            "image/png": "[encoded data removed]",
            "text/plain": [
              "<Figure size 1000x600 with 1 Axes>"
            ]
          },
          "metadata": {},
          "output_type": "display_data"
        },
        {
          "name": "stdout",
          "output_type": "stream",
          "text": [
            "Number of samples in the subset: 5000\n"
          ]
        },
        {
          "data": {
            "image/png": "[encoded data removed]",
            "text/plain": [
              "<Figure size 1000x600 with 1 Axes>"
            ]
          },
          "metadata": {},
          "output_type": "display_data"
        },
        {
          "name": "stdout",
          "output_type": "stream",
          "text": [
            "Number of samples in the subset: 5000\n"
          ]
        },
        {
          "data": {
            "image/png": "[encoded data removed]",
            "text/plain": [
              "<Figure size 1000x600 with 1 Axes>"
            ]
          },
          "metadata": {},
          "output_type": "display_data"
        },
        {
          "name": "stdout",
          "output_type": "stream",
          "text": [
            "Number of samples in the subset: 5000\n"
          ]
        },
        {
          "data": {
            "image/png": "[encoded data removed]",
            "text/plain": [
              "<Figure size 1000x600 with 1 Axes>"
            ]
          },
          "metadata": {},
          "output_type": "display_data"
        }
      ],
      "source": [
        "import matplotlib.pyplot as plt\n",
        "from collections import Counter\n",
        "from torch.utils.data import Subset\n",
        "\n",
        "for i in range(len(local_indices)):\n",
        "    indices = list(local_indices[i])\n",
        "\n",
        "    # Create the subset dataset\n",
        "    subset_dataset = Subset(train_dataset, indices)\n",
        "\n",
        "    # To check the number of samples\n",
        "    num_samples = len(subset_dataset)\n",
        "    print(f\"Number of samples in the subset: {num_samples}\")\n",
        "\n",
        "    # Collect all targets\n",
        "    targets = [subset_dataset[index][1] for index in range(num_samples)]\n",
        "\n",
        "    # Count the occurrences of each target\n",
        "    target_counter = Counter(targets)\n",
        "\n",
        "    # Extract the target classes and their counts\n",
        "    classes = list(target_counter.keys())\n",
        "    counts = list(target_counter.values())\n",
        "\n",
        "    # Plot the distribution\n",
        "    plt.figure(figsize=(10, 6))\n",
        "    plt.bar(classes, counts, color='skyblue')\n",
        "    plt.xlabel('Class')\n",
        "    plt.ylabel('Count')\n",
        "    plt.title('Distribution of Targets in Subset Dataset')\n",
        "    plt.xticks(classes)\n",
        "    plt.show()\n"
      ]
    },
    {
      "cell_type": "code",
      "execution_count": null,
      "metadata": {},
      "outputs": [],
      "source": [
        "class DatasetSplit(Dataset):\n",
        "    def __init__(self, dataset, idxs):\n",
        "        self.dataset = dataset\n",
        "        self.targets = dataset.targets\n",
        "        self.idxs = list(idxs)\n",
        "\n",
        "    def __len__(self):\n",
        "        return len(self.idxs)\n",
        "\n",
        "    def __getitem__(self, item):\n",
        "        image, label = self.dataset[self.idxs[item]]\n",
        "        return image, label"
      ]
    },
    {
      "cell_type": "code",
      "execution_count": null,
      "metadata": {},
      "outputs": [],
      "source": [
        "print(\"hello\")"
      ]
    }
  ],
  "metadata": {
    "accelerator": "GPU",
    "colab": {
      "gpuType": "V100",
      "machine_shape": "hm",
      "provenance": []
    },
    "kernelspec": {
      "display_name": "Python 3",
      "name": "python3"
    },
    "language_info": {
      "codemirror_mode": {
        "name": "ipython",
        "version": 3
      },
      "file_extension": ".py",
      "mimetype": "text/x-python",
      "name": "python",
      "nbconvert_exporter": "python",
      "pygments_lexer": "ipython3",
      "version": "3.11.0"
    }
  },
  "nbformat": 4,
  "nbformat_minor": 0
}
