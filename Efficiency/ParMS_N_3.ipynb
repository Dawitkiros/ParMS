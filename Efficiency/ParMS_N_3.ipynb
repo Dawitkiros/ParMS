{
  "cells": [
    {
      "cell_type": "code",
      "execution_count": 1,
      "metadata": {
        "id": "uG6SJN7fZa4_"
      },
      "outputs": [],
      "source": [
        "import torch\n",
        "from torch.utils.data import DataLoader, Dataset\n",
        "import numpy as np\n",
        "import torch.nn as nn\n",
        "import torch.nn.functional as F\n",
        "from torchvision import datasets, transforms\n",
        "import matplotlib.pyplot as plt\n",
        "import copy\n",
        "from tqdm import trange\n",
        "from torchsummary import summary\n",
        "\n",
        "import torchvision\n",
        "import torchvision.transforms as transforms\n",
        "from typing import List, Any, Tuple, Optional\n",
        "from collections import OrderedDict\n",
        "import EarlyStopping\n",
        "from pytorchtools import EarlyStopping"
      ]
    },
    {
      "cell_type": "code",
      "execution_count": 2,
      "metadata": {},
      "outputs": [
        {
          "data": {
            "text/plain": [
              "True"
            ]
          },
          "execution_count": 2,
          "metadata": {},
          "output_type": "execute_result"
        }
      ],
      "source": [
        "torch.cuda.is_available()"
      ]
    },
    {
      "cell_type": "code",
      "execution_count": 3,
      "metadata": {},
      "outputs": [
        {
          "data": {
            "text/plain": [
              "6"
            ]
          },
          "execution_count": 3,
          "metadata": {},
          "output_type": "execute_result"
        }
      ],
      "source": [
        "torch.cuda.device_count()"
      ]
    },
    {
      "cell_type": "code",
      "execution_count": 4,
      "metadata": {},
      "outputs": [
        {
          "data": {
            "text/plain": [
              "'NVIDIA RTX A5000'"
            ]
          },
          "execution_count": 4,
          "metadata": {},
          "output_type": "execute_result"
        }
      ],
      "source": [
        "torch.cuda.get_device_name()"
      ]
    },
    {
      "cell_type": "code",
      "execution_count": 5,
      "metadata": {},
      "outputs": [
        {
          "name": "stdout",
          "output_type": "stream",
          "text": [
            "144 or 37\n"
          ]
        }
      ],
      "source": [
        "print(\"144 or 37\")"
      ]
    },
    {
      "cell_type": "code",
      "execution_count": 6,
      "metadata": {
        "id": "VzJRdXpobgBG"
      },
      "outputs": [],
      "source": [
        "# Hyperparameters for training\n",
        "num_rounds = 50\n",
        "local_rounds = 10\n",
        "num_clients = 10  # Total number of clients\n",
        "num_selected = 10  # Number of selected clients per round\n",
        "local_bs = 32\n",
        "lr = 0.001\n",
        "num_channels = 3\n",
        "num_classes = 10\n",
        "test_bs = 128\n",
        "gamma = 0.1\n",
        "milestones = [0.5 * num_rounds, 0.75 * num_rounds]"
      ]
    },
    {
      "cell_type": "code",
      "execution_count": 7,
      "metadata": {
        "id": "PYbUdZkjbmZH"
      },
      "outputs": [],
      "source": [
        "device = torch.device('cuda:4' if torch.cuda.is_available() else 'cpu')"
      ]
    },
    {
      "cell_type": "code",
      "execution_count": 8,
      "metadata": {},
      "outputs": [
        {
          "data": {
            "text/plain": [
              "device(type='cuda', index=4)"
            ]
          },
          "execution_count": 8,
          "metadata": {},
          "output_type": "execute_result"
        }
      ],
      "source": [
        "device"
      ]
    },
    {
      "cell_type": "code",
      "execution_count": 9,
      "metadata": {},
      "outputs": [],
      "source": [
        "#ResNet9\n",
        "def conv_block(in_channels, out_channels, pool=False):\n",
        "    layers = [nn.Conv2d(in_channels, out_channels, kernel_size=3, padding=1), \n",
        "              nn.BatchNorm2d(out_channels), \n",
        "              nn.ReLU(inplace=True)]\n",
        "    if pool: layers.append(nn.MaxPool2d(2))\n",
        "    return nn.Sequential(*layers)"
      ]
    },
    {
      "cell_type": "code",
      "execution_count": 10,
      "metadata": {},
      "outputs": [],
      "source": [
        "class ResNet9(nn.Module):\n",
        "    def __init__(\n",
        "            self, \n",
        "            in_channels, \n",
        "            num_classes, \n",
        "            grid_size=5,\n",
        "            spline_order=3,\n",
        "            scale_noise=0.1,\n",
        "            scale_base=1.0,\n",
        "            scale_spline=1.0,\n",
        "            base_activation=torch.nn.SiLU,\n",
        "            grid_eps=0.02,\n",
        "            grid_range=[-1, 1],\n",
        "            ):\n",
        "        super(ResNet9, self).__init__()\n",
        "        self.grid_size = grid_size\n",
        "        self.spline_order = spline_order\n",
        "        \n",
        "        self.conv1 = conv_block(in_channels, 64)\n",
        "        self.conv2 = conv_block(64, 128, pool=True)\n",
        "        self.res1 = nn.Sequential(conv_block(128, 128), conv_block(128, 128))\n",
        "        \n",
        "        self.conv3 = conv_block(128, 256, pool=True)\n",
        "        self.conv4 = conv_block(256, 512, pool=True)\n",
        "        self.res2 = nn.Sequential(conv_block(512, 512), conv_block(512, 512))\n",
        "        \n",
        "        self.classifier = nn.Sequential(nn.AdaptiveMaxPool2d((1,1)), \n",
        "                                        nn.Flatten(), \n",
        "                                        nn.Dropout(0.2),\n",
        "                                        nn.Linear(512, num_classes))\n",
        "        \n",
        "    def forward(self, xb):\n",
        "        out = self.conv1(xb)\n",
        "        out = self.conv2(out)\n",
        "        out = self.res1(out) + out\n",
        "        out = self.conv3(out)\n",
        "        out = self.conv4(out)\n",
        "        out = self.res2(out) + out\n",
        "        out = self.classifier(out)\n",
        "        return out\n"
      ]
    },
    {
      "cell_type": "code",
      "execution_count": 11,
      "metadata": {},
      "outputs": [],
      "source": [
        "class CIFAR10_truncated(Dataset):\n",
        "\n",
        "    def __init__(self, root, dataidxs=None, train=True, transform=None, target_transform=None, download=False):\n",
        "\n",
        "        self.root = root\n",
        "        self.dataidxs = dataidxs\n",
        "        self.train = train\n",
        "        self.transform = transform\n",
        "        self.target_transform = target_transform\n",
        "        self.download = download\n",
        "\n",
        "        self.data, self.target = self.__build_truncated_dataset__()\n",
        "\n",
        "    def __build_truncated_dataset__(self):\n",
        "\n",
        "        cifar_dataobj = datasets.CIFAR10(self.root, self.train, self.transform, self.target_transform, self.download)\n",
        "\n",
        "        data = np.array(cifar_dataobj.data)\n",
        "        target = np.array(cifar_dataobj.targets)\n",
        "\n",
        "        if self.dataidxs is not None:\n",
        "            data = data[self.dataidxs]\n",
        "            target = target[self.dataidxs]\n",
        "\n",
        "        return data, target\n",
        "\n",
        "    def __getitem__(self, index):\n",
        "        \"\"\"\n",
        "        Args:\n",
        "            index (int): Index\n",
        "\n",
        "        Returns:\n",
        "            tuple: (image, target) where target is index of the target class.\n",
        "        \"\"\"\n",
        "        img, target = self.data[index], self.target[index]\n",
        "\n",
        "        if self.transform is not None:\n",
        "            img = self.transform(img)\n",
        "\n",
        "        if self.target_transform is not None:\n",
        "            target = self.target_transform(target)\n",
        "\n",
        "        return img, target\n",
        "\n",
        "    def __len__(self):\n",
        "        return len(self.data)"
      ]
    },
    {
      "cell_type": "code",
      "execution_count": 12,
      "metadata": {
        "id": "cRVoTdg5cowo"
      },
      "outputs": [],
      "source": [
        "transform_train = transforms.Compose([transforms.ToTensor(),\n",
        "                                      transforms.RandomCrop(32, padding=4),\n",
        "                                      transforms.RandomHorizontalFlip(),\n",
        "                                      transforms.Normalize(mean=[x / 255.0 for x in [125.3, 123.0, 113.9]],\n",
        "                                     std=[x / 255.0 for x in [63.0, 62.1, 66.7]])])\n",
        "transform_test = transforms.Compose([\n",
        "    transforms.ToTensor(),\n",
        "    transforms.Normalize(mean=[x / 255.0 for x in [125.3, 123.0, 113.9]], std=[x / 255.0 for x in [63.0, 62.1, 66.7]])])"
      ]
    },
    {
      "cell_type": "code",
      "execution_count": 13,
      "metadata": {
        "colab": {
          "base_uri": "https://localhost:8080/"
        },
        "id": "ApAnVijabpCO",
        "outputId": "ead7b612-e8d1-48a4-932a-3104e1555c93"
      },
      "outputs": [
        {
          "name": "stdout",
          "output_type": "stream",
          "text": [
            "Files already downloaded and verified\n",
            "Files already downloaded and verified\n"
          ]
        }
      ],
      "source": [
        "# CIFAR10 Data loading\n",
        "train_dataset = CIFAR10_truncated('./data', train=True, download=True, transform=transform_train)\n",
        "test_dataset = CIFAR10_truncated('./data', train=False, download=True, transform=transform_test)\n",
        "\n",
        "X_train, y_train = train_dataset.data, train_dataset.target\n",
        "X_test, y_test = test_dataset.data, test_dataset.target"
      ]
    },
    {
      "cell_type": "code",
      "execution_count": 14,
      "metadata": {},
      "outputs": [],
      "source": [
        "def record_net_data_stats(y_train, net_dataidx_map):\n",
        "\n",
        "    net_cls_counts = {}\n",
        "\n",
        "    for net_i, dataidx in net_dataidx_map.items():\n",
        "        unq, unq_cnt = np.unique(y_train[dataidx], return_counts=True)\n",
        "        tmp = {unq[i]: unq_cnt[i] for i in range(len(unq))}\n",
        "        net_cls_counts[net_i] = tmp\n",
        "\n",
        "    #print('Data statistics: %s' % str(net_cls_counts))\n",
        "\n",
        "    return net_cls_counts"
      ]
    },
    {
      "cell_type": "code",
      "execution_count": 15,
      "metadata": {},
      "outputs": [],
      "source": [
        "class DatasetSplit(Dataset):\n",
        "    def __init__(self, dataset, idxs):\n",
        "        self.dataset = dataset\n",
        "        self.targets = dataset.targets\n",
        "        self.idxs = list(idxs)\n",
        "\n",
        "    def __len__(self):\n",
        "        return len(self.idxs)\n",
        "\n",
        "    def __getitem__(self, item):\n",
        "        image, label = self.dataset[self.idxs[item]]\n",
        "        return image, label"
      ]
    },
    {
      "cell_type": "code",
      "execution_count": 16,
      "metadata": {
        "id": "7WqBz6HobwuF"
      },
      "outputs": [],
      "source": [
        "# for IID case\n",
        "def generate_iid_cifar(X_train,y_train, num_of_clients):\n",
        "    \"\"\"\n",
        "    Sample I.I.D. client data from CIFAR10 dataset\n",
        "    :param n_nets: Number of clients\n",
        "    :return: Tuple containing train and test datasets, data index map for each client, and train data class counts\n",
        "    \"\"\"\n",
        "    \n",
        "    n_train = X_train.shape[0]\n",
        "\n",
        "    # Shuffle and partition the data\n",
        "    idxs = np.arange(n_train)\n",
        "    np.random.shuffle(idxs)\n",
        "\n",
        "    net_data_idx_map = {}\n",
        "    batch_idxs = np.array_split(idxs, num_of_clients)\n",
        "\n",
        "    for i in range(num_of_clients):\n",
        "        net_data_idx_map[i] = batch_idxs[i]\n",
        "\n",
        "    traindata_class_counts = record_net_data_stats(y_train, net_data_idx_map)\n",
        "\n",
        "    return net_data_idx_map, traindata_class_counts\n"
      ]
    },
    {
      "cell_type": "code",
      "execution_count": 17,
      "metadata": {},
      "outputs": [],
      "source": [
        "def generate_noniid_cifar(X_train,y_train, num_of_clients, alpha=0.5):\n",
        "    \"\"\"\n",
        "    Sample non I.I.D. client data from CIFAR10 dataset\n",
        "    :param dataset: \n",
        "    :param num_users: \n",
        "    :return: \n",
        "    \"\"\"\n",
        "\n",
        "    n_train = len(X_train.shape)\n",
        "\n",
        "    min_size = 0\n",
        "    K = 10\n",
        "    N = len(y_train)\n",
        "    net_dataidx_map = {}\n",
        "\n",
        "    while min_size < 10:\n",
        "        idx_batch = [[] for _ in range(num_of_clients)]\n",
        "        for k in range(K):\n",
        "            idx_k = np.where(y_train == k)[0]\n",
        "            np.random.shuffle(idx_k)\n",
        "            proportions = np.random.dirichlet(np.repeat(alpha, num_of_clients))\n",
        "            ## Balance\n",
        "            proportions = np.array([p*(len(idx_j)<N/num_of_clients) for p,idx_j in zip(proportions,idx_batch)])\n",
        "            proportions = proportions/proportions.sum()\n",
        "            proportions = (np.cumsum(proportions)*len(idx_k)).astype(int)[:-1]\n",
        "            idx_batch = [idx_j + idx.tolist() for idx_j,idx in zip(idx_batch,np.split(idx_k,proportions))]\n",
        "            min_size = min([len(idx_j) for idx_j in idx_batch])\n",
        "\n",
        "    for j in range(num_of_clients):\n",
        "        np.random.shuffle(idx_batch[j])\n",
        "        net_dataidx_map[j] = idx_batch[j]\n",
        "    traindata_class_counts = record_net_data_stats(y_train, net_dataidx_map)\n",
        "\n",
        "    return net_dataidx_map, traindata_class_counts"
      ]
    },
    {
      "cell_type": "code",
      "execution_count": 18,
      "metadata": {},
      "outputs": [],
      "source": [
        "#iid_dataidx_map, iid_traindata_cls_counts = generate_iid_cifar(X_train,y_train, num_clients)"
      ]
    },
    {
      "cell_type": "code",
      "execution_count": 19,
      "metadata": {},
      "outputs": [],
      "source": [
        "noniid_dataidx_map, noniid_traindata_cls_counts = generate_noniid_cifar(X_train,y_train, num_clients)"
      ]
    },
    {
      "cell_type": "code",
      "execution_count": 20,
      "metadata": {},
      "outputs": [
        {
          "data": {
            "image/png": "[encoded data removed]",
            "text/plain": [
              "<Figure size 2000x800 with 10 Axes>"
            ]
          },
          "metadata": {},
          "output_type": "display_data"
        }
      ],
      "source": [
        "import numpy as np\n",
        "import matplotlib.pyplot as plt\n",
        "from torchvision import datasets, transforms\n",
        "from collections import Counter\n",
        "\n",
        "# X_train, y_train, X_test, y_test, net_dataidx_map, traindata_cls_counts\n",
        "\n",
        "def visualize_client_distribution(traindata_cls_counts, n_clients):\n",
        "    \"\"\"\n",
        "    Visualizes the class distribution for each client.\n",
        "    \n",
        "    :param traindata_cls_counts: Dictionary of class counts per client\n",
        "    :param n_clients: Number of clients\n",
        "    \"\"\"\n",
        "    fig, axes = plt.subplots(n_clients // 5, 5, figsize=(20, 4 * (n_clients // 5)))\n",
        "    axes = axes.flatten()\n",
        "\n",
        "    for client_id, cls_counts in traindata_cls_counts.items():\n",
        "        classes = list(cls_counts.keys())\n",
        "        counts = list(cls_counts.values())\n",
        "\n",
        "        axes[client_id].bar(classes, counts)\n",
        "        axes[client_id].set_xticks(classes)\n",
        "        axes[client_id].set_xticklabels(classes)\n",
        "        axes[client_id].set_title(f'Client {client_id}')\n",
        "        axes[client_id].set_xlabel('Class')\n",
        "        axes[client_id].set_ylabel('Number of samples')\n",
        "\n",
        "    plt.tight_layout()\n",
        "    plt.show()\n",
        "\n",
        "# Visualize the distribution of the class counts for each client\n",
        "visualize_client_distribution(noniid_traindata_cls_counts, num_clients)"
      ]
    },
    {
      "cell_type": "code",
      "execution_count": 21,
      "metadata": {
        "id": "bXma7Ut0bz2Z"
      },
      "outputs": [],
      "source": [
        "# Initialize and synchronize models###\n",
        "global_model = ResNet9(\n",
        "    in_channels=num_channels, num_classes=num_classes).to(device)\n",
        "criterion = nn.CrossEntropyLoss()"
      ]
    },
    {
      "cell_type": "code",
      "execution_count": 22,
      "metadata": {
        "colab": {
          "base_uri": "https://localhost:8080/"
        },
        "id": "NJ5AHOOi3f57",
        "outputId": "84123030-b73d-43d8-c4e0-553873c91fef"
      },
      "outputs": [],
      "source": [
        "# summary(global_model, (3, 32, 32), device=\"cuda\")"
      ]
    },
    {
      "cell_type": "code",
      "execution_count": 23,
      "metadata": {},
      "outputs": [
        {
          "name": "stdout",
          "output_type": "stream",
          "text": [
            "conv1.0.weight is on cuda:4\n",
            "conv1.0.bias is on cuda:4\n",
            "conv1.1.weight is on cuda:4\n",
            "conv1.1.bias is on cuda:4\n",
            "conv2.0.weight is on cuda:4\n",
            "conv2.0.bias is on cuda:4\n",
            "conv2.1.weight is on cuda:4\n",
            "conv2.1.bias is on cuda:4\n",
            "res1.0.0.weight is on cuda:4\n",
            "res1.0.0.bias is on cuda:4\n",
            "res1.0.1.weight is on cuda:4\n",
            "res1.0.1.bias is on cuda:4\n",
            "res1.1.0.weight is on cuda:4\n",
            "res1.1.0.bias is on cuda:4\n",
            "res1.1.1.weight is on cuda:4\n",
            "res1.1.1.bias is on cuda:4\n",
            "conv3.0.weight is on cuda:4\n",
            "conv3.0.bias is on cuda:4\n",
            "conv3.1.weight is on cuda:4\n",
            "conv3.1.bias is on cuda:4\n",
            "conv4.0.weight is on cuda:4\n",
            "conv4.0.bias is on cuda:4\n",
            "conv4.1.weight is on cuda:4\n",
            "conv4.1.bias is on cuda:4\n",
            "res2.0.0.weight is on cuda:4\n",
            "res2.0.0.bias is on cuda:4\n",
            "res2.0.1.weight is on cuda:4\n",
            "res2.0.1.bias is on cuda:4\n",
            "res2.1.0.weight is on cuda:4\n",
            "res2.1.0.bias is on cuda:4\n",
            "res2.1.1.weight is on cuda:4\n",
            "res2.1.1.bias is on cuda:4\n",
            "classifier.3.weight is on cuda:4\n",
            "classifier.3.bias is on cuda:4\n"
          ]
        }
      ],
      "source": [
        "# Example for checking device of each parameter in a model\n",
        "for name, param in global_model.named_parameters():\n",
        "    print(f\"{name} is on {param.device}\")"
      ]
    },
    {
      "cell_type": "code",
      "execution_count": 24,
      "metadata": {
        "id": "J0okEWXv45np"
      },
      "outputs": [],
      "source": [
        "# from torchviz import make_dot\n",
        "\n",
        "# # Sample input to model for visualization\n",
        "# sample_input = torch.randn(1, num_channels, 32, 32).to(device)\n",
        "# model_vis = LeNet(num_classes).to(device)\n",
        "\n",
        "# # Visualize the model\n",
        "# model_dot = make_dot(global_model(sample_input), params=dict(list(global_model.named_parameters())))\n",
        "# model_dot.render(\"model_architecture\", format=\"png\")  # Saves the diagram as PNG"
      ]
    },
    {
      "cell_type": "code",
      "execution_count": 25,
      "metadata": {
        "id": "N5IEM7bdb2b4"
      },
      "outputs": [],
      "source": [
        "# Client training function\n",
        "def client_train(model: nn.Module, loader: DataLoader, optimizer, criterion, local_rounds:int):\n",
        "    model.train()\n",
        "    epoch_loss = []\n",
        "    epoch_acc = []\n",
        "    for _ in trange(local_rounds):\n",
        "        batch_loss = []\n",
        "        for batch_idx, (data, target) in enumerate(loader):\n",
        "            data, target = data.to(device), target.to(device)\n",
        "            optimizer.zero_grad()\n",
        "            output = model(data)\n",
        "            loss = criterion(output, target)\n",
        "            loss.backward()\n",
        "            optimizer.step()\n",
        "            batch_loss.append(loss.item())\n",
        "\n",
        "            _, pred = torch.max(output, dim=1)\n",
        "            correct_train = pred.eq(target.data.view_as(pred))\n",
        "            accuracy_train = torch.mean(correct_train.type(torch.FloatTensor))\n",
        "            epoch_acc.append(accuracy_train.item())\n",
        "\n",
        "        epoch_loss.append(sum(batch_loss) / len(batch_loss))\n",
        "    return model.state_dict(), sum(epoch_loss) / len(epoch_loss), sum(epoch_acc) / len(epoch_acc)"
      ]
    },
    {
      "cell_type": "code",
      "execution_count": 26,
      "metadata": {
        "id": "bAXYEu_Db4jX"
      },
      "outputs": [],
      "source": [
        "# 'FedAvg' aggregation\n",
        "def FedAvg(w):\n",
        "    w_avg = copy.deepcopy(w[0])\n",
        "    for k in w_avg.keys():\n",
        "        for i in range(1, len(w)):\n",
        "            w_avg[k] += w[i][k]\n",
        "        w_avg[k] = torch.div(w_avg[k], len(w))\n",
        "    return w_avg"
      ]
    },
    {
      "cell_type": "code",
      "execution_count": 27,
      "metadata": {
        "id": "Kx1_Y0onb_Qu"
      },
      "outputs": [],
      "source": [
        "# Evaluate on Test dataset\n",
        "def evaluate(model, datatest, test_bs, device):\n",
        "    model.eval()\n",
        "    # testing\n",
        "    test_loss = 0\n",
        "    correct = 0\n",
        "    data_loader = DataLoader(datatest, batch_size=test_bs)\n",
        "    with torch.no_grad():\n",
        "        for data, target in data_loader:\n",
        "            data, target = data.to(device), target.to(device)\n",
        "            log_probs = model(data)\n",
        "            # sum up batch loss\n",
        "            test_loss += F.cross_entropy(log_probs,\n",
        "                                         target, reduction='sum').item()\n",
        "            # get the index of the max log-probability\n",
        "            y_pred = log_probs.data.max(1, keepdim=True)[1]\n",
        "            correct += y_pred.eq(target.data.view_as(y_pred)\n",
        "                                 ).long().cpu().sum()\n",
        "\n",
        "        test_loss /= len(data_loader.dataset)\n",
        "        accuracy = 100.00 * correct.item() / len(data_loader.dataset)\n",
        "    return accuracy, test_loss"
      ]
    },
    {
      "cell_type": "code",
      "execution_count": 28,
      "metadata": {},
      "outputs": [],
      "source": [
        "# for model in client_models:\n",
        "#   model.load_state_dict(global_model.state_dict())"
      ]
    },
    {
      "cell_type": "code",
      "execution_count": 29,
      "metadata": {},
      "outputs": [],
      "source": [
        "# # Evaluation on test dataset for each round\n",
        "# client_acc = []\n",
        "# for client in selected_clients:\n",
        "#     cur_auc, test_loss = evaluate(\n",
        "#         sampled_clients_models[client], test_dataset, test_bs, device)\n",
        "#     client_acc.append(cur_auc)\n",
        "# print(f'Round Test, Test Loss: {test_loss:.4f}, Test Accuracy: {cur_auc:.2f}%')"
      ]
    },
    {
      "cell_type": "code",
      "execution_count": 30,
      "metadata": {},
      "outputs": [],
      "source": [
        "# client_acc"
      ]
    },
    {
      "cell_type": "code",
      "execution_count": 31,
      "metadata": {},
      "outputs": [],
      "source": [
        "# optimizer = SGD(\n",
        "#         net.parameters(), lr=learning_rate, momentum=momentum, weight_decay=weight_decay\n",
        "#     )"
      ]
    },
    {
      "cell_type": "code",
      "execution_count": 32,
      "metadata": {},
      "outputs": [],
      "source": [
        "trained_weights = global_model.state_dict()\n",
        "shapes = {key: tensor.shape for key, tensor in trained_weights.items()}\n",
        "sizes = {key: tensor.numel() for key, tensor in trained_weights.items()}\n",
        "\n",
        "clients_models = {i: ResNet9(in_channels=num_channels, num_classes=num_classes).to(device) for i in range(num_clients)}\n",
        "optimizers={}\n",
        "for key, model in clients_models.items():\n",
        "   optimizers[key] =  torch.optim.Adam(model.parameters(), lr=lr) # , momentum=0.9, weight_decay=0.00001\n",
        "\n",
        "schedulers={}\n",
        "for key, optimizer in optimizers.items():\n",
        "   schedulers[key] =  torch.optim.lr_scheduler.MultiStepLR(optimizer, milestones=milestones, gamma=gamma)"
      ]
    },
    {
      "cell_type": "code",
      "execution_count": 33,
      "metadata": {},
      "outputs": [
        {
          "name": "stdout",
          "output_type": "stream",
          "text": [
            "Round Test, Test Loss: 2.3002, Test Accuracy: 9.95%\n"
          ]
        }
      ],
      "source": [
        "# Evaluation on test dataset for each round\n",
        "cur_auc, test_loss = evaluate(\n",
        "   global_model, test_dataset, test_bs, device)\n",
        "print(f'Round Test, Test Loss: {test_loss:.4f}, Test Accuracy: {cur_auc:.2f}%')"
      ]
    },
    {
      "cell_type": "code",
      "execution_count": 34,
      "metadata": {},
      "outputs": [
        {
          "name": "stdout",
          "output_type": "stream",
          "text": [
            "Round Test, Test Loss: 2.3058, Test Accuracy: 10.04%\n"
          ]
        }
      ],
      "source": [
        "# Evaluation on test dataset for each round\n",
        "cur_auc, test_loss = evaluate(\n",
        "    clients_models[0], test_dataset, test_bs, device)\n",
        "print(f'Round Test, Test Loss: {test_loss:.4f}, Test Accuracy: {cur_auc:.2f}%')"
      ]
    },
    {
      "cell_type": "code",
      "execution_count": 35,
      "metadata": {},
      "outputs": [],
      "source": [
        "for model in clients_models.values():\n",
        "  model.load_state_dict(global_model.state_dict())"
      ]
    },
    {
      "cell_type": "code",
      "execution_count": 36,
      "metadata": {},
      "outputs": [
        {
          "name": "stdout",
          "output_type": "stream",
          "text": [
            "Round Test, Test Loss: 2.3002, Test Accuracy: 9.95%\n"
          ]
        }
      ],
      "source": [
        "# Evaluation on test dataset for each round\n",
        "cur_auc, test_loss = evaluate(\n",
        "    clients_models[0], test_dataset, test_bs, device)\n",
        "print(f'Round Test, Test Loss: {test_loss:.4f}, Test Accuracy: {cur_auc:.2f}%')"
      ]
    },
    {
      "cell_type": "code",
      "execution_count": 37,
      "metadata": {},
      "outputs": [
        {
          "data": {
            "text/plain": [
              "[5581, 4131, 5200, 3558, 4011, 5574, 5594, 4701, 3789, 7861]"
            ]
          },
          "execution_count": 37,
          "metadata": {},
          "output_type": "execute_result"
        }
      ],
      "source": [
        "client_dataset_cnt = [len(v) for k, v in noniid_dataidx_map.items()]\n",
        "client_dataset_cnt"
      ]
    },
    {
      "cell_type": "code",
      "execution_count": 38,
      "metadata": {},
      "outputs": [
        {
          "data": {
            "text/plain": [
              "50000"
            ]
          },
          "execution_count": 38,
          "metadata": {},
          "output_type": "execute_result"
        }
      ],
      "source": [
        "np.sum(client_dataset_cnt)"
      ]
    },
    {
      "cell_type": "code",
      "execution_count": 39,
      "metadata": {},
      "outputs": [],
      "source": [
        "def flatten_resnet_parameters(state_dict):\n",
        "    \"\"\"\n",
        "    Flatten and concatenate all parameters from a state_dict into a single vector.\n",
        "    \"\"\"\n",
        "    flat_params = torch.cat([p.view(-1).float() for p in state_dict.values()])\n",
        "    return flat_params\n",
        "\n",
        "def reconstruct_parameters(flat_params, shapes, sizes, trained_weights):\n",
        "    \"\"\"\n",
        "    Reconstruct the original tensors from a flattened parameter tensor.\n",
        "    \n",
        "    :param flat_params: 1D tensor containing all weights concatenated\n",
        "    :param shapes: Dictionary of parameter names to their shapes\n",
        "    :param sizes: Dictionary of parameter names to their sizes (number of elements)\n",
        "    :param trained_weights: Original state_dict containing the data types\n",
        "    :return: OrderedDict of reconstructed tensors with their original shapes and types\n",
        "    \"\"\"\n",
        "    reconstructed_params = OrderedDict()\n",
        "    offset = 0\n",
        "    for key in shapes:\n",
        "        num_elements = sizes[key]\n",
        "        # Extract the relevant slice from the flattened tensor\n",
        "        param_slice = flat_params[offset:offset + num_elements]\n",
        "        # Reshape it according to the original shape and convert to the original data type\n",
        "        reconstructed_params[key] = param_slice.view(shapes[key])\n",
        "        offset += num_elements\n",
        "    return reconstructed_params"
      ]
    },
    {
      "cell_type": "code",
      "execution_count": 40,
      "metadata": {},
      "outputs": [],
      "source": [
        "def segment_resnet_parameters(flat_params, num_segments):\n",
        "    \"\"\"\n",
        "    Divide the flat parameters into equal segments, ensuring all elements are included.\n",
        "    \"\"\"\n",
        "    total_len = len(flat_params)\n",
        "    segment_size = total_len // num_segments\n",
        "    remainder = total_len % num_segments\n",
        "    \n",
        "    segments = []\n",
        "    start = 0\n",
        "    for i in range(num_segments):\n",
        "        # Calculate end point for the current segment\n",
        "        end = start + segment_size + (1 if i < remainder else 0)\n",
        "        segments.append(flat_params[start:end])\n",
        "        start = end\n",
        "\n",
        "    return segments\n"
      ]
    },
    {
      "cell_type": "code",
      "execution_count": 41,
      "metadata": {},
      "outputs": [],
      "source": [
        "from typing import Dict\n",
        "\n",
        "def preprocess_weights(weights: Dict, num_segments):\n",
        "    \"\"\"\n",
        "    Preprocess the weights of a model to prepare for federated learning.\n",
        "    \"\"\"\n",
        "    # Flatten the parameters\n",
        "    # flat_params = {}\n",
        "    # for item in weights:\n",
        "    #     flat_params[list(item.keys())[0]] = flatten_resnet_parameters(list(item.values())[0])\n",
        "    flat_params_n = {}\n",
        "    for key, value in weights.items():\n",
        "        flat_params_n[key] = flatten_resnet_parameters(value)\n",
        "\n",
        "    # Segment the parameters\n",
        "    segmented_params = {}\n",
        "    for key, flat_param in flat_params_n.items():\n",
        "        segmented_params[key] = segment_resnet_parameters(flat_param, num_segments)\n",
        "\n",
        "    return flat_params_n, segmented_params"
      ]
    },
    {
      "cell_type": "code",
      "execution_count": 42,
      "metadata": {},
      "outputs": [],
      "source": [
        "def extract_shared_segments(clients_dict, client_shared_segments):\n",
        "    \"\"\"\n",
        "    Extract segments from each client's data based on the segments they are supposed to share.\n",
        "    \n",
        "    :param clients_dict: Dictionary containing each client's data.\n",
        "    :param client_shared_segments: Dictionary indicating which segments each client should share.\n",
        "    :return: A dictionary with client IDs as keys and the segments they are sharing as values.\n",
        "    \"\"\"\n",
        "    shared_data = {}\n",
        "    for client_id, segment_id in client_shared_segments.items():\n",
        "        # Initialize dictionary to hold shared segments for the current client\n",
        "        shared_data[client_id] = {}\n",
        "        # Loop through the list of segment IDs this client should share\n",
        "        # for segment_id in segments:\n",
        "        shared_data[client_id][segment_id] = clients_dict[client_id][segment_id]\n",
        "    return shared_data"
      ]
    },
    {
      "cell_type": "code",
      "execution_count": 43,
      "metadata": {},
      "outputs": [],
      "source": [
        "def reconstruct_parameters(flat_params, shapes, sizes, trained_weights):\n",
        "    \"\"\"\n",
        "    Reconstruct the original tensors from a flattened parameter tensor.\n",
        "    \n",
        "    :param flat_params: 1D tensor containing all weights concatenated\n",
        "    :param shapes: Dictionary of parameter names to their shapes\n",
        "    :param sizes: Dictionary of parameter names to their sizes (number of elements)\n",
        "    :param trained_weights: Original state_dict containing the data types\n",
        "    :return: OrderedDict of reconstructed tensors with their original shapes and types\n",
        "    \"\"\"\n",
        "    reconstructed_params = OrderedDict()\n",
        "    offset = 0\n",
        "    for key in shapes:\n",
        "        num_elements = sizes[key]\n",
        "        # Extract the relevant slice from the flattened tensor\n",
        "        param_slice = flat_params[offset:offset + num_elements]\n",
        "        # Reshape it according to the original shape and convert to the original data type\n",
        "        reconstructed_params[key] = param_slice.view(shapes[key]).to(trained_weights[key].dtype)\n",
        "        offset += num_elements\n",
        "    return reconstructed_params"
      ]
    },
    {
      "cell_type": "code",
      "execution_count": 44,
      "metadata": {},
      "outputs": [],
      "source": [
        "def aggregate_data_by_key(shared_data):\n",
        "    \"\"\"\n",
        "    Aggregate data received from clients by key.\n",
        "    \n",
        "    :param shared_data: Dictionary with client IDs as keys and their shared segments as values.\n",
        "    :return: A dictionary with aggregated data per segment.\n",
        "    \"\"\"\n",
        "    aggregation = {}\n",
        "    count = {}\n",
        "\n",
        "    # Simulate the aggregation process based on keys\n",
        "    for client_data in shared_data.values():\n",
        "        for key, values in client_data.items():\n",
        "            if key in aggregation:\n",
        "                # Perform element-wise addition directly on tensors\n",
        "                aggregation[key] += values\n",
        "                count[key] += 1\n",
        "            else:\n",
        "                # Initialize the aggregation for new keys\n",
        "                aggregation[key] = values.clone()  \n",
        "                count[key] = 1\n",
        "\n",
        "    # Divide each aggregated tensor by its respective count to get the mean\n",
        "    for key in aggregation.keys():\n",
        "        aggregation[key] = aggregation[key] / count[key]\n",
        "\n",
        "    return aggregation"
      ]
    },
    {
      "cell_type": "code",
      "execution_count": 45,
      "metadata": {},
      "outputs": [],
      "source": [
        "def weighted_aggregation(shared_data, num_examples):\n",
        "    \"\"\"\n",
        "    Aggregate data received from clients by key.\n",
        "    \n",
        "    :param shared_data: Dictionary with client IDs as keys and their shared segments as values.\n",
        "    :return: A dictionary with aggregated data per segment.\n",
        "    \"\"\"\n",
        "    aggregation = {}\n",
        "    # Initialize an empty tensor for the weighted sum\n",
        "    weighted_sum = torch.zeros_like(next(iter(next(iter(shared_data.values())).values())))\n",
        "    # Total number of examples\n",
        "    total_examples = sum(num_examples)\n",
        "\n",
        "    # Multiply each segment by its corresponding client dataset count and sum them up\n",
        "    for client_id, value in shared_data.items():\n",
        "        for seg_id, tensor in value.items():\n",
        "            weighted_sum += tensor * num_examples[client_id]\n",
        "\n",
        "    # Calculate the weighted average\n",
        "    weighted_average = weighted_sum / total_examples\n",
        "    aggregation = {}\n",
        "    #  Update the shared_data dictionary with the weighted average\n",
        "    for client_id in shared_data.keys():\n",
        "        for seg_id in shared_data[client_id].keys():\n",
        "            aggregation[seg_id] = weighted_average\n",
        "\n",
        "    return aggregation"
      ]
    },
    {
      "cell_type": "code",
      "execution_count": 46,
      "metadata": {},
      "outputs": [],
      "source": [
        "def handle_partial_updates(client_weights: List[Dict], num_segments, client_segment_map):\n",
        "    \"\"\"\n",
        "    Handle partial updates from clients by averaging the weights.\n",
        "    \"\"\"\n",
        "    # Preprocess the weights\n",
        "    flat_params, segmented_params = preprocess_weights(client_weights, num_segments)\n",
        "    # Extract the shared segments\n",
        "    segments_to_send = extract_shared_segments(segmented_params, client_segment_map)\n",
        "    # Aggregate the shared segments\n",
        "    aggregated_segments = weighted_aggregation(segments_to_send, client_dataset_cnt)\n",
        "    \n",
        "    # Reconstruct the global modelE\n",
        "    # Now here aggregated segments will have only one segment, 0, 1 or 2\n",
        "    # hence we can only focus on those params.\n",
        "    # \n",
        "\n",
        "    # params = torch.cat([aggregated_segments[0], aggregated_segments[1], aggregated_segments[2]], dim=0)\n",
        "    #params = torch.cat([aggregated_segments[0], aggregated_segments[1]], dim=0)\n",
        "    # Reconstruct the parameters\n",
        "    # reconstructed_params = reconstruct_parameters(params, shapes, sizes, trained_weights)\n",
        "\n",
        "    # Check if both dictionaries have the same set of keys\n",
        "    # assert set(reconstructed_params.keys()) == set(trained_weights.keys()), \"Parameter keys do not match.\"\n",
        "    \n",
        "    return segmented_params, aggregated_segments"
      ]
    },
    {
      "cell_type": "code",
      "execution_count": 47,
      "metadata": {},
      "outputs": [],
      "source": [
        "def update_client_models(clients_segmented_params, aggregated_segments, client_segment_map):\n",
        "    \"\"\"\n",
        "    Update client models with aggregated segments and average unshared segments.\n",
        "    \"\"\"\n",
        "    # Initialize the updated parameters dictionary\n",
        "    updated_params = {}\n",
        "\n",
        "    # Iterate through each client's parameters\n",
        "    for client_id, segments in clients_segmented_params.items():\n",
        "        updated_segments = []\n",
        "        # Determine which segment this client shared\n",
        "        shared_segment_index = client_segment_map[client_id]\n",
        "        \n",
        "        # Iterate over all segments\n",
        "        for i, segment_data in enumerate(segments):\n",
        "            if i == shared_segment_index:\n",
        "                # Directly use the aggregated segment for the shared index\n",
        "                updated_segments.append(aggregated_segments[shared_segment_index])\n",
        "            else:\n",
        "                # Average the unshared segment with the corresponding aggregated segment\n",
        "                updated_segments.append(segment_data)\n",
        "\n",
        "        # Store the updated segments for this client\n",
        "        updated_params[client_id] = updated_segments\n",
        "    updated_client_segments = {}\n",
        "    for client_id, segments in updated_params.items():\n",
        "        updated_client_segments[client_id] = torch.cat(segments)\n",
        "\n",
        "    return updated_client_segments"
      ]
    },
    {
      "cell_type": "code",
      "execution_count": 48,
      "metadata": {},
      "outputs": [],
      "source": [
        "def rotate_shared_segments(client_segment_map, num_segments):\n",
        "    \"\"\"\n",
        "    Rotate the segments that each client shares for the next round.\n",
        "    \n",
        "    :param client_segment_map: Dictionary mapping client IDs to their current segment index.\n",
        "    :param num_segments: Total number of segments available.\n",
        "    :return: None, updates the map in-place.\n",
        "    \"\"\"\n",
        "    for client in client_segment_map:\n",
        "        # Move to the next segment index, wrap around using modulo\n",
        "        client_segment_map[client] = (client_segment_map[client] + 1) % num_segments"
      ]
    },
    {
      "cell_type": "code",
      "execution_count": 49,
      "metadata": {
        "colab": {
          "base_uri": "https://localhost:8080/"
        },
        "id": "OKcIqAX-cDBe",
        "outputId": "430da6c5-5b94-4d56-b7de-ffbc0f17c9b8"
      },
      "outputs": [
        {
          "name": "stdout",
          "output_type": "stream",
          "text": [
            "{9: 0, 3: 0, 1: 0, 6: 0, 4: 0, 0: 0, 2: 0, 5: 0, 7: 0, 8: 0}\n"
          ]
        },
        {
          "name": "stderr",
          "output_type": "stream",
          "text": [
            "100%|██████████| 10/10 [00:26<00:00,  2.66s/it]\n",
            "100%|██████████| 10/10 [00:11<00:00,  1.16s/it]\n",
            "100%|██████████| 10/10 [00:13<00:00,  1.35s/it]\n",
            "100%|██████████| 10/10 [00:18<00:00,  1.83s/it]\n",
            "100%|██████████| 10/10 [00:13<00:00,  1.31s/it]\n",
            "100%|██████████| 10/10 [00:18<00:00,  1.83s/it]\n",
            "100%|██████████| 10/10 [00:17<00:00,  1.70s/it]\n",
            "100%|██████████| 10/10 [00:18<00:00,  1.82s/it]\n",
            "100%|██████████| 10/10 [00:15<00:00,  1.54s/it]\n",
            "100%|██████████| 10/10 [00:12<00:00,  1.24s/it]\n"
          ]
        },
        {
          "name": "stdout",
          "output_type": "stream",
          "text": [
            "Round 1, Train loss: 0.9194, Test Loss: 2.3079, Test Accuracy: 10.00%\n",
            "{8: 1, 7: 1, 5: 1, 2: 1, 1: 1, 0: 1, 3: 1, 4: 1, 9: 1, 6: 1}\n"
          ]
        },
        {
          "name": "stderr",
          "output_type": "stream",
          "text": [
            "100%|██████████| 10/10 [00:12<00:00,  1.24s/it]\n",
            "100%|██████████| 10/10 [00:15<00:00,  1.53s/it]\n",
            "100%|██████████| 10/10 [00:18<00:00,  1.82s/it]\n",
            "100%|██████████| 10/10 [00:16<00:00,  1.70s/it]\n",
            "100%|██████████| 10/10 [00:13<00:00,  1.36s/it]\n",
            "100%|██████████| 10/10 [00:18<00:00,  1.84s/it]\n",
            "100%|██████████| 10/10 [00:11<00:00,  1.17s/it]\n",
            "100%|██████████| 10/10 [00:13<00:00,  1.31s/it]\n",
            "100%|██████████| 10/10 [00:25<00:00,  2.57s/it]\n",
            "100%|██████████| 10/10 [00:18<00:00,  1.84s/it]\n"
          ]
        },
        {
          "name": "stdout",
          "output_type": "stream",
          "text": [
            "Round 2, Train loss: 0.6426, Test Loss: 2.3237, Test Accuracy: 10.00%\n",
            "{1: 2, 5: 2, 9: 2, 4: 2, 6: 2, 2: 2, 7: 2, 0: 2, 3: 2, 8: 2}\n"
          ]
        },
        {
          "name": "stderr",
          "output_type": "stream",
          "text": [
            "100%|██████████| 10/10 [00:13<00:00,  1.36s/it]\n",
            "100%|██████████| 10/10 [00:18<00:00,  1.83s/it]\n",
            "100%|██████████| 10/10 [00:25<00:00,  2.57s/it]\n",
            "100%|██████████| 10/10 [00:13<00:00,  1.32s/it]\n",
            "100%|██████████| 10/10 [00:18<00:00,  1.83s/it]\n",
            "100%|██████████| 10/10 [00:17<00:00,  1.71s/it]\n",
            "100%|██████████| 10/10 [00:15<00:00,  1.54s/it]\n",
            "100%|██████████| 10/10 [00:18<00:00,  1.83s/it]\n",
            "100%|██████████| 10/10 [00:11<00:00,  1.17s/it]\n",
            "100%|██████████| 10/10 [00:12<00:00,  1.24s/it]\n"
          ]
        },
        {
          "name": "stdout",
          "output_type": "stream",
          "text": [
            "Round 3, Train loss: 0.3653, Test Loss: 2.3273, Test Accuracy: 17.29%\n",
            "{8: 0, 4: 0, 3: 0, 0: 0, 1: 0, 6: 0, 9: 0, 2: 0, 5: 0, 7: 0}\n"
          ]
        },
        {
          "name": "stderr",
          "output_type": "stream",
          "text": [
            "100%|██████████| 10/10 [00:12<00:00,  1.24s/it]\n",
            "100%|██████████| 10/10 [00:13<00:00,  1.32s/it]\n",
            "100%|██████████| 10/10 [00:11<00:00,  1.17s/it]\n",
            "100%|██████████| 10/10 [00:18<00:00,  1.83s/it]\n",
            "100%|██████████| 10/10 [00:13<00:00,  1.36s/it]\n",
            "100%|██████████| 10/10 [00:18<00:00,  1.84s/it]\n",
            "100%|██████████| 10/10 [00:25<00:00,  2.58s/it]\n",
            "100%|██████████| 10/10 [00:17<00:00,  1.71s/it]\n",
            "100%|██████████| 10/10 [00:18<00:00,  1.83s/it]\n",
            "100%|██████████| 10/10 [00:15<00:00,  1.54s/it]\n"
          ]
        },
        {
          "name": "stdout",
          "output_type": "stream",
          "text": [
            "Round 4, Train loss: 0.2459, Test Loss: 2.0674, Test Accuracy: 26.82%\n",
            "{5: 1, 9: 1, 3: 1, 0: 1, 1: 1, 6: 1, 2: 1, 8: 1, 4: 1, 7: 1}\n"
          ]
        },
        {
          "name": "stderr",
          "output_type": "stream",
          "text": [
            "100%|██████████| 10/10 [00:18<00:00,  1.83s/it]\n",
            "100%|██████████| 10/10 [00:25<00:00,  2.58s/it]\n",
            "100%|██████████| 10/10 [00:11<00:00,  1.17s/it]\n",
            "100%|██████████| 10/10 [00:18<00:00,  1.83s/it]\n",
            "100%|██████████| 10/10 [00:13<00:00,  1.36s/it]\n",
            "100%|██████████| 10/10 [00:18<00:00,  1.84s/it]\n",
            "100%|██████████| 10/10 [00:17<00:00,  1.71s/it]\n",
            "100%|██████████| 10/10 [00:12<00:00,  1.24s/it]\n",
            "100%|██████████| 10/10 [00:13<00:00,  1.32s/it]\n",
            "100%|██████████| 10/10 [00:15<00:00,  1.54s/it]\n"
          ]
        },
        {
          "name": "stdout",
          "output_type": "stream",
          "text": [
            "Round 5, Train loss: 0.3570, Test Loss: 2.0656, Test Accuracy: 26.96%\n",
            "{5: 2, 9: 2, 4: 2, 7: 2, 8: 2, 3: 2, 6: 2, 2: 2, 1: 2, 0: 2}\n"
          ]
        },
        {
          "name": "stderr",
          "output_type": "stream",
          "text": [
            "100%|██████████| 10/10 [00:18<00:00,  1.83s/it]\n",
            "100%|██████████| 10/10 [00:25<00:00,  2.57s/it]\n",
            "100%|██████████| 10/10 [00:13<00:00,  1.31s/it]\n",
            "100%|██████████| 10/10 [00:15<00:00,  1.54s/it]\n",
            "100%|██████████| 10/10 [00:12<00:00,  1.24s/it]\n",
            "100%|██████████| 10/10 [00:11<00:00,  1.17s/it]\n",
            "100%|██████████| 10/10 [00:18<00:00,  1.84s/it]\n",
            "100%|██████████| 10/10 [00:17<00:00,  1.71s/it]\n",
            "100%|██████████| 10/10 [00:13<00:00,  1.36s/it]\n",
            "100%|██████████| 10/10 [00:18<00:00,  1.83s/it]\n"
          ]
        },
        {
          "name": "stdout",
          "output_type": "stream",
          "text": [
            "Round 6, Train loss: 0.1812, Test Loss: 2.3106, Test Accuracy: 23.60%\n",
            "{6: 0, 9: 0, 2: 0, 1: 0, 5: 0, 8: 0, 4: 0, 3: 0, 0: 0, 7: 0}\n"
          ]
        },
        {
          "name": "stderr",
          "output_type": "stream",
          "text": [
            "100%|██████████| 10/10 [00:18<00:00,  1.83s/it]\n",
            "100%|██████████| 10/10 [00:25<00:00,  2.58s/it]\n",
            "100%|██████████| 10/10 [00:17<00:00,  1.71s/it]\n",
            "100%|██████████| 10/10 [00:13<00:00,  1.36s/it]\n",
            "100%|██████████| 10/10 [00:18<00:00,  1.83s/it]\n",
            "100%|██████████| 10/10 [00:12<00:00,  1.25s/it]\n",
            "100%|██████████| 10/10 [00:13<00:00,  1.32s/it]\n",
            "100%|██████████| 10/10 [00:11<00:00,  1.17s/it]\n",
            "100%|██████████| 10/10 [00:18<00:00,  1.84s/it]\n",
            "100%|██████████| 10/10 [00:15<00:00,  1.54s/it]\n"
          ]
        },
        {
          "name": "stdout",
          "output_type": "stream",
          "text": [
            "Round 7, Train loss: 0.1248, Test Loss: 1.3133, Test Accuracy: 57.74%\n",
            "{0: 1, 9: 1, 3: 1, 4: 1, 8: 1, 6: 1, 1: 1, 5: 1, 7: 1, 2: 1}\n"
          ]
        },
        {
          "name": "stderr",
          "output_type": "stream",
          "text": [
            "100%|██████████| 10/10 [00:18<00:00,  1.82s/it]\n",
            "100%|██████████| 10/10 [00:25<00:00,  2.57s/it]\n",
            "100%|██████████| 10/10 [00:11<00:00,  1.17s/it]\n",
            "100%|██████████| 10/10 [00:13<00:00,  1.31s/it]\n",
            "100%|██████████| 10/10 [00:12<00:00,  1.24s/it]\n",
            "100%|██████████| 10/10 [00:18<00:00,  1.84s/it]\n",
            "100%|██████████| 10/10 [00:13<00:00,  1.36s/it]\n",
            "100%|██████████| 10/10 [00:18<00:00,  1.83s/it]\n",
            "100%|██████████| 10/10 [00:15<00:00,  1.54s/it]\n",
            "100%|██████████| 10/10 [00:17<00:00,  1.70s/it]\n"
          ]
        },
        {
          "name": "stdout",
          "output_type": "stream",
          "text": [
            "Round 8, Train loss: 0.2059, Test Loss: 1.3087, Test Accuracy: 57.93%\n",
            "{0: 2, 3: 2, 5: 2, 7: 2, 1: 2, 8: 2, 9: 2, 4: 2, 2: 2, 6: 2}\n"
          ]
        },
        {
          "name": "stderr",
          "output_type": "stream",
          "text": [
            "100%|██████████| 10/10 [00:18<00:00,  1.83s/it]\n",
            "100%|██████████| 10/10 [00:11<00:00,  1.17s/it]\n",
            "100%|██████████| 10/10 [00:18<00:00,  1.84s/it]\n",
            "100%|██████████| 10/10 [00:15<00:00,  1.55s/it]\n",
            "100%|██████████| 10/10 [00:13<00:00,  1.36s/it]\n",
            "100%|██████████| 10/10 [00:12<00:00,  1.25s/it]\n",
            "100%|██████████| 10/10 [00:25<00:00,  2.59s/it]\n",
            "100%|██████████| 10/10 [00:13<00:00,  1.32s/it]\n",
            "100%|██████████| 10/10 [00:17<00:00,  1.71s/it]\n",
            "100%|██████████| 10/10 [00:18<00:00,  1.84s/it]\n"
          ]
        },
        {
          "name": "stdout",
          "output_type": "stream",
          "text": [
            "Round 9, Train loss: 0.1076, Test Loss: 1.4101, Test Accuracy: 60.04%\n",
            "{4: 0, 9: 0, 7: 0, 6: 0, 2: 0, 3: 0, 8: 0, 0: 0, 5: 0, 1: 0}\n"
          ]
        },
        {
          "name": "stderr",
          "output_type": "stream",
          "text": [
            "100%|██████████| 10/10 [00:13<00:00,  1.31s/it]\n",
            "100%|██████████| 10/10 [00:25<00:00,  2.57s/it]\n",
            "100%|██████████| 10/10 [00:15<00:00,  1.54s/it]\n",
            "100%|██████████| 10/10 [00:18<00:00,  1.83s/it]\n",
            "100%|██████████| 10/10 [00:17<00:00,  1.70s/it]\n",
            "100%|██████████| 10/10 [00:11<00:00,  1.17s/it]\n",
            "100%|██████████| 10/10 [00:12<00:00,  1.25s/it]\n",
            "100%|██████████| 10/10 [00:18<00:00,  1.83s/it]\n",
            "100%|██████████| 10/10 [00:18<00:00,  1.83s/it]\n",
            "100%|██████████| 10/10 [00:13<00:00,  1.36s/it]\n"
          ]
        },
        {
          "name": "stdout",
          "output_type": "stream",
          "text": [
            "Round 10, Train loss: 0.0847, Test Loss: 1.1708, Test Accuracy: 66.60%\n",
            "{4: 1, 6: 1, 5: 1, 9: 1, 8: 1, 3: 1, 7: 1, 0: 1, 2: 1, 1: 1}\n"
          ]
        },
        {
          "name": "stderr",
          "output_type": "stream",
          "text": [
            "100%|██████████| 10/10 [00:13<00:00,  1.32s/it]\n",
            "100%|██████████| 10/10 [00:18<00:00,  1.83s/it]\n",
            "100%|██████████| 10/10 [00:18<00:00,  1.83s/it]\n",
            "100%|██████████| 10/10 [00:25<00:00,  2.58s/it]\n",
            "100%|██████████| 10/10 [00:12<00:00,  1.24s/it]\n",
            "100%|██████████| 10/10 [00:11<00:00,  1.17s/it]\n",
            "100%|██████████| 10/10 [00:15<00:00,  1.55s/it]\n",
            "100%|██████████| 10/10 [00:18<00:00,  1.84s/it]\n",
            "100%|██████████| 10/10 [00:17<00:00,  1.71s/it]\n",
            "100%|██████████| 10/10 [00:13<00:00,  1.36s/it]\n"
          ]
        },
        {
          "name": "stdout",
          "output_type": "stream",
          "text": [
            "Round 11, Train loss: 0.1343, Test Loss: 1.1496, Test Accuracy: 68.19%\n",
            "{4: 2, 7: 2, 5: 2, 3: 2, 1: 2, 9: 2, 2: 2, 8: 2, 6: 2, 0: 2}\n"
          ]
        },
        {
          "name": "stderr",
          "output_type": "stream",
          "text": [
            "100%|██████████| 10/10 [00:13<00:00,  1.32s/it]\n",
            "100%|██████████| 10/10 [00:15<00:00,  1.54s/it]\n",
            "100%|██████████| 10/10 [00:18<00:00,  1.83s/it]\n",
            "100%|██████████| 10/10 [00:11<00:00,  1.17s/it]\n",
            "100%|██████████| 10/10 [00:13<00:00,  1.36s/it]\n",
            "100%|██████████| 10/10 [00:25<00:00,  2.58s/it]\n",
            "100%|██████████| 10/10 [00:17<00:00,  1.72s/it]\n",
            "100%|██████████| 10/10 [00:12<00:00,  1.25s/it]\n",
            "100%|██████████| 10/10 [00:18<00:00,  1.84s/it]\n",
            "100%|██████████| 10/10 [00:18<00:00,  1.83s/it]\n"
          ]
        },
        {
          "name": "stdout",
          "output_type": "stream",
          "text": [
            "Round 12, Train loss: 0.0715, Test Loss: 1.4546, Test Accuracy: 68.75%\n",
            "{6: 0, 1: 0, 5: 0, 8: 0, 4: 0, 2: 0, 3: 0, 0: 0, 7: 0, 9: 0}\n"
          ]
        },
        {
          "name": "stderr",
          "output_type": "stream",
          "text": [
            "100%|██████████| 10/10 [00:18<00:00,  1.84s/it]\n",
            "100%|██████████| 10/10 [00:13<00:00,  1.36s/it]\n",
            "100%|██████████| 10/10 [00:18<00:00,  1.84s/it]\n",
            "100%|██████████| 10/10 [00:12<00:00,  1.25s/it]\n",
            "100%|██████████| 10/10 [00:13<00:00,  1.32s/it]\n",
            "100%|██████████| 10/10 [00:17<00:00,  1.72s/it]\n",
            "100%|██████████| 10/10 [00:11<00:00,  1.18s/it]\n",
            "100%|██████████| 10/10 [00:18<00:00,  1.85s/it]\n",
            "100%|██████████| 10/10 [00:15<00:00,  1.54s/it]\n",
            "100%|██████████| 10/10 [00:25<00:00,  2.58s/it]\n"
          ]
        },
        {
          "name": "stdout",
          "output_type": "stream",
          "text": [
            "Round 13, Train loss: 0.0626, Test Loss: 1.1801, Test Accuracy: 71.96%\n",
            "{1: 1, 9: 1, 7: 1, 2: 1, 8: 1, 6: 1, 5: 1, 0: 1, 4: 1, 3: 1}\n"
          ]
        },
        {
          "name": "stderr",
          "output_type": "stream",
          "text": [
            "100%|██████████| 10/10 [00:13<00:00,  1.36s/it]\n",
            "100%|██████████| 10/10 [00:25<00:00,  2.59s/it]\n",
            "100%|██████████| 10/10 [00:15<00:00,  1.54s/it]\n",
            "100%|██████████| 10/10 [00:17<00:00,  1.71s/it]\n",
            "100%|██████████| 10/10 [00:12<00:00,  1.24s/it]\n",
            "100%|██████████| 10/10 [00:18<00:00,  1.84s/it]\n",
            "100%|██████████| 10/10 [00:18<00:00,  1.84s/it]\n",
            "100%|██████████| 10/10 [00:18<00:00,  1.84s/it]\n",
            "100%|██████████| 10/10 [00:13<00:00,  1.32s/it]\n",
            "100%|██████████| 10/10 [00:11<00:00,  1.17s/it]\n"
          ]
        },
        {
          "name": "stdout",
          "output_type": "stream",
          "text": [
            "Round 14, Train loss: 0.0965, Test Loss: 1.2175, Test Accuracy: 73.64%\n",
            "{7: 2, 3: 2, 4: 2, 6: 2, 0: 2, 2: 2, 8: 2, 5: 2, 9: 2, 1: 2}\n"
          ]
        },
        {
          "name": "stderr",
          "output_type": "stream",
          "text": [
            "100%|██████████| 10/10 [00:15<00:00,  1.54s/it]\n",
            "100%|██████████| 10/10 [00:11<00:00,  1.17s/it]\n",
            "100%|██████████| 10/10 [00:13<00:00,  1.31s/it]\n",
            "100%|██████████| 10/10 [00:18<00:00,  1.83s/it]\n",
            "100%|██████████| 10/10 [00:18<00:00,  1.83s/it]\n",
            "100%|██████████| 10/10 [00:17<00:00,  1.71s/it]\n",
            "100%|██████████| 10/10 [00:12<00:00,  1.25s/it]\n",
            "100%|██████████| 10/10 [00:18<00:00,  1.83s/it]\n",
            "100%|██████████| 10/10 [00:25<00:00,  2.57s/it]\n",
            "100%|██████████| 10/10 [00:13<00:00,  1.36s/it]\n"
          ]
        },
        {
          "name": "stdout",
          "output_type": "stream",
          "text": [
            "Round 15, Train loss: 0.0576, Test Loss: 1.5194, Test Accuracy: 73.33%\n",
            "{1: 0, 8: 0, 4: 0, 6: 0, 7: 0, 5: 0, 9: 0, 2: 0, 3: 0, 0: 0}\n"
          ]
        },
        {
          "name": "stderr",
          "output_type": "stream",
          "text": [
            "100%|██████████| 10/10 [00:13<00:00,  1.36s/it]\n",
            "100%|██████████| 10/10 [00:12<00:00,  1.25s/it]\n",
            "100%|██████████| 10/10 [00:13<00:00,  1.32s/it]\n",
            "100%|██████████| 10/10 [00:18<00:00,  1.84s/it]\n",
            "100%|██████████| 10/10 [00:15<00:00,  1.55s/it]\n",
            "100%|██████████| 10/10 [00:18<00:00,  1.84s/it]\n",
            "100%|██████████| 10/10 [00:26<00:00,  2.61s/it]\n",
            "100%|██████████| 10/10 [00:17<00:00,  1.74s/it]\n",
            "100%|██████████| 10/10 [00:11<00:00,  1.17s/it]\n",
            "100%|██████████| 10/10 [00:18<00:00,  1.83s/it]\n"
          ]
        },
        {
          "name": "stdout",
          "output_type": "stream",
          "text": [
            "Round 16, Train loss: 0.0494, Test Loss: 1.2529, Test Accuracy: 74.77%\n",
            "{7: 1, 4: 1, 8: 1, 6: 1, 2: 1, 1: 1, 5: 1, 0: 1, 9: 1, 3: 1}\n"
          ]
        },
        {
          "name": "stderr",
          "output_type": "stream",
          "text": [
            "100%|██████████| 10/10 [00:15<00:00,  1.54s/it]\n",
            "100%|██████████| 10/10 [00:13<00:00,  1.31s/it]\n",
            "100%|██████████| 10/10 [00:12<00:00,  1.24s/it]\n",
            "100%|██████████| 10/10 [00:18<00:00,  1.83s/it]\n",
            "100%|██████████| 10/10 [00:17<00:00,  1.70s/it]\n",
            "100%|██████████| 10/10 [00:13<00:00,  1.35s/it]\n",
            "100%|██████████| 10/10 [00:18<00:00,  1.83s/it]\n",
            "100%|██████████| 10/10 [00:18<00:00,  1.83s/it]\n",
            "100%|██████████| 10/10 [00:25<00:00,  2.57s/it]\n",
            "100%|██████████| 10/10 [00:11<00:00,  1.16s/it]\n"
          ]
        },
        {
          "name": "stdout",
          "output_type": "stream",
          "text": [
            "Round 17, Train loss: 0.0766, Test Loss: 1.2731, Test Accuracy: 75.46%\n",
            "{1: 2, 3: 2, 4: 2, 8: 2, 7: 2, 9: 2, 6: 2, 2: 2, 0: 2, 5: 2}\n"
          ]
        },
        {
          "name": "stderr",
          "output_type": "stream",
          "text": [
            "100%|██████████| 10/10 [00:13<00:00,  1.35s/it]\n",
            "100%|██████████| 10/10 [00:11<00:00,  1.16s/it]\n",
            "100%|██████████| 10/10 [00:13<00:00,  1.31s/it]\n",
            "100%|██████████| 10/10 [00:12<00:00,  1.24s/it]\n",
            "100%|██████████| 10/10 [00:15<00:00,  1.55s/it]\n",
            "100%|██████████| 10/10 [00:25<00:00,  2.58s/it]\n",
            "100%|██████████| 10/10 [00:18<00:00,  1.86s/it]\n",
            "100%|██████████| 10/10 [00:16<00:00,  1.70s/it]\n",
            "100%|██████████| 10/10 [00:18<00:00,  1.86s/it]\n",
            "100%|██████████| 10/10 [00:18<00:00,  1.85s/it]\n"
          ]
        },
        {
          "name": "stdout",
          "output_type": "stream",
          "text": [
            "Round 18, Train loss: 0.0461, Test Loss: 1.4772, Test Accuracy: 75.64%\n",
            "{3: 0, 9: 0, 1: 0, 4: 0, 2: 0, 8: 0, 6: 0, 5: 0, 0: 0, 7: 0}\n"
          ]
        },
        {
          "name": "stderr",
          "output_type": "stream",
          "text": [
            "100%|██████████| 10/10 [00:11<00:00,  1.16s/it]\n",
            "100%|██████████| 10/10 [00:25<00:00,  2.59s/it]\n",
            "100%|██████████| 10/10 [00:13<00:00,  1.34s/it]\n",
            "100%|██████████| 10/10 [00:13<00:00,  1.35s/it]\n",
            "100%|██████████| 10/10 [00:16<00:00,  1.70s/it]\n",
            "100%|██████████| 10/10 [00:12<00:00,  1.27s/it]\n",
            "100%|██████████| 10/10 [00:18<00:00,  1.87s/it]\n",
            "100%|██████████| 10/10 [00:18<00:00,  1.82s/it]\n",
            "100%|██████████| 10/10 [00:18<00:00,  1.86s/it]\n",
            "100%|██████████| 10/10 [00:15<00:00,  1.53s/it]\n"
          ]
        },
        {
          "name": "stdout",
          "output_type": "stream",
          "text": [
            "Round 19, Train loss: 0.0420, Test Loss: 1.2669, Test Accuracy: 76.14%\n",
            "{6: 1, 5: 1, 4: 1, 1: 1, 7: 1, 9: 1, 2: 1, 8: 1, 3: 1, 0: 1}\n"
          ]
        },
        {
          "name": "stderr",
          "output_type": "stream",
          "text": [
            "100%|██████████| 10/10 [00:18<00:00,  1.86s/it]\n",
            "100%|██████████| 10/10 [00:18<00:00,  1.85s/it]\n",
            "100%|██████████| 10/10 [00:13<00:00,  1.30s/it]\n",
            "100%|██████████| 10/10 [00:13<00:00,  1.38s/it]\n",
            "100%|██████████| 10/10 [00:15<00:00,  1.53s/it]\n",
            "100%|██████████| 10/10 [00:26<00:00,  2.61s/it]\n",
            "100%|██████████| 10/10 [00:17<00:00,  1.74s/it]\n",
            "100%|██████████| 10/10 [00:12<00:00,  1.24s/it]\n",
            "100%|██████████| 10/10 [00:11<00:00,  1.17s/it]\n",
            "100%|██████████| 10/10 [00:18<00:00,  1.85s/it]\n"
          ]
        },
        {
          "name": "stdout",
          "output_type": "stream",
          "text": [
            "Round 20, Train loss: 0.0625, Test Loss: 1.2105, Test Accuracy: 76.58%\n",
            "{0: 2, 7: 2, 5: 2, 9: 2, 6: 2, 2: 2, 8: 2, 4: 2, 3: 2, 1: 2}\n"
          ]
        },
        {
          "name": "stderr",
          "output_type": "stream",
          "text": [
            "100%|██████████| 10/10 [00:18<00:00,  1.86s/it]\n",
            "100%|██████████| 10/10 [00:15<00:00,  1.53s/it]\n",
            "100%|██████████| 10/10 [00:18<00:00,  1.88s/it]\n",
            "100%|██████████| 10/10 [00:26<00:00,  2.62s/it]\n",
            "100%|██████████| 10/10 [00:18<00:00,  1.82s/it]\n",
            "100%|██████████| 10/10 [00:17<00:00,  1.74s/it]\n",
            "100%|██████████| 10/10 [00:12<00:00,  1.25s/it]\n",
            "100%|██████████| 10/10 [00:13<00:00,  1.37s/it]\n",
            "100%|██████████| 10/10 [00:11<00:00,  1.16s/it]\n",
            "100%|██████████| 10/10 [00:13<00:00,  1.38s/it]\n"
          ]
        },
        {
          "name": "stdout",
          "output_type": "stream",
          "text": [
            "Round 21, Train loss: 0.0404, Test Loss: 1.1838, Test Accuracy: 77.74%\n",
            "{0: 0, 5: 0, 1: 0, 7: 0, 3: 0, 4: 0, 6: 0, 9: 0, 8: 0, 2: 0}\n"
          ]
        },
        {
          "name": "stderr",
          "output_type": "stream",
          "text": [
            "100%|██████████| 10/10 [00:18<00:00,  1.85s/it]\n",
            "100%|██████████| 10/10 [00:18<00:00,  1.82s/it]\n",
            "100%|██████████| 10/10 [00:13<00:00,  1.34s/it]\n",
            "100%|██████████| 10/10 [00:15<00:00,  1.52s/it]\n",
            "100%|██████████| 10/10 [00:11<00:00,  1.15s/it]\n",
            "100%|██████████| 10/10 [00:13<00:00,  1.31s/it]\n",
            "100%|██████████| 10/10 [00:18<00:00,  1.82s/it]\n",
            "100%|██████████| 10/10 [00:25<00:00,  2.56s/it]\n",
            "100%|██████████| 10/10 [00:12<00:00,  1.23s/it]\n",
            "100%|██████████| 10/10 [00:16<00:00,  1.68s/it]\n"
          ]
        },
        {
          "name": "stdout",
          "output_type": "stream",
          "text": [
            "Round 22, Train loss: 0.0364, Test Loss: 1.0524, Test Accuracy: 78.55%\n",
            "{1: 1, 3: 1, 7: 1, 8: 1, 9: 1, 4: 1, 2: 1, 6: 1, 5: 1, 0: 1}\n"
          ]
        },
        {
          "name": "stderr",
          "output_type": "stream",
          "text": [
            "100%|██████████| 10/10 [00:13<00:00,  1.34s/it]\n",
            "100%|██████████| 10/10 [00:11<00:00,  1.15s/it]\n",
            "100%|██████████| 10/10 [00:15<00:00,  1.52s/it]\n",
            "100%|██████████| 10/10 [00:12<00:00,  1.22s/it]\n",
            "100%|██████████| 10/10 [00:25<00:00,  2.54s/it]\n",
            "100%|██████████| 10/10 [00:13<00:00,  1.30s/it]\n",
            "100%|██████████| 10/10 [00:16<00:00,  1.69s/it]\n",
            "100%|██████████| 10/10 [00:18<00:00,  1.82s/it]\n",
            "100%|██████████| 10/10 [00:18<00:00,  1.81s/it]\n",
            "100%|██████████| 10/10 [00:18<00:00,  1.80s/it]\n"
          ]
        },
        {
          "name": "stdout",
          "output_type": "stream",
          "text": [
            "Round 23, Train loss: 0.0509, Test Loss: 1.0457, Test Accuracy: 78.91%\n",
            "{7: 2, 0: 2, 6: 2, 1: 2, 5: 2, 4: 2, 3: 2, 8: 2, 2: 2, 9: 2}\n"
          ]
        },
        {
          "name": "stderr",
          "output_type": "stream",
          "text": [
            "100%|██████████| 10/10 [00:15<00:00,  1.52s/it]\n",
            "100%|██████████| 10/10 [00:18<00:00,  1.81s/it]\n",
            "100%|██████████| 10/10 [00:18<00:00,  1.81s/it]\n",
            "100%|██████████| 10/10 [00:13<00:00,  1.34s/it]\n",
            "100%|██████████| 10/10 [00:18<00:00,  1.81s/it]\n",
            "100%|██████████| 10/10 [00:13<00:00,  1.31s/it]\n",
            "100%|██████████| 10/10 [00:11<00:00,  1.17s/it]\n",
            "100%|██████████| 10/10 [00:12<00:00,  1.24s/it]\n",
            "100%|██████████| 10/10 [00:16<00:00,  1.69s/it]\n",
            "100%|██████████| 10/10 [00:25<00:00,  2.55s/it]\n"
          ]
        },
        {
          "name": "stdout",
          "output_type": "stream",
          "text": [
            "Round 24, Train loss: 0.0370, Test Loss: 1.0173, Test Accuracy: 79.51%\n",
            "{1: 0, 9: 0, 4: 0, 8: 0, 0: 0, 6: 0, 5: 0, 7: 0, 3: 0, 2: 0}\n"
          ]
        },
        {
          "name": "stderr",
          "output_type": "stream",
          "text": [
            "100%|██████████| 10/10 [00:13<00:00,  1.34s/it]\n",
            "100%|██████████| 10/10 [00:25<00:00,  2.56s/it]\n",
            "100%|██████████| 10/10 [00:13<00:00,  1.37s/it]\n",
            "100%|██████████| 10/10 [00:12<00:00,  1.26s/it]\n",
            "100%|██████████| 10/10 [00:18<00:00,  1.82s/it]\n",
            "100%|██████████| 10/10 [00:18<00:00,  1.84s/it]\n",
            "100%|██████████| 10/10 [00:18<00:00,  1.83s/it]\n",
            "100%|██████████| 10/10 [00:15<00:00,  1.54s/it]\n",
            "100%|██████████| 10/10 [00:11<00:00,  1.17s/it]\n",
            "100%|██████████| 10/10 [00:16<00:00,  1.70s/it]\n"
          ]
        },
        {
          "name": "stdout",
          "output_type": "stream",
          "text": [
            "Round 25, Train loss: 0.0312, Test Loss: 0.9531, Test Accuracy: 80.40%\n",
            "{2: 1, 5: 1, 6: 1, 3: 1, 8: 1, 7: 1, 9: 1, 1: 1, 0: 1, 4: 1}\n"
          ]
        },
        {
          "name": "stderr",
          "output_type": "stream",
          "text": [
            "100%|██████████| 10/10 [00:16<00:00,  1.69s/it]\n",
            "100%|██████████| 10/10 [00:18<00:00,  1.86s/it]\n",
            "100%|██████████| 10/10 [00:18<00:00,  1.82s/it]\n",
            "100%|██████████| 10/10 [00:11<00:00,  1.16s/it]\n",
            "100%|██████████| 10/10 [00:12<00:00,  1.23s/it]\n",
            "100%|██████████| 10/10 [00:15<00:00,  1.54s/it]\n",
            "100%|██████████| 10/10 [00:25<00:00,  2.58s/it]\n",
            "100%|██████████| 10/10 [00:13<00:00,  1.36s/it]\n",
            "100%|██████████| 10/10 [00:18<00:00,  1.82s/it]\n",
            "100%|██████████| 10/10 [00:13<00:00,  1.31s/it]\n"
          ]
        },
        {
          "name": "stdout",
          "output_type": "stream",
          "text": [
            "Round 26, Train loss: 0.0277, Test Loss: 0.9291, Test Accuracy: 81.37%\n",
            "{8: 2, 6: 2, 9: 2, 3: 2, 4: 2, 7: 2, 1: 2, 2: 2, 0: 2, 5: 2}\n"
          ]
        },
        {
          "name": "stderr",
          "output_type": "stream",
          "text": [
            "100%|██████████| 10/10 [00:12<00:00,  1.24s/it]\n",
            "100%|██████████| 10/10 [00:18<00:00,  1.82s/it]\n",
            "100%|██████████| 10/10 [00:25<00:00,  2.56s/it]\n",
            "100%|██████████| 10/10 [00:11<00:00,  1.16s/it]\n",
            "100%|██████████| 10/10 [00:13<00:00,  1.31s/it]\n",
            "100%|██████████| 10/10 [00:15<00:00,  1.54s/it]\n",
            "100%|██████████| 10/10 [00:13<00:00,  1.36s/it]\n",
            "100%|██████████| 10/10 [00:17<00:00,  1.70s/it]\n",
            "100%|██████████| 10/10 [00:18<00:00,  1.83s/it]\n",
            "100%|██████████| 10/10 [00:18<00:00,  1.82s/it]\n"
          ]
        },
        {
          "name": "stdout",
          "output_type": "stream",
          "text": [
            "Round 27, Train loss: 0.0177, Test Loss: 0.7558, Test Accuracy: 85.05%\n",
            "{1: 0, 2: 0, 8: 0, 6: 0, 9: 0, 0: 0, 4: 0, 3: 0, 7: 0, 5: 0}\n"
          ]
        },
        {
          "name": "stderr",
          "output_type": "stream",
          "text": [
            "100%|██████████| 10/10 [00:13<00:00,  1.35s/it]\n",
            "100%|██████████| 10/10 [00:16<00:00,  1.70s/it]\n",
            "100%|██████████| 10/10 [00:12<00:00,  1.24s/it]\n",
            "100%|██████████| 10/10 [00:18<00:00,  1.83s/it]\n",
            "100%|██████████| 10/10 [00:25<00:00,  2.56s/it]\n",
            "100%|██████████| 10/10 [00:18<00:00,  1.83s/it]\n",
            "100%|██████████| 10/10 [00:13<00:00,  1.32s/it]\n",
            "100%|██████████| 10/10 [00:11<00:00,  1.17s/it]\n",
            "100%|██████████| 10/10 [00:15<00:00,  1.54s/it]\n",
            "100%|██████████| 10/10 [00:18<00:00,  1.83s/it]\n"
          ]
        },
        {
          "name": "stdout",
          "output_type": "stream",
          "text": [
            "Round 28, Train loss: 0.0186, Test Loss: 0.6143, Test Accuracy: 87.93%\n",
            "{7: 1, 9: 1, 6: 1, 4: 1, 0: 1, 1: 1, 5: 1, 2: 1, 8: 1, 3: 1}\n"
          ]
        },
        {
          "name": "stderr",
          "output_type": "stream",
          "text": [
            "100%|██████████| 10/10 [00:15<00:00,  1.53s/it]\n",
            "100%|██████████| 10/10 [00:25<00:00,  2.58s/it]\n",
            "100%|██████████| 10/10 [00:18<00:00,  1.82s/it]\n",
            "100%|██████████| 10/10 [00:13<00:00,  1.31s/it]\n",
            "100%|██████████| 10/10 [00:20<00:00,  2.09s/it]\n",
            "100%|██████████| 10/10 [00:19<00:00,  1.91s/it]\n",
            "100%|██████████| 10/10 [00:26<00:00,  2.62s/it]\n",
            "100%|██████████| 10/10 [00:25<00:00,  2.59s/it]\n",
            "100%|██████████| 10/10 [00:20<00:00,  2.07s/it]\n",
            "100%|██████████| 10/10 [00:17<00:00,  1.80s/it]\n"
          ]
        },
        {
          "name": "stdout",
          "output_type": "stream",
          "text": [
            "Round 29, Train loss: 0.0230, Test Loss: 0.6665, Test Accuracy: 88.16%\n",
            "{3: 2, 2: 2, 1: 2, 0: 2, 5: 2, 7: 2, 8: 2, 9: 2, 6: 2, 4: 2}\n"
          ]
        },
        {
          "name": "stderr",
          "output_type": "stream",
          "text": [
            "100%|██████████| 10/10 [00:16<00:00,  1.69s/it]\n",
            "100%|██████████| 10/10 [00:27<00:00,  2.80s/it]\n",
            "100%|██████████| 10/10 [00:19<00:00,  1.93s/it]\n",
            "100%|██████████| 10/10 [00:25<00:00,  2.60s/it]\n",
            "100%|██████████| 10/10 [00:26<00:00,  2.62s/it]\n",
            "100%|██████████| 10/10 [00:21<00:00,  2.18s/it]\n",
            "100%|██████████| 10/10 [00:17<00:00,  1.76s/it]\n",
            "100%|██████████| 10/10 [00:43<00:00,  4.36s/it]\n",
            "100%|██████████| 10/10 [00:26<00:00,  2.60s/it]\n",
            "100%|██████████| 10/10 [00:22<00:00,  2.28s/it]\n"
          ]
        },
        {
          "name": "stdout",
          "output_type": "stream",
          "text": [
            "Round 30, Train loss: 0.0126, Test Loss: 0.6055, Test Accuracy: 89.76%\n",
            "{4: 0, 6: 0, 9: 0, 2: 0, 0: 0, 5: 0, 3: 0, 7: 0, 8: 0, 1: 0}\n"
          ]
        },
        {
          "name": "stderr",
          "output_type": "stream",
          "text": [
            "100%|██████████| 10/10 [00:18<00:00,  1.81s/it]\n",
            "100%|██████████| 10/10 [00:28<00:00,  2.81s/it]\n",
            "100%|██████████| 10/10 [00:36<00:00,  3.67s/it]\n",
            "100%|██████████| 10/10 [00:24<00:00,  2.40s/it]\n",
            "100%|██████████| 10/10 [00:27<00:00,  2.75s/it]\n",
            "100%|██████████| 10/10 [00:25<00:00,  2.56s/it]\n",
            "100%|██████████| 10/10 [00:16<00:00,  1.62s/it]\n",
            "100%|██████████| 10/10 [00:21<00:00,  2.12s/it]\n",
            "100%|██████████| 10/10 [00:18<00:00,  1.80s/it]\n",
            "100%|██████████| 10/10 [00:21<00:00,  2.19s/it]\n"
          ]
        },
        {
          "name": "stdout",
          "output_type": "stream",
          "text": [
            "Round 31, Train loss: 0.0119, Test Loss: 0.5657, Test Accuracy: 89.97%\n",
            "{4: 1, 1: 1, 2: 1, 5: 1, 3: 1, 8: 1, 0: 1, 6: 1, 7: 1, 9: 1}\n"
          ]
        },
        {
          "name": "stderr",
          "output_type": "stream",
          "text": [
            "100%|██████████| 10/10 [00:18<00:00,  1.86s/it]\n",
            "100%|██████████| 10/10 [00:21<00:00,  2.12s/it]\n",
            "100%|██████████| 10/10 [00:28<00:00,  2.89s/it]\n",
            "100%|██████████| 10/10 [00:29<00:00,  2.91s/it]\n",
            "100%|██████████| 10/10 [00:19<00:00,  1.98s/it]\n",
            "100%|██████████| 10/10 [00:21<00:00,  2.17s/it]\n",
            "100%|██████████| 10/10 [00:26<00:00,  2.64s/it]\n",
            "100%|██████████| 10/10 [00:25<00:00,  2.60s/it]\n",
            "100%|██████████| 10/10 [00:21<00:00,  2.16s/it]\n",
            "100%|██████████| 10/10 [00:36<00:00,  3.66s/it]\n"
          ]
        },
        {
          "name": "stdout",
          "output_type": "stream",
          "text": [
            "Round 32, Train loss: 0.0183, Test Loss: 0.5640, Test Accuracy: 90.02%\n",
            "{0: 2, 2: 2, 3: 2, 9: 2, 8: 2, 7: 2, 6: 2, 1: 2, 5: 2, 4: 2}\n"
          ]
        },
        {
          "name": "stderr",
          "output_type": "stream",
          "text": [
            "100%|██████████| 10/10 [00:25<00:00,  2.55s/it]\n",
            "100%|██████████| 10/10 [00:24<00:00,  2.44s/it]\n",
            "100%|██████████| 10/10 [00:17<00:00,  1.72s/it]\n",
            "100%|██████████| 10/10 [00:43<00:00,  4.37s/it]\n",
            "100%|██████████| 10/10 [00:17<00:00,  1.79s/it]\n",
            "100%|██████████| 10/10 [00:22<00:00,  2.26s/it]\n",
            "100%|██████████| 10/10 [00:26<00:00,  2.61s/it]\n",
            "100%|██████████| 10/10 [00:20<00:00,  2.08s/it]\n",
            "100%|██████████| 10/10 [00:29<00:00,  2.90s/it]\n",
            "100%|██████████| 10/10 [00:18<00:00,  1.88s/it]\n"
          ]
        },
        {
          "name": "stdout",
          "output_type": "stream",
          "text": [
            "Round 33, Train loss: 0.0100, Test Loss: 0.5779, Test Accuracy: 90.11%\n",
            "{2: 0, 9: 0, 6: 0, 8: 0, 1: 0, 7: 0, 0: 0, 3: 0, 5: 0, 4: 0}\n"
          ]
        },
        {
          "name": "stderr",
          "output_type": "stream",
          "text": [
            "100%|██████████| 10/10 [00:27<00:00,  2.74s/it]\n",
            "100%|██████████| 10/10 [00:37<00:00,  3.73s/it]\n",
            "100%|██████████| 10/10 [00:25<00:00,  2.55s/it]\n",
            "100%|██████████| 10/10 [00:17<00:00,  1.80s/it]\n",
            "100%|██████████| 10/10 [00:24<00:00,  2.41s/it]\n",
            "100%|██████████| 10/10 [00:25<00:00,  2.56s/it]\n",
            "100%|██████████| 10/10 [00:26<00:00,  2.61s/it]\n",
            "100%|██████████| 10/10 [00:16<00:00,  1.66s/it]\n",
            "100%|██████████| 10/10 [00:25<00:00,  2.54s/it]\n",
            "100%|██████████| 10/10 [00:21<00:00,  2.17s/it]\n"
          ]
        },
        {
          "name": "stdout",
          "output_type": "stream",
          "text": [
            "Round 34, Train loss: 0.0100, Test Loss: 0.5583, Test Accuracy: 90.18%\n",
            "{5: 1, 6: 1, 4: 1, 8: 1, 1: 1, 3: 1, 7: 1, 2: 1, 9: 1, 0: 1}\n"
          ]
        },
        {
          "name": "stderr",
          "output_type": "stream",
          "text": [
            "100%|██████████| 10/10 [00:32<00:00,  3.22s/it]\n",
            "100%|██████████| 10/10 [00:26<00:00,  2.66s/it]\n",
            "100%|██████████| 10/10 [00:18<00:00,  1.84s/it]\n",
            "100%|██████████| 10/10 [00:17<00:00,  1.76s/it]\n",
            "100%|██████████| 10/10 [00:19<00:00,  1.93s/it]\n",
            "100%|██████████| 10/10 [00:16<00:00,  1.68s/it]\n",
            "100%|██████████| 10/10 [00:21<00:00,  2.19s/it]\n",
            "100%|██████████| 10/10 [00:24<00:00,  2.47s/it]\n",
            "100%|██████████| 10/10 [00:40<00:00,  4.00s/it]\n",
            "100%|██████████| 10/10 [00:30<00:00,  3.02s/it]\n"
          ]
        },
        {
          "name": "stdout",
          "output_type": "stream",
          "text": [
            "Round 35, Train loss: 0.0156, Test Loss: 0.5559, Test Accuracy: 90.17%\n",
            "{8: 2, 1: 2, 7: 2, 9: 2, 5: 2, 3: 2, 2: 2, 6: 2, 0: 2, 4: 2}\n"
          ]
        },
        {
          "name": "stderr",
          "output_type": "stream",
          "text": [
            "100%|██████████| 10/10 [00:17<00:00,  1.75s/it]\n",
            "100%|██████████| 10/10 [00:19<00:00,  1.94s/it]\n",
            "100%|██████████| 10/10 [00:21<00:00,  2.20s/it]\n",
            "100%|██████████| 10/10 [00:36<00:00,  3.61s/it]\n",
            "100%|██████████| 10/10 [00:25<00:00,  2.57s/it]\n",
            "100%|██████████| 10/10 [00:16<00:00,  1.65s/it]\n",
            "100%|██████████| 10/10 [00:24<00:00,  2.41s/it]\n",
            "100%|██████████| 10/10 [00:25<00:00,  2.55s/it]\n",
            "100%|██████████| 10/10 [00:25<00:00,  2.56s/it]\n",
            "100%|██████████| 10/10 [00:18<00:00,  1.87s/it]\n"
          ]
        },
        {
          "name": "stdout",
          "output_type": "stream",
          "text": [
            "Round 36, Train loss: 0.0095, Test Loss: 0.5695, Test Accuracy: 90.26%\n",
            "{8: 0, 4: 0, 9: 0, 3: 0, 7: 0, 2: 0, 0: 0, 1: 0, 5: 0, 6: 0}\n"
          ]
        },
        {
          "name": "stderr",
          "output_type": "stream",
          "text": [
            "100%|██████████| 10/10 [00:17<00:00,  1.76s/it]\n",
            "100%|██████████| 10/10 [00:20<00:00,  2.08s/it]\n",
            "100%|██████████| 10/10 [00:35<00:00,  3.58s/it]\n",
            "100%|██████████| 10/10 [00:16<00:00,  1.69s/it]\n",
            "100%|██████████| 10/10 [00:22<00:00,  2.28s/it]\n",
            "100%|██████████| 10/10 [00:22<00:00,  2.28s/it]\n",
            "100%|██████████| 10/10 [00:24<00:00,  2.46s/it]\n",
            "100%|██████████| 10/10 [00:18<00:00,  1.86s/it]\n",
            "100%|██████████| 10/10 [00:25<00:00,  2.59s/it]\n",
            "100%|██████████| 10/10 [00:26<00:00,  2.62s/it]\n"
          ]
        },
        {
          "name": "stdout",
          "output_type": "stream",
          "text": [
            "Round 37, Train loss: 0.0080, Test Loss: 0.5546, Test Accuracy: 90.31%\n",
            "{4: 1, 5: 1, 7: 1, 3: 1, 9: 1, 8: 1, 1: 1, 0: 1, 2: 1, 6: 1}\n"
          ]
        },
        {
          "name": "stderr",
          "output_type": "stream",
          "text": [
            "100%|██████████| 10/10 [00:18<00:00,  1.85s/it]\n",
            "100%|██████████| 10/10 [00:25<00:00,  2.54s/it]\n",
            "100%|██████████| 10/10 [00:20<00:00,  2.09s/it]\n",
            "100%|██████████| 10/10 [00:16<00:00,  1.65s/it]\n",
            "100%|██████████| 10/10 [00:37<00:00,  3.71s/it]\n",
            "100%|██████████| 10/10 [00:17<00:00,  1.76s/it]\n",
            "100%|██████████| 10/10 [00:19<00:00,  1.99s/it]\n",
            "100%|██████████| 10/10 [00:25<00:00,  2.53s/it]\n",
            "100%|██████████| 10/10 [00:27<00:00,  2.78s/it]\n",
            "100%|██████████| 10/10 [00:31<00:00,  3.11s/it]\n"
          ]
        },
        {
          "name": "stdout",
          "output_type": "stream",
          "text": [
            "Round 38, Train loss: 0.0131, Test Loss: 0.5495, Test Accuracy: 90.32%\n",
            "{8: 2, 6: 2, 4: 2, 0: 2, 7: 2, 9: 2, 2: 2, 1: 2, 5: 2, 3: 2}\n"
          ]
        },
        {
          "name": "stderr",
          "output_type": "stream",
          "text": [
            "100%|██████████| 10/10 [00:21<00:00,  2.18s/it]\n",
            "100%|██████████| 10/10 [00:31<00:00,  3.17s/it]\n",
            "100%|██████████| 10/10 [00:20<00:00,  2.00s/it]\n",
            "100%|██████████| 10/10 [00:27<00:00,  2.78s/it]\n",
            "100%|██████████| 10/10 [00:22<00:00,  2.21s/it]\n",
            "100%|██████████| 10/10 [00:40<00:00,  4.04s/it]\n",
            "100%|██████████| 10/10 [00:24<00:00,  2.44s/it]\n",
            "100%|██████████| 10/10 [00:19<00:00,  1.93s/it]\n",
            "100%|██████████| 10/10 [00:27<00:00,  2.71s/it]\n",
            "100%|██████████| 10/10 [00:16<00:00,  1.63s/it]\n"
          ]
        },
        {
          "name": "stdout",
          "output_type": "stream",
          "text": [
            "Round 39, Train loss: 0.0077, Test Loss: 0.5759, Test Accuracy: 90.34%\n",
            "{0: 0, 3: 0, 6: 0, 5: 0, 4: 0, 9: 0, 7: 0, 8: 0, 2: 0, 1: 0}\n"
          ]
        },
        {
          "name": "stderr",
          "output_type": "stream",
          "text": [
            "100%|██████████| 10/10 [00:26<00:00,  2.69s/it]\n",
            "100%|██████████| 10/10 [00:16<00:00,  1.69s/it]\n",
            "100%|██████████| 10/10 [00:26<00:00,  2.65s/it]\n",
            "100%|██████████| 10/10 [00:25<00:00,  2.58s/it]\n",
            "100%|██████████| 10/10 [00:20<00:00,  2.10s/it]\n",
            "100%|██████████| 10/10 [00:38<00:00,  3.84s/it]\n",
            "100%|██████████| 10/10 [00:22<00:00,  2.23s/it]\n",
            "100%|██████████| 10/10 [00:18<00:00,  1.83s/it]\n",
            "100%|██████████| 10/10 [00:24<00:00,  2.48s/it]\n",
            "100%|██████████| 10/10 [00:19<00:00,  1.98s/it]\n"
          ]
        },
        {
          "name": "stdout",
          "output_type": "stream",
          "text": [
            "Round 40, Train loss: 0.0080, Test Loss: 0.5664, Test Accuracy: 90.29%\n",
            "{5: 1, 2: 1, 7: 1, 1: 1, 0: 1, 9: 1, 6: 1, 3: 1, 8: 1, 4: 1}\n"
          ]
        },
        {
          "name": "stderr",
          "output_type": "stream",
          "text": [
            "100%|██████████| 10/10 [00:25<00:00,  2.60s/it]\n",
            "100%|██████████| 10/10 [00:24<00:00,  2.46s/it]\n",
            "100%|██████████| 10/10 [00:21<00:00,  2.19s/it]\n",
            "100%|██████████| 10/10 [00:18<00:00,  1.88s/it]\n",
            "100%|██████████| 10/10 [00:29<00:00,  2.92s/it]\n",
            "100%|██████████| 10/10 [00:42<00:00,  4.28s/it]\n",
            "100%|██████████| 10/10 [00:27<00:00,  2.80s/it]\n",
            "100%|██████████| 10/10 [00:17<00:00,  1.71s/it]\n",
            "100%|██████████| 10/10 [00:17<00:00,  1.75s/it]\n",
            "100%|██████████| 10/10 [00:19<00:00,  1.91s/it]\n"
          ]
        },
        {
          "name": "stdout",
          "output_type": "stream",
          "text": [
            "Round 41, Train loss: 0.0111, Test Loss: 0.5583, Test Accuracy: 90.35%\n",
            "{3: 2, 9: 2, 2: 2, 6: 2, 1: 2, 5: 2, 8: 2, 0: 2, 7: 2, 4: 2}\n"
          ]
        },
        {
          "name": "stderr",
          "output_type": "stream",
          "text": [
            "100%|██████████| 10/10 [00:20<00:00,  2.06s/it]\n",
            "100%|██████████| 10/10 [00:36<00:00,  3.67s/it]\n",
            "100%|██████████| 10/10 [00:23<00:00,  2.35s/it]\n",
            "100%|██████████| 10/10 [00:25<00:00,  2.53s/it]\n",
            "100%|██████████| 10/10 [00:21<00:00,  2.20s/it]\n",
            "100%|██████████| 10/10 [00:29<00:00,  2.99s/it]\n",
            "100%|██████████| 10/10 [00:17<00:00,  1.75s/it]\n",
            "100%|██████████| 10/10 [00:28<00:00,  2.90s/it]\n",
            "100%|██████████| 10/10 [00:26<00:00,  2.66s/it]\n",
            "100%|██████████| 10/10 [00:21<00:00,  2.16s/it]\n"
          ]
        },
        {
          "name": "stdout",
          "output_type": "stream",
          "text": [
            "Round 42, Train loss: 0.0070, Test Loss: 0.5738, Test Accuracy: 90.37%\n",
            "{2: 0, 4: 0, 9: 0, 8: 0, 0: 0, 7: 0, 3: 0, 1: 0, 5: 0, 6: 0}\n"
          ]
        },
        {
          "name": "stderr",
          "output_type": "stream",
          "text": [
            "100%|██████████| 10/10 [00:24<00:00,  2.49s/it]\n",
            "100%|██████████| 10/10 [00:22<00:00,  2.28s/it]\n",
            "100%|██████████| 10/10 [00:44<00:00,  4.49s/it]\n",
            "100%|██████████| 10/10 [00:21<00:00,  2.14s/it]\n",
            "100%|██████████| 10/10 [00:29<00:00,  2.95s/it]\n",
            "100%|██████████| 10/10 [00:21<00:00,  2.13s/it]\n",
            "100%|██████████| 10/10 [00:16<00:00,  1.63s/it]\n",
            "100%|██████████| 10/10 [00:18<00:00,  1.89s/it]\n",
            "100%|██████████| 10/10 [00:25<00:00,  2.55s/it]\n",
            "100%|██████████| 10/10 [00:25<00:00,  2.58s/it]\n"
          ]
        },
        {
          "name": "stdout",
          "output_type": "stream",
          "text": [
            "Round 43, Train loss: 0.0079, Test Loss: 0.5601, Test Accuracy: 90.39%\n",
            "{2: 1, 3: 1, 8: 1, 9: 1, 5: 1, 6: 1, 4: 1, 0: 1, 1: 1, 7: 1}\n"
          ]
        },
        {
          "name": "stderr",
          "output_type": "stream",
          "text": [
            "100%|██████████| 10/10 [00:27<00:00,  2.78s/it]\n",
            "100%|██████████| 10/10 [00:20<00:00,  2.07s/it]\n",
            "100%|██████████| 10/10 [00:21<00:00,  2.11s/it]\n",
            "100%|██████████| 10/10 [00:39<00:00,  3.94s/it]\n",
            "100%|██████████| 10/10 [00:26<00:00,  2.69s/it]\n",
            "100%|██████████| 10/10 [00:29<00:00,  2.90s/it]\n",
            "100%|██████████| 10/10 [00:22<00:00,  2.21s/it]\n",
            "100%|██████████| 10/10 [00:31<00:00,  3.19s/it]\n",
            "100%|██████████| 10/10 [00:22<00:00,  2.22s/it]\n",
            "100%|██████████| 10/10 [00:23<00:00,  2.30s/it]\n"
          ]
        },
        {
          "name": "stdout",
          "output_type": "stream",
          "text": [
            "Round 44, Train loss: 0.0100, Test Loss: 0.5587, Test Accuracy: 90.42%\n",
            "{7: 2, 5: 2, 4: 2, 3: 2, 0: 2, 1: 2, 6: 2, 2: 2, 9: 2, 8: 2}\n"
          ]
        },
        {
          "name": "stderr",
          "output_type": "stream",
          "text": [
            "100%|██████████| 10/10 [00:25<00:00,  2.57s/it]\n",
            "100%|██████████| 10/10 [00:24<00:00,  2.44s/it]\n",
            "100%|██████████| 10/10 [00:18<00:00,  1.82s/it]\n",
            "100%|██████████| 10/10 [00:18<00:00,  1.86s/it]\n",
            "100%|██████████| 10/10 [00:24<00:00,  2.48s/it]\n",
            "100%|██████████| 10/10 [00:19<00:00,  1.91s/it]\n",
            "100%|██████████| 10/10 [00:26<00:00,  2.70s/it]\n",
            "100%|██████████| 10/10 [00:26<00:00,  2.69s/it]\n",
            "100%|██████████| 10/10 [00:43<00:00,  4.36s/it]\n",
            "100%|██████████| 10/10 [00:18<00:00,  1.87s/it]\n"
          ]
        },
        {
          "name": "stdout",
          "output_type": "stream",
          "text": [
            "Round 45, Train loss: 0.0063, Test Loss: 0.5815, Test Accuracy: 90.41%\n",
            "{1: 0, 2: 0, 7: 0, 9: 0, 3: 0, 0: 0, 6: 0, 5: 0, 4: 0, 8: 0}\n"
          ]
        },
        {
          "name": "stderr",
          "output_type": "stream",
          "text": [
            "100%|██████████| 10/10 [00:17<00:00,  1.76s/it]\n",
            "100%|██████████| 10/10 [00:23<00:00,  2.40s/it]\n",
            "100%|██████████| 10/10 [00:22<00:00,  2.20s/it]\n",
            "100%|██████████| 10/10 [00:39<00:00,  3.97s/it]\n",
            "100%|██████████| 10/10 [00:18<00:00,  1.82s/it]\n",
            "100%|██████████| 10/10 [00:28<00:00,  2.89s/it]\n",
            "100%|██████████| 10/10 [00:28<00:00,  2.83s/it]\n",
            "100%|██████████| 10/10 [00:28<00:00,  2.89s/it]\n",
            "100%|██████████| 10/10 [00:22<00:00,  2.26s/it]\n",
            "100%|██████████| 10/10 [00:19<00:00,  1.98s/it]\n"
          ]
        },
        {
          "name": "stdout",
          "output_type": "stream",
          "text": [
            "Round 46, Train loss: 0.0062, Test Loss: 0.5693, Test Accuracy: 90.49%\n",
            "{5: 1, 3: 1, 4: 1, 8: 1, 6: 1, 7: 1, 9: 1, 2: 1, 1: 1, 0: 1}\n"
          ]
        },
        {
          "name": "stderr",
          "output_type": "stream",
          "text": [
            "100%|██████████| 10/10 [00:27<00:00,  2.74s/it]\n",
            "100%|██████████| 10/10 [00:16<00:00,  1.65s/it]\n",
            "100%|██████████| 10/10 [00:19<00:00,  1.93s/it]\n",
            "100%|██████████| 10/10 [00:18<00:00,  1.81s/it]\n",
            "100%|██████████| 10/10 [00:27<00:00,  2.72s/it]\n",
            "100%|██████████| 10/10 [00:24<00:00,  2.46s/it]\n",
            "100%|██████████| 10/10 [00:36<00:00,  3.62s/it]\n",
            "100%|██████████| 10/10 [00:24<00:00,  2.44s/it]\n",
            "100%|██████████| 10/10 [00:19<00:00,  1.92s/it]\n",
            "100%|██████████| 10/10 [00:24<00:00,  2.46s/it]\n"
          ]
        },
        {
          "name": "stdout",
          "output_type": "stream",
          "text": [
            "Round 47, Train loss: 0.0090, Test Loss: 0.5772, Test Accuracy: 90.44%\n",
            "{0: 2, 9: 2, 3: 2, 4: 2, 5: 2, 2: 2, 8: 2, 6: 2, 1: 2, 7: 2}\n"
          ]
        },
        {
          "name": "stderr",
          "output_type": "stream",
          "text": [
            "100%|██████████| 10/10 [00:24<00:00,  2.42s/it]\n",
            "100%|██████████| 10/10 [00:33<00:00,  3.39s/it]\n",
            "100%|██████████| 10/10 [00:15<00:00,  1.55s/it]\n",
            "100%|██████████| 10/10 [00:19<00:00,  1.90s/it]\n",
            "100%|██████████| 10/10 [00:24<00:00,  2.48s/it]\n",
            "100%|██████████| 10/10 [00:23<00:00,  2.33s/it]\n",
            "100%|██████████| 10/10 [00:16<00:00,  1.67s/it]\n",
            "100%|██████████| 10/10 [00:28<00:00,  2.81s/it]\n",
            "100%|██████████| 10/10 [00:19<00:00,  1.92s/it]\n",
            "100%|██████████| 10/10 [00:20<00:00,  2.06s/it]\n"
          ]
        },
        {
          "name": "stdout",
          "output_type": "stream",
          "text": [
            "Round 48, Train loss: 0.0060, Test Loss: 0.5928, Test Accuracy: 90.36%\n",
            "{2: 0, 5: 0, 7: 0, 9: 0, 6: 0, 8: 0, 1: 0, 3: 0, 4: 0, 0: 0}\n"
          ]
        },
        {
          "name": "stderr",
          "output_type": "stream",
          "text": [
            "100%|██████████| 10/10 [00:22<00:00,  2.29s/it]\n",
            "100%|██████████| 10/10 [00:24<00:00,  2.46s/it]\n",
            "100%|██████████| 10/10 [00:20<00:00,  2.10s/it]\n",
            "100%|██████████| 10/10 [00:37<00:00,  3.78s/it]\n",
            "100%|██████████| 10/10 [00:27<00:00,  2.79s/it]\n",
            "100%|██████████| 10/10 [00:20<00:00,  2.01s/it]\n",
            "100%|██████████| 10/10 [00:20<00:00,  2.04s/it]\n",
            "100%|██████████| 10/10 [00:17<00:00,  1.71s/it]\n",
            "100%|██████████| 10/10 [00:17<00:00,  1.72s/it]\n",
            "100%|██████████| 10/10 [00:25<00:00,  2.56s/it]\n"
          ]
        },
        {
          "name": "stdout",
          "output_type": "stream",
          "text": [
            "Round 49, Train loss: 0.0062, Test Loss: 0.5883, Test Accuracy: 90.41%\n",
            "Early stopping called at 49 epochs\n",
            "{3: 1, 6: 1, 5: 1, 9: 1, 0: 1, 7: 1, 8: 1, 4: 1, 2: 1, 1: 1}\n"
          ]
        },
        {
          "name": "stderr",
          "output_type": "stream",
          "text": [
            "100%|██████████| 10/10 [00:15<00:00,  1.57s/it]\n",
            "100%|██████████| 10/10 [00:25<00:00,  2.54s/it]\n",
            "100%|██████████| 10/10 [00:25<00:00,  2.58s/it]\n",
            "100%|██████████| 10/10 [00:33<00:00,  3.33s/it]\n",
            "100%|██████████| 10/10 [00:25<00:00,  2.54s/it]\n",
            "100%|██████████| 10/10 [00:21<00:00,  2.11s/it]\n",
            "100%|██████████| 10/10 [00:19<00:00,  1.93s/it]\n",
            "100%|██████████| 10/10 [00:20<00:00,  2.01s/it]\n",
            "100%|██████████| 10/10 [00:24<00:00,  2.48s/it]\n",
            "100%|██████████| 10/10 [00:20<00:00,  2.07s/it]\n"
          ]
        },
        {
          "name": "stdout",
          "output_type": "stream",
          "text": [
            "Round 50, Train loss: 0.0077, Test Loss: 0.5736, Test Accuracy: 90.52%\n",
            "Early stopping called at 50 epochs\n"
          ]
        }
      ],
      "source": [
        "global_model.train()\n",
        "for model in clients_models.values():\n",
        "    model.train()\n",
        "\n",
        "loss_train = []\n",
        "loss_test = []\n",
        "acc_train = []\n",
        "acc_test= []\n",
        "\n",
        "# Early stopping\n",
        "patience = 10 \n",
        "patience_counter = 0\n",
        "prev_weights = dict()\n",
        "aggregated_params = list()\n",
        "# local_indices = generate_iid_cifar(train_dataset, num_clients)\n",
        "num_segments = 3\n",
        "\n",
        "for round in range(num_rounds):\n",
        "    local_weights = {}\n",
        "    local_losses, local_acc = [], []\n",
        "    selected_clients = list(np.random.choice(range(num_clients), num_selected, replace=False))\n",
        "    # Initialize client segment index map\n",
        "    client_segment_map = {selected_clients[i]: round%3 for i in range(len(selected_clients))} \n",
        "    print(client_segment_map)\n",
        "   \n",
        "    # Train on local data\n",
        "    for i in selected_clients:\n",
        "        # Train on local data\n",
        "        #local_loader = DataLoader(DatasetSplit(train_dataset, noniid_dataidx_map[i]), batch_size=local_bs, shuffle=True)\n",
        "        local_loader = DataLoader(CIFAR10_truncated(\n",
        "        './data', dataidxs=noniid_dataidx_map[i], train=True, transform=transform_train), batch_size=local_bs, shuffle=True)\n",
        "\n",
        "        w, loss, acc = client_train(clients_models[i], local_loader, optimizers[i], criterion, local_rounds)\n",
        "\n",
        "        # Collect local model weights with thier examples\n",
        "        local_weights[i] = w\n",
        "        # local_weights.append(w)\n",
        "        local_losses.append(loss)\n",
        "        local_acc.append(acc)\n",
        "        schedulers[i].step()\n",
        "\n",
        "    prev_weights , aggregated_params = handle_partial_updates(local_weights, num_segments, client_segment_map)\n",
        "    \n",
        "    updated_client_dict = update_client_models(prev_weights, aggregated_params, client_segment_map)\n",
        "    \n",
        "    clients_reconstructed_params = {}\n",
        "    for client_id, weights in updated_client_dict.items():\n",
        "        clients_reconstructed_params[client_id] = reconstruct_parameters(weights, shapes, sizes, trained_weights)\n",
        "\n",
        "    for client in selected_clients:\n",
        "        clients_models[client].load_state_dict(clients_reconstructed_params[client])\n",
        "    \n",
        "    # for model in sampled_clients_models.values():\n",
        "    #     model.load_state_dict(global_model.state_dict())\n",
        "        \n",
        "    # To test the global model performance, we keep the replace the shared segments and aggregate the rest part of the segments.\n",
        "    flat_params_n = flatten_resnet_parameters(global_model.state_dict())\n",
        "    # Segment the parameters\n",
        "    segmented_params = segment_resnet_parameters(flat_params_n, 3)\n",
        "\n",
        "    shared_segment_index = client_segment_map[selected_clients[0]]\n",
        "    updated_global_params = [aggregated_params[i] if i == shared_segment_index else data for i, data in enumerate(segmented_params)]\n",
        "    params = torch.cat(updated_global_params)\n",
        "    # Reconstruct the parameters\n",
        "    updated_server_weights = reconstruct_parameters(params, shapes, sizes, trained_weights)\n",
        "\n",
        "    # Check if both dictionaries have the same set of keys\n",
        "    assert set(updated_server_weights.keys()) == set(trained_weights.keys()), \"Parameter keys do not match.\"\n",
        "\n",
        "\n",
        "    # Aggregate local weights to update global model\n",
        "    # rotate_shared_segments(client_segment_map, num_segments)\n",
        "    \n",
        "\n",
        "    # copy weight to global model\n",
        "    global_model.load_state_dict(updated_server_weights)\n",
        "\n",
        "    # Calulate loss\n",
        "    loss_avg = sum(local_losses) / len(local_losses)\n",
        "    # print('Round {:3d}, Train loss {:.3f}'.format(round, loss_avg))\n",
        "    loss_train.append(loss_avg)\n",
        "    acc_train.append(100 * sum(local_acc) / len(local_acc))\n",
        "\n",
        "    # Evaluation on test dataset for each round\n",
        "    cur_auc, test_loss = evaluate(\n",
        "        global_model, test_dataset, test_bs, device)\n",
        "    loss_test.append(test_loss)\n",
        "    acc_test.append(cur_auc)\n",
        "    print(f'Round {round+1}, Train loss: {loss_avg:.4f}, Test Loss: {test_loss:.4f}, Test Accuracy: {cur_auc:.2f}%')\n",
        "    ## Early Stopping\n",
        "    valid_loss_array = np.array(loss_test)\n",
        "    min_valid_loss = np.min(valid_loss_array)\n",
        "    \n",
        "    if(test_loss > min_valid_loss):\n",
        "        patience_counter += 1        \n",
        "    else:\n",
        "        patience_counter = 0       #setting the patience counter to zero if the test loss improves again \n",
        "    \n",
        "    ## Calling early stopping if test loss doest improves from last (patience) Iterations\n",
        "    if(patience_counter > patience):\n",
        "        print(\"Early stopping called at {} epochs\".format(round+1))\n",
        "        # break\n"
      ]
    },
    {
      "cell_type": "code",
      "execution_count": 91,
      "metadata": {
        "id": "BMu4zjVscHpL"
      },
      "outputs": [
        {
          "name": "stdout",
          "output_type": "stream",
          "text": [
            "Training accuracy: 94.47%\n",
            "Testing accuracy: 89.09%\n"
          ]
        }
      ],
      "source": [
        "# Testing\n",
        "global_model.eval()\n",
        "train_acc, train_loss = evaluate(\n",
        "    global_model, train_dataset, test_bs, device)\n",
        "test_acc, test_loss = evaluate(\n",
        "    global_model, test_dataset, test_bs, device)\n",
        "print(\"Training accuracy: {:.2f}%\".format(train_acc))\n",
        "print(\"Testing accuracy: {:.2f}%\".format(test_acc))"
      ]
    },
    {
      "cell_type": "code",
      "execution_count": 50,
      "metadata": {},
      "outputs": [],
      "source": [
        "# Save the entire model\n",
        "torch.save(global_model, 'model_resnet9_ps_same_portion_24_June.pth')\n",
        "\n",
        "# # To load the entire model\n",
        "# model = torch.load('model_complete.pth')\n",
        "# model.eval()"
      ]
    },
    {
      "cell_type": "code",
      "execution_count": 68,
      "metadata": {},
      "outputs": [],
      "source": [
        "# Save only the state dictionary\n",
        "torch.save(model.state_dict(), 'model_resnet9_ps_same_portion_06_June.pth')\n",
        "\n",
        "# # To load the state dictionary, you need to re-instantiate the model first\n",
        "# model = ResNet18()\n",
        "# model.load_state_dict(torch.load('model_state_dict.pth'))\n",
        "# model.eval()"
      ]
    },
    {
      "cell_type": "code",
      "execution_count": null,
      "metadata": {},
      "outputs": [],
      "source": [
        "with open(f'ParMS{num_segments}_acc_train.txt', 'w') as file:\n",
        "    # Write each value on a new line\n",
        "    file.write(f\"{acc_train}\\n\")\n",
        "with open(f'ParMS{num_segments}_acc_test.txt', 'w') as file:\n",
        "    # Write each value on a new line\n",
        "    file.write(f\"{acc_test}\\n\")\n",
        "with open(f'ParMS{num_segments}_loss_train.txt', 'w') as file:\n",
        "    # Write each value on a new line\n",
        "    file.write(f\"{loss_train}\\n\") \n",
        "with open(f'ParMS{num_segments}_loss_test.txt', 'w') as file:\n",
        "    # Write each value on a new line\n",
        "    file.write(f\"{loss_test}\\n\")"
      ]
    }
  ],
  "metadata": {
    "accelerator": "GPU",
    "colab": {
      "gpuType": "V100",
      "machine_shape": "hm",
      "provenance": []
    },
    "kernelspec": {
      "display_name": "Python 3",
      "name": "python3"
    },
    "language_info": {
      "codemirror_mode": {
        "name": "ipython",
        "version": 3
      },
      "file_extension": ".py",
      "mimetype": "text/x-python",
      "name": "python",
      "nbconvert_exporter": "python",
      "pygments_lexer": "ipython3",
      "version": "3.11.0"
    }
  },
  "nbformat": 4,
  "nbformat_minor": 0
}
