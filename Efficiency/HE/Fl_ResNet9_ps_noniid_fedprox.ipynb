{
  "cells": [
    {
      "cell_type": "code",
      "execution_count": 1,
      "metadata": {
        "colab": {
          "base_uri": "https://localhost:8080/"
        },
        "id": "Arkpt-UAnhNM",
        "outputId": "b08febb7-77d8-4370-9a01-68d63e835872"
      },
      "outputs": [
        {
          "name": "stdout",
          "output_type": "stream",
          "text": [
            "Python 3.9.19\n"
          ]
        }
      ],
      "source": [
        "!python --version"
      ]
    },
    {
      "cell_type": "code",
      "execution_count": 2,
      "metadata": {
        "id": "uG6SJN7fZa4_"
      },
      "outputs": [],
      "source": [
        "import torch\n",
        "from torch.utils.data import DataLoader, Dataset\n",
        "import numpy as np\n",
        "import torch.nn as nn\n",
        "import torch.nn.functional as F\n",
        "from torchvision import datasets, transforms\n",
        "import matplotlib.pyplot as plt\n",
        "import torch.optim.lr_scheduler as lr_scheduler\n",
        "import copy\n",
        "import time\n",
        "from tqdm import trange\n",
        "#  from torchsummary import summary\n",
        "from torch.nn.parameter import Parameter\n",
        "from torch.optim import SGD, Optimizer\n",
        "from typing import List\n",
        "\n",
        "import torchvision\n",
        "import torchvision.transforms as transforms"
      ]
    },
    {
      "cell_type": "code",
      "execution_count": 3,
      "metadata": {
        "id": "VzJRdXpobgBG"
      },
      "outputs": [],
      "source": [
        "# Hyperparameters for training\n",
        "num_rounds = 50\n",
        "local_rounds = 10\n",
        "num_clients = 10  # Total number of clients\n",
        "num_selected = 10  # Number of selected clients per round\n",
        "local_bs = 10\n",
        "lr = 0.001\n",
        "num_channels = 3\n",
        "num_classes = 10\n",
        "test_bs = 128\n",
        "gpu = 1\n",
        "gamma = 0.1\n",
        "milestones = [0.5 * num_rounds, 0.75 * num_rounds]\n",
        "\n",
        "momentum = 0.9\n",
        "weight_decay = 0.00001\n",
        "mu = 0.01"
      ]
    },
    {
      "cell_type": "code",
      "execution_count": 4,
      "metadata": {
        "id": "PYbUdZkjbmZH"
      },
      "outputs": [],
      "source": [
        "device = torch.device('cuda:4' if torch.cuda.is_available() else 'cpu')"
      ]
    },
    {
      "cell_type": "code",
      "execution_count": 5,
      "metadata": {
        "colab": {
          "base_uri": "https://localhost:8080/"
        },
        "id": "RQBQ0YjGl_sM",
        "outputId": "0280fce5-781b-4651-b40b-3fc601f628df"
      },
      "outputs": [
        {
          "data": {
            "text/plain": [
              "device(type='cuda', index=4)"
            ]
          },
          "execution_count": 5,
          "metadata": {},
          "output_type": "execute_result"
        }
      ],
      "source": [
        "device"
      ]
    },
    {
      "cell_type": "code",
      "execution_count": 6,
      "metadata": {
        "id": "B8Z7t9psl_sM"
      },
      "outputs": [],
      "source": [
        "#ResNet9\n",
        "def conv_block(in_channels, out_channels, pool=False):\n",
        "    layers = [nn.Conv2d(in_channels, out_channels, kernel_size=3, padding=1),\n",
        "              nn.BatchNorm2d(out_channels),\n",
        "              nn.ReLU(inplace=True)]\n",
        "    if pool: layers.append(nn.MaxPool2d(2))\n",
        "    return nn.Sequential(*layers)"
      ]
    },
    {
      "cell_type": "code",
      "execution_count": 7,
      "metadata": {
        "id": "fbs5eU4Ql_sM"
      },
      "outputs": [],
      "source": [
        "class ResNet9(nn.Module):\n",
        "    def __init__(\n",
        "            self,\n",
        "            in_channels,\n",
        "            num_classes):\n",
        "        super(ResNet9, self).__init__()\n",
        "\n",
        "        self.conv1 = conv_block(in_channels, 64)\n",
        "        self.conv2 = conv_block(64, 128, pool=True)\n",
        "        self.res1 = nn.Sequential(conv_block(128, 128), conv_block(128, 128))\n",
        "\n",
        "        self.conv3 = conv_block(128, 256, pool=True)\n",
        "        self.conv4 = conv_block(256, 512, pool=True)\n",
        "        self.res2 = nn.Sequential(conv_block(512, 512), conv_block(512, 512))\n",
        "\n",
        "        self.classifier = nn.Sequential(nn.AdaptiveMaxPool2d((1,1)),\n",
        "                                        nn.Flatten(),\n",
        "                                        nn.Dropout(0.2),\n",
        "                                        nn.Linear(512,num_classes))\n",
        "\n",
        "    def forward(self, xb):\n",
        "        out = self.conv1(xb)\n",
        "        out = self.conv2(out)\n",
        "        out = self.res1(out) + out\n",
        "        out = self.conv3(out)\n",
        "        out = self.conv4(out)\n",
        "        out = self.res2(out) + out\n",
        "        out = self.classifier(out)\n",
        "        return out\n"
      ]
    },
    {
      "cell_type": "code",
      "execution_count": 8,
      "metadata": {
        "id": "klgj1sLLl_sM"
      },
      "outputs": [],
      "source": [
        "class CIFAR10_truncated(Dataset):\n",
        "\n",
        "    def __init__(self, root, dataidxs=None, train=True, transform=None, target_transform=None, download=False):\n",
        "\n",
        "        self.root = root\n",
        "        self.dataidxs = dataidxs\n",
        "        self.train = train\n",
        "        self.transform = transform\n",
        "        self.target_transform = target_transform\n",
        "        self.download = download\n",
        "\n",
        "        self.data, self.target = self.__build_truncated_dataset__()\n",
        "\n",
        "    def __build_truncated_dataset__(self):\n",
        "\n",
        "        cifar_dataobj = datasets.CIFAR10(self.root, self.train, self.transform, self.target_transform, self.download)\n",
        "\n",
        "        data = np.array(cifar_dataobj.data)\n",
        "        target = np.array(cifar_dataobj.targets)\n",
        "\n",
        "        if self.dataidxs is not None:\n",
        "            data = data[self.dataidxs]\n",
        "            target = target[self.dataidxs]\n",
        "\n",
        "        return data, target\n",
        "\n",
        "    def __getitem__(self, index):\n",
        "        \"\"\"\n",
        "        Args:\n",
        "            index (int): Index\n",
        "\n",
        "        Returns:\n",
        "            tuple: (image, target) where target is index of the target class.\n",
        "        \"\"\"\n",
        "        img, target = self.data[index], self.target[index]\n",
        "\n",
        "        if self.transform is not None:\n",
        "            img = self.transform(img)\n",
        "\n",
        "        if self.target_transform is not None:\n",
        "            target = self.target_transform(target)\n",
        "\n",
        "        return img, target\n",
        "\n",
        "    def __len__(self):\n",
        "        return len(self.data)"
      ]
    },
    {
      "cell_type": "code",
      "execution_count": 9,
      "metadata": {
        "id": "_pK9897Lb86S"
      },
      "outputs": [],
      "source": [
        "class DatasetSplit(Dataset):\n",
        "    def __init__(self, dataset, idxs):\n",
        "        self.dataset = dataset\n",
        "        self.targets = dataset.targets\n",
        "        self.idxs = list(idxs)\n",
        "\n",
        "    def __len__(self):\n",
        "        return len(self.idxs)\n",
        "\n",
        "    def __getitem__(self, item):\n",
        "        image, label = self.dataset[self.idxs[item]]\n",
        "        return image, label"
      ]
    },
    {
      "cell_type": "code",
      "execution_count": 10,
      "metadata": {
        "id": "cRVoTdg5cowo"
      },
      "outputs": [],
      "source": [
        "transform_train = transforms.Compose([transforms.ToTensor(),\n",
        "                                      transforms.RandomCrop(32, padding=4),\n",
        "                                      transforms.RandomHorizontalFlip(),\n",
        "                                      transforms.Normalize(mean=[x / 255.0 for x in [125.3, 123.0, 113.9]],\n",
        "                                     std=[x / 255.0 for x in [63.0, 62.1, 66.7]])])\n",
        "transform_test = transforms.Compose([\n",
        "    transforms.ToTensor(),\n",
        "    transforms.Normalize(mean=[x / 255.0 for x in [125.3, 123.0, 113.9]], std=[x / 255.0 for x in [63.0, 62.1, 66.7]])])"
      ]
    },
    {
      "cell_type": "code",
      "execution_count": 11,
      "metadata": {
        "colab": {
          "base_uri": "https://localhost:8080/"
        },
        "id": "ApAnVijabpCO",
        "outputId": "33fb881f-cbe7-4180-91bb-1312f7d73480"
      },
      "outputs": [
        {
          "name": "stdout",
          "output_type": "stream",
          "text": [
            "Files already downloaded and verified\n",
            "Files already downloaded and verified\n"
          ]
        }
      ],
      "source": [
        "# CIFAR10 Data loading\n",
        "train_dataset = CIFAR10_truncated('./data', train=True, download=True, transform=transform_train)\n",
        "test_dataset = CIFAR10_truncated('./data', train=False, download=True, transform=transform_test)\n",
        "\n",
        "X_train, y_train = train_dataset.data, train_dataset.target\n",
        "X_test, y_test = test_dataset.data, test_dataset.target"
      ]
    },
    {
      "cell_type": "code",
      "execution_count": 12,
      "metadata": {
        "id": "7WqBz6HobwuF"
      },
      "outputs": [],
      "source": [
        "def record_net_data_stats(y_train, net_dataidx_map):\n",
        "\n",
        "    net_cls_counts = {}\n",
        "\n",
        "    for net_i, dataidx in net_dataidx_map.items():\n",
        "        unq, unq_cnt = np.unique(y_train[dataidx], return_counts=True)\n",
        "        tmp = {unq[i]: unq_cnt[i] for i in range(len(unq))}\n",
        "        net_cls_counts[net_i] = tmp\n",
        "\n",
        "    #print('Data statistics: %s' % str(net_cls_counts))\n",
        "\n",
        "    return net_cls_counts"
      ]
    },
    {
      "cell_type": "code",
      "execution_count": 13,
      "metadata": {
        "id": "KSlyzJfzl_sO"
      },
      "outputs": [],
      "source": [
        "# for IID case\n",
        "def generate_iid_cifar(X_train,y_train, num_of_clients):\n",
        "    \"\"\"\n",
        "    Sample I.I.D. client data from CIFAR10 dataset\n",
        "    :param n_nets: Number of clients\n",
        "    :return: Tuple containing train and test datasets, data index map for each client, and train data class counts\n",
        "    \"\"\"\n",
        "\n",
        "    n_train = X_train.shape[0]\n",
        "\n",
        "    # Shuffle and partition the data\n",
        "    idxs = np.arange(n_train)\n",
        "    np.random.shuffle(idxs)\n",
        "\n",
        "    net_data_idx_map = {}\n",
        "    batch_idxs = np.array_split(idxs, num_of_clients)\n",
        "\n",
        "    for i in range(num_of_clients):\n",
        "        net_data_idx_map[i] = batch_idxs[i]\n",
        "\n",
        "    traindata_class_counts = record_net_data_stats(y_train, net_data_idx_map)\n",
        "\n",
        "    return net_data_idx_map, traindata_class_counts"
      ]
    },
    {
      "cell_type": "code",
      "execution_count": 14,
      "metadata": {
        "id": "GutLQ4sml_sO"
      },
      "outputs": [],
      "source": [
        "def generate_noniid_cifar(X_train,y_train, num_of_clients, alpha=0.5):\n",
        "    \"\"\"\n",
        "    Sample non I.I.D. client data from CIFAR10 dataset\n",
        "    :param dataset:\n",
        "    :param num_users:\n",
        "    :return:\n",
        "    \"\"\"\n",
        "\n",
        "    n_train = len(X_train.shape)\n",
        "\n",
        "    min_size = 0\n",
        "    K = 10\n",
        "    N = len(y_train)\n",
        "    net_dataidx_map = {}\n",
        "\n",
        "    while min_size < 10:\n",
        "        idx_batch = [[] for _ in range(num_of_clients)]\n",
        "        for k in range(K):\n",
        "            idx_k = np.where(y_train == k)[0]\n",
        "            np.random.shuffle(idx_k)\n",
        "            proportions = np.random.dirichlet(np.repeat(alpha, num_of_clients))\n",
        "            ## Balance\n",
        "            proportions = np.array([p*(len(idx_j)<N/num_of_clients) for p,idx_j in zip(proportions,idx_batch)])\n",
        "            proportions = proportions/proportions.sum()\n",
        "            proportions = (np.cumsum(proportions)*len(idx_k)).astype(int)[:-1]\n",
        "            idx_batch = [idx_j + idx.tolist() for idx_j,idx in zip(idx_batch,np.split(idx_k,proportions))]\n",
        "            min_size = min([len(idx_j) for idx_j in idx_batch])\n",
        "\n",
        "    for j in range(num_of_clients):\n",
        "        np.random.shuffle(idx_batch[j])\n",
        "        net_dataidx_map[j] = idx_batch[j]\n",
        "    traindata_class_counts = record_net_data_stats(y_train, net_dataidx_map)\n",
        "\n",
        "    return net_dataidx_map, traindata_class_counts"
      ]
    },
    {
      "cell_type": "code",
      "execution_count": 15,
      "metadata": {
        "id": "Pgi0-Eiul_sO"
      },
      "outputs": [],
      "source": [
        "noniid_dataidx_map, noniid_traindata_cls_counts = generate_noniid_cifar(X_train,y_train, num_clients)"
      ]
    },
    {
      "cell_type": "code",
      "execution_count": 16,
      "metadata": {},
      "outputs": [
        {
          "data": {
            "image/png": "[encoded data removed]",
            "text/plain": [
              "<Figure size 2000x800 with 10 Axes>"
            ]
          },
          "metadata": {},
          "output_type": "display_data"
        }
      ],
      "source": [
        "import numpy as np\n",
        "import matplotlib.pyplot as plt\n",
        "from torchvision import datasets, transforms\n",
        "from collections import Counter\n",
        "\n",
        "# Assuming you have already run the partition_data function and obtained the following:\n",
        "# X_train, y_train, X_test, y_test, net_dataidx_map, traindata_cls_counts\n",
        "\n",
        "def visualize_client_distribution(traindata_cls_counts, n_clients):\n",
        "    \"\"\"\n",
        "    Visualizes the class distribution for each client.\n",
        "    \n",
        "    :param traindata_cls_counts: Dictionary of class counts per client\n",
        "    :param n_clients: Number of clients\n",
        "    \"\"\"\n",
        "    fig, axes = plt.subplots(n_clients // 5, 5, figsize=(20, 4 * (n_clients // 5)))\n",
        "    axes = axes.flatten()\n",
        "\n",
        "    for client_id, cls_counts in traindata_cls_counts.items():\n",
        "        classes = list(cls_counts.keys())\n",
        "        counts = list(cls_counts.values())\n",
        "\n",
        "        axes[client_id].bar(classes, counts)\n",
        "        axes[client_id].set_xticks(classes)\n",
        "        axes[client_id].set_xticklabels(classes)\n",
        "        axes[client_id].set_title(f'Client {client_id}')\n",
        "        axes[client_id].set_xlabel('Class')\n",
        "        axes[client_id].set_ylabel('Number of samples')\n",
        "\n",
        "    plt.tight_layout()\n",
        "    plt.show()\n",
        "\n",
        "# Visualize the distribution of the class counts for each client\n",
        "visualize_client_distribution(noniid_traindata_cls_counts, num_clients)"
      ]
    },
    {
      "cell_type": "code",
      "execution_count": 17,
      "metadata": {
        "id": "EHaDaW3Tl_sO"
      },
      "outputs": [],
      "source": [
        "# Client training function\n",
        "def client_train(global_mod:nn.Module, net: nn.Module,\n",
        "    loader: DataLoader,\n",
        "    device: torch.device,\n",
        "    local_rounds: int,\n",
        "    proximal_mu: float,\n",
        "    learning_rate: float,\n",
        "    momentum: float,\n",
        "    weight_decay: float):\n",
        "\n",
        "    epoch_loss = []\n",
        "    epoch_acc = []\n",
        "    criterion = nn.CrossEntropyLoss()\n",
        "    optimizer = SGD(\n",
        "        net.parameters(), lr=learning_rate, momentum=momentum, weight_decay=weight_decay\n",
        "    )\n",
        "    global_params = [param.detach().clone() for param in global_mod.parameters()]\n",
        "    net.train()\n",
        "    for _ in trange(local_rounds):\n",
        "        batch_loss = []\n",
        "        for batch_idx, (data, target) in enumerate(loader):\n",
        "            data, target = data.to(device), target.to(device)\n",
        "            optimizer.zero_grad()\n",
        "            output = net(data)\n",
        "            loss = criterion(output, target)\n",
        "            proximal_term = 0.0\n",
        "            for param, global_param in zip(net.parameters(), global_params):\n",
        "                proximal_term += torch.norm(param - global_param) ** 2\n",
        "            loss += (proximal_mu / 2) * proximal_term\n",
        "            loss.backward()\n",
        "            optimizer.step()\n",
        "            batch_loss.append(loss.item())\n",
        "\n",
        "            _, pred = torch.max(output, dim=1)\n",
        "            correct_train = pred.eq(target.data.view_as(pred))\n",
        "            accuracy_train = torch.mean(correct_train.type(torch.FloatTensor))\n",
        "            epoch_acc.append(accuracy_train.item())\n",
        "\n",
        "        epoch_loss.append(sum(batch_loss) / len(batch_loss))\n",
        "    return net.state_dict(), sum(epoch_loss) / len(epoch_loss), sum(epoch_acc) / len(epoch_acc)"
      ]
    },
    {
      "cell_type": "code",
      "execution_count": 18,
      "metadata": {
        "id": "bAXYEu_Db4jX"
      },
      "outputs": [],
      "source": [
        "# 'FedAvg' aggregation\n",
        "def FedAvg(w):\n",
        "    w_avg = copy.deepcopy(w[0])\n",
        "    for k in w_avg.keys():\n",
        "        for i in range(1, len(w)):\n",
        "            w_avg[k] += w[i][k]\n",
        "        w_avg[k] = torch.div(w_avg[k], len(w))\n",
        "    return w_avg"
      ]
    },
    {
      "cell_type": "code",
      "execution_count": 19,
      "metadata": {
        "id": "Kx1_Y0onb_Qu"
      },
      "outputs": [],
      "source": [
        "# Evaluate on Test dataset\n",
        "def evaluate(global_model, datatest, test_bs, device):\n",
        "    global_model.eval()\n",
        "    # testing\n",
        "    test_loss = 0\n",
        "    correct = 0\n",
        "    data_loader = DataLoader(datatest, batch_size=test_bs)\n",
        "    with torch.no_grad():\n",
        "        for data, target in data_loader:\n",
        "            data, target = data.to(device), target.to(device)\n",
        "            log_probs = global_model(data)\n",
        "            # sum up batch loss\n",
        "            test_loss += F.cross_entropy(log_probs,\n",
        "                                         target, reduction='sum').item()\n",
        "            # get the index of the max log-probability\n",
        "            y_pred = log_probs.data.max(1, keepdim=True)[1]\n",
        "            correct += y_pred.eq(target.data.view_as(y_pred)\n",
        "                                 ).long().cpu().sum()\n",
        "\n",
        "        test_loss /= len(data_loader.dataset)\n",
        "        accuracy = 100.00 * correct.item() / len(data_loader.dataset)\n",
        "    return accuracy, test_loss"
      ]
    },
    {
      "cell_type": "code",
      "execution_count": 20,
      "metadata": {
        "id": "wlBhfYGWl_sP"
      },
      "outputs": [],
      "source": [
        "# Initialize and synchronize models###\n",
        "global_model = ResNet9(\n",
        "    in_channels=num_channels, num_classes=num_classes).to(device)\n",
        "criterion = nn.CrossEntropyLoss()"
      ]
    },
    {
      "cell_type": "code",
      "execution_count": 21,
      "metadata": {
        "id": "3sb6JxBMl_sP"
      },
      "outputs": [],
      "source": [
        "trained_weights = global_model.state_dict()\n",
        "shapes = {key: tensor.shape for key, tensor in trained_weights.items()}\n",
        "sizes = {key: tensor.numel() for key, tensor in trained_weights.items()}\n",
        "\n",
        "clients_models = {i: ResNet9(in_channels=num_channels, num_classes=num_classes).to(device) for i in range(num_clients)}\n",
        "optimizers={}\n",
        "for key, model in clients_models.items():\n",
        "   optimizers[key] =  torch.optim.Adam(model.parameters(), lr=lr)\n",
        "\n",
        "schedulers={}\n",
        "for key, optimizer in optimizers.items():\n",
        "   schedulers[key] =  torch.optim.lr_scheduler.MultiStepLR(optimizer, milestones=milestones, gamma=gamma)"
      ]
    },
    {
      "cell_type": "code",
      "execution_count": 22,
      "metadata": {
        "colab": {
          "base_uri": "https://localhost:8080/"
        },
        "id": "Jgh_1_Frl_sP",
        "outputId": "03a234ef-1a98-4e4d-8a5e-b6b98b2afd3b"
      },
      "outputs": [
        {
          "data": {
            "text/plain": [
              "dict_keys([0, 1, 2, 3, 4, 5, 6, 7, 8, 9])"
            ]
          },
          "execution_count": 22,
          "metadata": {},
          "output_type": "execute_result"
        }
      ],
      "source": [
        "clients_models.keys()"
      ]
    },
    {
      "cell_type": "code",
      "execution_count": 23,
      "metadata": {
        "colab": {
          "base_uri": "https://localhost:8080/"
        },
        "id": "bLqQHhScl_sP",
        "outputId": "95efa54b-c3a7-4ef6-c6b4-3a655eb5310e"
      },
      "outputs": [
        {
          "name": "stdout",
          "output_type": "stream",
          "text": [
            "Round Test, Test Loss: 2.3034, Test Accuracy: 8.26%\n"
          ]
        }
      ],
      "source": [
        "# Evaluation on test dataset for each round\n",
        "cur_auc, test_loss = evaluate(\n",
        "   global_model, test_dataset, test_bs, device)\n",
        "print(f'Round Test, Test Loss: {test_loss:.4f}, Test Accuracy: {cur_auc:.2f}%')"
      ]
    },
    {
      "cell_type": "code",
      "execution_count": 24,
      "metadata": {
        "colab": {
          "base_uri": "https://localhost:8080/"
        },
        "id": "FDPNcc5Sl_sP",
        "outputId": "7ce0fe27-4692-4629-ead0-5da2de53a021"
      },
      "outputs": [
        {
          "name": "stdout",
          "output_type": "stream",
          "text": [
            "Round Test, Test Loss: 2.3069, Test Accuracy: 10.00%\n"
          ]
        }
      ],
      "source": [
        "# Evaluation on test dataset for each round\n",
        "cur_auc, test_loss = evaluate(\n",
        "    clients_models[0], test_dataset, test_bs, device)\n",
        "print(f'Round Test, Test Loss: {test_loss:.4f}, Test Accuracy: {cur_auc:.2f}%')"
      ]
    },
    {
      "cell_type": "code",
      "execution_count": 25,
      "metadata": {
        "id": "2EqesLyXl_sP"
      },
      "outputs": [],
      "source": [
        "for model in clients_models.values():\n",
        "  model.load_state_dict(global_model.state_dict())"
      ]
    },
    {
      "cell_type": "code",
      "execution_count": 26,
      "metadata": {
        "colab": {
          "base_uri": "https://localhost:8080/"
        },
        "id": "c0OsRlbXl_sP",
        "outputId": "f7965cb4-7ade-422c-f595-34815e816ff5"
      },
      "outputs": [
        {
          "name": "stdout",
          "output_type": "stream",
          "text": [
            "Round Test, Test Loss: 2.3034, Test Accuracy: 8.26%\n"
          ]
        }
      ],
      "source": [
        "# Evaluation on test dataset for each round\n",
        "cur_auc, test_loss = evaluate(\n",
        "    clients_models[0], test_dataset, test_bs, device)\n",
        "print(f'Round Test, Test Loss: {test_loss:.4f}, Test Accuracy: {cur_auc:.2f}%')"
      ]
    },
    {
      "cell_type": "code",
      "execution_count": 27,
      "metadata": {
        "id": "hCo9qNv5l_sP"
      },
      "outputs": [],
      "source": [
        "from collections import OrderedDict\n",
        "def flatten_resnet_parameters(state_dict):\n",
        "    \"\"\"\n",
        "    Flatten and concatenate all parameters from a state_dict into a single vector.\n",
        "    \"\"\"\n",
        "    flat_params = torch.cat([p.view(-1).float() for p in state_dict.values()])\n",
        "    return flat_params\n",
        "\n",
        "def reconstruct_parameters(flat_params, shapes, sizes, trained_weights):\n",
        "    \"\"\"\n",
        "    Reconstruct the original tensors from a flattened parameter tensor.\n",
        "\n",
        "    :param flat_params: 1D tensor containing all weights concatenated\n",
        "    :param shapes: Dictionary of parameter names to their shapes\n",
        "    :param sizes: Dictionary of parameter names to their sizes (number of elements)\n",
        "    :param trained_weights: Original state_dict containing the data types\n",
        "    :return: OrderedDict of reconstructed tensors with their original shapes and types\n",
        "    \"\"\"\n",
        "    reconstructed_params = OrderedDict()\n",
        "    offset = 0\n",
        "    for key in shapes:\n",
        "        num_elements = sizes[key]\n",
        "        # Extract the relevant slice from the flattened tensor\n",
        "        param_slice = flat_params[offset:offset + num_elements]\n",
        "        # Reshape it according to the original shape and convert to the original data type\n",
        "        reconstructed_params[key] = param_slice.view(shapes[key])\n",
        "        offset += num_elements\n",
        "    return reconstructed_params"
      ]
    },
    {
      "cell_type": "code",
      "execution_count": 28,
      "metadata": {
        "id": "naRkAsRbl_sP"
      },
      "outputs": [],
      "source": [
        "def segment_resnet_parameters(flat_params, num_segments):\n",
        "    \"\"\"\n",
        "    Divide the flat parameters into equal segments, ensuring all elements are included.\n",
        "    \"\"\"\n",
        "    total_len = len(flat_params)\n",
        "    segment_size = total_len // num_segments\n",
        "    remainder = total_len % num_segments\n",
        "\n",
        "    segments = []\n",
        "    start = 0\n",
        "    for i in range(num_segments):\n",
        "        # Calculate end point for the current segment\n",
        "        end = start + segment_size + (1 if i < remainder else 0)\n",
        "        segments.append(flat_params[start:end])\n",
        "        start = end\n",
        "\n",
        "    return segments\n"
      ]
    },
    {
      "cell_type": "code",
      "execution_count": 29,
      "metadata": {
        "id": "dqoTf3KQl_sQ"
      },
      "outputs": [],
      "source": [
        "from typing import Dict\n",
        "\n",
        "def preprocess_weights(weights: Dict, num_segments):\n",
        "    \"\"\"\n",
        "    Preprocess the weights of a model to prepare for federated learning.\n",
        "    \"\"\"\n",
        "    # Flatten the parameters\n",
        "    # flat_params = {}\n",
        "    # for item in weights:\n",
        "    #     flat_params[list(item.keys())[0]] = flatten_resnet_parameters(list(item.values())[0])\n",
        "    flat_params_n = {}\n",
        "    for key, value in weights.items():\n",
        "        flat_params_n[key] = flatten_resnet_parameters(value)\n",
        "\n",
        "    # Segment the parameters\n",
        "    segmented_params = {}\n",
        "    for key, flat_param in flat_params_n.items():\n",
        "        segmented_params[key] = segment_resnet_parameters(flat_param, num_segments)\n",
        "\n",
        "    return flat_params_n, segmented_params"
      ]
    },
    {
      "cell_type": "code",
      "execution_count": 30,
      "metadata": {
        "id": "P3Nm1P4ml_sQ"
      },
      "outputs": [],
      "source": [
        "def extract_shared_segments(clients_dict, client_shared_segments):\n",
        "    \"\"\"\n",
        "    Extract segments from each client's data based on the segments they are supposed to share.\n",
        "\n",
        "    :param clients_dict: Dictionary containing each client's data.\n",
        "    :param client_shared_segments: Dictionary indicating which segments each client should share.\n",
        "    :return: A dictionary with client IDs as keys and the segments they are sharing as values.\n",
        "    \"\"\"\n",
        "    shared_data = {}\n",
        "    for client_id, segment_id in client_shared_segments.items():\n",
        "        # Initialize dictionary to hold shared segments for the current client\n",
        "        shared_data[client_id] = {}\n",
        "        # Loop through the list of segment IDs this client should share\n",
        "        # for segment_id in segments:\n",
        "        shared_data[client_id][segment_id] = clients_dict[client_id][segment_id]\n",
        "    return shared_data"
      ]
    },
    {
      "cell_type": "code",
      "execution_count": 31,
      "metadata": {
        "id": "y2l6Ywuzl_sQ"
      },
      "outputs": [],
      "source": [
        "def reconstruct_parameters(flat_params, shapes, sizes, trained_weights):\n",
        "    \"\"\"\n",
        "    Reconstruct the original tensors from a flattened parameter tensor.\n",
        "\n",
        "    :param flat_params: 1D tensor containing all weights concatenated\n",
        "    :param shapes: Dictionary of parameter names to their shapes\n",
        "    :param sizes: Dictionary of parameter names to their sizes (number of elements)\n",
        "    :param trained_weights: Original state_dict containing the data types\n",
        "    :return: OrderedDict of reconstructed tensors with their original shapes and types\n",
        "    \"\"\"\n",
        "    reconstructed_params = OrderedDict()\n",
        "    offset = 0\n",
        "    for key in shapes:\n",
        "        num_elements = sizes[key]\n",
        "        # Extract the relevant slice from the flattened tensor\n",
        "        param_slice = flat_params[offset:offset + num_elements]\n",
        "        # Reshape it according to the original shape and convert to the original data type\n",
        "        reconstructed_params[key] = param_slice.view(shapes[key]).to(trained_weights[key].dtype)\n",
        "        offset += num_elements\n",
        "    return reconstructed_params"
      ]
    },
    {
      "cell_type": "code",
      "execution_count": 32,
      "metadata": {
        "id": "Vbym6a9z5Duf"
      },
      "outputs": [],
      "source": [
        "import tenseal as ts\n",
        "import pickle\n",
        "\n",
        "# Function to create context with CKKS scheme\n",
        "def create_context():\n",
        "    context = ts.context(ts.SCHEME_TYPE.CKKS, 8192, coeff_mod_bit_sizes=[60, 40, 40, 60])\n",
        "    context.global_scale = pow(2, 52)\n",
        "    context.generate_galois_keys()\n",
        "    return context\n",
        "\n",
        "# Create context\n",
        "context = create_context()\n",
        "\n",
        "# Serialize and save context with secret key using pickle\n",
        "with open(\"context.pkl\", \"wb\") as f:\n",
        "    pickle.dump(context.serialize(save_secret_key=True), f)\n",
        "\n",
        "# Make the context public and save it using pickle\n",
        "context.make_context_public()\n",
        "with open(\"public_context.pkl\", \"wb\") as f:\n",
        "    pickle.dump(context.serialize(), f)\n",
        "\n",
        "# Function to encrypt data\n",
        "def encrypt_data(context, data):\n",
        "    return ts.ckks_vector(context, data.cpu().numpy())\n",
        "\n",
        "# Function to decrypt data\n",
        "def decrypt_data(context, enc_data):\n",
        "    enc_data.link_context(context)\n",
        "    dec_data = torch.tensor(enc_data.decrypt()).cuda('cuda:4')\n",
        "    return dec_data\n"
      ]
    },
    {
      "cell_type": "code",
      "execution_count": 33,
      "metadata": {
        "colab": {
          "base_uri": "https://localhost:8080/"
        },
        "id": "FdNt6MiT5f5Y",
        "outputId": "2d32fc33-4409-4a4e-e6b3-07dfe036259d"
      },
      "outputs": [
        {
          "name": "stdout",
          "output_type": "stream",
          "text": [
            "Decrypted data: tensor([1., 2., 3., 4.], device='cuda:4')\n"
          ]
        }
      ],
      "source": [
        "data = torch.tensor([1.0, 2.0, 3.0, 4.0]).cuda()  # Assume data is on GPU\n",
        "enc_data = encrypt_data(context, data)\n",
        "\n",
        "# Load context with secret key using pickle\n",
        "with open(\"context.pkl\", \"rb\") as f:\n",
        "    context = ts.context_from(pickle.load(f))\n",
        "\n",
        "# Decrypt the data\n",
        "dec_data = decrypt_data(context, enc_data)\n",
        "print(\"Decrypted data:\", dec_data)"
      ]
    },
    {
      "cell_type": "code",
      "execution_count": null,
      "metadata": {
        "id": "HGxnzpO45Unf"
      },
      "outputs": [],
      "source": [
        "# Save the encrypted data using pickle\n",
        "with open(\"encrypted_data.pkl\", \"wb\") as f:\n",
        "    pickle.dump(enc_data.serialize(), f)\n",
        "\n",
        "# Load context with secret key using pickle\n",
        "with open(\"context.pkl\", \"rb\") as f:\n",
        "    context = ts.context_from(pickle.load(f))\n",
        "\n",
        "# Load encrypted data using pickle\n",
        "with open(\"encrypted_data.pkl\", \"rb\") as f:\n",
        "    enc_data = ts.ckks_vector_from(context, pickle.load(f))"
      ]
    },
    {
      "cell_type": "code",
      "execution_count": 34,
      "metadata": {
        "id": "iVU2tUrul_sQ"
      },
      "outputs": [],
      "source": [
        "def aggregate_data_by_key(shared_data):\n",
        "    \"\"\"\n",
        "    Aggregate data received from clients by key.\n",
        "\n",
        "    :param shared_data: Dictionary with client IDs as keys and their shared segments as values.\n",
        "    :return: A dictionary with aggregated data per segment.\n",
        "    \"\"\"\n",
        "    aggregation = {}\n",
        "    count = {}\n",
        "    time_sec_s = time.time()\n",
        "    # Simulate the aggregation process based on keys\n",
        "    for client_data in shared_data.values():\n",
        "        for key, values in client_data.items():\n",
        "            if key in aggregation:\n",
        "                # Perform element-wise addition directly on tensors\n",
        "                aggregation[key] += values\n",
        "                count[key] += 1\n",
        "            else:\n",
        "                # Initialize the aggregation for new keys\n",
        "                aggregation[key] = values\n",
        "                count[key] = 1\n",
        "    time_sec_e = time.time()\n",
        "\n",
        "    # Simulating at each client level\n",
        "    decrypted_params = {}\n",
        "    time_dec_s = time.time()\n",
        "    for key in aggregation.keys():\n",
        "        decrypted_params[key] = decrypt_data(context, aggregation[key])\n",
        "    time_dec_e = time.time()\n",
        "\n",
        "    # Divide each aggregated tensor by its respective count to get the mean\n",
        "    for key in decrypted_params.keys():\n",
        "        decrypted_params[key] = decrypted_params[key] / count[key]\n",
        "\n",
        "    return decrypted_params, time_sec_e-time_sec_s, time_dec_e-time_dec_s"
      ]
    },
    {
      "cell_type": "code",
      "execution_count": 35,
      "metadata": {
        "id": "pHDKAOfel_sQ"
      },
      "outputs": [],
      "source": [
        "def handle_partial_updates(client_weights: List[Dict], num_segments, client_segment_map):\n",
        "    \"\"\"\n",
        "    Handle partial updates from clients by averaging the weights.\n",
        "    \"\"\"\n",
        "    # Preprocess the weights\n",
        "    flat_params, segmented_params = preprocess_weights(client_weights, num_segments)\n",
        "    # Extract the shared segments\n",
        "    segments_to_send = extract_shared_segments(segmented_params, client_segment_map)\n",
        "\n",
        "    ## Add encryption Logic\n",
        "    #  print(segments_to_send)\n",
        "    time_enc_s = time.time()\n",
        "    for client_id, client_data in segments_to_send.items():\n",
        "      for key, values in client_data.items():\n",
        "          client_data[key] = encrypt_data(context, values)\n",
        "    time_enc_e = time.time()\n",
        "    # print(\"Encrytion done for all clients.\\n\")\n",
        "    time_enc = time_enc_e - time_enc_s\n",
        "    # Aggregate the shared segments\n",
        "    aggregated_segments, time_sec, time_dec = aggregate_data_by_key(segments_to_send)\n",
        "    # Reconstruct the global modele\n",
        "    # Now here aggregated segments will have only one segment, 0, 1 or 2\n",
        "    # hence we can only focus on those params.\n",
        "    #\n",
        "\n",
        "    # params = torch.cat([aggregated_segments[0], aggregated_segments[1], aggregated_segments[2]], dim=0)\n",
        "    #params = torch.cat([aggregated_segments[0], aggregated_segments[1]], dim=0)\n",
        "    # Reconstruct the parameters\n",
        "    # reconstructed_params = reconstruct_parameters(params, shapes, sizes, trained_weights)\n",
        "\n",
        "    # Check if both dictionaries have the same set of keys\n",
        "    # assert set(reconstructed_params.keys()) == set(trained_weights.keys()), \"Parameter keys do not match.\"\n",
        "\n",
        "    return segmented_params, aggregated_segments, time_enc, time_sec, time_dec\n",
        "    # return segments_to_send, time_enc"
      ]
    },
    {
      "cell_type": "code",
      "execution_count": 36,
      "metadata": {
        "id": "jdwd-QaNl_sQ"
      },
      "outputs": [],
      "source": [
        "def update_client_models(clients_segmented_params, aggregated_segments, client_segment_map):\n",
        "    \"\"\"\n",
        "    Update client models with aggregated segments and average unshared segments.\n",
        "    \"\"\"\n",
        "    # Initialize the updated parameters dictionary\n",
        "    updated_params = {}\n",
        "\n",
        "    # Iterate through each client's parameters\n",
        "    for client_id, segments in clients_segmented_params.items():\n",
        "        updated_segments = []\n",
        "        # Determine which segment this client shared\n",
        "        shared_segment_index = client_segment_map[client_id]\n",
        "\n",
        "        # Iterate over all segments\n",
        "        for i, segment_data in enumerate(segments):\n",
        "            if i == shared_segment_index:\n",
        "                # Directly use the aggregated segment for the shared index\n",
        "                updated_segments.append(aggregated_segments[shared_segment_index])\n",
        "            else:\n",
        "                # Average the unshared segment with the corresponding aggregated segment\n",
        "                updated_segments.append(segment_data)\n",
        "\n",
        "        # Store the updated segments for this client\n",
        "        updated_params[client_id] = updated_segments\n",
        "    updated_client_segments = {}\n",
        "    for client_id, segments in updated_params.items():\n",
        "        updated_client_segments[client_id] = torch.cat(segments)\n",
        "\n",
        "    return updated_client_segments"
      ]
    },
    {
      "cell_type": "code",
      "execution_count": 37,
      "metadata": {
        "id": "pHrmlC5kl_sQ"
      },
      "outputs": [],
      "source": [
        "def rotate_shared_segments(client_segment_map, num_segments):\n",
        "    \"\"\"\n",
        "    Rotate the segments that each client shares for the next round.\n",
        "\n",
        "    :param client_segment_map: Dictionary mapping client IDs to their current segment index.\n",
        "    :param num_segments: Total number of segments available.\n",
        "    :return: None, updates the map in-place.\n",
        "    \"\"\"\n",
        "    for client in client_segment_map:\n",
        "        # Move to the next segment index, wrap around using modulo\n",
        "        client_segment_map[client] = (client_segment_map[client] + 1) % num_segments"
      ]
    },
    {
      "cell_type": "code",
      "execution_count": 38,
      "metadata": {
        "colab": {
          "base_uri": "https://localhost:8080/"
        },
        "id": "OKcIqAX-cDBe",
        "outputId": "63096656-b30f-4b1d-f351-4b9bb88eb117"
      },
      "outputs": [
        {
          "name": "stderr",
          "output_type": "stream",
          "text": [
            "100%|██████████| 10/10 [01:34<00:00,  9.48s/it]\n",
            "100%|██████████| 10/10 [01:00<00:00,  6.00s/it]\n",
            "100%|██████████| 10/10 [01:50<00:00, 11.09s/it]\n",
            "100%|██████████| 10/10 [01:23<00:00,  8.30s/it]\n",
            "100%|██████████| 10/10 [01:02<00:00,  6.22s/it]\n",
            "100%|██████████| 10/10 [01:35<00:00,  9.55s/it]\n",
            "100%|██████████| 10/10 [00:39<00:00,  3.97s/it]\n",
            "100%|██████████| 10/10 [01:02<00:00,  6.24s/it]\n",
            "100%|██████████| 10/10 [01:33<00:00,  9.36s/it]\n",
            "100%|██████████| 10/10 [01:04<00:00,  6.48s/it]\n"
          ]
        },
        {
          "name": "stdout",
          "output_type": "stream",
          "text": [
            "WARNING: The input does not fit in a single ciphertext, and some operations will be disabled.\n",
            "The following operations are disabled in this setup: matmul, matmul_plain, enc_matmul_plain, conv2d_im2col.\n",
            "If you need to use those operations, try increasing the poly_modulus parameter, to fit your input.\n",
            "WARNING: The input does not fit in a single ciphertext, and some operations will be disabled.\n",
            "The following operations are disabled in this setup: matmul, matmul_plain, enc_matmul_plain, conv2d_im2col.\n",
            "If you need to use those operations, try increasing the poly_modulus parameter, to fit your input.\n",
            "WARNING: The input does not fit in a single ciphertext, and some operations will be disabled.\n",
            "The following operations are disabled in this setup: matmul, matmul_plain, enc_matmul_plain, conv2d_im2col.\n",
            "If you need to use those operations, try increasing the poly_modulus parameter, to fit your input.\n",
            "WARNING: The input does not fit in a single ciphertext, and some operations will be disabled.\n",
            "The following operations are disabled in this setup: matmul, matmul_plain, enc_matmul_plain, conv2d_im2col.\n",
            "If you need to use those operations, try increasing the poly_modulus parameter, to fit your input.\n",
            "WARNING: The input does not fit in a single ciphertext, and some operations will be disabled.\n",
            "The following operations are disabled in this setup: matmul, matmul_plain, enc_matmul_plain, conv2d_im2col.\n",
            "If you need to use those operations, try increasing the poly_modulus parameter, to fit your input.\n",
            "WARNING: The input does not fit in a single ciphertext, and some operations will be disabled.\n",
            "The following operations are disabled in this setup: matmul, matmul_plain, enc_matmul_plain, conv2d_im2col.\n",
            "If you need to use those operations, try increasing the poly_modulus parameter, to fit your input.\n",
            "WARNING: The input does not fit in a single ciphertext, and some operations will be disabled.\n",
            "The following operations are disabled in this setup: matmul, matmul_plain, enc_matmul_plain, conv2d_im2col.\n",
            "If you need to use those operations, try increasing the poly_modulus parameter, to fit your input.\n",
            "WARNING: The input does not fit in a single ciphertext, and some operations will be disabled.\n",
            "The following operations are disabled in this setup: matmul, matmul_plain, enc_matmul_plain, conv2d_im2col.\n",
            "If you need to use those operations, try increasing the poly_modulus parameter, to fit your input.\n",
            "WARNING: The input does not fit in a single ciphertext, and some operations will be disabled.\n",
            "The following operations are disabled in this setup: matmul, matmul_plain, enc_matmul_plain, conv2d_im2col.\n",
            "If you need to use those operations, try increasing the poly_modulus parameter, to fit your input.\n",
            "WARNING: The input does not fit in a single ciphertext, and some operations will be disabled.\n",
            "The following operations are disabled in this setup: matmul, matmul_plain, enc_matmul_plain, conv2d_im2col.\n",
            "If you need to use those operations, try increasing the poly_modulus parameter, to fit your input.\n",
            "Round 1, Train loss: 1.5314, Test Loss: 2.2759, Test Accuracy: 10.47%\n"
          ]
        },
        {
          "name": "stderr",
          "output_type": "stream",
          "text": [
            "100%|██████████| 10/10 [01:00<00:00,  6.05s/it]\n",
            "100%|██████████| 10/10 [01:18<00:00,  7.88s/it]\n",
            "100%|██████████| 10/10 [01:05<00:00,  6.55s/it]\n",
            "100%|██████████| 10/10 [01:02<00:00,  6.21s/it]\n",
            "100%|██████████| 10/10 [01:18<00:00,  7.88s/it]\n",
            "100%|██████████| 10/10 [00:38<00:00,  3.88s/it]\n",
            "100%|██████████| 10/10 [00:34<00:00,  3.48s/it]\n",
            "100%|██████████| 10/10 [00:58<00:00,  5.83s/it]\n",
            "100%|██████████| 10/10 [01:04<00:00,  6.43s/it]\n",
            "100%|██████████| 10/10 [01:03<00:00,  6.32s/it]\n"
          ]
        },
        {
          "name": "stdout",
          "output_type": "stream",
          "text": [
            "WARNING: The input does not fit in a single ciphertext, and some operations will be disabled.\n",
            "The following operations are disabled in this setup: matmul, matmul_plain, enc_matmul_plain, conv2d_im2col.\n",
            "If you need to use those operations, try increasing the poly_modulus parameter, to fit your input.\n",
            "WARNING: The input does not fit in a single ciphertext, and some operations will be disabled.\n",
            "The following operations are disabled in this setup: matmul, matmul_plain, enc_matmul_plain, conv2d_im2col.\n",
            "If you need to use those operations, try increasing the poly_modulus parameter, to fit your input.\n",
            "WARNING: The input does not fit in a single ciphertext, and some operations will be disabled.\n",
            "The following operations are disabled in this setup: matmul, matmul_plain, enc_matmul_plain, conv2d_im2col.\n",
            "If you need to use those operations, try increasing the poly_modulus parameter, to fit your input.\n",
            "WARNING: The input does not fit in a single ciphertext, and some operations will be disabled.\n",
            "The following operations are disabled in this setup: matmul, matmul_plain, enc_matmul_plain, conv2d_im2col.\n",
            "If you need to use those operations, try increasing the poly_modulus parameter, to fit your input.\n",
            "WARNING: The input does not fit in a single ciphertext, and some operations will be disabled.\n",
            "The following operations are disabled in this setup: matmul, matmul_plain, enc_matmul_plain, conv2d_im2col.\n",
            "If you need to use those operations, try increasing the poly_modulus parameter, to fit your input.\n",
            "WARNING: The input does not fit in a single ciphertext, and some operations will be disabled.\n",
            "The following operations are disabled in this setup: matmul, matmul_plain, enc_matmul_plain, conv2d_im2col.\n",
            "If you need to use those operations, try increasing the poly_modulus parameter, to fit your input.\n",
            "WARNING: The input does not fit in a single ciphertext, and some operations will be disabled.\n",
            "The following operations are disabled in this setup: matmul, matmul_plain, enc_matmul_plain, conv2d_im2col.\n",
            "If you need to use those operations, try increasing the poly_modulus parameter, to fit your input.\n",
            "WARNING: The input does not fit in a single ciphertext, and some operations will be disabled.\n",
            "The following operations are disabled in this setup: matmul, matmul_plain, enc_matmul_plain, conv2d_im2col.\n",
            "If you need to use those operations, try increasing the poly_modulus parameter, to fit your input.\n",
            "WARNING: The input does not fit in a single ciphertext, and some operations will be disabled.\n",
            "The following operations are disabled in this setup: matmul, matmul_plain, enc_matmul_plain, conv2d_im2col.\n",
            "If you need to use those operations, try increasing the poly_modulus parameter, to fit your input.\n",
            "WARNING: The input does not fit in a single ciphertext, and some operations will be disabled.\n",
            "The following operations are disabled in this setup: matmul, matmul_plain, enc_matmul_plain, conv2d_im2col.\n",
            "If you need to use those operations, try increasing the poly_modulus parameter, to fit your input.\n",
            "Round 2, Train loss: 1.2690, Test Loss: 2.2704, Test Accuracy: 10.57%\n"
          ]
        },
        {
          "name": "stderr",
          "output_type": "stream",
          "text": [
            "100%|██████████| 10/10 [01:02<00:00,  6.26s/it]\n",
            "100%|██████████| 10/10 [01:02<00:00,  6.21s/it]\n",
            "100%|██████████| 10/10 [00:39<00:00,  3.96s/it]\n",
            "100%|██████████| 10/10 [00:38<00:00,  3.80s/it]\n",
            "100%|██████████| 10/10 [01:17<00:00,  7.77s/it]\n",
            "100%|██████████| 10/10 [01:05<00:00,  6.56s/it]\n",
            "100%|██████████| 10/10 [01:17<00:00,  7.76s/it]\n",
            "100%|██████████| 10/10 [01:03<00:00,  6.33s/it]\n",
            "100%|██████████| 10/10 [01:01<00:00,  6.14s/it]\n",
            "100%|██████████| 10/10 [01:04<00:00,  6.42s/it]\n"
          ]
        },
        {
          "name": "stdout",
          "output_type": "stream",
          "text": [
            "WARNING: The input does not fit in a single ciphertext, and some operations will be disabled.\n",
            "The following operations are disabled in this setup: matmul, matmul_plain, enc_matmul_plain, conv2d_im2col.\n",
            "If you need to use those operations, try increasing the poly_modulus parameter, to fit your input.\n",
            "WARNING: The input does not fit in a single ciphertext, and some operations will be disabled.\n",
            "The following operations are disabled in this setup: matmul, matmul_plain, enc_matmul_plain, conv2d_im2col.\n",
            "If you need to use those operations, try increasing the poly_modulus parameter, to fit your input.\n",
            "WARNING: The input does not fit in a single ciphertext, and some operations will be disabled.\n",
            "The following operations are disabled in this setup: matmul, matmul_plain, enc_matmul_plain, conv2d_im2col.\n",
            "If you need to use those operations, try increasing the poly_modulus parameter, to fit your input.\n",
            "WARNING: The input does not fit in a single ciphertext, and some operations will be disabled.\n",
            "The following operations are disabled in this setup: matmul, matmul_plain, enc_matmul_plain, conv2d_im2col.\n",
            "If you need to use those operations, try increasing the poly_modulus parameter, to fit your input.\n",
            "WARNING: The input does not fit in a single ciphertext, and some operations will be disabled.\n",
            "The following operations are disabled in this setup: matmul, matmul_plain, enc_matmul_plain, conv2d_im2col.\n",
            "If you need to use those operations, try increasing the poly_modulus parameter, to fit your input.\n",
            "WARNING: The input does not fit in a single ciphertext, and some operations will be disabled.\n",
            "The following operations are disabled in this setup: matmul, matmul_plain, enc_matmul_plain, conv2d_im2col.\n",
            "If you need to use those operations, try increasing the poly_modulus parameter, to fit your input.\n",
            "WARNING: The input does not fit in a single ciphertext, and some operations will be disabled.\n",
            "The following operations are disabled in this setup: matmul, matmul_plain, enc_matmul_plain, conv2d_im2col.\n",
            "If you need to use those operations, try increasing the poly_modulus parameter, to fit your input.\n",
            "WARNING: The input does not fit in a single ciphertext, and some operations will be disabled.\n",
            "The following operations are disabled in this setup: matmul, matmul_plain, enc_matmul_plain, conv2d_im2col.\n",
            "If you need to use those operations, try increasing the poly_modulus parameter, to fit your input.\n",
            "WARNING: The input does not fit in a single ciphertext, and some operations will be disabled.\n",
            "The following operations are disabled in this setup: matmul, matmul_plain, enc_matmul_plain, conv2d_im2col.\n",
            "If you need to use those operations, try increasing the poly_modulus parameter, to fit your input.\n",
            "WARNING: The input does not fit in a single ciphertext, and some operations will be disabled.\n",
            "The following operations are disabled in this setup: matmul, matmul_plain, enc_matmul_plain, conv2d_im2col.\n",
            "If you need to use those operations, try increasing the poly_modulus parameter, to fit your input.\n",
            "Round 3, Train loss: 1.2499, Test Loss: 2.4286, Test Accuracy: 15.96%\n"
          ]
        },
        {
          "name": "stderr",
          "output_type": "stream",
          "text": [
            "100%|██████████| 10/10 [00:38<00:00,  3.80s/it]\n",
            "100%|██████████| 10/10 [01:01<00:00,  6.12s/it]\n",
            "100%|██████████| 10/10 [01:02<00:00,  6.23s/it]\n",
            "100%|██████████| 10/10 [01:03<00:00,  6.32s/it]\n",
            "100%|██████████| 10/10 [01:17<00:00,  7.74s/it]\n",
            "100%|██████████| 10/10 [01:03<00:00,  6.37s/it]\n",
            "100%|██████████| 10/10 [01:06<00:00,  6.65s/it]\n",
            "100%|██████████| 10/10 [01:19<00:00,  7.93s/it]\n",
            "100%|██████████| 10/10 [00:40<00:00,  4.06s/it]\n",
            "100%|██████████| 10/10 [01:05<00:00,  6.60s/it]\n"
          ]
        },
        {
          "name": "stdout",
          "output_type": "stream",
          "text": [
            "WARNING: The input does not fit in a single ciphertext, and some operations will be disabled.\n",
            "The following operations are disabled in this setup: matmul, matmul_plain, enc_matmul_plain, conv2d_im2col.\n",
            "If you need to use those operations, try increasing the poly_modulus parameter, to fit your input.\n",
            "WARNING: The input does not fit in a single ciphertext, and some operations will be disabled.\n",
            "The following operations are disabled in this setup: matmul, matmul_plain, enc_matmul_plain, conv2d_im2col.\n",
            "If you need to use those operations, try increasing the poly_modulus parameter, to fit your input.\n",
            "WARNING: The input does not fit in a single ciphertext, and some operations will be disabled.\n",
            "The following operations are disabled in this setup: matmul, matmul_plain, enc_matmul_plain, conv2d_im2col.\n",
            "If you need to use those operations, try increasing the poly_modulus parameter, to fit your input.\n",
            "WARNING: The input does not fit in a single ciphertext, and some operations will be disabled.\n",
            "The following operations are disabled in this setup: matmul, matmul_plain, enc_matmul_plain, conv2d_im2col.\n",
            "If you need to use those operations, try increasing the poly_modulus parameter, to fit your input.\n",
            "WARNING: The input does not fit in a single ciphertext, and some operations will be disabled.\n",
            "The following operations are disabled in this setup: matmul, matmul_plain, enc_matmul_plain, conv2d_im2col.\n",
            "If you need to use those operations, try increasing the poly_modulus parameter, to fit your input.\n",
            "WARNING: The input does not fit in a single ciphertext, and some operations will be disabled.\n",
            "The following operations are disabled in this setup: matmul, matmul_plain, enc_matmul_plain, conv2d_im2col.\n",
            "If you need to use those operations, try increasing the poly_modulus parameter, to fit your input.\n",
            "WARNING: The input does not fit in a single ciphertext, and some operations will be disabled.\n",
            "The following operations are disabled in this setup: matmul, matmul_plain, enc_matmul_plain, conv2d_im2col.\n",
            "If you need to use those operations, try increasing the poly_modulus parameter, to fit your input.\n",
            "WARNING: The input does not fit in a single ciphertext, and some operations will be disabled.\n",
            "The following operations are disabled in this setup: matmul, matmul_plain, enc_matmul_plain, conv2d_im2col.\n",
            "If you need to use those operations, try increasing the poly_modulus parameter, to fit your input.\n",
            "WARNING: The input does not fit in a single ciphertext, and some operations will be disabled.\n",
            "The following operations are disabled in this setup: matmul, matmul_plain, enc_matmul_plain, conv2d_im2col.\n",
            "If you need to use those operations, try increasing the poly_modulus parameter, to fit your input.\n",
            "WARNING: The input does not fit in a single ciphertext, and some operations will be disabled.\n",
            "The following operations are disabled in this setup: matmul, matmul_plain, enc_matmul_plain, conv2d_im2col.\n",
            "If you need to use those operations, try increasing the poly_modulus parameter, to fit your input.\n",
            "Round 4, Train loss: 1.1967, Test Loss: 1.9788, Test Accuracy: 30.94%\n"
          ]
        },
        {
          "name": "stderr",
          "output_type": "stream",
          "text": [
            "100%|██████████| 10/10 [00:39<00:00,  3.91s/it]\n",
            "100%|██████████| 10/10 [01:07<00:00,  6.72s/it]\n",
            "100%|██████████| 10/10 [01:04<00:00,  6.50s/it]\n",
            "100%|██████████| 10/10 [01:06<00:00,  6.60s/it]\n",
            "100%|██████████| 10/10 [01:03<00:00,  6.40s/it]\n",
            "100%|██████████| 10/10 [01:19<00:00,  7.95s/it]\n",
            "100%|██████████| 10/10 [01:02<00:00,  6.29s/it]\n",
            "100%|██████████| 10/10 [01:03<00:00,  6.37s/it]\n",
            "100%|██████████| 10/10 [01:19<00:00,  7.97s/it]\n",
            "100%|██████████| 10/10 [00:40<00:00,  4.06s/it]\n"
          ]
        },
        {
          "name": "stdout",
          "output_type": "stream",
          "text": [
            "WARNING: The input does not fit in a single ciphertext, and some operations will be disabled.\n",
            "The following operations are disabled in this setup: matmul, matmul_plain, enc_matmul_plain, conv2d_im2col.\n",
            "If you need to use those operations, try increasing the poly_modulus parameter, to fit your input.\n",
            "WARNING: The input does not fit in a single ciphertext, and some operations will be disabled.\n",
            "The following operations are disabled in this setup: matmul, matmul_plain, enc_matmul_plain, conv2d_im2col.\n",
            "If you need to use those operations, try increasing the poly_modulus parameter, to fit your input.\n",
            "WARNING: The input does not fit in a single ciphertext, and some operations will be disabled.\n",
            "The following operations are disabled in this setup: matmul, matmul_plain, enc_matmul_plain, conv2d_im2col.\n",
            "If you need to use those operations, try increasing the poly_modulus parameter, to fit your input.\n",
            "WARNING: The input does not fit in a single ciphertext, and some operations will be disabled.\n",
            "The following operations are disabled in this setup: matmul, matmul_plain, enc_matmul_plain, conv2d_im2col.\n",
            "If you need to use those operations, try increasing the poly_modulus parameter, to fit your input.\n",
            "WARNING: The input does not fit in a single ciphertext, and some operations will be disabled.\n",
            "The following operations are disabled in this setup: matmul, matmul_plain, enc_matmul_plain, conv2d_im2col.\n",
            "If you need to use those operations, try increasing the poly_modulus parameter, to fit your input.\n",
            "WARNING: The input does not fit in a single ciphertext, and some operations will be disabled.\n",
            "The following operations are disabled in this setup: matmul, matmul_plain, enc_matmul_plain, conv2d_im2col.\n",
            "If you need to use those operations, try increasing the poly_modulus parameter, to fit your input.\n",
            "WARNING: The input does not fit in a single ciphertext, and some operations will be disabled.\n",
            "The following operations are disabled in this setup: matmul, matmul_plain, enc_matmul_plain, conv2d_im2col.\n",
            "If you need to use those operations, try increasing the poly_modulus parameter, to fit your input.\n",
            "WARNING: The input does not fit in a single ciphertext, and some operations will be disabled.\n",
            "The following operations are disabled in this setup: matmul, matmul_plain, enc_matmul_plain, conv2d_im2col.\n",
            "If you need to use those operations, try increasing the poly_modulus parameter, to fit your input.\n",
            "WARNING: The input does not fit in a single ciphertext, and some operations will be disabled.\n",
            "The following operations are disabled in this setup: matmul, matmul_plain, enc_matmul_plain, conv2d_im2col.\n",
            "If you need to use those operations, try increasing the poly_modulus parameter, to fit your input.\n",
            "WARNING: The input does not fit in a single ciphertext, and some operations will be disabled.\n",
            "The following operations are disabled in this setup: matmul, matmul_plain, enc_matmul_plain, conv2d_im2col.\n",
            "If you need to use those operations, try increasing the poly_modulus parameter, to fit your input.\n",
            "Round 5, Train loss: 0.9536, Test Loss: 1.9136, Test Accuracy: 34.49%\n"
          ]
        },
        {
          "name": "stderr",
          "output_type": "stream",
          "text": [
            "100%|██████████| 10/10 [01:02<00:00,  6.29s/it]\n",
            "100%|██████████| 10/10 [01:04<00:00,  6.47s/it]\n",
            "100%|██████████| 10/10 [00:38<00:00,  3.89s/it]\n",
            "100%|██████████| 10/10 [01:18<00:00,  7.84s/it]\n",
            "100%|██████████| 10/10 [01:02<00:00,  6.29s/it]\n",
            "100%|██████████| 10/10 [01:06<00:00,  6.60s/it]\n",
            "100%|██████████| 10/10 [01:02<00:00,  6.26s/it]\n",
            "100%|██████████| 10/10 [01:18<00:00,  7.83s/it]\n",
            "100%|██████████| 10/10 [01:04<00:00,  6.49s/it]\n",
            "100%|██████████| 10/10 [00:39<00:00,  3.99s/it]\n"
          ]
        },
        {
          "name": "stdout",
          "output_type": "stream",
          "text": [
            "WARNING: The input does not fit in a single ciphertext, and some operations will be disabled.\n",
            "The following operations are disabled in this setup: matmul, matmul_plain, enc_matmul_plain, conv2d_im2col.\n",
            "If you need to use those operations, try increasing the poly_modulus parameter, to fit your input.\n",
            "WARNING: The input does not fit in a single ciphertext, and some operations will be disabled.\n",
            "The following operations are disabled in this setup: matmul, matmul_plain, enc_matmul_plain, conv2d_im2col.\n",
            "If you need to use those operations, try increasing the poly_modulus parameter, to fit your input.\n",
            "WARNING: The input does not fit in a single ciphertext, and some operations will be disabled.\n",
            "The following operations are disabled in this setup: matmul, matmul_plain, enc_matmul_plain, conv2d_im2col.\n",
            "If you need to use those operations, try increasing the poly_modulus parameter, to fit your input.\n",
            "WARNING: The input does not fit in a single ciphertext, and some operations will be disabled.\n",
            "The following operations are disabled in this setup: matmul, matmul_plain, enc_matmul_plain, conv2d_im2col.\n",
            "If you need to use those operations, try increasing the poly_modulus parameter, to fit your input.\n",
            "WARNING: The input does not fit in a single ciphertext, and some operations will be disabled.\n",
            "The following operations are disabled in this setup: matmul, matmul_plain, enc_matmul_plain, conv2d_im2col.\n",
            "If you need to use those operations, try increasing the poly_modulus parameter, to fit your input.\n",
            "WARNING: The input does not fit in a single ciphertext, and some operations will be disabled.\n",
            "The following operations are disabled in this setup: matmul, matmul_plain, enc_matmul_plain, conv2d_im2col.\n",
            "If you need to use those operations, try increasing the poly_modulus parameter, to fit your input.\n",
            "WARNING: The input does not fit in a single ciphertext, and some operations will be disabled.\n",
            "The following operations are disabled in this setup: matmul, matmul_plain, enc_matmul_plain, conv2d_im2col.\n",
            "If you need to use those operations, try increasing the poly_modulus parameter, to fit your input.\n",
            "WARNING: The input does not fit in a single ciphertext, and some operations will be disabled.\n",
            "The following operations are disabled in this setup: matmul, matmul_plain, enc_matmul_plain, conv2d_im2col.\n",
            "If you need to use those operations, try increasing the poly_modulus parameter, to fit your input.\n",
            "WARNING: The input does not fit in a single ciphertext, and some operations will be disabled.\n",
            "The following operations are disabled in this setup: matmul, matmul_plain, enc_matmul_plain, conv2d_im2col.\n",
            "If you need to use those operations, try increasing the poly_modulus parameter, to fit your input.\n",
            "WARNING: The input does not fit in a single ciphertext, and some operations will be disabled.\n",
            "The following operations are disabled in this setup: matmul, matmul_plain, enc_matmul_plain, conv2d_im2col.\n",
            "If you need to use those operations, try increasing the poly_modulus parameter, to fit your input.\n",
            "Round 6, Train loss: 0.9358, Test Loss: 1.8365, Test Accuracy: 36.19%\n"
          ]
        },
        {
          "name": "stderr",
          "output_type": "stream",
          "text": [
            "100%|██████████| 10/10 [01:03<00:00,  6.39s/it]\n",
            "100%|██████████| 10/10 [01:06<00:00,  6.66s/it]\n",
            "100%|██████████| 10/10 [01:01<00:00,  6.13s/it]\n",
            "100%|██████████| 10/10 [01:17<00:00,  7.76s/it]\n",
            "100%|██████████| 10/10 [01:02<00:00,  6.25s/it]\n",
            "100%|██████████| 10/10 [01:17<00:00,  7.76s/it]\n",
            "100%|██████████| 10/10 [00:39<00:00,  3.95s/it]\n",
            "100%|██████████| 10/10 [01:02<00:00,  6.25s/it]\n",
            "100%|██████████| 10/10 [01:02<00:00,  6.24s/it]\n",
            "100%|██████████| 10/10 [00:37<00:00,  3.79s/it]\n"
          ]
        },
        {
          "name": "stdout",
          "output_type": "stream",
          "text": [
            "WARNING: The input does not fit in a single ciphertext, and some operations will be disabled.\n",
            "The following operations are disabled in this setup: matmul, matmul_plain, enc_matmul_plain, conv2d_im2col.\n",
            "If you need to use those operations, try increasing the poly_modulus parameter, to fit your input.\n",
            "WARNING: The input does not fit in a single ciphertext, and some operations will be disabled.\n",
            "The following operations are disabled in this setup: matmul, matmul_plain, enc_matmul_plain, conv2d_im2col.\n",
            "If you need to use those operations, try increasing the poly_modulus parameter, to fit your input.\n",
            "WARNING: The input does not fit in a single ciphertext, and some operations will be disabled.\n",
            "The following operations are disabled in this setup: matmul, matmul_plain, enc_matmul_plain, conv2d_im2col.\n",
            "If you need to use those operations, try increasing the poly_modulus parameter, to fit your input.\n",
            "WARNING: The input does not fit in a single ciphertext, and some operations will be disabled.\n",
            "The following operations are disabled in this setup: matmul, matmul_plain, enc_matmul_plain, conv2d_im2col.\n",
            "If you need to use those operations, try increasing the poly_modulus parameter, to fit your input.\n",
            "WARNING: The input does not fit in a single ciphertext, and some operations will be disabled.\n",
            "The following operations are disabled in this setup: matmul, matmul_plain, enc_matmul_plain, conv2d_im2col.\n",
            "If you need to use those operations, try increasing the poly_modulus parameter, to fit your input.\n",
            "WARNING: The input does not fit in a single ciphertext, and some operations will be disabled.\n",
            "The following operations are disabled in this setup: matmul, matmul_plain, enc_matmul_plain, conv2d_im2col.\n",
            "If you need to use those operations, try increasing the poly_modulus parameter, to fit your input.\n",
            "WARNING: The input does not fit in a single ciphertext, and some operations will be disabled.\n",
            "The following operations are disabled in this setup: matmul, matmul_plain, enc_matmul_plain, conv2d_im2col.\n",
            "If you need to use those operations, try increasing the poly_modulus parameter, to fit your input.\n",
            "WARNING: The input does not fit in a single ciphertext, and some operations will be disabled.\n",
            "The following operations are disabled in this setup: matmul, matmul_plain, enc_matmul_plain, conv2d_im2col.\n",
            "If you need to use those operations, try increasing the poly_modulus parameter, to fit your input.\n",
            "WARNING: The input does not fit in a single ciphertext, and some operations will be disabled.\n",
            "The following operations are disabled in this setup: matmul, matmul_plain, enc_matmul_plain, conv2d_im2col.\n",
            "If you need to use those operations, try increasing the poly_modulus parameter, to fit your input.\n",
            "WARNING: The input does not fit in a single ciphertext, and some operations will be disabled.\n",
            "The following operations are disabled in this setup: matmul, matmul_plain, enc_matmul_plain, conv2d_im2col.\n",
            "If you need to use those operations, try increasing the poly_modulus parameter, to fit your input.\n",
            "Round 7, Train loss: 0.9016, Test Loss: 1.4396, Test Accuracy: 50.61%\n"
          ]
        },
        {
          "name": "stderr",
          "output_type": "stream",
          "text": [
            "100%|██████████| 10/10 [01:17<00:00,  7.76s/it]\n",
            "100%|██████████| 10/10 [01:04<00:00,  6.40s/it]\n",
            "100%|██████████| 10/10 [00:39<00:00,  3.95s/it]\n",
            "100%|██████████| 10/10 [01:06<00:00,  6.67s/it]\n",
            "100%|██████████| 10/10 [01:02<00:00,  6.23s/it]\n",
            "100%|██████████| 10/10 [01:18<00:00,  7.85s/it]\n",
            "100%|██████████| 10/10 [01:02<00:00,  6.24s/it]\n",
            "100%|██████████| 10/10 [01:03<00:00,  6.33s/it]\n",
            "100%|██████████| 10/10 [00:38<00:00,  3.80s/it]\n",
            "100%|██████████| 10/10 [01:02<00:00,  6.23s/it]\n"
          ]
        },
        {
          "name": "stdout",
          "output_type": "stream",
          "text": [
            "WARNING: The input does not fit in a single ciphertext, and some operations will be disabled.\n",
            "The following operations are disabled in this setup: matmul, matmul_plain, enc_matmul_plain, conv2d_im2col.\n",
            "If you need to use those operations, try increasing the poly_modulus parameter, to fit your input.\n",
            "WARNING: The input does not fit in a single ciphertext, and some operations will be disabled.\n",
            "The following operations are disabled in this setup: matmul, matmul_plain, enc_matmul_plain, conv2d_im2col.\n",
            "If you need to use those operations, try increasing the poly_modulus parameter, to fit your input.\n",
            "WARNING: The input does not fit in a single ciphertext, and some operations will be disabled.\n",
            "The following operations are disabled in this setup: matmul, matmul_plain, enc_matmul_plain, conv2d_im2col.\n",
            "If you need to use those operations, try increasing the poly_modulus parameter, to fit your input.\n",
            "WARNING: The input does not fit in a single ciphertext, and some operations will be disabled.\n",
            "The following operations are disabled in this setup: matmul, matmul_plain, enc_matmul_plain, conv2d_im2col.\n",
            "If you need to use those operations, try increasing the poly_modulus parameter, to fit your input.\n",
            "WARNING: The input does not fit in a single ciphertext, and some operations will be disabled.\n",
            "The following operations are disabled in this setup: matmul, matmul_plain, enc_matmul_plain, conv2d_im2col.\n",
            "If you need to use those operations, try increasing the poly_modulus parameter, to fit your input.\n",
            "WARNING: The input does not fit in a single ciphertext, and some operations will be disabled.\n",
            "The following operations are disabled in this setup: matmul, matmul_plain, enc_matmul_plain, conv2d_im2col.\n",
            "If you need to use those operations, try increasing the poly_modulus parameter, to fit your input.\n",
            "WARNING: The input does not fit in a single ciphertext, and some operations will be disabled.\n",
            "The following operations are disabled in this setup: matmul, matmul_plain, enc_matmul_plain, conv2d_im2col.\n",
            "If you need to use those operations, try increasing the poly_modulus parameter, to fit your input.\n",
            "WARNING: The input does not fit in a single ciphertext, and some operations will be disabled.\n",
            "The following operations are disabled in this setup: matmul, matmul_plain, enc_matmul_plain, conv2d_im2col.\n",
            "If you need to use those operations, try increasing the poly_modulus parameter, to fit your input.\n",
            "WARNING: The input does not fit in a single ciphertext, and some operations will be disabled.\n",
            "The following operations are disabled in this setup: matmul, matmul_plain, enc_matmul_plain, conv2d_im2col.\n",
            "If you need to use those operations, try increasing the poly_modulus parameter, to fit your input.\n",
            "WARNING: The input does not fit in a single ciphertext, and some operations will be disabled.\n",
            "The following operations are disabled in this setup: matmul, matmul_plain, enc_matmul_plain, conv2d_im2col.\n",
            "If you need to use those operations, try increasing the poly_modulus parameter, to fit your input.\n",
            "Round 8, Train loss: 0.7524, Test Loss: 1.3944, Test Accuracy: 53.59%\n"
          ]
        },
        {
          "name": "stderr",
          "output_type": "stream",
          "text": [
            "100%|██████████| 10/10 [01:01<00:00,  6.13s/it]\n",
            "100%|██████████| 10/10 [01:02<00:00,  6.25s/it]\n",
            "100%|██████████| 10/10 [01:03<00:00,  6.37s/it]\n",
            "100%|██████████| 10/10 [01:06<00:00,  6.64s/it]\n",
            "100%|██████████| 10/10 [01:18<00:00,  7.86s/it]\n",
            "100%|██████████| 10/10 [00:40<00:00,  4.01s/it]\n",
            "100%|██████████| 10/10 [00:38<00:00,  3.85s/it]\n",
            "100%|██████████| 10/10 [01:08<00:00,  6.86s/it]\n",
            "100%|██████████| 10/10 [01:40<00:00, 10.01s/it]\n",
            "100%|██████████| 10/10 [01:13<00:00,  7.37s/it]\n"
          ]
        },
        {
          "name": "stdout",
          "output_type": "stream",
          "text": [
            "WARNING: The input does not fit in a single ciphertext, and some operations will be disabled.\n",
            "The following operations are disabled in this setup: matmul, matmul_plain, enc_matmul_plain, conv2d_im2col.\n",
            "If you need to use those operations, try increasing the poly_modulus parameter, to fit your input.\n",
            "WARNING: The input does not fit in a single ciphertext, and some operations will be disabled.\n",
            "The following operations are disabled in this setup: matmul, matmul_plain, enc_matmul_plain, conv2d_im2col.\n",
            "If you need to use those operations, try increasing the poly_modulus parameter, to fit your input.\n",
            "WARNING: The input does not fit in a single ciphertext, and some operations will be disabled.\n",
            "The following operations are disabled in this setup: matmul, matmul_plain, enc_matmul_plain, conv2d_im2col.\n",
            "If you need to use those operations, try increasing the poly_modulus parameter, to fit your input.\n",
            "WARNING: The input does not fit in a single ciphertext, and some operations will be disabled.\n",
            "The following operations are disabled in this setup: matmul, matmul_plain, enc_matmul_plain, conv2d_im2col.\n",
            "If you need to use those operations, try increasing the poly_modulus parameter, to fit your input.\n",
            "WARNING: The input does not fit in a single ciphertext, and some operations will be disabled.\n",
            "The following operations are disabled in this setup: matmul, matmul_plain, enc_matmul_plain, conv2d_im2col.\n",
            "If you need to use those operations, try increasing the poly_modulus parameter, to fit your input.\n",
            "WARNING: The input does not fit in a single ciphertext, and some operations will be disabled.\n",
            "The following operations are disabled in this setup: matmul, matmul_plain, enc_matmul_plain, conv2d_im2col.\n",
            "If you need to use those operations, try increasing the poly_modulus parameter, to fit your input.\n",
            "WARNING: The input does not fit in a single ciphertext, and some operations will be disabled.\n",
            "The following operations are disabled in this setup: matmul, matmul_plain, enc_matmul_plain, conv2d_im2col.\n",
            "If you need to use those operations, try increasing the poly_modulus parameter, to fit your input.\n",
            "WARNING: The input does not fit in a single ciphertext, and some operations will be disabled.\n",
            "The following operations are disabled in this setup: matmul, matmul_plain, enc_matmul_plain, conv2d_im2col.\n",
            "If you need to use those operations, try increasing the poly_modulus parameter, to fit your input.\n",
            "WARNING: The input does not fit in a single ciphertext, and some operations will be disabled.\n",
            "The following operations are disabled in this setup: matmul, matmul_plain, enc_matmul_plain, conv2d_im2col.\n",
            "If you need to use those operations, try increasing the poly_modulus parameter, to fit your input.\n",
            "WARNING: The input does not fit in a single ciphertext, and some operations will be disabled.\n",
            "The following operations are disabled in this setup: matmul, matmul_plain, enc_matmul_plain, conv2d_im2col.\n",
            "If you need to use those operations, try increasing the poly_modulus parameter, to fit your input.\n",
            "Round 9, Train loss: 0.7389, Test Loss: 1.2507, Test Accuracy: 59.89%\n"
          ]
        },
        {
          "name": "stderr",
          "output_type": "stream",
          "text": [
            "100%|██████████| 10/10 [01:16<00:00,  7.64s/it]\n",
            "100%|██████████| 10/10 [01:14<00:00,  7.47s/it]\n",
            "100%|██████████| 10/10 [01:14<00:00,  7.42s/it]\n",
            "100%|██████████| 10/10 [01:35<00:00,  9.56s/it]\n",
            "100%|██████████| 10/10 [01:34<00:00,  9.44s/it]\n",
            "100%|██████████| 10/10 [00:51<00:00,  5.17s/it]\n",
            "100%|██████████| 10/10 [01:22<00:00,  8.21s/it]\n",
            "100%|██████████| 10/10 [00:49<00:00,  4.94s/it]\n",
            "100%|██████████| 10/10 [01:33<00:00,  9.35s/it]\n",
            "100%|██████████| 10/10 [01:20<00:00,  8.04s/it]\n"
          ]
        },
        {
          "name": "stdout",
          "output_type": "stream",
          "text": [
            "WARNING: The input does not fit in a single ciphertext, and some operations will be disabled.\n",
            "The following operations are disabled in this setup: matmul, matmul_plain, enc_matmul_plain, conv2d_im2col.\n",
            "If you need to use those operations, try increasing the poly_modulus parameter, to fit your input.\n",
            "WARNING: The input does not fit in a single ciphertext, and some operations will be disabled.\n",
            "The following operations are disabled in this setup: matmul, matmul_plain, enc_matmul_plain, conv2d_im2col.\n",
            "If you need to use those operations, try increasing the poly_modulus parameter, to fit your input.\n",
            "WARNING: The input does not fit in a single ciphertext, and some operations will be disabled.\n",
            "The following operations are disabled in this setup: matmul, matmul_plain, enc_matmul_plain, conv2d_im2col.\n",
            "If you need to use those operations, try increasing the poly_modulus parameter, to fit your input.\n",
            "WARNING: The input does not fit in a single ciphertext, and some operations will be disabled.\n",
            "The following operations are disabled in this setup: matmul, matmul_plain, enc_matmul_plain, conv2d_im2col.\n",
            "If you need to use those operations, try increasing the poly_modulus parameter, to fit your input.\n",
            "WARNING: The input does not fit in a single ciphertext, and some operations will be disabled.\n",
            "The following operations are disabled in this setup: matmul, matmul_plain, enc_matmul_plain, conv2d_im2col.\n",
            "If you need to use those operations, try increasing the poly_modulus parameter, to fit your input.\n",
            "WARNING: The input does not fit in a single ciphertext, and some operations will be disabled.\n",
            "The following operations are disabled in this setup: matmul, matmul_plain, enc_matmul_plain, conv2d_im2col.\n",
            "If you need to use those operations, try increasing the poly_modulus parameter, to fit your input.\n",
            "WARNING: The input does not fit in a single ciphertext, and some operations will be disabled.\n",
            "The following operations are disabled in this setup: matmul, matmul_plain, enc_matmul_plain, conv2d_im2col.\n",
            "If you need to use those operations, try increasing the poly_modulus parameter, to fit your input.\n",
            "WARNING: The input does not fit in a single ciphertext, and some operations will be disabled.\n",
            "The following operations are disabled in this setup: matmul, matmul_plain, enc_matmul_plain, conv2d_im2col.\n",
            "If you need to use those operations, try increasing the poly_modulus parameter, to fit your input.\n",
            "WARNING: The input does not fit in a single ciphertext, and some operations will be disabled.\n",
            "The following operations are disabled in this setup: matmul, matmul_plain, enc_matmul_plain, conv2d_im2col.\n",
            "If you need to use those operations, try increasing the poly_modulus parameter, to fit your input.\n",
            "WARNING: The input does not fit in a single ciphertext, and some operations will be disabled.\n",
            "The following operations are disabled in this setup: matmul, matmul_plain, enc_matmul_plain, conv2d_im2col.\n",
            "If you need to use those operations, try increasing the poly_modulus parameter, to fit your input.\n",
            "Round 10, Train loss: 0.7141, Test Loss: 1.1386, Test Accuracy: 64.04%\n"
          ]
        },
        {
          "name": "stderr",
          "output_type": "stream",
          "text": [
            "100%|██████████| 10/10 [01:12<00:00,  7.28s/it]\n",
            "100%|██████████| 10/10 [01:11<00:00,  7.17s/it]\n",
            "100%|██████████| 10/10 [01:40<00:00, 10.00s/it]\n",
            "100%|██████████| 10/10 [01:19<00:00,  7.96s/it]\n",
            "100%|██████████| 10/10 [00:51<00:00,  5.12s/it]\n",
            "100%|██████████| 10/10 [01:20<00:00,  8.05s/it]\n",
            "100%|██████████| 10/10 [00:44<00:00,  4.45s/it]\n",
            "100%|██████████| 10/10 [01:24<00:00,  8.45s/it]\n",
            "100%|██████████| 10/10 [01:39<00:00,  9.97s/it]\n",
            "100%|██████████| 10/10 [01:14<00:00,  7.44s/it]\n"
          ]
        },
        {
          "name": "stdout",
          "output_type": "stream",
          "text": [
            "WARNING: The input does not fit in a single ciphertext, and some operations will be disabled.\n",
            "The following operations are disabled in this setup: matmul, matmul_plain, enc_matmul_plain, conv2d_im2col.\n",
            "If you need to use those operations, try increasing the poly_modulus parameter, to fit your input.\n",
            "WARNING: The input does not fit in a single ciphertext, and some operations will be disabled.\n",
            "The following operations are disabled in this setup: matmul, matmul_plain, enc_matmul_plain, conv2d_im2col.\n",
            "If you need to use those operations, try increasing the poly_modulus parameter, to fit your input.\n",
            "WARNING: The input does not fit in a single ciphertext, and some operations will be disabled.\n",
            "The following operations are disabled in this setup: matmul, matmul_plain, enc_matmul_plain, conv2d_im2col.\n",
            "If you need to use those operations, try increasing the poly_modulus parameter, to fit your input.\n",
            "WARNING: The input does not fit in a single ciphertext, and some operations will be disabled.\n",
            "The following operations are disabled in this setup: matmul, matmul_plain, enc_matmul_plain, conv2d_im2col.\n",
            "If you need to use those operations, try increasing the poly_modulus parameter, to fit your input.\n",
            "WARNING: The input does not fit in a single ciphertext, and some operations will be disabled.\n",
            "The following operations are disabled in this setup: matmul, matmul_plain, enc_matmul_plain, conv2d_im2col.\n",
            "If you need to use those operations, try increasing the poly_modulus parameter, to fit your input.\n",
            "WARNING: The input does not fit in a single ciphertext, and some operations will be disabled.\n",
            "The following operations are disabled in this setup: matmul, matmul_plain, enc_matmul_plain, conv2d_im2col.\n",
            "If you need to use those operations, try increasing the poly_modulus parameter, to fit your input.\n",
            "WARNING: The input does not fit in a single ciphertext, and some operations will be disabled.\n",
            "The following operations are disabled in this setup: matmul, matmul_plain, enc_matmul_plain, conv2d_im2col.\n",
            "If you need to use those operations, try increasing the poly_modulus parameter, to fit your input.\n",
            "WARNING: The input does not fit in a single ciphertext, and some operations will be disabled.\n",
            "The following operations are disabled in this setup: matmul, matmul_plain, enc_matmul_plain, conv2d_im2col.\n",
            "If you need to use those operations, try increasing the poly_modulus parameter, to fit your input.\n",
            "WARNING: The input does not fit in a single ciphertext, and some operations will be disabled.\n",
            "The following operations are disabled in this setup: matmul, matmul_plain, enc_matmul_plain, conv2d_im2col.\n",
            "If you need to use those operations, try increasing the poly_modulus parameter, to fit your input.\n",
            "WARNING: The input does not fit in a single ciphertext, and some operations will be disabled.\n",
            "The following operations are disabled in this setup: matmul, matmul_plain, enc_matmul_plain, conv2d_im2col.\n",
            "If you need to use those operations, try increasing the poly_modulus parameter, to fit your input.\n",
            "Round 11, Train loss: 0.6111, Test Loss: 1.1200, Test Accuracy: 65.84%\n"
          ]
        },
        {
          "name": "stderr",
          "output_type": "stream",
          "text": [
            "100%|██████████| 10/10 [01:02<00:00,  6.22s/it]\n",
            "100%|██████████| 10/10 [00:58<00:00,  5.90s/it]\n",
            "100%|██████████| 10/10 [00:55<00:00,  5.57s/it]\n",
            "100%|██████████| 10/10 [01:14<00:00,  7.47s/it]\n",
            "100%|██████████| 10/10 [00:57<00:00,  5.71s/it]\n",
            "100%|██████████| 10/10 [00:33<00:00,  3.37s/it]\n",
            "100%|██████████| 10/10 [00:52<00:00,  5.22s/it]\n",
            "100%|██████████| 10/10 [00:53<00:00,  5.32s/it]\n",
            "100%|██████████| 10/10 [01:06<00:00,  6.62s/it]\n",
            "100%|██████████| 10/10 [00:36<00:00,  3.65s/it]\n"
          ]
        },
        {
          "name": "stdout",
          "output_type": "stream",
          "text": [
            "WARNING: The input does not fit in a single ciphertext, and some operations will be disabled.\n",
            "The following operations are disabled in this setup: matmul, matmul_plain, enc_matmul_plain, conv2d_im2col.\n",
            "If you need to use those operations, try increasing the poly_modulus parameter, to fit your input.\n",
            "WARNING: The input does not fit in a single ciphertext, and some operations will be disabled.\n",
            "The following operations are disabled in this setup: matmul, matmul_plain, enc_matmul_plain, conv2d_im2col.\n",
            "If you need to use those operations, try increasing the poly_modulus parameter, to fit your input.\n",
            "WARNING: The input does not fit in a single ciphertext, and some operations will be disabled.\n",
            "The following operations are disabled in this setup: matmul, matmul_plain, enc_matmul_plain, conv2d_im2col.\n",
            "If you need to use those operations, try increasing the poly_modulus parameter, to fit your input.\n",
            "WARNING: The input does not fit in a single ciphertext, and some operations will be disabled.\n",
            "The following operations are disabled in this setup: matmul, matmul_plain, enc_matmul_plain, conv2d_im2col.\n",
            "If you need to use those operations, try increasing the poly_modulus parameter, to fit your input.\n",
            "WARNING: The input does not fit in a single ciphertext, and some operations will be disabled.\n",
            "The following operations are disabled in this setup: matmul, matmul_plain, enc_matmul_plain, conv2d_im2col.\n",
            "If you need to use those operations, try increasing the poly_modulus parameter, to fit your input.\n",
            "WARNING: The input does not fit in a single ciphertext, and some operations will be disabled.\n",
            "The following operations are disabled in this setup: matmul, matmul_plain, enc_matmul_plain, conv2d_im2col.\n",
            "If you need to use those operations, try increasing the poly_modulus parameter, to fit your input.\n",
            "WARNING: The input does not fit in a single ciphertext, and some operations will be disabled.\n",
            "The following operations are disabled in this setup: matmul, matmul_plain, enc_matmul_plain, conv2d_im2col.\n",
            "If you need to use those operations, try increasing the poly_modulus parameter, to fit your input.\n",
            "WARNING: The input does not fit in a single ciphertext, and some operations will be disabled.\n",
            "The following operations are disabled in this setup: matmul, matmul_plain, enc_matmul_plain, conv2d_im2col.\n",
            "If you need to use those operations, try increasing the poly_modulus parameter, to fit your input.\n",
            "WARNING: The input does not fit in a single ciphertext, and some operations will be disabled.\n",
            "The following operations are disabled in this setup: matmul, matmul_plain, enc_matmul_plain, conv2d_im2col.\n",
            "If you need to use those operations, try increasing the poly_modulus parameter, to fit your input.\n",
            "WARNING: The input does not fit in a single ciphertext, and some operations will be disabled.\n",
            "The following operations are disabled in this setup: matmul, matmul_plain, enc_matmul_plain, conv2d_im2col.\n",
            "If you need to use those operations, try increasing the poly_modulus parameter, to fit your input.\n",
            "Round 12, Train loss: 0.6009, Test Loss: 1.0430, Test Accuracy: 68.69%\n"
          ]
        },
        {
          "name": "stderr",
          "output_type": "stream",
          "text": [
            "100%|██████████| 10/10 [01:32<00:00,  9.25s/it]\n",
            "100%|██████████| 10/10 [00:46<00:00,  4.60s/it]\n",
            "100%|██████████| 10/10 [01:06<00:00,  6.66s/it]\n",
            "100%|██████████| 10/10 [01:25<00:00,  8.53s/it]\n",
            "100%|██████████| 10/10 [01:13<00:00,  7.32s/it]\n",
            "100%|██████████| 10/10 [00:45<00:00,  4.54s/it]\n",
            "100%|██████████| 10/10 [01:17<00:00,  7.76s/it]\n",
            "100%|██████████| 10/10 [01:27<00:00,  8.77s/it]\n",
            "100%|██████████| 10/10 [01:16<00:00,  7.61s/it]\n",
            "100%|██████████| 10/10 [01:10<00:00,  7.00s/it]\n"
          ]
        },
        {
          "name": "stdout",
          "output_type": "stream",
          "text": [
            "WARNING: The input does not fit in a single ciphertext, and some operations will be disabled.\n",
            "The following operations are disabled in this setup: matmul, matmul_plain, enc_matmul_plain, conv2d_im2col.\n",
            "If you need to use those operations, try increasing the poly_modulus parameter, to fit your input.\n",
            "WARNING: The input does not fit in a single ciphertext, and some operations will be disabled.\n",
            "The following operations are disabled in this setup: matmul, matmul_plain, enc_matmul_plain, conv2d_im2col.\n",
            "If you need to use those operations, try increasing the poly_modulus parameter, to fit your input.\n",
            "WARNING: The input does not fit in a single ciphertext, and some operations will be disabled.\n",
            "The following operations are disabled in this setup: matmul, matmul_plain, enc_matmul_plain, conv2d_im2col.\n",
            "If you need to use those operations, try increasing the poly_modulus parameter, to fit your input.\n",
            "WARNING: The input does not fit in a single ciphertext, and some operations will be disabled.\n",
            "The following operations are disabled in this setup: matmul, matmul_plain, enc_matmul_plain, conv2d_im2col.\n",
            "If you need to use those operations, try increasing the poly_modulus parameter, to fit your input.\n",
            "WARNING: The input does not fit in a single ciphertext, and some operations will be disabled.\n",
            "The following operations are disabled in this setup: matmul, matmul_plain, enc_matmul_plain, conv2d_im2col.\n",
            "If you need to use those operations, try increasing the poly_modulus parameter, to fit your input.\n",
            "WARNING: The input does not fit in a single ciphertext, and some operations will be disabled.\n",
            "The following operations are disabled in this setup: matmul, matmul_plain, enc_matmul_plain, conv2d_im2col.\n",
            "If you need to use those operations, try increasing the poly_modulus parameter, to fit your input.\n",
            "WARNING: The input does not fit in a single ciphertext, and some operations will be disabled.\n",
            "The following operations are disabled in this setup: matmul, matmul_plain, enc_matmul_plain, conv2d_im2col.\n",
            "If you need to use those operations, try increasing the poly_modulus parameter, to fit your input.\n",
            "WARNING: The input does not fit in a single ciphertext, and some operations will be disabled.\n",
            "The following operations are disabled in this setup: matmul, matmul_plain, enc_matmul_plain, conv2d_im2col.\n",
            "If you need to use those operations, try increasing the poly_modulus parameter, to fit your input.\n",
            "WARNING: The input does not fit in a single ciphertext, and some operations will be disabled.\n",
            "The following operations are disabled in this setup: matmul, matmul_plain, enc_matmul_plain, conv2d_im2col.\n",
            "If you need to use those operations, try increasing the poly_modulus parameter, to fit your input.\n",
            "WARNING: The input does not fit in a single ciphertext, and some operations will be disabled.\n",
            "The following operations are disabled in this setup: matmul, matmul_plain, enc_matmul_plain, conv2d_im2col.\n",
            "If you need to use those operations, try increasing the poly_modulus parameter, to fit your input.\n",
            "Round 13, Train loss: 0.5898, Test Loss: 0.9388, Test Accuracy: 70.53%\n"
          ]
        },
        {
          "name": "stderr",
          "output_type": "stream",
          "text": [
            "100%|██████████| 10/10 [00:47<00:00,  4.71s/it]\n",
            "100%|██████████| 10/10 [01:31<00:00,  9.11s/it]\n",
            "100%|██████████| 10/10 [01:12<00:00,  7.25s/it]\n",
            "100%|██████████| 10/10 [01:15<00:00,  7.53s/it]\n",
            "100%|██████████| 10/10 [01:15<00:00,  7.55s/it]\n",
            "100%|██████████| 10/10 [01:25<00:00,  8.56s/it]\n",
            "100%|██████████| 10/10 [01:03<00:00,  6.38s/it]\n",
            "100%|██████████| 10/10 [01:04<00:00,  6.50s/it]\n",
            "100%|██████████| 10/10 [00:38<00:00,  3.85s/it]\n",
            "100%|██████████| 10/10 [01:02<00:00,  6.26s/it]\n"
          ]
        },
        {
          "name": "stdout",
          "output_type": "stream",
          "text": [
            "WARNING: The input does not fit in a single ciphertext, and some operations will be disabled.\n",
            "The following operations are disabled in this setup: matmul, matmul_plain, enc_matmul_plain, conv2d_im2col.\n",
            "If you need to use those operations, try increasing the poly_modulus parameter, to fit your input.\n",
            "WARNING: The input does not fit in a single ciphertext, and some operations will be disabled.\n",
            "The following operations are disabled in this setup: matmul, matmul_plain, enc_matmul_plain, conv2d_im2col.\n",
            "If you need to use those operations, try increasing the poly_modulus parameter, to fit your input.\n",
            "WARNING: The input does not fit in a single ciphertext, and some operations will be disabled.\n",
            "The following operations are disabled in this setup: matmul, matmul_plain, enc_matmul_plain, conv2d_im2col.\n",
            "If you need to use those operations, try increasing the poly_modulus parameter, to fit your input.\n",
            "WARNING: The input does not fit in a single ciphertext, and some operations will be disabled.\n",
            "The following operations are disabled in this setup: matmul, matmul_plain, enc_matmul_plain, conv2d_im2col.\n",
            "If you need to use those operations, try increasing the poly_modulus parameter, to fit your input.\n",
            "WARNING: The input does not fit in a single ciphertext, and some operations will be disabled.\n",
            "The following operations are disabled in this setup: matmul, matmul_plain, enc_matmul_plain, conv2d_im2col.\n",
            "If you need to use those operations, try increasing the poly_modulus parameter, to fit your input.\n",
            "WARNING: The input does not fit in a single ciphertext, and some operations will be disabled.\n",
            "The following operations are disabled in this setup: matmul, matmul_plain, enc_matmul_plain, conv2d_im2col.\n",
            "If you need to use those operations, try increasing the poly_modulus parameter, to fit your input.\n",
            "WARNING: The input does not fit in a single ciphertext, and some operations will be disabled.\n",
            "The following operations are disabled in this setup: matmul, matmul_plain, enc_matmul_plain, conv2d_im2col.\n",
            "If you need to use those operations, try increasing the poly_modulus parameter, to fit your input.\n",
            "WARNING: The input does not fit in a single ciphertext, and some operations will be disabled.\n",
            "The following operations are disabled in this setup: matmul, matmul_plain, enc_matmul_plain, conv2d_im2col.\n",
            "If you need to use those operations, try increasing the poly_modulus parameter, to fit your input.\n",
            "WARNING: The input does not fit in a single ciphertext, and some operations will be disabled.\n",
            "The following operations are disabled in this setup: matmul, matmul_plain, enc_matmul_plain, conv2d_im2col.\n",
            "If you need to use those operations, try increasing the poly_modulus parameter, to fit your input.\n",
            "WARNING: The input does not fit in a single ciphertext, and some operations will be disabled.\n",
            "The following operations are disabled in this setup: matmul, matmul_plain, enc_matmul_plain, conv2d_im2col.\n",
            "If you need to use those operations, try increasing the poly_modulus parameter, to fit your input.\n",
            "Round 14, Train loss: 0.5261, Test Loss: 0.9355, Test Accuracy: 71.57%\n"
          ]
        },
        {
          "name": "stderr",
          "output_type": "stream",
          "text": [
            "100%|██████████| 10/10 [00:36<00:00,  3.68s/it]\n",
            "100%|██████████| 10/10 [01:15<00:00,  7.52s/it]\n",
            "100%|██████████| 10/10 [01:12<00:00,  7.22s/it]\n",
            "100%|██████████| 10/10 [01:00<00:00,  6.08s/it]\n",
            "100%|██████████| 10/10 [00:55<00:00,  5.59s/it]\n",
            "100%|██████████| 10/10 [00:59<00:00,  5.96s/it]\n",
            "100%|██████████| 10/10 [01:01<00:00,  6.19s/it]\n",
            "100%|██████████| 10/10 [01:01<00:00,  6.19s/it]\n",
            "100%|██████████| 10/10 [00:57<00:00,  5.79s/it]\n",
            "100%|██████████| 10/10 [00:38<00:00,  3.81s/it]\n"
          ]
        },
        {
          "name": "stdout",
          "output_type": "stream",
          "text": [
            "WARNING: The input does not fit in a single ciphertext, and some operations will be disabled.\n",
            "The following operations are disabled in this setup: matmul, matmul_plain, enc_matmul_plain, conv2d_im2col.\n",
            "If you need to use those operations, try increasing the poly_modulus parameter, to fit your input.\n",
            "WARNING: The input does not fit in a single ciphertext, and some operations will be disabled.\n",
            "The following operations are disabled in this setup: matmul, matmul_plain, enc_matmul_plain, conv2d_im2col.\n",
            "If you need to use those operations, try increasing the poly_modulus parameter, to fit your input.\n",
            "WARNING: The input does not fit in a single ciphertext, and some operations will be disabled.\n",
            "The following operations are disabled in this setup: matmul, matmul_plain, enc_matmul_plain, conv2d_im2col.\n",
            "If you need to use those operations, try increasing the poly_modulus parameter, to fit your input.\n",
            "WARNING: The input does not fit in a single ciphertext, and some operations will be disabled.\n",
            "The following operations are disabled in this setup: matmul, matmul_plain, enc_matmul_plain, conv2d_im2col.\n",
            "If you need to use those operations, try increasing the poly_modulus parameter, to fit your input.\n",
            "WARNING: The input does not fit in a single ciphertext, and some operations will be disabled.\n",
            "The following operations are disabled in this setup: matmul, matmul_plain, enc_matmul_plain, conv2d_im2col.\n",
            "If you need to use those operations, try increasing the poly_modulus parameter, to fit your input.\n",
            "WARNING: The input does not fit in a single ciphertext, and some operations will be disabled.\n",
            "The following operations are disabled in this setup: matmul, matmul_plain, enc_matmul_plain, conv2d_im2col.\n",
            "If you need to use those operations, try increasing the poly_modulus parameter, to fit your input.\n",
            "WARNING: The input does not fit in a single ciphertext, and some operations will be disabled.\n",
            "The following operations are disabled in this setup: matmul, matmul_plain, enc_matmul_plain, conv2d_im2col.\n",
            "If you need to use those operations, try increasing the poly_modulus parameter, to fit your input.\n",
            "WARNING: The input does not fit in a single ciphertext, and some operations will be disabled.\n",
            "The following operations are disabled in this setup: matmul, matmul_plain, enc_matmul_plain, conv2d_im2col.\n",
            "If you need to use those operations, try increasing the poly_modulus parameter, to fit your input.\n",
            "WARNING: The input does not fit in a single ciphertext, and some operations will be disabled.\n",
            "The following operations are disabled in this setup: matmul, matmul_plain, enc_matmul_plain, conv2d_im2col.\n",
            "If you need to use those operations, try increasing the poly_modulus parameter, to fit your input.\n",
            "WARNING: The input does not fit in a single ciphertext, and some operations will be disabled.\n",
            "The following operations are disabled in this setup: matmul, matmul_plain, enc_matmul_plain, conv2d_im2col.\n",
            "If you need to use those operations, try increasing the poly_modulus parameter, to fit your input.\n",
            "Round 15, Train loss: 0.5127, Test Loss: 0.8902, Test Accuracy: 72.72%\n"
          ]
        },
        {
          "name": "stderr",
          "output_type": "stream",
          "text": [
            "100%|██████████| 10/10 [01:00<00:00,  6.04s/it]\n",
            "100%|██████████| 10/10 [01:00<00:00,  6.01s/it]\n",
            "100%|██████████| 10/10 [01:16<00:00,  7.68s/it]\n",
            "100%|██████████| 10/10 [01:05<00:00,  6.57s/it]\n",
            "100%|██████████| 10/10 [00:40<00:00,  4.01s/it]\n",
            "100%|██████████| 10/10 [01:04<00:00,  6.41s/it]\n",
            "100%|██████████| 10/10 [01:02<00:00,  6.23s/it]\n",
            "100%|██████████| 10/10 [01:05<00:00,  6.58s/it]\n",
            "100%|██████████| 10/10 [00:34<00:00,  3.48s/it]\n",
            "100%|██████████| 10/10 [01:02<00:00,  6.29s/it]\n"
          ]
        },
        {
          "name": "stdout",
          "output_type": "stream",
          "text": [
            "WARNING: The input does not fit in a single ciphertext, and some operations will be disabled.\n",
            "The following operations are disabled in this setup: matmul, matmul_plain, enc_matmul_plain, conv2d_im2col.\n",
            "If you need to use those operations, try increasing the poly_modulus parameter, to fit your input.\n",
            "WARNING: The input does not fit in a single ciphertext, and some operations will be disabled.\n",
            "The following operations are disabled in this setup: matmul, matmul_plain, enc_matmul_plain, conv2d_im2col.\n",
            "If you need to use those operations, try increasing the poly_modulus parameter, to fit your input.\n",
            "WARNING: The input does not fit in a single ciphertext, and some operations will be disabled.\n",
            "The following operations are disabled in this setup: matmul, matmul_plain, enc_matmul_plain, conv2d_im2col.\n",
            "If you need to use those operations, try increasing the poly_modulus parameter, to fit your input.\n",
            "WARNING: The input does not fit in a single ciphertext, and some operations will be disabled.\n",
            "The following operations are disabled in this setup: matmul, matmul_plain, enc_matmul_plain, conv2d_im2col.\n",
            "If you need to use those operations, try increasing the poly_modulus parameter, to fit your input.\n",
            "WARNING: The input does not fit in a single ciphertext, and some operations will be disabled.\n",
            "The following operations are disabled in this setup: matmul, matmul_plain, enc_matmul_plain, conv2d_im2col.\n",
            "If you need to use those operations, try increasing the poly_modulus parameter, to fit your input.\n",
            "WARNING: The input does not fit in a single ciphertext, and some operations will be disabled.\n",
            "The following operations are disabled in this setup: matmul, matmul_plain, enc_matmul_plain, conv2d_im2col.\n",
            "If you need to use those operations, try increasing the poly_modulus parameter, to fit your input.\n",
            "WARNING: The input does not fit in a single ciphertext, and some operations will be disabled.\n",
            "The following operations are disabled in this setup: matmul, matmul_plain, enc_matmul_plain, conv2d_im2col.\n",
            "If you need to use those operations, try increasing the poly_modulus parameter, to fit your input.\n",
            "WARNING: The input does not fit in a single ciphertext, and some operations will be disabled.\n",
            "The following operations are disabled in this setup: matmul, matmul_plain, enc_matmul_plain, conv2d_im2col.\n",
            "If you need to use those operations, try increasing the poly_modulus parameter, to fit your input.\n",
            "WARNING: The input does not fit in a single ciphertext, and some operations will be disabled.\n",
            "The following operations are disabled in this setup: matmul, matmul_plain, enc_matmul_plain, conv2d_im2col.\n",
            "If you need to use those operations, try increasing the poly_modulus parameter, to fit your input.\n",
            "WARNING: The input does not fit in a single ciphertext, and some operations will be disabled.\n",
            "The following operations are disabled in this setup: matmul, matmul_plain, enc_matmul_plain, conv2d_im2col.\n",
            "If you need to use those operations, try increasing the poly_modulus parameter, to fit your input.\n",
            "Round 16, Train loss: 0.5115, Test Loss: 0.7918, Test Accuracy: 74.46%\n"
          ]
        },
        {
          "name": "stderr",
          "output_type": "stream",
          "text": [
            "100%|██████████| 10/10 [01:28<00:00,  8.86s/it]\n",
            "100%|██████████| 10/10 [01:09<00:00,  6.94s/it]\n",
            "100%|██████████| 10/10 [01:09<00:00,  6.93s/it]\n",
            "100%|██████████| 10/10 [01:27<00:00,  8.77s/it]\n",
            "100%|██████████| 10/10 [01:15<00:00,  7.55s/it]\n",
            "100%|██████████| 10/10 [00:47<00:00,  4.73s/it]\n",
            "100%|██████████| 10/10 [00:58<00:00,  5.86s/it]\n",
            "100%|██████████| 10/10 [00:33<00:00,  3.39s/it]\n",
            "100%|██████████| 10/10 [01:02<00:00,  6.22s/it]\n",
            "100%|██████████| 10/10 [00:56<00:00,  5.66s/it]\n"
          ]
        },
        {
          "name": "stdout",
          "output_type": "stream",
          "text": [
            "WARNING: The input does not fit in a single ciphertext, and some operations will be disabled.\n",
            "The following operations are disabled in this setup: matmul, matmul_plain, enc_matmul_plain, conv2d_im2col.\n",
            "If you need to use those operations, try increasing the poly_modulus parameter, to fit your input.\n",
            "WARNING: The input does not fit in a single ciphertext, and some operations will be disabled.\n",
            "The following operations are disabled in this setup: matmul, matmul_plain, enc_matmul_plain, conv2d_im2col.\n",
            "If you need to use those operations, try increasing the poly_modulus parameter, to fit your input.\n",
            "WARNING: The input does not fit in a single ciphertext, and some operations will be disabled.\n",
            "The following operations are disabled in this setup: matmul, matmul_plain, enc_matmul_plain, conv2d_im2col.\n",
            "If you need to use those operations, try increasing the poly_modulus parameter, to fit your input.\n",
            "WARNING: The input does not fit in a single ciphertext, and some operations will be disabled.\n",
            "The following operations are disabled in this setup: matmul, matmul_plain, enc_matmul_plain, conv2d_im2col.\n",
            "If you need to use those operations, try increasing the poly_modulus parameter, to fit your input.\n",
            "WARNING: The input does not fit in a single ciphertext, and some operations will be disabled.\n",
            "The following operations are disabled in this setup: matmul, matmul_plain, enc_matmul_plain, conv2d_im2col.\n",
            "If you need to use those operations, try increasing the poly_modulus parameter, to fit your input.\n",
            "WARNING: The input does not fit in a single ciphertext, and some operations will be disabled.\n",
            "The following operations are disabled in this setup: matmul, matmul_plain, enc_matmul_plain, conv2d_im2col.\n",
            "If you need to use those operations, try increasing the poly_modulus parameter, to fit your input.\n",
            "WARNING: The input does not fit in a single ciphertext, and some operations will be disabled.\n",
            "The following operations are disabled in this setup: matmul, matmul_plain, enc_matmul_plain, conv2d_im2col.\n",
            "If you need to use those operations, try increasing the poly_modulus parameter, to fit your input.\n",
            "WARNING: The input does not fit in a single ciphertext, and some operations will be disabled.\n",
            "The following operations are disabled in this setup: matmul, matmul_plain, enc_matmul_plain, conv2d_im2col.\n",
            "If you need to use those operations, try increasing the poly_modulus parameter, to fit your input.\n",
            "WARNING: The input does not fit in a single ciphertext, and some operations will be disabled.\n",
            "The following operations are disabled in this setup: matmul, matmul_plain, enc_matmul_plain, conv2d_im2col.\n",
            "If you need to use those operations, try increasing the poly_modulus parameter, to fit your input.\n",
            "WARNING: The input does not fit in a single ciphertext, and some operations will be disabled.\n",
            "The following operations are disabled in this setup: matmul, matmul_plain, enc_matmul_plain, conv2d_im2col.\n",
            "If you need to use those operations, try increasing the poly_modulus parameter, to fit your input.\n",
            "Round 17, Train loss: 0.4595, Test Loss: 0.7896, Test Accuracy: 75.31%\n"
          ]
        },
        {
          "name": "stderr",
          "output_type": "stream",
          "text": [
            "100%|██████████| 10/10 [01:02<00:00,  6.26s/it]\n",
            "100%|██████████| 10/10 [01:02<00:00,  6.22s/it]\n",
            "100%|██████████| 10/10 [00:37<00:00,  3.79s/it]\n",
            "100%|██████████| 10/10 [01:02<00:00,  6.23s/it]\n",
            "100%|██████████| 10/10 [01:05<00:00,  6.52s/it]\n",
            "100%|██████████| 10/10 [01:20<00:00,  8.00s/it]\n",
            "100%|██████████| 10/10 [01:05<00:00,  6.53s/it]\n",
            "100%|██████████| 10/10 [00:40<00:00,  4.04s/it]\n",
            "100%|██████████| 10/10 [01:03<00:00,  6.33s/it]\n",
            "100%|██████████| 10/10 [01:15<00:00,  7.51s/it]\n"
          ]
        },
        {
          "name": "stdout",
          "output_type": "stream",
          "text": [
            "WARNING: The input does not fit in a single ciphertext, and some operations will be disabled.\n",
            "The following operations are disabled in this setup: matmul, matmul_plain, enc_matmul_plain, conv2d_im2col.\n",
            "If you need to use those operations, try increasing the poly_modulus parameter, to fit your input.\n",
            "WARNING: The input does not fit in a single ciphertext, and some operations will be disabled.\n",
            "The following operations are disabled in this setup: matmul, matmul_plain, enc_matmul_plain, conv2d_im2col.\n",
            "If you need to use those operations, try increasing the poly_modulus parameter, to fit your input.\n",
            "WARNING: The input does not fit in a single ciphertext, and some operations will be disabled.\n",
            "The following operations are disabled in this setup: matmul, matmul_plain, enc_matmul_plain, conv2d_im2col.\n",
            "If you need to use those operations, try increasing the poly_modulus parameter, to fit your input.\n",
            "WARNING: The input does not fit in a single ciphertext, and some operations will be disabled.\n",
            "The following operations are disabled in this setup: matmul, matmul_plain, enc_matmul_plain, conv2d_im2col.\n",
            "If you need to use those operations, try increasing the poly_modulus parameter, to fit your input.\n",
            "WARNING: The input does not fit in a single ciphertext, and some operations will be disabled.\n",
            "The following operations are disabled in this setup: matmul, matmul_plain, enc_matmul_plain, conv2d_im2col.\n",
            "If you need to use those operations, try increasing the poly_modulus parameter, to fit your input.\n",
            "WARNING: The input does not fit in a single ciphertext, and some operations will be disabled.\n",
            "The following operations are disabled in this setup: matmul, matmul_plain, enc_matmul_plain, conv2d_im2col.\n",
            "If you need to use those operations, try increasing the poly_modulus parameter, to fit your input.\n",
            "WARNING: The input does not fit in a single ciphertext, and some operations will be disabled.\n",
            "The following operations are disabled in this setup: matmul, matmul_plain, enc_matmul_plain, conv2d_im2col.\n",
            "If you need to use those operations, try increasing the poly_modulus parameter, to fit your input.\n",
            "WARNING: The input does not fit in a single ciphertext, and some operations will be disabled.\n",
            "The following operations are disabled in this setup: matmul, matmul_plain, enc_matmul_plain, conv2d_im2col.\n",
            "If you need to use those operations, try increasing the poly_modulus parameter, to fit your input.\n",
            "WARNING: The input does not fit in a single ciphertext, and some operations will be disabled.\n",
            "The following operations are disabled in this setup: matmul, matmul_plain, enc_matmul_plain, conv2d_im2col.\n",
            "If you need to use those operations, try increasing the poly_modulus parameter, to fit your input.\n",
            "WARNING: The input does not fit in a single ciphertext, and some operations will be disabled.\n",
            "The following operations are disabled in this setup: matmul, matmul_plain, enc_matmul_plain, conv2d_im2col.\n",
            "If you need to use those operations, try increasing the poly_modulus parameter, to fit your input.\n",
            "Round 18, Train loss: 0.4548, Test Loss: 0.7506, Test Accuracy: 77.35%\n"
          ]
        },
        {
          "name": "stderr",
          "output_type": "stream",
          "text": [
            "100%|██████████| 10/10 [00:58<00:00,  5.87s/it]\n",
            "100%|██████████| 10/10 [00:37<00:00,  3.79s/it]\n",
            "100%|██████████| 10/10 [01:05<00:00,  6.56s/it]\n",
            "100%|██████████| 10/10 [01:02<00:00,  6.23s/it]\n",
            "100%|██████████| 10/10 [01:02<00:00,  6.28s/it]\n",
            "100%|██████████| 10/10 [01:03<00:00,  6.40s/it]\n",
            "100%|██████████| 10/10 [01:01<00:00,  6.13s/it]\n",
            "100%|██████████| 10/10 [01:17<00:00,  7.73s/it]\n",
            "100%|██████████| 10/10 [01:16<00:00,  7.61s/it]\n",
            "100%|██████████| 10/10 [00:37<00:00,  3.73s/it]\n"
          ]
        },
        {
          "name": "stdout",
          "output_type": "stream",
          "text": [
            "WARNING: The input does not fit in a single ciphertext, and some operations will be disabled.\n",
            "The following operations are disabled in this setup: matmul, matmul_plain, enc_matmul_plain, conv2d_im2col.\n",
            "If you need to use those operations, try increasing the poly_modulus parameter, to fit your input.\n",
            "WARNING: The input does not fit in a single ciphertext, and some operations will be disabled.\n",
            "The following operations are disabled in this setup: matmul, matmul_plain, enc_matmul_plain, conv2d_im2col.\n",
            "If you need to use those operations, try increasing the poly_modulus parameter, to fit your input.\n",
            "WARNING: The input does not fit in a single ciphertext, and some operations will be disabled.\n",
            "The following operations are disabled in this setup: matmul, matmul_plain, enc_matmul_plain, conv2d_im2col.\n",
            "If you need to use those operations, try increasing the poly_modulus parameter, to fit your input.\n",
            "WARNING: The input does not fit in a single ciphertext, and some operations will be disabled.\n",
            "The following operations are disabled in this setup: matmul, matmul_plain, enc_matmul_plain, conv2d_im2col.\n",
            "If you need to use those operations, try increasing the poly_modulus parameter, to fit your input.\n",
            "WARNING: The input does not fit in a single ciphertext, and some operations will be disabled.\n",
            "The following operations are disabled in this setup: matmul, matmul_plain, enc_matmul_plain, conv2d_im2col.\n",
            "If you need to use those operations, try increasing the poly_modulus parameter, to fit your input.\n",
            "WARNING: The input does not fit in a single ciphertext, and some operations will be disabled.\n",
            "The following operations are disabled in this setup: matmul, matmul_plain, enc_matmul_plain, conv2d_im2col.\n",
            "If you need to use those operations, try increasing the poly_modulus parameter, to fit your input.\n",
            "WARNING: The input does not fit in a single ciphertext, and some operations will be disabled.\n",
            "The following operations are disabled in this setup: matmul, matmul_plain, enc_matmul_plain, conv2d_im2col.\n",
            "If you need to use those operations, try increasing the poly_modulus parameter, to fit your input.\n",
            "WARNING: The input does not fit in a single ciphertext, and some operations will be disabled.\n",
            "The following operations are disabled in this setup: matmul, matmul_plain, enc_matmul_plain, conv2d_im2col.\n",
            "If you need to use those operations, try increasing the poly_modulus parameter, to fit your input.\n",
            "WARNING: The input does not fit in a single ciphertext, and some operations will be disabled.\n",
            "The following operations are disabled in this setup: matmul, matmul_plain, enc_matmul_plain, conv2d_im2col.\n",
            "If you need to use those operations, try increasing the poly_modulus parameter, to fit your input.\n",
            "WARNING: The input does not fit in a single ciphertext, and some operations will be disabled.\n",
            "The following operations are disabled in this setup: matmul, matmul_plain, enc_matmul_plain, conv2d_im2col.\n",
            "If you need to use those operations, try increasing the poly_modulus parameter, to fit your input.\n",
            "Round 19, Train loss: 0.4485, Test Loss: 0.7208, Test Accuracy: 77.58%\n"
          ]
        },
        {
          "name": "stderr",
          "output_type": "stream",
          "text": [
            "100%|██████████| 10/10 [00:37<00:00,  3.79s/it]\n",
            "100%|██████████| 10/10 [01:17<00:00,  7.76s/it]\n",
            "100%|██████████| 10/10 [01:02<00:00,  6.26s/it]\n",
            "100%|██████████| 10/10 [01:00<00:00,  6.04s/it]\n",
            "100%|██████████| 10/10 [00:38<00:00,  3.89s/it]\n",
            "100%|██████████| 10/10 [01:15<00:00,  7.52s/it]\n",
            "100%|██████████| 10/10 [00:58<00:00,  5.81s/it]\n",
            "100%|██████████| 10/10 [01:01<00:00,  6.17s/it]\n",
            "100%|██████████| 10/10 [00:58<00:00,  5.90s/it]\n",
            "100%|██████████| 10/10 [00:57<00:00,  5.76s/it]\n"
          ]
        },
        {
          "name": "stdout",
          "output_type": "stream",
          "text": [
            "WARNING: The input does not fit in a single ciphertext, and some operations will be disabled.\n",
            "The following operations are disabled in this setup: matmul, matmul_plain, enc_matmul_plain, conv2d_im2col.\n",
            "If you need to use those operations, try increasing the poly_modulus parameter, to fit your input.\n",
            "WARNING: The input does not fit in a single ciphertext, and some operations will be disabled.\n",
            "The following operations are disabled in this setup: matmul, matmul_plain, enc_matmul_plain, conv2d_im2col.\n",
            "If you need to use those operations, try increasing the poly_modulus parameter, to fit your input.\n",
            "WARNING: The input does not fit in a single ciphertext, and some operations will be disabled.\n",
            "The following operations are disabled in this setup: matmul, matmul_plain, enc_matmul_plain, conv2d_im2col.\n",
            "If you need to use those operations, try increasing the poly_modulus parameter, to fit your input.\n",
            "WARNING: The input does not fit in a single ciphertext, and some operations will be disabled.\n",
            "The following operations are disabled in this setup: matmul, matmul_plain, enc_matmul_plain, conv2d_im2col.\n",
            "If you need to use those operations, try increasing the poly_modulus parameter, to fit your input.\n",
            "WARNING: The input does not fit in a single ciphertext, and some operations will be disabled.\n",
            "The following operations are disabled in this setup: matmul, matmul_plain, enc_matmul_plain, conv2d_im2col.\n",
            "If you need to use those operations, try increasing the poly_modulus parameter, to fit your input.\n",
            "WARNING: The input does not fit in a single ciphertext, and some operations will be disabled.\n",
            "The following operations are disabled in this setup: matmul, matmul_plain, enc_matmul_plain, conv2d_im2col.\n",
            "If you need to use those operations, try increasing the poly_modulus parameter, to fit your input.\n",
            "WARNING: The input does not fit in a single ciphertext, and some operations will be disabled.\n",
            "The following operations are disabled in this setup: matmul, matmul_plain, enc_matmul_plain, conv2d_im2col.\n",
            "If you need to use those operations, try increasing the poly_modulus parameter, to fit your input.\n",
            "WARNING: The input does not fit in a single ciphertext, and some operations will be disabled.\n",
            "The following operations are disabled in this setup: matmul, matmul_plain, enc_matmul_plain, conv2d_im2col.\n",
            "If you need to use those operations, try increasing the poly_modulus parameter, to fit your input.\n",
            "WARNING: The input does not fit in a single ciphertext, and some operations will be disabled.\n",
            "The following operations are disabled in this setup: matmul, matmul_plain, enc_matmul_plain, conv2d_im2col.\n",
            "If you need to use those operations, try increasing the poly_modulus parameter, to fit your input.\n",
            "WARNING: The input does not fit in a single ciphertext, and some operations will be disabled.\n",
            "The following operations are disabled in this setup: matmul, matmul_plain, enc_matmul_plain, conv2d_im2col.\n",
            "If you need to use those operations, try increasing the poly_modulus parameter, to fit your input.\n",
            "Round 20, Train loss: 0.4096, Test Loss: 0.7135, Test Accuracy: 78.01%\n"
          ]
        },
        {
          "name": "stderr",
          "output_type": "stream",
          "text": [
            "100%|██████████| 10/10 [01:02<00:00,  6.24s/it]\n",
            "100%|██████████| 10/10 [00:57<00:00,  5.76s/it]\n",
            "100%|██████████| 10/10 [00:37<00:00,  3.72s/it]\n",
            "100%|██████████| 10/10 [00:36<00:00,  3.67s/it]\n",
            "100%|██████████| 10/10 [00:58<00:00,  5.88s/it]\n",
            "100%|██████████| 10/10 [01:14<00:00,  7.47s/it]\n",
            "100%|██████████| 10/10 [01:15<00:00,  7.59s/it]\n",
            "100%|██████████| 10/10 [01:01<00:00,  6.16s/it]\n",
            "100%|██████████| 10/10 [00:58<00:00,  5.82s/it]\n",
            "100%|██████████| 10/10 [01:02<00:00,  6.22s/it]\n"
          ]
        },
        {
          "name": "stdout",
          "output_type": "stream",
          "text": [
            "WARNING: The input does not fit in a single ciphertext, and some operations will be disabled.\n",
            "The following operations are disabled in this setup: matmul, matmul_plain, enc_matmul_plain, conv2d_im2col.\n",
            "If you need to use those operations, try increasing the poly_modulus parameter, to fit your input.\n",
            "WARNING: The input does not fit in a single ciphertext, and some operations will be disabled.\n",
            "The following operations are disabled in this setup: matmul, matmul_plain, enc_matmul_plain, conv2d_im2col.\n",
            "If you need to use those operations, try increasing the poly_modulus parameter, to fit your input.\n",
            "WARNING: The input does not fit in a single ciphertext, and some operations will be disabled.\n",
            "The following operations are disabled in this setup: matmul, matmul_plain, enc_matmul_plain, conv2d_im2col.\n",
            "If you need to use those operations, try increasing the poly_modulus parameter, to fit your input.\n",
            "WARNING: The input does not fit in a single ciphertext, and some operations will be disabled.\n",
            "The following operations are disabled in this setup: matmul, matmul_plain, enc_matmul_plain, conv2d_im2col.\n",
            "If you need to use those operations, try increasing the poly_modulus parameter, to fit your input.\n",
            "WARNING: The input does not fit in a single ciphertext, and some operations will be disabled.\n",
            "The following operations are disabled in this setup: matmul, matmul_plain, enc_matmul_plain, conv2d_im2col.\n",
            "If you need to use those operations, try increasing the poly_modulus parameter, to fit your input.\n",
            "WARNING: The input does not fit in a single ciphertext, and some operations will be disabled.\n",
            "The following operations are disabled in this setup: matmul, matmul_plain, enc_matmul_plain, conv2d_im2col.\n",
            "If you need to use those operations, try increasing the poly_modulus parameter, to fit your input.\n",
            "WARNING: The input does not fit in a single ciphertext, and some operations will be disabled.\n",
            "The following operations are disabled in this setup: matmul, matmul_plain, enc_matmul_plain, conv2d_im2col.\n",
            "If you need to use those operations, try increasing the poly_modulus parameter, to fit your input.\n",
            "WARNING: The input does not fit in a single ciphertext, and some operations will be disabled.\n",
            "The following operations are disabled in this setup: matmul, matmul_plain, enc_matmul_plain, conv2d_im2col.\n",
            "If you need to use those operations, try increasing the poly_modulus parameter, to fit your input.\n",
            "WARNING: The input does not fit in a single ciphertext, and some operations will be disabled.\n",
            "The following operations are disabled in this setup: matmul, matmul_plain, enc_matmul_plain, conv2d_im2col.\n",
            "If you need to use those operations, try increasing the poly_modulus parameter, to fit your input.\n",
            "WARNING: The input does not fit in a single ciphertext, and some operations will be disabled.\n",
            "The following operations are disabled in this setup: matmul, matmul_plain, enc_matmul_plain, conv2d_im2col.\n",
            "If you need to use those operations, try increasing the poly_modulus parameter, to fit your input.\n",
            "Round 21, Train loss: 0.4028, Test Loss: 0.7221, Test Accuracy: 78.62%\n"
          ]
        },
        {
          "name": "stderr",
          "output_type": "stream",
          "text": [
            "100%|██████████| 10/10 [01:01<00:00,  6.17s/it]\n",
            "100%|██████████| 10/10 [01:01<00:00,  6.16s/it]\n",
            "100%|██████████| 10/10 [00:37<00:00,  3.72s/it]\n",
            "100%|██████████| 10/10 [01:23<00:00,  8.39s/it]\n",
            "100%|██████████| 10/10 [01:21<00:00,  8.16s/it]\n",
            "100%|██████████| 10/10 [01:06<00:00,  6.64s/it]\n",
            "100%|██████████| 10/10 [00:44<00:00,  4.49s/it]\n",
            "100%|██████████| 10/10 [01:00<00:00,  6.09s/it]\n",
            "100%|██████████| 10/10 [01:00<00:00,  6.04s/it]\n",
            "100%|██████████| 10/10 [01:14<00:00,  7.44s/it]\n"
          ]
        },
        {
          "name": "stdout",
          "output_type": "stream",
          "text": [
            "WARNING: The input does not fit in a single ciphertext, and some operations will be disabled.\n",
            "The following operations are disabled in this setup: matmul, matmul_plain, enc_matmul_plain, conv2d_im2col.\n",
            "If you need to use those operations, try increasing the poly_modulus parameter, to fit your input.\n",
            "WARNING: The input does not fit in a single ciphertext, and some operations will be disabled.\n",
            "The following operations are disabled in this setup: matmul, matmul_plain, enc_matmul_plain, conv2d_im2col.\n",
            "If you need to use those operations, try increasing the poly_modulus parameter, to fit your input.\n",
            "WARNING: The input does not fit in a single ciphertext, and some operations will be disabled.\n",
            "The following operations are disabled in this setup: matmul, matmul_plain, enc_matmul_plain, conv2d_im2col.\n",
            "If you need to use those operations, try increasing the poly_modulus parameter, to fit your input.\n",
            "WARNING: The input does not fit in a single ciphertext, and some operations will be disabled.\n",
            "The following operations are disabled in this setup: matmul, matmul_plain, enc_matmul_plain, conv2d_im2col.\n",
            "If you need to use those operations, try increasing the poly_modulus parameter, to fit your input.\n",
            "WARNING: The input does not fit in a single ciphertext, and some operations will be disabled.\n",
            "The following operations are disabled in this setup: matmul, matmul_plain, enc_matmul_plain, conv2d_im2col.\n",
            "If you need to use those operations, try increasing the poly_modulus parameter, to fit your input.\n",
            "WARNING: The input does not fit in a single ciphertext, and some operations will be disabled.\n",
            "The following operations are disabled in this setup: matmul, matmul_plain, enc_matmul_plain, conv2d_im2col.\n",
            "If you need to use those operations, try increasing the poly_modulus parameter, to fit your input.\n",
            "WARNING: The input does not fit in a single ciphertext, and some operations will be disabled.\n",
            "The following operations are disabled in this setup: matmul, matmul_plain, enc_matmul_plain, conv2d_im2col.\n",
            "If you need to use those operations, try increasing the poly_modulus parameter, to fit your input.\n",
            "WARNING: The input does not fit in a single ciphertext, and some operations will be disabled.\n",
            "The following operations are disabled in this setup: matmul, matmul_plain, enc_matmul_plain, conv2d_im2col.\n",
            "If you need to use those operations, try increasing the poly_modulus parameter, to fit your input.\n",
            "WARNING: The input does not fit in a single ciphertext, and some operations will be disabled.\n",
            "The following operations are disabled in this setup: matmul, matmul_plain, enc_matmul_plain, conv2d_im2col.\n",
            "If you need to use those operations, try increasing the poly_modulus parameter, to fit your input.\n",
            "WARNING: The input does not fit in a single ciphertext, and some operations will be disabled.\n",
            "The following operations are disabled in this setup: matmul, matmul_plain, enc_matmul_plain, conv2d_im2col.\n",
            "If you need to use those operations, try increasing the poly_modulus parameter, to fit your input.\n",
            "Round 22, Train loss: 0.3994, Test Loss: 0.6709, Test Accuracy: 79.51%\n"
          ]
        },
        {
          "name": "stderr",
          "output_type": "stream",
          "text": [
            "100%|██████████| 10/10 [00:58<00:00,  5.84s/it]\n",
            "100%|██████████| 10/10 [00:57<00:00,  5.71s/it]\n",
            "100%|██████████| 10/10 [01:01<00:00,  6.11s/it]\n",
            "100%|██████████| 10/10 [00:39<00:00,  3.96s/it]\n",
            "100%|██████████| 10/10 [00:35<00:00,  3.54s/it]\n",
            "100%|██████████| 10/10 [01:08<00:00,  6.87s/it]\n",
            "100%|██████████| 10/10 [01:14<00:00,  7.48s/it]\n",
            "100%|██████████| 10/10 [01:15<00:00,  7.50s/it]\n",
            "100%|██████████| 10/10 [01:21<00:00,  8.20s/it]\n",
            "100%|██████████| 10/10 [01:12<00:00,  7.24s/it]\n"
          ]
        },
        {
          "name": "stdout",
          "output_type": "stream",
          "text": [
            "WARNING: The input does not fit in a single ciphertext, and some operations will be disabled.\n",
            "The following operations are disabled in this setup: matmul, matmul_plain, enc_matmul_plain, conv2d_im2col.\n",
            "If you need to use those operations, try increasing the poly_modulus parameter, to fit your input.\n",
            "WARNING: The input does not fit in a single ciphertext, and some operations will be disabled.\n",
            "The following operations are disabled in this setup: matmul, matmul_plain, enc_matmul_plain, conv2d_im2col.\n",
            "If you need to use those operations, try increasing the poly_modulus parameter, to fit your input.\n",
            "WARNING: The input does not fit in a single ciphertext, and some operations will be disabled.\n",
            "The following operations are disabled in this setup: matmul, matmul_plain, enc_matmul_plain, conv2d_im2col.\n",
            "If you need to use those operations, try increasing the poly_modulus parameter, to fit your input.\n",
            "WARNING: The input does not fit in a single ciphertext, and some operations will be disabled.\n",
            "The following operations are disabled in this setup: matmul, matmul_plain, enc_matmul_plain, conv2d_im2col.\n",
            "If you need to use those operations, try increasing the poly_modulus parameter, to fit your input.\n",
            "WARNING: The input does not fit in a single ciphertext, and some operations will be disabled.\n",
            "The following operations are disabled in this setup: matmul, matmul_plain, enc_matmul_plain, conv2d_im2col.\n",
            "If you need to use those operations, try increasing the poly_modulus parameter, to fit your input.\n",
            "WARNING: The input does not fit in a single ciphertext, and some operations will be disabled.\n",
            "The following operations are disabled in this setup: matmul, matmul_plain, enc_matmul_plain, conv2d_im2col.\n",
            "If you need to use those operations, try increasing the poly_modulus parameter, to fit your input.\n",
            "WARNING: The input does not fit in a single ciphertext, and some operations will be disabled.\n",
            "The following operations are disabled in this setup: matmul, matmul_plain, enc_matmul_plain, conv2d_im2col.\n",
            "If you need to use those operations, try increasing the poly_modulus parameter, to fit your input.\n",
            "WARNING: The input does not fit in a single ciphertext, and some operations will be disabled.\n",
            "The following operations are disabled in this setup: matmul, matmul_plain, enc_matmul_plain, conv2d_im2col.\n",
            "If you need to use those operations, try increasing the poly_modulus parameter, to fit your input.\n",
            "WARNING: The input does not fit in a single ciphertext, and some operations will be disabled.\n",
            "The following operations are disabled in this setup: matmul, matmul_plain, enc_matmul_plain, conv2d_im2col.\n",
            "If you need to use those operations, try increasing the poly_modulus parameter, to fit your input.\n",
            "WARNING: The input does not fit in a single ciphertext, and some operations will be disabled.\n",
            "The following operations are disabled in this setup: matmul, matmul_plain, enc_matmul_plain, conv2d_im2col.\n",
            "If you need to use those operations, try increasing the poly_modulus parameter, to fit your input.\n",
            "Round 23, Train loss: 0.3710, Test Loss: 0.6844, Test Accuracy: 79.86%\n"
          ]
        },
        {
          "name": "stderr",
          "output_type": "stream",
          "text": [
            "100%|██████████| 10/10 [01:12<00:00,  7.30s/it]\n",
            "100%|██████████| 10/10 [00:58<00:00,  5.84s/it]\n",
            "100%|██████████| 10/10 [00:38<00:00,  3.83s/it]\n",
            "100%|██████████| 10/10 [01:00<00:00,  6.10s/it]\n",
            "100%|██████████| 10/10 [01:00<00:00,  6.01s/it]\n",
            "100%|██████████| 10/10 [00:36<00:00,  3.61s/it]\n",
            "100%|██████████| 10/10 [01:03<00:00,  6.36s/it]\n",
            "100%|██████████| 10/10 [01:20<00:00,  8.08s/it]\n",
            "100%|██████████| 10/10 [01:00<00:00,  6.06s/it]\n",
            "100%|██████████| 10/10 [00:59<00:00,  5.93s/it]\n"
          ]
        },
        {
          "name": "stdout",
          "output_type": "stream",
          "text": [
            "WARNING: The input does not fit in a single ciphertext, and some operations will be disabled.\n",
            "The following operations are disabled in this setup: matmul, matmul_plain, enc_matmul_plain, conv2d_im2col.\n",
            "If you need to use those operations, try increasing the poly_modulus parameter, to fit your input.\n",
            "WARNING: The input does not fit in a single ciphertext, and some operations will be disabled.\n",
            "The following operations are disabled in this setup: matmul, matmul_plain, enc_matmul_plain, conv2d_im2col.\n",
            "If you need to use those operations, try increasing the poly_modulus parameter, to fit your input.\n",
            "WARNING: The input does not fit in a single ciphertext, and some operations will be disabled.\n",
            "The following operations are disabled in this setup: matmul, matmul_plain, enc_matmul_plain, conv2d_im2col.\n",
            "If you need to use those operations, try increasing the poly_modulus parameter, to fit your input.\n",
            "WARNING: The input does not fit in a single ciphertext, and some operations will be disabled.\n",
            "The following operations are disabled in this setup: matmul, matmul_plain, enc_matmul_plain, conv2d_im2col.\n",
            "If you need to use those operations, try increasing the poly_modulus parameter, to fit your input.\n",
            "WARNING: The input does not fit in a single ciphertext, and some operations will be disabled.\n",
            "The following operations are disabled in this setup: matmul, matmul_plain, enc_matmul_plain, conv2d_im2col.\n",
            "If you need to use those operations, try increasing the poly_modulus parameter, to fit your input.\n",
            "WARNING: The input does not fit in a single ciphertext, and some operations will be disabled.\n",
            "The following operations are disabled in this setup: matmul, matmul_plain, enc_matmul_plain, conv2d_im2col.\n",
            "If you need to use those operations, try increasing the poly_modulus parameter, to fit your input.\n",
            "WARNING: The input does not fit in a single ciphertext, and some operations will be disabled.\n",
            "The following operations are disabled in this setup: matmul, matmul_plain, enc_matmul_plain, conv2d_im2col.\n",
            "If you need to use those operations, try increasing the poly_modulus parameter, to fit your input.\n",
            "WARNING: The input does not fit in a single ciphertext, and some operations will be disabled.\n",
            "The following operations are disabled in this setup: matmul, matmul_plain, enc_matmul_plain, conv2d_im2col.\n",
            "If you need to use those operations, try increasing the poly_modulus parameter, to fit your input.\n",
            "WARNING: The input does not fit in a single ciphertext, and some operations will be disabled.\n",
            "The following operations are disabled in this setup: matmul, matmul_plain, enc_matmul_plain, conv2d_im2col.\n",
            "If you need to use those operations, try increasing the poly_modulus parameter, to fit your input.\n",
            "WARNING: The input does not fit in a single ciphertext, and some operations will be disabled.\n",
            "The following operations are disabled in this setup: matmul, matmul_plain, enc_matmul_plain, conv2d_im2col.\n",
            "If you need to use those operations, try increasing the poly_modulus parameter, to fit your input.\n",
            "Round 24, Train loss: 0.3660, Test Loss: 0.6381, Test Accuracy: 81.14%\n"
          ]
        },
        {
          "name": "stderr",
          "output_type": "stream",
          "text": [
            "100%|██████████| 10/10 [01:13<00:00,  7.35s/it]\n",
            "100%|██████████| 10/10 [00:59<00:00,  5.93s/it]\n",
            "100%|██████████| 10/10 [00:56<00:00,  5.61s/it]\n",
            "100%|██████████| 10/10 [01:03<00:00,  6.35s/it]\n",
            "100%|██████████| 10/10 [00:37<00:00,  3.76s/it]\n",
            "100%|██████████| 10/10 [00:43<00:00,  4.36s/it]\n",
            "100%|██████████| 10/10 [01:11<00:00,  7.14s/it]\n",
            "100%|██████████| 10/10 [01:06<00:00,  6.62s/it]\n",
            "100%|██████████| 10/10 [01:14<00:00,  7.40s/it]\n",
            "100%|██████████| 10/10 [01:02<00:00,  6.25s/it]\n"
          ]
        },
        {
          "name": "stdout",
          "output_type": "stream",
          "text": [
            "WARNING: The input does not fit in a single ciphertext, and some operations will be disabled.\n",
            "The following operations are disabled in this setup: matmul, matmul_plain, enc_matmul_plain, conv2d_im2col.\n",
            "If you need to use those operations, try increasing the poly_modulus parameter, to fit your input.\n",
            "WARNING: The input does not fit in a single ciphertext, and some operations will be disabled.\n",
            "The following operations are disabled in this setup: matmul, matmul_plain, enc_matmul_plain, conv2d_im2col.\n",
            "If you need to use those operations, try increasing the poly_modulus parameter, to fit your input.\n",
            "WARNING: The input does not fit in a single ciphertext, and some operations will be disabled.\n",
            "The following operations are disabled in this setup: matmul, matmul_plain, enc_matmul_plain, conv2d_im2col.\n",
            "If you need to use those operations, try increasing the poly_modulus parameter, to fit your input.\n",
            "WARNING: The input does not fit in a single ciphertext, and some operations will be disabled.\n",
            "The following operations are disabled in this setup: matmul, matmul_plain, enc_matmul_plain, conv2d_im2col.\n",
            "If you need to use those operations, try increasing the poly_modulus parameter, to fit your input.\n",
            "WARNING: The input does not fit in a single ciphertext, and some operations will be disabled.\n",
            "The following operations are disabled in this setup: matmul, matmul_plain, enc_matmul_plain, conv2d_im2col.\n",
            "If you need to use those operations, try increasing the poly_modulus parameter, to fit your input.\n",
            "WARNING: The input does not fit in a single ciphertext, and some operations will be disabled.\n",
            "The following operations are disabled in this setup: matmul, matmul_plain, enc_matmul_plain, conv2d_im2col.\n",
            "If you need to use those operations, try increasing the poly_modulus parameter, to fit your input.\n",
            "WARNING: The input does not fit in a single ciphertext, and some operations will be disabled.\n",
            "The following operations are disabled in this setup: matmul, matmul_plain, enc_matmul_plain, conv2d_im2col.\n",
            "If you need to use those operations, try increasing the poly_modulus parameter, to fit your input.\n",
            "WARNING: The input does not fit in a single ciphertext, and some operations will be disabled.\n",
            "The following operations are disabled in this setup: matmul, matmul_plain, enc_matmul_plain, conv2d_im2col.\n",
            "If you need to use those operations, try increasing the poly_modulus parameter, to fit your input.\n",
            "WARNING: The input does not fit in a single ciphertext, and some operations will be disabled.\n",
            "The following operations are disabled in this setup: matmul, matmul_plain, enc_matmul_plain, conv2d_im2col.\n",
            "If you need to use those operations, try increasing the poly_modulus parameter, to fit your input.\n",
            "WARNING: The input does not fit in a single ciphertext, and some operations will be disabled.\n",
            "The following operations are disabled in this setup: matmul, matmul_plain, enc_matmul_plain, conv2d_im2col.\n",
            "If you need to use those operations, try increasing the poly_modulus parameter, to fit your input.\n",
            "Round 25, Train loss: 0.3618, Test Loss: 0.5910, Test Accuracy: 81.81%\n"
          ]
        },
        {
          "name": "stderr",
          "output_type": "stream",
          "text": [
            "100%|██████████| 10/10 [01:05<00:00,  6.58s/it]\n",
            "100%|██████████| 10/10 [01:01<00:00,  6.12s/it]\n",
            "100%|██████████| 10/10 [01:02<00:00,  6.24s/it]\n",
            "100%|██████████| 10/10 [00:37<00:00,  3.77s/it]\n",
            "100%|██████████| 10/10 [01:05<00:00,  6.59s/it]\n",
            "100%|██████████| 10/10 [01:21<00:00,  8.14s/it]\n",
            "100%|██████████| 10/10 [01:21<00:00,  8.12s/it]\n",
            "100%|██████████| 10/10 [00:46<00:00,  4.66s/it]\n",
            "100%|██████████| 10/10 [01:19<00:00,  7.92s/it]\n",
            "100%|██████████| 10/10 [00:59<00:00,  6.00s/it]\n"
          ]
        },
        {
          "name": "stdout",
          "output_type": "stream",
          "text": [
            "WARNING: The input does not fit in a single ciphertext, and some operations will be disabled.\n",
            "The following operations are disabled in this setup: matmul, matmul_plain, enc_matmul_plain, conv2d_im2col.\n",
            "If you need to use those operations, try increasing the poly_modulus parameter, to fit your input.\n",
            "WARNING: The input does not fit in a single ciphertext, and some operations will be disabled.\n",
            "The following operations are disabled in this setup: matmul, matmul_plain, enc_matmul_plain, conv2d_im2col.\n",
            "If you need to use those operations, try increasing the poly_modulus parameter, to fit your input.\n",
            "WARNING: The input does not fit in a single ciphertext, and some operations will be disabled.\n",
            "The following operations are disabled in this setup: matmul, matmul_plain, enc_matmul_plain, conv2d_im2col.\n",
            "If you need to use those operations, try increasing the poly_modulus parameter, to fit your input.\n",
            "WARNING: The input does not fit in a single ciphertext, and some operations will be disabled.\n",
            "The following operations are disabled in this setup: matmul, matmul_plain, enc_matmul_plain, conv2d_im2col.\n",
            "If you need to use those operations, try increasing the poly_modulus parameter, to fit your input.\n",
            "WARNING: The input does not fit in a single ciphertext, and some operations will be disabled.\n",
            "The following operations are disabled in this setup: matmul, matmul_plain, enc_matmul_plain, conv2d_im2col.\n",
            "If you need to use those operations, try increasing the poly_modulus parameter, to fit your input.\n",
            "WARNING: The input does not fit in a single ciphertext, and some operations will be disabled.\n",
            "The following operations are disabled in this setup: matmul, matmul_plain, enc_matmul_plain, conv2d_im2col.\n",
            "If you need to use those operations, try increasing the poly_modulus parameter, to fit your input.\n",
            "WARNING: The input does not fit in a single ciphertext, and some operations will be disabled.\n",
            "The following operations are disabled in this setup: matmul, matmul_plain, enc_matmul_plain, conv2d_im2col.\n",
            "If you need to use those operations, try increasing the poly_modulus parameter, to fit your input.\n",
            "WARNING: The input does not fit in a single ciphertext, and some operations will be disabled.\n",
            "The following operations are disabled in this setup: matmul, matmul_plain, enc_matmul_plain, conv2d_im2col.\n",
            "If you need to use those operations, try increasing the poly_modulus parameter, to fit your input.\n",
            "WARNING: The input does not fit in a single ciphertext, and some operations will be disabled.\n",
            "The following operations are disabled in this setup: matmul, matmul_plain, enc_matmul_plain, conv2d_im2col.\n",
            "If you need to use those operations, try increasing the poly_modulus parameter, to fit your input.\n",
            "WARNING: The input does not fit in a single ciphertext, and some operations will be disabled.\n",
            "The following operations are disabled in this setup: matmul, matmul_plain, enc_matmul_plain, conv2d_im2col.\n",
            "If you need to use those operations, try increasing the poly_modulus parameter, to fit your input.\n",
            "Round 26, Train loss: 0.3366, Test Loss: 0.5913, Test Accuracy: 82.27%\n"
          ]
        },
        {
          "name": "stderr",
          "output_type": "stream",
          "text": [
            "100%|██████████| 10/10 [01:01<00:00,  6.15s/it]\n",
            "100%|██████████| 10/10 [01:01<00:00,  6.14s/it]\n",
            "100%|██████████| 10/10 [01:13<00:00,  7.34s/it]\n",
            "100%|██████████| 10/10 [01:16<00:00,  7.65s/it]\n",
            "100%|██████████| 10/10 [00:36<00:00,  3.66s/it]\n",
            "100%|██████████| 10/10 [01:01<00:00,  6.19s/it]\n",
            "100%|██████████| 10/10 [01:00<00:00,  6.10s/it]\n",
            "100%|██████████| 10/10 [00:57<00:00,  5.70s/it]\n",
            "100%|██████████| 10/10 [00:36<00:00,  3.61s/it]\n",
            "100%|██████████| 10/10 [01:02<00:00,  6.24s/it]\n"
          ]
        },
        {
          "name": "stdout",
          "output_type": "stream",
          "text": [
            "WARNING: The input does not fit in a single ciphertext, and some operations will be disabled.\n",
            "The following operations are disabled in this setup: matmul, matmul_plain, enc_matmul_plain, conv2d_im2col.\n",
            "If you need to use those operations, try increasing the poly_modulus parameter, to fit your input.\n",
            "WARNING: The input does not fit in a single ciphertext, and some operations will be disabled.\n",
            "The following operations are disabled in this setup: matmul, matmul_plain, enc_matmul_plain, conv2d_im2col.\n",
            "If you need to use those operations, try increasing the poly_modulus parameter, to fit your input.\n",
            "WARNING: The input does not fit in a single ciphertext, and some operations will be disabled.\n",
            "The following operations are disabled in this setup: matmul, matmul_plain, enc_matmul_plain, conv2d_im2col.\n",
            "If you need to use those operations, try increasing the poly_modulus parameter, to fit your input.\n",
            "WARNING: The input does not fit in a single ciphertext, and some operations will be disabled.\n",
            "The following operations are disabled in this setup: matmul, matmul_plain, enc_matmul_plain, conv2d_im2col.\n",
            "If you need to use those operations, try increasing the poly_modulus parameter, to fit your input.\n",
            "WARNING: The input does not fit in a single ciphertext, and some operations will be disabled.\n",
            "The following operations are disabled in this setup: matmul, matmul_plain, enc_matmul_plain, conv2d_im2col.\n",
            "If you need to use those operations, try increasing the poly_modulus parameter, to fit your input.\n",
            "WARNING: The input does not fit in a single ciphertext, and some operations will be disabled.\n",
            "The following operations are disabled in this setup: matmul, matmul_plain, enc_matmul_plain, conv2d_im2col.\n",
            "If you need to use those operations, try increasing the poly_modulus parameter, to fit your input.\n",
            "WARNING: The input does not fit in a single ciphertext, and some operations will be disabled.\n",
            "The following operations are disabled in this setup: matmul, matmul_plain, enc_matmul_plain, conv2d_im2col.\n",
            "If you need to use those operations, try increasing the poly_modulus parameter, to fit your input.\n",
            "WARNING: The input does not fit in a single ciphertext, and some operations will be disabled.\n",
            "The following operations are disabled in this setup: matmul, matmul_plain, enc_matmul_plain, conv2d_im2col.\n",
            "If you need to use those operations, try increasing the poly_modulus parameter, to fit your input.\n",
            "WARNING: The input does not fit in a single ciphertext, and some operations will be disabled.\n",
            "The following operations are disabled in this setup: matmul, matmul_plain, enc_matmul_plain, conv2d_im2col.\n",
            "If you need to use those operations, try increasing the poly_modulus parameter, to fit your input.\n",
            "WARNING: The input does not fit in a single ciphertext, and some operations will be disabled.\n",
            "The following operations are disabled in this setup: matmul, matmul_plain, enc_matmul_plain, conv2d_im2col.\n",
            "If you need to use those operations, try increasing the poly_modulus parameter, to fit your input.\n",
            "Round 27, Train loss: 0.3342, Test Loss: 0.6034, Test Accuracy: 82.48%\n"
          ]
        },
        {
          "name": "stderr",
          "output_type": "stream",
          "text": [
            "100%|██████████| 10/10 [00:56<00:00,  5.69s/it]\n",
            "100%|██████████| 10/10 [00:37<00:00,  3.75s/it]\n",
            "100%|██████████| 10/10 [01:00<00:00,  6.01s/it]\n",
            "100%|██████████| 10/10 [00:59<00:00,  5.94s/it]\n",
            "100%|██████████| 10/10 [01:18<00:00,  7.88s/it]\n",
            "100%|██████████| 10/10 [00:57<00:00,  5.78s/it]\n",
            "100%|██████████| 10/10 [01:01<00:00,  6.12s/it]\n",
            "100%|██████████| 10/10 [01:00<00:00,  6.07s/it]\n",
            "100%|██████████| 10/10 [00:38<00:00,  3.83s/it]\n",
            "100%|██████████| 10/10 [01:14<00:00,  7.42s/it]\n"
          ]
        },
        {
          "name": "stdout",
          "output_type": "stream",
          "text": [
            "WARNING: The input does not fit in a single ciphertext, and some operations will be disabled.\n",
            "The following operations are disabled in this setup: matmul, matmul_plain, enc_matmul_plain, conv2d_im2col.\n",
            "If you need to use those operations, try increasing the poly_modulus parameter, to fit your input.\n",
            "WARNING: The input does not fit in a single ciphertext, and some operations will be disabled.\n",
            "The following operations are disabled in this setup: matmul, matmul_plain, enc_matmul_plain, conv2d_im2col.\n",
            "If you need to use those operations, try increasing the poly_modulus parameter, to fit your input.\n",
            "WARNING: The input does not fit in a single ciphertext, and some operations will be disabled.\n",
            "The following operations are disabled in this setup: matmul, matmul_plain, enc_matmul_plain, conv2d_im2col.\n",
            "If you need to use those operations, try increasing the poly_modulus parameter, to fit your input.\n",
            "WARNING: The input does not fit in a single ciphertext, and some operations will be disabled.\n",
            "The following operations are disabled in this setup: matmul, matmul_plain, enc_matmul_plain, conv2d_im2col.\n",
            "If you need to use those operations, try increasing the poly_modulus parameter, to fit your input.\n",
            "WARNING: The input does not fit in a single ciphertext, and some operations will be disabled.\n",
            "The following operations are disabled in this setup: matmul, matmul_plain, enc_matmul_plain, conv2d_im2col.\n",
            "If you need to use those operations, try increasing the poly_modulus parameter, to fit your input.\n",
            "WARNING: The input does not fit in a single ciphertext, and some operations will be disabled.\n",
            "The following operations are disabled in this setup: matmul, matmul_plain, enc_matmul_plain, conv2d_im2col.\n",
            "If you need to use those operations, try increasing the poly_modulus parameter, to fit your input.\n",
            "WARNING: The input does not fit in a single ciphertext, and some operations will be disabled.\n",
            "The following operations are disabled in this setup: matmul, matmul_plain, enc_matmul_plain, conv2d_im2col.\n",
            "If you need to use those operations, try increasing the poly_modulus parameter, to fit your input.\n",
            "WARNING: The input does not fit in a single ciphertext, and some operations will be disabled.\n",
            "The following operations are disabled in this setup: matmul, matmul_plain, enc_matmul_plain, conv2d_im2col.\n",
            "If you need to use those operations, try increasing the poly_modulus parameter, to fit your input.\n",
            "WARNING: The input does not fit in a single ciphertext, and some operations will be disabled.\n",
            "The following operations are disabled in this setup: matmul, matmul_plain, enc_matmul_plain, conv2d_im2col.\n",
            "If you need to use those operations, try increasing the poly_modulus parameter, to fit your input.\n",
            "WARNING: The input does not fit in a single ciphertext, and some operations will be disabled.\n",
            "The following operations are disabled in this setup: matmul, matmul_plain, enc_matmul_plain, conv2d_im2col.\n",
            "If you need to use those operations, try increasing the poly_modulus parameter, to fit your input.\n",
            "Round 28, Train loss: 0.3311, Test Loss: 0.5231, Test Accuracy: 83.93%\n"
          ]
        },
        {
          "name": "stderr",
          "output_type": "stream",
          "text": [
            "100%|██████████| 10/10 [01:14<00:00,  7.48s/it]\n",
            "100%|██████████| 10/10 [00:59<00:00,  5.93s/it]\n",
            "100%|██████████| 10/10 [00:40<00:00,  4.01s/it]\n",
            "100%|██████████| 10/10 [00:59<00:00,  5.94s/it]\n",
            "100%|██████████| 10/10 [01:13<00:00,  7.38s/it]\n",
            "100%|██████████| 10/10 [01:00<00:00,  6.09s/it]\n",
            "100%|██████████| 10/10 [00:36<00:00,  3.64s/it]\n",
            "100%|██████████| 10/10 [00:59<00:00,  5.94s/it]\n",
            "100%|██████████| 10/10 [01:01<00:00,  6.18s/it]\n",
            "100%|██████████| 10/10 [00:59<00:00,  5.99s/it]\n"
          ]
        },
        {
          "name": "stdout",
          "output_type": "stream",
          "text": [
            "WARNING: The input does not fit in a single ciphertext, and some operations will be disabled.\n",
            "The following operations are disabled in this setup: matmul, matmul_plain, enc_matmul_plain, conv2d_im2col.\n",
            "If you need to use those operations, try increasing the poly_modulus parameter, to fit your input.\n",
            "WARNING: The input does not fit in a single ciphertext, and some operations will be disabled.\n",
            "The following operations are disabled in this setup: matmul, matmul_plain, enc_matmul_plain, conv2d_im2col.\n",
            "If you need to use those operations, try increasing the poly_modulus parameter, to fit your input.\n",
            "WARNING: The input does not fit in a single ciphertext, and some operations will be disabled.\n",
            "The following operations are disabled in this setup: matmul, matmul_plain, enc_matmul_plain, conv2d_im2col.\n",
            "If you need to use those operations, try increasing the poly_modulus parameter, to fit your input.\n",
            "WARNING: The input does not fit in a single ciphertext, and some operations will be disabled.\n",
            "The following operations are disabled in this setup: matmul, matmul_plain, enc_matmul_plain, conv2d_im2col.\n",
            "If you need to use those operations, try increasing the poly_modulus parameter, to fit your input.\n",
            "WARNING: The input does not fit in a single ciphertext, and some operations will be disabled.\n",
            "The following operations are disabled in this setup: matmul, matmul_plain, enc_matmul_plain, conv2d_im2col.\n",
            "If you need to use those operations, try increasing the poly_modulus parameter, to fit your input.\n",
            "WARNING: The input does not fit in a single ciphertext, and some operations will be disabled.\n",
            "The following operations are disabled in this setup: matmul, matmul_plain, enc_matmul_plain, conv2d_im2col.\n",
            "If you need to use those operations, try increasing the poly_modulus parameter, to fit your input.\n",
            "WARNING: The input does not fit in a single ciphertext, and some operations will be disabled.\n",
            "The following operations are disabled in this setup: matmul, matmul_plain, enc_matmul_plain, conv2d_im2col.\n",
            "If you need to use those operations, try increasing the poly_modulus parameter, to fit your input.\n",
            "WARNING: The input does not fit in a single ciphertext, and some operations will be disabled.\n",
            "The following operations are disabled in this setup: matmul, matmul_plain, enc_matmul_plain, conv2d_im2col.\n",
            "If you need to use those operations, try increasing the poly_modulus parameter, to fit your input.\n",
            "WARNING: The input does not fit in a single ciphertext, and some operations will be disabled.\n",
            "The following operations are disabled in this setup: matmul, matmul_plain, enc_matmul_plain, conv2d_im2col.\n",
            "If you need to use those operations, try increasing the poly_modulus parameter, to fit your input.\n",
            "WARNING: The input does not fit in a single ciphertext, and some operations will be disabled.\n",
            "The following operations are disabled in this setup: matmul, matmul_plain, enc_matmul_plain, conv2d_im2col.\n",
            "If you need to use those operations, try increasing the poly_modulus parameter, to fit your input.\n",
            "Round 29, Train loss: 0.3045, Test Loss: 0.5387, Test Accuracy: 83.91%\n"
          ]
        },
        {
          "name": "stderr",
          "output_type": "stream",
          "text": [
            "100%|██████████| 10/10 [01:00<00:00,  6.04s/it]\n",
            "100%|██████████| 10/10 [01:02<00:00,  6.21s/it]\n",
            "100%|██████████| 10/10 [01:15<00:00,  7.56s/it]\n",
            "100%|██████████| 10/10 [00:57<00:00,  5.79s/it]\n",
            "100%|██████████| 10/10 [01:13<00:00,  7.31s/it]\n",
            "100%|██████████| 10/10 [00:38<00:00,  3.81s/it]\n",
            "100%|██████████| 10/10 [00:59<00:00,  5.91s/it]\n",
            "100%|██████████| 10/10 [00:59<00:00,  5.92s/it]\n",
            "100%|██████████| 10/10 [01:10<00:00,  7.03s/it]\n",
            "100%|██████████| 10/10 [00:41<00:00,  4.14s/it]\n"
          ]
        },
        {
          "name": "stdout",
          "output_type": "stream",
          "text": [
            "WARNING: The input does not fit in a single ciphertext, and some operations will be disabled.\n",
            "The following operations are disabled in this setup: matmul, matmul_plain, enc_matmul_plain, conv2d_im2col.\n",
            "If you need to use those operations, try increasing the poly_modulus parameter, to fit your input.\n",
            "WARNING: The input does not fit in a single ciphertext, and some operations will be disabled.\n",
            "The following operations are disabled in this setup: matmul, matmul_plain, enc_matmul_plain, conv2d_im2col.\n",
            "If you need to use those operations, try increasing the poly_modulus parameter, to fit your input.\n",
            "WARNING: The input does not fit in a single ciphertext, and some operations will be disabled.\n",
            "The following operations are disabled in this setup: matmul, matmul_plain, enc_matmul_plain, conv2d_im2col.\n",
            "If you need to use those operations, try increasing the poly_modulus parameter, to fit your input.\n",
            "WARNING: The input does not fit in a single ciphertext, and some operations will be disabled.\n",
            "The following operations are disabled in this setup: matmul, matmul_plain, enc_matmul_plain, conv2d_im2col.\n",
            "If you need to use those operations, try increasing the poly_modulus parameter, to fit your input.\n",
            "WARNING: The input does not fit in a single ciphertext, and some operations will be disabled.\n",
            "The following operations are disabled in this setup: matmul, matmul_plain, enc_matmul_plain, conv2d_im2col.\n",
            "If you need to use those operations, try increasing the poly_modulus parameter, to fit your input.\n",
            "WARNING: The input does not fit in a single ciphertext, and some operations will be disabled.\n",
            "The following operations are disabled in this setup: matmul, matmul_plain, enc_matmul_plain, conv2d_im2col.\n",
            "If you need to use those operations, try increasing the poly_modulus parameter, to fit your input.\n",
            "WARNING: The input does not fit in a single ciphertext, and some operations will be disabled.\n",
            "The following operations are disabled in this setup: matmul, matmul_plain, enc_matmul_plain, conv2d_im2col.\n",
            "If you need to use those operations, try increasing the poly_modulus parameter, to fit your input.\n",
            "WARNING: The input does not fit in a single ciphertext, and some operations will be disabled.\n",
            "The following operations are disabled in this setup: matmul, matmul_plain, enc_matmul_plain, conv2d_im2col.\n",
            "If you need to use those operations, try increasing the poly_modulus parameter, to fit your input.\n",
            "WARNING: The input does not fit in a single ciphertext, and some operations will be disabled.\n",
            "The following operations are disabled in this setup: matmul, matmul_plain, enc_matmul_plain, conv2d_im2col.\n",
            "If you need to use those operations, try increasing the poly_modulus parameter, to fit your input.\n",
            "WARNING: The input does not fit in a single ciphertext, and some operations will be disabled.\n",
            "The following operations are disabled in this setup: matmul, matmul_plain, enc_matmul_plain, conv2d_im2col.\n",
            "If you need to use those operations, try increasing the poly_modulus parameter, to fit your input.\n",
            "Round 30, Train loss: 0.3037, Test Loss: 0.5524, Test Accuracy: 84.10%\n"
          ]
        },
        {
          "name": "stderr",
          "output_type": "stream",
          "text": [
            "100%|██████████| 10/10 [01:05<00:00,  6.58s/it]\n",
            "100%|██████████| 10/10 [01:12<00:00,  7.21s/it]\n",
            "100%|██████████| 10/10 [01:15<00:00,  7.59s/it]\n",
            "100%|██████████| 10/10 [01:03<00:00,  6.35s/it]\n",
            "100%|██████████| 10/10 [01:04<00:00,  6.43s/it]\n",
            "100%|██████████| 10/10 [01:00<00:00,  6.00s/it]\n",
            "100%|██████████| 10/10 [01:00<00:00,  6.09s/it]\n",
            "100%|██████████| 10/10 [00:37<00:00,  3.71s/it]\n",
            "100%|██████████| 10/10 [00:48<00:00,  4.87s/it]\n",
            "100%|██████████| 10/10 [01:13<00:00,  7.34s/it]\n"
          ]
        },
        {
          "name": "stdout",
          "output_type": "stream",
          "text": [
            "WARNING: The input does not fit in a single ciphertext, and some operations will be disabled.\n",
            "The following operations are disabled in this setup: matmul, matmul_plain, enc_matmul_plain, conv2d_im2col.\n",
            "If you need to use those operations, try increasing the poly_modulus parameter, to fit your input.\n",
            "WARNING: The input does not fit in a single ciphertext, and some operations will be disabled.\n",
            "The following operations are disabled in this setup: matmul, matmul_plain, enc_matmul_plain, conv2d_im2col.\n",
            "If you need to use those operations, try increasing the poly_modulus parameter, to fit your input.\n",
            "WARNING: The input does not fit in a single ciphertext, and some operations will be disabled.\n",
            "The following operations are disabled in this setup: matmul, matmul_plain, enc_matmul_plain, conv2d_im2col.\n",
            "If you need to use those operations, try increasing the poly_modulus parameter, to fit your input.\n",
            "WARNING: The input does not fit in a single ciphertext, and some operations will be disabled.\n",
            "The following operations are disabled in this setup: matmul, matmul_plain, enc_matmul_plain, conv2d_im2col.\n",
            "If you need to use those operations, try increasing the poly_modulus parameter, to fit your input.\n",
            "WARNING: The input does not fit in a single ciphertext, and some operations will be disabled.\n",
            "The following operations are disabled in this setup: matmul, matmul_plain, enc_matmul_plain, conv2d_im2col.\n",
            "If you need to use those operations, try increasing the poly_modulus parameter, to fit your input.\n",
            "WARNING: The input does not fit in a single ciphertext, and some operations will be disabled.\n",
            "The following operations are disabled in this setup: matmul, matmul_plain, enc_matmul_plain, conv2d_im2col.\n",
            "If you need to use those operations, try increasing the poly_modulus parameter, to fit your input.\n",
            "WARNING: The input does not fit in a single ciphertext, and some operations will be disabled.\n",
            "The following operations are disabled in this setup: matmul, matmul_plain, enc_matmul_plain, conv2d_im2col.\n",
            "If you need to use those operations, try increasing the poly_modulus parameter, to fit your input.\n",
            "WARNING: The input does not fit in a single ciphertext, and some operations will be disabled.\n",
            "The following operations are disabled in this setup: matmul, matmul_plain, enc_matmul_plain, conv2d_im2col.\n",
            "If you need to use those operations, try increasing the poly_modulus parameter, to fit your input.\n",
            "WARNING: The input does not fit in a single ciphertext, and some operations will be disabled.\n",
            "The following operations are disabled in this setup: matmul, matmul_plain, enc_matmul_plain, conv2d_im2col.\n",
            "If you need to use those operations, try increasing the poly_modulus parameter, to fit your input.\n",
            "WARNING: The input does not fit in a single ciphertext, and some operations will be disabled.\n",
            "The following operations are disabled in this setup: matmul, matmul_plain, enc_matmul_plain, conv2d_im2col.\n",
            "If you need to use those operations, try increasing the poly_modulus parameter, to fit your input.\n",
            "Round 31, Train loss: 0.3061, Test Loss: 0.5495, Test Accuracy: 84.11%\n"
          ]
        },
        {
          "name": "stderr",
          "output_type": "stream",
          "text": [
            "100%|██████████| 10/10 [01:27<00:00,  8.78s/it]\n",
            "100%|██████████| 10/10 [01:03<00:00,  6.35s/it]\n",
            "100%|██████████| 10/10 [00:58<00:00,  5.87s/it]\n",
            "100%|██████████| 10/10 [01:25<00:00,  8.52s/it]\n",
            "100%|██████████| 10/10 [01:14<00:00,  7.44s/it]\n",
            "100%|██████████| 10/10 [00:42<00:00,  4.29s/it]\n",
            "100%|██████████| 10/10 [00:49<00:00,  4.96s/it]\n",
            "100%|██████████| 10/10 [01:09<00:00,  6.97s/it]\n",
            "100%|██████████| 10/10 [01:15<00:00,  7.52s/it]\n",
            "100%|██████████| 10/10 [01:15<00:00,  7.51s/it]\n"
          ]
        },
        {
          "name": "stdout",
          "output_type": "stream",
          "text": [
            "WARNING: The input does not fit in a single ciphertext, and some operations will be disabled.\n",
            "The following operations are disabled in this setup: matmul, matmul_plain, enc_matmul_plain, conv2d_im2col.\n",
            "If you need to use those operations, try increasing the poly_modulus parameter, to fit your input.\n",
            "WARNING: The input does not fit in a single ciphertext, and some operations will be disabled.\n",
            "The following operations are disabled in this setup: matmul, matmul_plain, enc_matmul_plain, conv2d_im2col.\n",
            "If you need to use those operations, try increasing the poly_modulus parameter, to fit your input.\n",
            "WARNING: The input does not fit in a single ciphertext, and some operations will be disabled.\n",
            "The following operations are disabled in this setup: matmul, matmul_plain, enc_matmul_plain, conv2d_im2col.\n",
            "If you need to use those operations, try increasing the poly_modulus parameter, to fit your input.\n",
            "WARNING: The input does not fit in a single ciphertext, and some operations will be disabled.\n",
            "The following operations are disabled in this setup: matmul, matmul_plain, enc_matmul_plain, conv2d_im2col.\n",
            "If you need to use those operations, try increasing the poly_modulus parameter, to fit your input.\n",
            "WARNING: The input does not fit in a single ciphertext, and some operations will be disabled.\n",
            "The following operations are disabled in this setup: matmul, matmul_plain, enc_matmul_plain, conv2d_im2col.\n",
            "If you need to use those operations, try increasing the poly_modulus parameter, to fit your input.\n",
            "WARNING: The input does not fit in a single ciphertext, and some operations will be disabled.\n",
            "The following operations are disabled in this setup: matmul, matmul_plain, enc_matmul_plain, conv2d_im2col.\n",
            "If you need to use those operations, try increasing the poly_modulus parameter, to fit your input.\n",
            "WARNING: The input does not fit in a single ciphertext, and some operations will be disabled.\n",
            "The following operations are disabled in this setup: matmul, matmul_plain, enc_matmul_plain, conv2d_im2col.\n",
            "If you need to use those operations, try increasing the poly_modulus parameter, to fit your input.\n",
            "WARNING: The input does not fit in a single ciphertext, and some operations will be disabled.\n",
            "The following operations are disabled in this setup: matmul, matmul_plain, enc_matmul_plain, conv2d_im2col.\n",
            "If you need to use those operations, try increasing the poly_modulus parameter, to fit your input.\n",
            "WARNING: The input does not fit in a single ciphertext, and some operations will be disabled.\n",
            "The following operations are disabled in this setup: matmul, matmul_plain, enc_matmul_plain, conv2d_im2col.\n",
            "If you need to use those operations, try increasing the poly_modulus parameter, to fit your input.\n",
            "WARNING: The input does not fit in a single ciphertext, and some operations will be disabled.\n",
            "The following operations are disabled in this setup: matmul, matmul_plain, enc_matmul_plain, conv2d_im2col.\n",
            "If you need to use those operations, try increasing the poly_modulus parameter, to fit your input.\n",
            "Round 32, Train loss: 0.2847, Test Loss: 0.5479, Test Accuracy: 84.33%\n"
          ]
        },
        {
          "name": "stderr",
          "output_type": "stream",
          "text": [
            "100%|██████████| 10/10 [01:10<00:00,  7.04s/it]\n",
            "100%|██████████| 10/10 [01:29<00:00,  9.00s/it]\n",
            "100%|██████████| 10/10 [01:05<00:00,  6.52s/it]\n",
            "100%|██████████| 10/10 [00:36<00:00,  3.67s/it]\n",
            "100%|██████████| 10/10 [01:13<00:00,  7.32s/it]\n",
            "100%|██████████| 10/10 [01:04<00:00,  6.42s/it]\n",
            "100%|██████████| 10/10 [01:01<00:00,  6.12s/it]\n",
            "100%|██████████| 10/10 [01:01<00:00,  6.20s/it]\n",
            "100%|██████████| 10/10 [00:59<00:00,  5.95s/it]\n",
            "100%|██████████| 10/10 [00:37<00:00,  3.72s/it]\n"
          ]
        },
        {
          "name": "stdout",
          "output_type": "stream",
          "text": [
            "WARNING: The input does not fit in a single ciphertext, and some operations will be disabled.\n",
            "The following operations are disabled in this setup: matmul, matmul_plain, enc_matmul_plain, conv2d_im2col.\n",
            "If you need to use those operations, try increasing the poly_modulus parameter, to fit your input.\n",
            "WARNING: The input does not fit in a single ciphertext, and some operations will be disabled.\n",
            "The following operations are disabled in this setup: matmul, matmul_plain, enc_matmul_plain, conv2d_im2col.\n",
            "If you need to use those operations, try increasing the poly_modulus parameter, to fit your input.\n",
            "WARNING: The input does not fit in a single ciphertext, and some operations will be disabled.\n",
            "The following operations are disabled in this setup: matmul, matmul_plain, enc_matmul_plain, conv2d_im2col.\n",
            "If you need to use those operations, try increasing the poly_modulus parameter, to fit your input.\n",
            "WARNING: The input does not fit in a single ciphertext, and some operations will be disabled.\n",
            "The following operations are disabled in this setup: matmul, matmul_plain, enc_matmul_plain, conv2d_im2col.\n",
            "If you need to use those operations, try increasing the poly_modulus parameter, to fit your input.\n",
            "WARNING: The input does not fit in a single ciphertext, and some operations will be disabled.\n",
            "The following operations are disabled in this setup: matmul, matmul_plain, enc_matmul_plain, conv2d_im2col.\n",
            "If you need to use those operations, try increasing the poly_modulus parameter, to fit your input.\n",
            "WARNING: The input does not fit in a single ciphertext, and some operations will be disabled.\n",
            "The following operations are disabled in this setup: matmul, matmul_plain, enc_matmul_plain, conv2d_im2col.\n",
            "If you need to use those operations, try increasing the poly_modulus parameter, to fit your input.\n",
            "WARNING: The input does not fit in a single ciphertext, and some operations will be disabled.\n",
            "The following operations are disabled in this setup: matmul, matmul_plain, enc_matmul_plain, conv2d_im2col.\n",
            "If you need to use those operations, try increasing the poly_modulus parameter, to fit your input.\n",
            "WARNING: The input does not fit in a single ciphertext, and some operations will be disabled.\n",
            "The following operations are disabled in this setup: matmul, matmul_plain, enc_matmul_plain, conv2d_im2col.\n",
            "If you need to use those operations, try increasing the poly_modulus parameter, to fit your input.\n",
            "WARNING: The input does not fit in a single ciphertext, and some operations will be disabled.\n",
            "The following operations are disabled in this setup: matmul, matmul_plain, enc_matmul_plain, conv2d_im2col.\n",
            "If you need to use those operations, try increasing the poly_modulus parameter, to fit your input.\n",
            "WARNING: The input does not fit in a single ciphertext, and some operations will be disabled.\n",
            "The following operations are disabled in this setup: matmul, matmul_plain, enc_matmul_plain, conv2d_im2col.\n",
            "If you need to use those operations, try increasing the poly_modulus parameter, to fit your input.\n",
            "Round 33, Train loss: 0.2837, Test Loss: 0.5228, Test Accuracy: 85.01%\n"
          ]
        },
        {
          "name": "stderr",
          "output_type": "stream",
          "text": [
            "100%|██████████| 10/10 [00:38<00:00,  3.85s/it]\n",
            "100%|██████████| 10/10 [01:01<00:00,  6.12s/it]\n",
            "100%|██████████| 10/10 [01:03<00:00,  6.37s/it]\n",
            "100%|██████████| 10/10 [01:19<00:00,  7.98s/it]\n",
            "100%|██████████| 10/10 [01:13<00:00,  7.36s/it]\n",
            "100%|██████████| 10/10 [01:05<00:00,  6.59s/it]\n",
            "100%|██████████| 10/10 [01:11<00:00,  7.19s/it]\n",
            "100%|██████████| 10/10 [01:02<00:00,  6.23s/it]\n",
            "100%|██████████| 10/10 [00:36<00:00,  3.68s/it]\n",
            "100%|██████████| 10/10 [01:02<00:00,  6.25s/it]\n"
          ]
        },
        {
          "name": "stdout",
          "output_type": "stream",
          "text": [
            "WARNING: The input does not fit in a single ciphertext, and some operations will be disabled.\n",
            "The following operations are disabled in this setup: matmul, matmul_plain, enc_matmul_plain, conv2d_im2col.\n",
            "If you need to use those operations, try increasing the poly_modulus parameter, to fit your input.\n",
            "WARNING: The input does not fit in a single ciphertext, and some operations will be disabled.\n",
            "The following operations are disabled in this setup: matmul, matmul_plain, enc_matmul_plain, conv2d_im2col.\n",
            "If you need to use those operations, try increasing the poly_modulus parameter, to fit your input.\n",
            "WARNING: The input does not fit in a single ciphertext, and some operations will be disabled.\n",
            "The following operations are disabled in this setup: matmul, matmul_plain, enc_matmul_plain, conv2d_im2col.\n",
            "If you need to use those operations, try increasing the poly_modulus parameter, to fit your input.\n",
            "WARNING: The input does not fit in a single ciphertext, and some operations will be disabled.\n",
            "The following operations are disabled in this setup: matmul, matmul_plain, enc_matmul_plain, conv2d_im2col.\n",
            "If you need to use those operations, try increasing the poly_modulus parameter, to fit your input.\n",
            "WARNING: The input does not fit in a single ciphertext, and some operations will be disabled.\n",
            "The following operations are disabled in this setup: matmul, matmul_plain, enc_matmul_plain, conv2d_im2col.\n",
            "If you need to use those operations, try increasing the poly_modulus parameter, to fit your input.\n",
            "WARNING: The input does not fit in a single ciphertext, and some operations will be disabled.\n",
            "The following operations are disabled in this setup: matmul, matmul_plain, enc_matmul_plain, conv2d_im2col.\n",
            "If you need to use those operations, try increasing the poly_modulus parameter, to fit your input.\n",
            "WARNING: The input does not fit in a single ciphertext, and some operations will be disabled.\n",
            "The following operations are disabled in this setup: matmul, matmul_plain, enc_matmul_plain, conv2d_im2col.\n",
            "If you need to use those operations, try increasing the poly_modulus parameter, to fit your input.\n",
            "WARNING: The input does not fit in a single ciphertext, and some operations will be disabled.\n",
            "The following operations are disabled in this setup: matmul, matmul_plain, enc_matmul_plain, conv2d_im2col.\n",
            "If you need to use those operations, try increasing the poly_modulus parameter, to fit your input.\n",
            "WARNING: The input does not fit in a single ciphertext, and some operations will be disabled.\n",
            "The following operations are disabled in this setup: matmul, matmul_plain, enc_matmul_plain, conv2d_im2col.\n",
            "If you need to use those operations, try increasing the poly_modulus parameter, to fit your input.\n",
            "WARNING: The input does not fit in a single ciphertext, and some operations will be disabled.\n",
            "The following operations are disabled in this setup: matmul, matmul_plain, enc_matmul_plain, conv2d_im2col.\n",
            "If you need to use those operations, try increasing the poly_modulus parameter, to fit your input.\n",
            "Round 34, Train loss: 0.2782, Test Loss: 0.4739, Test Accuracy: 85.84%\n"
          ]
        },
        {
          "name": "stderr",
          "output_type": "stream",
          "text": [
            "100%|██████████| 10/10 [01:04<00:00,  6.42s/it]\n",
            "100%|██████████| 10/10 [00:37<00:00,  3.76s/it]\n",
            "100%|██████████| 10/10 [01:06<00:00,  6.67s/it]\n",
            "100%|██████████| 10/10 [01:01<00:00,  6.16s/it]\n",
            "100%|██████████| 10/10 [01:15<00:00,  7.60s/it]\n",
            "100%|██████████| 10/10 [00:57<00:00,  5.74s/it]\n",
            "100%|██████████| 10/10 [01:15<00:00,  7.58s/it]\n",
            "100%|██████████| 10/10 [01:02<00:00,  6.26s/it]\n",
            "100%|██████████| 10/10 [00:53<00:00,  5.39s/it]\n",
            "100%|██████████| 10/10 [00:36<00:00,  3.70s/it]\n"
          ]
        },
        {
          "name": "stdout",
          "output_type": "stream",
          "text": [
            "WARNING: The input does not fit in a single ciphertext, and some operations will be disabled.\n",
            "The following operations are disabled in this setup: matmul, matmul_plain, enc_matmul_plain, conv2d_im2col.\n",
            "If you need to use those operations, try increasing the poly_modulus parameter, to fit your input.\n",
            "WARNING: The input does not fit in a single ciphertext, and some operations will be disabled.\n",
            "The following operations are disabled in this setup: matmul, matmul_plain, enc_matmul_plain, conv2d_im2col.\n",
            "If you need to use those operations, try increasing the poly_modulus parameter, to fit your input.\n",
            "WARNING: The input does not fit in a single ciphertext, and some operations will be disabled.\n",
            "The following operations are disabled in this setup: matmul, matmul_plain, enc_matmul_plain, conv2d_im2col.\n",
            "If you need to use those operations, try increasing the poly_modulus parameter, to fit your input.\n",
            "WARNING: The input does not fit in a single ciphertext, and some operations will be disabled.\n",
            "The following operations are disabled in this setup: matmul, matmul_plain, enc_matmul_plain, conv2d_im2col.\n",
            "If you need to use those operations, try increasing the poly_modulus parameter, to fit your input.\n",
            "WARNING: The input does not fit in a single ciphertext, and some operations will be disabled.\n",
            "The following operations are disabled in this setup: matmul, matmul_plain, enc_matmul_plain, conv2d_im2col.\n",
            "If you need to use those operations, try increasing the poly_modulus parameter, to fit your input.\n",
            "WARNING: The input does not fit in a single ciphertext, and some operations will be disabled.\n",
            "The following operations are disabled in this setup: matmul, matmul_plain, enc_matmul_plain, conv2d_im2col.\n",
            "If you need to use those operations, try increasing the poly_modulus parameter, to fit your input.\n",
            "WARNING: The input does not fit in a single ciphertext, and some operations will be disabled.\n",
            "The following operations are disabled in this setup: matmul, matmul_plain, enc_matmul_plain, conv2d_im2col.\n",
            "If you need to use those operations, try increasing the poly_modulus parameter, to fit your input.\n",
            "WARNING: The input does not fit in a single ciphertext, and some operations will be disabled.\n",
            "The following operations are disabled in this setup: matmul, matmul_plain, enc_matmul_plain, conv2d_im2col.\n",
            "If you need to use those operations, try increasing the poly_modulus parameter, to fit your input.\n",
            "WARNING: The input does not fit in a single ciphertext, and some operations will be disabled.\n",
            "The following operations are disabled in this setup: matmul, matmul_plain, enc_matmul_plain, conv2d_im2col.\n",
            "If you need to use those operations, try increasing the poly_modulus parameter, to fit your input.\n",
            "WARNING: The input does not fit in a single ciphertext, and some operations will be disabled.\n",
            "The following operations are disabled in this setup: matmul, matmul_plain, enc_matmul_plain, conv2d_im2col.\n",
            "If you need to use those operations, try increasing the poly_modulus parameter, to fit your input.\n",
            "Round 35, Train loss: 0.2606, Test Loss: 0.5033, Test Accuracy: 85.73%\n"
          ]
        },
        {
          "name": "stderr",
          "output_type": "stream",
          "text": [
            "100%|██████████| 10/10 [01:14<00:00,  7.44s/it]\n",
            "100%|██████████| 10/10 [00:58<00:00,  5.88s/it]\n",
            "100%|██████████| 10/10 [00:53<00:00,  5.31s/it]\n",
            "100%|██████████| 10/10 [00:36<00:00,  3.62s/it]\n",
            "100%|██████████| 10/10 [00:58<00:00,  5.86s/it]\n",
            "100%|██████████| 10/10 [00:35<00:00,  3.54s/it]\n",
            "100%|██████████| 10/10 [01:13<00:00,  7.30s/it]\n",
            "100%|██████████| 10/10 [00:58<00:00,  5.89s/it]\n",
            "100%|██████████| 10/10 [01:01<00:00,  6.17s/it]\n",
            "100%|██████████| 10/10 [00:59<00:00,  5.94s/it]\n"
          ]
        },
        {
          "name": "stdout",
          "output_type": "stream",
          "text": [
            "WARNING: The input does not fit in a single ciphertext, and some operations will be disabled.\n",
            "The following operations are disabled in this setup: matmul, matmul_plain, enc_matmul_plain, conv2d_im2col.\n",
            "If you need to use those operations, try increasing the poly_modulus parameter, to fit your input.\n",
            "WARNING: The input does not fit in a single ciphertext, and some operations will be disabled.\n",
            "The following operations are disabled in this setup: matmul, matmul_plain, enc_matmul_plain, conv2d_im2col.\n",
            "If you need to use those operations, try increasing the poly_modulus parameter, to fit your input.\n",
            "WARNING: The input does not fit in a single ciphertext, and some operations will be disabled.\n",
            "The following operations are disabled in this setup: matmul, matmul_plain, enc_matmul_plain, conv2d_im2col.\n",
            "If you need to use those operations, try increasing the poly_modulus parameter, to fit your input.\n",
            "WARNING: The input does not fit in a single ciphertext, and some operations will be disabled.\n",
            "The following operations are disabled in this setup: matmul, matmul_plain, enc_matmul_plain, conv2d_im2col.\n",
            "If you need to use those operations, try increasing the poly_modulus parameter, to fit your input.\n",
            "WARNING: The input does not fit in a single ciphertext, and some operations will be disabled.\n",
            "The following operations are disabled in this setup: matmul, matmul_plain, enc_matmul_plain, conv2d_im2col.\n",
            "If you need to use those operations, try increasing the poly_modulus parameter, to fit your input.\n",
            "WARNING: The input does not fit in a single ciphertext, and some operations will be disabled.\n",
            "The following operations are disabled in this setup: matmul, matmul_plain, enc_matmul_plain, conv2d_im2col.\n",
            "If you need to use those operations, try increasing the poly_modulus parameter, to fit your input.\n",
            "WARNING: The input does not fit in a single ciphertext, and some operations will be disabled.\n",
            "The following operations are disabled in this setup: matmul, matmul_plain, enc_matmul_plain, conv2d_im2col.\n",
            "If you need to use those operations, try increasing the poly_modulus parameter, to fit your input.\n",
            "WARNING: The input does not fit in a single ciphertext, and some operations will be disabled.\n",
            "The following operations are disabled in this setup: matmul, matmul_plain, enc_matmul_plain, conv2d_im2col.\n",
            "If you need to use those operations, try increasing the poly_modulus parameter, to fit your input.\n",
            "WARNING: The input does not fit in a single ciphertext, and some operations will be disabled.\n",
            "The following operations are disabled in this setup: matmul, matmul_plain, enc_matmul_plain, conv2d_im2col.\n",
            "If you need to use those operations, try increasing the poly_modulus parameter, to fit your input.\n",
            "WARNING: The input does not fit in a single ciphertext, and some operations will be disabled.\n",
            "The following operations are disabled in this setup: matmul, matmul_plain, enc_matmul_plain, conv2d_im2col.\n",
            "If you need to use those operations, try increasing the poly_modulus parameter, to fit your input.\n",
            "Round 36, Train loss: 0.2584, Test Loss: 0.5280, Test Accuracy: 85.56%\n"
          ]
        },
        {
          "name": "stderr",
          "output_type": "stream",
          "text": [
            "100%|██████████| 10/10 [01:00<00:00,  6.03s/it]\n",
            "100%|██████████| 10/10 [01:03<00:00,  6.36s/it]\n",
            "100%|██████████| 10/10 [01:05<00:00,  6.59s/it]\n",
            "100%|██████████| 10/10 [01:02<00:00,  6.28s/it]\n",
            "100%|██████████| 10/10 [00:56<00:00,  5.66s/it]\n",
            "100%|██████████| 10/10 [00:38<00:00,  3.85s/it]\n",
            "100%|██████████| 10/10 [00:59<00:00,  5.93s/it]\n",
            "100%|██████████| 10/10 [01:13<00:00,  7.31s/it]\n",
            "100%|██████████| 10/10 [00:36<00:00,  3.70s/it]\n",
            "100%|██████████| 10/10 [01:27<00:00,  8.77s/it]\n"
          ]
        },
        {
          "name": "stdout",
          "output_type": "stream",
          "text": [
            "WARNING: The input does not fit in a single ciphertext, and some operations will be disabled.\n",
            "The following operations are disabled in this setup: matmul, matmul_plain, enc_matmul_plain, conv2d_im2col.\n",
            "If you need to use those operations, try increasing the poly_modulus parameter, to fit your input.\n",
            "WARNING: The input does not fit in a single ciphertext, and some operations will be disabled.\n",
            "The following operations are disabled in this setup: matmul, matmul_plain, enc_matmul_plain, conv2d_im2col.\n",
            "If you need to use those operations, try increasing the poly_modulus parameter, to fit your input.\n",
            "WARNING: The input does not fit in a single ciphertext, and some operations will be disabled.\n",
            "The following operations are disabled in this setup: matmul, matmul_plain, enc_matmul_plain, conv2d_im2col.\n",
            "If you need to use those operations, try increasing the poly_modulus parameter, to fit your input.\n",
            "WARNING: The input does not fit in a single ciphertext, and some operations will be disabled.\n",
            "The following operations are disabled in this setup: matmul, matmul_plain, enc_matmul_plain, conv2d_im2col.\n",
            "If you need to use those operations, try increasing the poly_modulus parameter, to fit your input.\n",
            "WARNING: The input does not fit in a single ciphertext, and some operations will be disabled.\n",
            "The following operations are disabled in this setup: matmul, matmul_plain, enc_matmul_plain, conv2d_im2col.\n",
            "If you need to use those operations, try increasing the poly_modulus parameter, to fit your input.\n",
            "WARNING: The input does not fit in a single ciphertext, and some operations will be disabled.\n",
            "The following operations are disabled in this setup: matmul, matmul_plain, enc_matmul_plain, conv2d_im2col.\n",
            "If you need to use those operations, try increasing the poly_modulus parameter, to fit your input.\n",
            "WARNING: The input does not fit in a single ciphertext, and some operations will be disabled.\n",
            "The following operations are disabled in this setup: matmul, matmul_plain, enc_matmul_plain, conv2d_im2col.\n",
            "If you need to use those operations, try increasing the poly_modulus parameter, to fit your input.\n",
            "WARNING: The input does not fit in a single ciphertext, and some operations will be disabled.\n",
            "The following operations are disabled in this setup: matmul, matmul_plain, enc_matmul_plain, conv2d_im2col.\n",
            "If you need to use those operations, try increasing the poly_modulus parameter, to fit your input.\n",
            "WARNING: The input does not fit in a single ciphertext, and some operations will be disabled.\n",
            "The following operations are disabled in this setup: matmul, matmul_plain, enc_matmul_plain, conv2d_im2col.\n",
            "If you need to use those operations, try increasing the poly_modulus parameter, to fit your input.\n",
            "WARNING: The input does not fit in a single ciphertext, and some operations will be disabled.\n",
            "The following operations are disabled in this setup: matmul, matmul_plain, enc_matmul_plain, conv2d_im2col.\n",
            "If you need to use those operations, try increasing the poly_modulus parameter, to fit your input.\n",
            "Round 37, Train loss: 0.2570, Test Loss: 0.5104, Test Accuracy: 85.67%\n"
          ]
        },
        {
          "name": "stderr",
          "output_type": "stream",
          "text": [
            "100%|██████████| 10/10 [01:23<00:00,  8.37s/it]\n",
            "100%|██████████| 10/10 [00:58<00:00,  5.89s/it]\n",
            "100%|██████████| 10/10 [00:36<00:00,  3.62s/it]\n",
            "100%|██████████| 10/10 [01:00<00:00,  6.08s/it]\n",
            "100%|██████████| 10/10 [01:11<00:00,  7.11s/it]\n",
            "100%|██████████| 10/10 [01:11<00:00,  7.11s/it]\n",
            "100%|██████████| 10/10 [01:08<00:00,  6.85s/it]\n",
            "100%|██████████| 10/10 [01:24<00:00,  8.44s/it]\n",
            "100%|██████████| 10/10 [00:41<00:00,  4.13s/it]\n",
            "100%|██████████| 10/10 [01:05<00:00,  6.58s/it]\n"
          ]
        },
        {
          "name": "stdout",
          "output_type": "stream",
          "text": [
            "WARNING: The input does not fit in a single ciphertext, and some operations will be disabled.\n",
            "The following operations are disabled in this setup: matmul, matmul_plain, enc_matmul_plain, conv2d_im2col.\n",
            "If you need to use those operations, try increasing the poly_modulus parameter, to fit your input.\n",
            "WARNING: The input does not fit in a single ciphertext, and some operations will be disabled.\n",
            "The following operations are disabled in this setup: matmul, matmul_plain, enc_matmul_plain, conv2d_im2col.\n",
            "If you need to use those operations, try increasing the poly_modulus parameter, to fit your input.\n",
            "WARNING: The input does not fit in a single ciphertext, and some operations will be disabled.\n",
            "The following operations are disabled in this setup: matmul, matmul_plain, enc_matmul_plain, conv2d_im2col.\n",
            "If you need to use those operations, try increasing the poly_modulus parameter, to fit your input.\n",
            "WARNING: The input does not fit in a single ciphertext, and some operations will be disabled.\n",
            "The following operations are disabled in this setup: matmul, matmul_plain, enc_matmul_plain, conv2d_im2col.\n",
            "If you need to use those operations, try increasing the poly_modulus parameter, to fit your input.\n",
            "WARNING: The input does not fit in a single ciphertext, and some operations will be disabled.\n",
            "The following operations are disabled in this setup: matmul, matmul_plain, enc_matmul_plain, conv2d_im2col.\n",
            "If you need to use those operations, try increasing the poly_modulus parameter, to fit your input.\n",
            "WARNING: The input does not fit in a single ciphertext, and some operations will be disabled.\n",
            "The following operations are disabled in this setup: matmul, matmul_plain, enc_matmul_plain, conv2d_im2col.\n",
            "If you need to use those operations, try increasing the poly_modulus parameter, to fit your input.\n",
            "WARNING: The input does not fit in a single ciphertext, and some operations will be disabled.\n",
            "The following operations are disabled in this setup: matmul, matmul_plain, enc_matmul_plain, conv2d_im2col.\n",
            "If you need to use those operations, try increasing the poly_modulus parameter, to fit your input.\n",
            "WARNING: The input does not fit in a single ciphertext, and some operations will be disabled.\n",
            "The following operations are disabled in this setup: matmul, matmul_plain, enc_matmul_plain, conv2d_im2col.\n",
            "If you need to use those operations, try increasing the poly_modulus parameter, to fit your input.\n",
            "WARNING: The input does not fit in a single ciphertext, and some operations will be disabled.\n",
            "The following operations are disabled in this setup: matmul, matmul_plain, enc_matmul_plain, conv2d_im2col.\n",
            "If you need to use those operations, try increasing the poly_modulus parameter, to fit your input.\n",
            "WARNING: The input does not fit in a single ciphertext, and some operations will be disabled.\n",
            "The following operations are disabled in this setup: matmul, matmul_plain, enc_matmul_plain, conv2d_im2col.\n",
            "If you need to use those operations, try increasing the poly_modulus parameter, to fit your input.\n",
            "Round 38, Train loss: 0.2440, Test Loss: 0.5117, Test Accuracy: 85.67%\n"
          ]
        },
        {
          "name": "stderr",
          "output_type": "stream",
          "text": [
            "100%|██████████| 10/10 [01:00<00:00,  6.04s/it]\n",
            "100%|██████████| 10/10 [00:36<00:00,  3.69s/it]\n",
            "100%|██████████| 10/10 [00:35<00:00,  3.56s/it]\n",
            "100%|██████████| 10/10 [01:01<00:00,  6.18s/it]\n",
            "100%|██████████| 10/10 [01:10<00:00,  7.09s/it]\n",
            "100%|██████████| 10/10 [01:02<00:00,  6.22s/it]\n",
            "100%|██████████| 10/10 [01:15<00:00,  7.52s/it]\n",
            "100%|██████████| 10/10 [00:59<00:00,  5.95s/it]\n",
            "100%|██████████| 10/10 [01:00<00:00,  6.09s/it]\n",
            "100%|██████████| 10/10 [01:02<00:00,  6.28s/it]\n"
          ]
        },
        {
          "name": "stdout",
          "output_type": "stream",
          "text": [
            "WARNING: The input does not fit in a single ciphertext, and some operations will be disabled.\n",
            "The following operations are disabled in this setup: matmul, matmul_plain, enc_matmul_plain, conv2d_im2col.\n",
            "If you need to use those operations, try increasing the poly_modulus parameter, to fit your input.\n",
            "WARNING: The input does not fit in a single ciphertext, and some operations will be disabled.\n",
            "The following operations are disabled in this setup: matmul, matmul_plain, enc_matmul_plain, conv2d_im2col.\n",
            "If you need to use those operations, try increasing the poly_modulus parameter, to fit your input.\n",
            "WARNING: The input does not fit in a single ciphertext, and some operations will be disabled.\n",
            "The following operations are disabled in this setup: matmul, matmul_plain, enc_matmul_plain, conv2d_im2col.\n",
            "If you need to use those operations, try increasing the poly_modulus parameter, to fit your input.\n",
            "WARNING: The input does not fit in a single ciphertext, and some operations will be disabled.\n",
            "The following operations are disabled in this setup: matmul, matmul_plain, enc_matmul_plain, conv2d_im2col.\n",
            "If you need to use those operations, try increasing the poly_modulus parameter, to fit your input.\n",
            "WARNING: The input does not fit in a single ciphertext, and some operations will be disabled.\n",
            "The following operations are disabled in this setup: matmul, matmul_plain, enc_matmul_plain, conv2d_im2col.\n",
            "If you need to use those operations, try increasing the poly_modulus parameter, to fit your input.\n",
            "WARNING: The input does not fit in a single ciphertext, and some operations will be disabled.\n",
            "The following operations are disabled in this setup: matmul, matmul_plain, enc_matmul_plain, conv2d_im2col.\n",
            "If you need to use those operations, try increasing the poly_modulus parameter, to fit your input.\n",
            "WARNING: The input does not fit in a single ciphertext, and some operations will be disabled.\n",
            "The following operations are disabled in this setup: matmul, matmul_plain, enc_matmul_plain, conv2d_im2col.\n",
            "If you need to use those operations, try increasing the poly_modulus parameter, to fit your input.\n",
            "WARNING: The input does not fit in a single ciphertext, and some operations will be disabled.\n",
            "The following operations are disabled in this setup: matmul, matmul_plain, enc_matmul_plain, conv2d_im2col.\n",
            "If you need to use those operations, try increasing the poly_modulus parameter, to fit your input.\n",
            "WARNING: The input does not fit in a single ciphertext, and some operations will be disabled.\n",
            "The following operations are disabled in this setup: matmul, matmul_plain, enc_matmul_plain, conv2d_im2col.\n",
            "If you need to use those operations, try increasing the poly_modulus parameter, to fit your input.\n",
            "WARNING: The input does not fit in a single ciphertext, and some operations will be disabled.\n",
            "The following operations are disabled in this setup: matmul, matmul_plain, enc_matmul_plain, conv2d_im2col.\n",
            "If you need to use those operations, try increasing the poly_modulus parameter, to fit your input.\n",
            "Round 39, Train loss: 0.2406, Test Loss: 0.5075, Test Accuracy: 86.07%\n"
          ]
        },
        {
          "name": "stderr",
          "output_type": "stream",
          "text": [
            "100%|██████████| 10/10 [00:39<00:00,  3.97s/it]\n",
            "100%|██████████| 10/10 [01:17<00:00,  7.73s/it]\n",
            "100%|██████████| 10/10 [01:16<00:00,  7.69s/it]\n",
            "100%|██████████| 10/10 [01:12<00:00,  7.27s/it]\n",
            "100%|██████████| 10/10 [01:16<00:00,  7.69s/it]\n",
            "100%|██████████| 10/10 [00:36<00:00,  3.62s/it]\n",
            "100%|██████████| 10/10 [00:59<00:00,  5.92s/it]\n",
            "100%|██████████| 10/10 [01:03<00:00,  6.39s/it]\n",
            "100%|██████████| 10/10 [01:00<00:00,  6.05s/it]\n",
            "100%|██████████| 10/10 [00:58<00:00,  5.84s/it]\n"
          ]
        },
        {
          "name": "stdout",
          "output_type": "stream",
          "text": [
            "WARNING: The input does not fit in a single ciphertext, and some operations will be disabled.\n",
            "The following operations are disabled in this setup: matmul, matmul_plain, enc_matmul_plain, conv2d_im2col.\n",
            "If you need to use those operations, try increasing the poly_modulus parameter, to fit your input.\n",
            "WARNING: The input does not fit in a single ciphertext, and some operations will be disabled.\n",
            "The following operations are disabled in this setup: matmul, matmul_plain, enc_matmul_plain, conv2d_im2col.\n",
            "If you need to use those operations, try increasing the poly_modulus parameter, to fit your input.\n",
            "WARNING: The input does not fit in a single ciphertext, and some operations will be disabled.\n",
            "The following operations are disabled in this setup: matmul, matmul_plain, enc_matmul_plain, conv2d_im2col.\n",
            "If you need to use those operations, try increasing the poly_modulus parameter, to fit your input.\n",
            "WARNING: The input does not fit in a single ciphertext, and some operations will be disabled.\n",
            "The following operations are disabled in this setup: matmul, matmul_plain, enc_matmul_plain, conv2d_im2col.\n",
            "If you need to use those operations, try increasing the poly_modulus parameter, to fit your input.\n",
            "WARNING: The input does not fit in a single ciphertext, and some operations will be disabled.\n",
            "The following operations are disabled in this setup: matmul, matmul_plain, enc_matmul_plain, conv2d_im2col.\n",
            "If you need to use those operations, try increasing the poly_modulus parameter, to fit your input.\n",
            "WARNING: The input does not fit in a single ciphertext, and some operations will be disabled.\n",
            "The following operations are disabled in this setup: matmul, matmul_plain, enc_matmul_plain, conv2d_im2col.\n",
            "If you need to use those operations, try increasing the poly_modulus parameter, to fit your input.\n",
            "WARNING: The input does not fit in a single ciphertext, and some operations will be disabled.\n",
            "The following operations are disabled in this setup: matmul, matmul_plain, enc_matmul_plain, conv2d_im2col.\n",
            "If you need to use those operations, try increasing the poly_modulus parameter, to fit your input.\n",
            "WARNING: The input does not fit in a single ciphertext, and some operations will be disabled.\n",
            "The following operations are disabled in this setup: matmul, matmul_plain, enc_matmul_plain, conv2d_im2col.\n",
            "If you need to use those operations, try increasing the poly_modulus parameter, to fit your input.\n",
            "WARNING: The input does not fit in a single ciphertext, and some operations will be disabled.\n",
            "The following operations are disabled in this setup: matmul, matmul_plain, enc_matmul_plain, conv2d_im2col.\n",
            "If you need to use those operations, try increasing the poly_modulus parameter, to fit your input.\n",
            "WARNING: The input does not fit in a single ciphertext, and some operations will be disabled.\n",
            "The following operations are disabled in this setup: matmul, matmul_plain, enc_matmul_plain, conv2d_im2col.\n",
            "If you need to use those operations, try increasing the poly_modulus parameter, to fit your input.\n",
            "Round 40, Train loss: 0.2395, Test Loss: 0.4791, Test Accuracy: 86.29%\n"
          ]
        },
        {
          "name": "stderr",
          "output_type": "stream",
          "text": [
            "100%|██████████| 10/10 [00:58<00:00,  5.87s/it]\n",
            "100%|██████████| 10/10 [01:15<00:00,  7.53s/it]\n",
            "100%|██████████| 10/10 [01:02<00:00,  6.27s/it]\n",
            "100%|██████████| 10/10 [01:10<00:00,  7.02s/it]\n",
            "100%|██████████| 10/10 [00:59<00:00,  5.98s/it]\n",
            "100%|██████████| 10/10 [00:58<00:00,  5.89s/it]\n",
            "100%|██████████| 10/10 [01:00<00:00,  6.09s/it]\n",
            "100%|██████████| 10/10 [00:58<00:00,  5.87s/it]\n",
            "100%|██████████| 10/10 [00:38<00:00,  3.87s/it]\n",
            "100%|██████████| 10/10 [00:35<00:00,  3.60s/it]\n"
          ]
        },
        {
          "name": "stdout",
          "output_type": "stream",
          "text": [
            "WARNING: The input does not fit in a single ciphertext, and some operations will be disabled.\n",
            "The following operations are disabled in this setup: matmul, matmul_plain, enc_matmul_plain, conv2d_im2col.\n",
            "If you need to use those operations, try increasing the poly_modulus parameter, to fit your input.\n",
            "WARNING: The input does not fit in a single ciphertext, and some operations will be disabled.\n",
            "The following operations are disabled in this setup: matmul, matmul_plain, enc_matmul_plain, conv2d_im2col.\n",
            "If you need to use those operations, try increasing the poly_modulus parameter, to fit your input.\n",
            "WARNING: The input does not fit in a single ciphertext, and some operations will be disabled.\n",
            "The following operations are disabled in this setup: matmul, matmul_plain, enc_matmul_plain, conv2d_im2col.\n",
            "If you need to use those operations, try increasing the poly_modulus parameter, to fit your input.\n",
            "WARNING: The input does not fit in a single ciphertext, and some operations will be disabled.\n",
            "The following operations are disabled in this setup: matmul, matmul_plain, enc_matmul_plain, conv2d_im2col.\n",
            "If you need to use those operations, try increasing the poly_modulus parameter, to fit your input.\n",
            "WARNING: The input does not fit in a single ciphertext, and some operations will be disabled.\n",
            "The following operations are disabled in this setup: matmul, matmul_plain, enc_matmul_plain, conv2d_im2col.\n",
            "If you need to use those operations, try increasing the poly_modulus parameter, to fit your input.\n",
            "WARNING: The input does not fit in a single ciphertext, and some operations will be disabled.\n",
            "The following operations are disabled in this setup: matmul, matmul_plain, enc_matmul_plain, conv2d_im2col.\n",
            "If you need to use those operations, try increasing the poly_modulus parameter, to fit your input.\n",
            "WARNING: The input does not fit in a single ciphertext, and some operations will be disabled.\n",
            "The following operations are disabled in this setup: matmul, matmul_plain, enc_matmul_plain, conv2d_im2col.\n",
            "If you need to use those operations, try increasing the poly_modulus parameter, to fit your input.\n",
            "WARNING: The input does not fit in a single ciphertext, and some operations will be disabled.\n",
            "The following operations are disabled in this setup: matmul, matmul_plain, enc_matmul_plain, conv2d_im2col.\n",
            "If you need to use those operations, try increasing the poly_modulus parameter, to fit your input.\n",
            "WARNING: The input does not fit in a single ciphertext, and some operations will be disabled.\n",
            "The following operations are disabled in this setup: matmul, matmul_plain, enc_matmul_plain, conv2d_im2col.\n",
            "If you need to use those operations, try increasing the poly_modulus parameter, to fit your input.\n",
            "WARNING: The input does not fit in a single ciphertext, and some operations will be disabled.\n",
            "The following operations are disabled in this setup: matmul, matmul_plain, enc_matmul_plain, conv2d_im2col.\n",
            "If you need to use those operations, try increasing the poly_modulus parameter, to fit your input.\n",
            "Round 41, Train loss: 0.2274, Test Loss: 0.4929, Test Accuracy: 86.30%\n"
          ]
        },
        {
          "name": "stderr",
          "output_type": "stream",
          "text": [
            "100%|██████████| 10/10 [00:35<00:00,  3.55s/it]\n",
            "100%|██████████| 10/10 [00:57<00:00,  5.72s/it]\n",
            "100%|██████████| 10/10 [00:57<00:00,  5.75s/it]\n",
            "100%|██████████| 10/10 [01:21<00:00,  8.17s/it]\n",
            "100%|██████████| 10/10 [00:57<00:00,  5.79s/it]\n",
            "100%|██████████| 10/10 [00:37<00:00,  3.74s/it]\n",
            "100%|██████████| 10/10 [01:00<00:00,  6.01s/it]\n",
            "100%|██████████| 10/10 [00:56<00:00,  5.65s/it]\n",
            "100%|██████████| 10/10 [00:54<00:00,  5.41s/it]\n",
            "100%|██████████| 10/10 [01:13<00:00,  7.33s/it]\n"
          ]
        },
        {
          "name": "stdout",
          "output_type": "stream",
          "text": [
            "WARNING: The input does not fit in a single ciphertext, and some operations will be disabled.\n",
            "The following operations are disabled in this setup: matmul, matmul_plain, enc_matmul_plain, conv2d_im2col.\n",
            "If you need to use those operations, try increasing the poly_modulus parameter, to fit your input.\n",
            "WARNING: The input does not fit in a single ciphertext, and some operations will be disabled.\n",
            "The following operations are disabled in this setup: matmul, matmul_plain, enc_matmul_plain, conv2d_im2col.\n",
            "If you need to use those operations, try increasing the poly_modulus parameter, to fit your input.\n",
            "WARNING: The input does not fit in a single ciphertext, and some operations will be disabled.\n",
            "The following operations are disabled in this setup: matmul, matmul_plain, enc_matmul_plain, conv2d_im2col.\n",
            "If you need to use those operations, try increasing the poly_modulus parameter, to fit your input.\n",
            "WARNING: The input does not fit in a single ciphertext, and some operations will be disabled.\n",
            "The following operations are disabled in this setup: matmul, matmul_plain, enc_matmul_plain, conv2d_im2col.\n",
            "If you need to use those operations, try increasing the poly_modulus parameter, to fit your input.\n",
            "WARNING: The input does not fit in a single ciphertext, and some operations will be disabled.\n",
            "The following operations are disabled in this setup: matmul, matmul_plain, enc_matmul_plain, conv2d_im2col.\n",
            "If you need to use those operations, try increasing the poly_modulus parameter, to fit your input.\n",
            "WARNING: The input does not fit in a single ciphertext, and some operations will be disabled.\n",
            "The following operations are disabled in this setup: matmul, matmul_plain, enc_matmul_plain, conv2d_im2col.\n",
            "If you need to use those operations, try increasing the poly_modulus parameter, to fit your input.\n",
            "WARNING: The input does not fit in a single ciphertext, and some operations will be disabled.\n",
            "The following operations are disabled in this setup: matmul, matmul_plain, enc_matmul_plain, conv2d_im2col.\n",
            "If you need to use those operations, try increasing the poly_modulus parameter, to fit your input.\n",
            "WARNING: The input does not fit in a single ciphertext, and some operations will be disabled.\n",
            "The following operations are disabled in this setup: matmul, matmul_plain, enc_matmul_plain, conv2d_im2col.\n",
            "If you need to use those operations, try increasing the poly_modulus parameter, to fit your input.\n",
            "WARNING: The input does not fit in a single ciphertext, and some operations will be disabled.\n",
            "The following operations are disabled in this setup: matmul, matmul_plain, enc_matmul_plain, conv2d_im2col.\n",
            "If you need to use those operations, try increasing the poly_modulus parameter, to fit your input.\n",
            "WARNING: The input does not fit in a single ciphertext, and some operations will be disabled.\n",
            "The following operations are disabled in this setup: matmul, matmul_plain, enc_matmul_plain, conv2d_im2col.\n",
            "If you need to use those operations, try increasing the poly_modulus parameter, to fit your input.\n",
            "Round 42, Train loss: 0.2239, Test Loss: 0.4943, Test Accuracy: 86.52%\n"
          ]
        },
        {
          "name": "stderr",
          "output_type": "stream",
          "text": [
            "100%|██████████| 10/10 [00:58<00:00,  5.89s/it]\n",
            "100%|██████████| 10/10 [00:55<00:00,  5.59s/it]\n",
            "100%|██████████| 10/10 [00:57<00:00,  5.70s/it]\n",
            "100%|██████████| 10/10 [00:35<00:00,  3.59s/it]\n",
            "100%|██████████| 10/10 [01:23<00:00,  8.37s/it]\n",
            "100%|██████████| 10/10 [01:07<00:00,  6.76s/it]\n",
            "100%|██████████| 10/10 [01:10<00:00,  7.09s/it]\n",
            "100%|██████████| 10/10 [00:45<00:00,  4.56s/it]\n",
            "100%|██████████| 10/10 [01:11<00:00,  7.14s/it]\n",
            "100%|██████████| 10/10 [01:13<00:00,  7.38s/it]\n"
          ]
        },
        {
          "name": "stdout",
          "output_type": "stream",
          "text": [
            "WARNING: The input does not fit in a single ciphertext, and some operations will be disabled.\n",
            "The following operations are disabled in this setup: matmul, matmul_plain, enc_matmul_plain, conv2d_im2col.\n",
            "If you need to use those operations, try increasing the poly_modulus parameter, to fit your input.\n",
            "WARNING: The input does not fit in a single ciphertext, and some operations will be disabled.\n",
            "The following operations are disabled in this setup: matmul, matmul_plain, enc_matmul_plain, conv2d_im2col.\n",
            "If you need to use those operations, try increasing the poly_modulus parameter, to fit your input.\n",
            "WARNING: The input does not fit in a single ciphertext, and some operations will be disabled.\n",
            "The following operations are disabled in this setup: matmul, matmul_plain, enc_matmul_plain, conv2d_im2col.\n",
            "If you need to use those operations, try increasing the poly_modulus parameter, to fit your input.\n",
            "WARNING: The input does not fit in a single ciphertext, and some operations will be disabled.\n",
            "The following operations are disabled in this setup: matmul, matmul_plain, enc_matmul_plain, conv2d_im2col.\n",
            "If you need to use those operations, try increasing the poly_modulus parameter, to fit your input.\n",
            "WARNING: The input does not fit in a single ciphertext, and some operations will be disabled.\n",
            "The following operations are disabled in this setup: matmul, matmul_plain, enc_matmul_plain, conv2d_im2col.\n",
            "If you need to use those operations, try increasing the poly_modulus parameter, to fit your input.\n",
            "WARNING: The input does not fit in a single ciphertext, and some operations will be disabled.\n",
            "The following operations are disabled in this setup: matmul, matmul_plain, enc_matmul_plain, conv2d_im2col.\n",
            "If you need to use those operations, try increasing the poly_modulus parameter, to fit your input.\n",
            "WARNING: The input does not fit in a single ciphertext, and some operations will be disabled.\n",
            "The following operations are disabled in this setup: matmul, matmul_plain, enc_matmul_plain, conv2d_im2col.\n",
            "If you need to use those operations, try increasing the poly_modulus parameter, to fit your input.\n",
            "WARNING: The input does not fit in a single ciphertext, and some operations will be disabled.\n",
            "The following operations are disabled in this setup: matmul, matmul_plain, enc_matmul_plain, conv2d_im2col.\n",
            "If you need to use those operations, try increasing the poly_modulus parameter, to fit your input.\n",
            "WARNING: The input does not fit in a single ciphertext, and some operations will be disabled.\n",
            "The following operations are disabled in this setup: matmul, matmul_plain, enc_matmul_plain, conv2d_im2col.\n",
            "If you need to use those operations, try increasing the poly_modulus parameter, to fit your input.\n",
            "WARNING: The input does not fit in a single ciphertext, and some operations will be disabled.\n",
            "The following operations are disabled in this setup: matmul, matmul_plain, enc_matmul_plain, conv2d_im2col.\n",
            "If you need to use those operations, try increasing the poly_modulus parameter, to fit your input.\n",
            "Round 43, Train loss: 0.2211, Test Loss: 0.4743, Test Accuracy: 86.60%\n"
          ]
        },
        {
          "name": "stderr",
          "output_type": "stream",
          "text": [
            "100%|██████████| 10/10 [00:55<00:00,  5.51s/it]\n",
            "100%|██████████| 10/10 [00:56<00:00,  5.69s/it]\n",
            "100%|██████████| 10/10 [01:13<00:00,  7.37s/it]\n",
            "100%|██████████| 10/10 [01:01<00:00,  6.11s/it]\n",
            "100%|██████████| 10/10 [01:22<00:00,  8.28s/it]\n",
            "100%|██████████| 10/10 [00:42<00:00,  4.28s/it]\n",
            "100%|██████████| 10/10 [01:06<00:00,  6.61s/it]\n",
            "100%|██████████| 10/10 [01:00<00:00,  6.09s/it]\n",
            "100%|██████████| 10/10 [00:36<00:00,  3.62s/it]\n",
            "100%|██████████| 10/10 [01:01<00:00,  6.15s/it]\n"
          ]
        },
        {
          "name": "stdout",
          "output_type": "stream",
          "text": [
            "WARNING: The input does not fit in a single ciphertext, and some operations will be disabled.\n",
            "The following operations are disabled in this setup: matmul, matmul_plain, enc_matmul_plain, conv2d_im2col.\n",
            "If you need to use those operations, try increasing the poly_modulus parameter, to fit your input.\n",
            "WARNING: The input does not fit in a single ciphertext, and some operations will be disabled.\n",
            "The following operations are disabled in this setup: matmul, matmul_plain, enc_matmul_plain, conv2d_im2col.\n",
            "If you need to use those operations, try increasing the poly_modulus parameter, to fit your input.\n",
            "WARNING: The input does not fit in a single ciphertext, and some operations will be disabled.\n",
            "The following operations are disabled in this setup: matmul, matmul_plain, enc_matmul_plain, conv2d_im2col.\n",
            "If you need to use those operations, try increasing the poly_modulus parameter, to fit your input.\n",
            "WARNING: The input does not fit in a single ciphertext, and some operations will be disabled.\n",
            "The following operations are disabled in this setup: matmul, matmul_plain, enc_matmul_plain, conv2d_im2col.\n",
            "If you need to use those operations, try increasing the poly_modulus parameter, to fit your input.\n",
            "WARNING: The input does not fit in a single ciphertext, and some operations will be disabled.\n",
            "The following operations are disabled in this setup: matmul, matmul_plain, enc_matmul_plain, conv2d_im2col.\n",
            "If you need to use those operations, try increasing the poly_modulus parameter, to fit your input.\n",
            "WARNING: The input does not fit in a single ciphertext, and some operations will be disabled.\n",
            "The following operations are disabled in this setup: matmul, matmul_plain, enc_matmul_plain, conv2d_im2col.\n",
            "If you need to use those operations, try increasing the poly_modulus parameter, to fit your input.\n",
            "WARNING: The input does not fit in a single ciphertext, and some operations will be disabled.\n",
            "The following operations are disabled in this setup: matmul, matmul_plain, enc_matmul_plain, conv2d_im2col.\n",
            "If you need to use those operations, try increasing the poly_modulus parameter, to fit your input.\n",
            "WARNING: The input does not fit in a single ciphertext, and some operations will be disabled.\n",
            "The following operations are disabled in this setup: matmul, matmul_plain, enc_matmul_plain, conv2d_im2col.\n",
            "If you need to use those operations, try increasing the poly_modulus parameter, to fit your input.\n",
            "WARNING: The input does not fit in a single ciphertext, and some operations will be disabled.\n",
            "The following operations are disabled in this setup: matmul, matmul_plain, enc_matmul_plain, conv2d_im2col.\n",
            "If you need to use those operations, try increasing the poly_modulus parameter, to fit your input.\n",
            "WARNING: The input does not fit in a single ciphertext, and some operations will be disabled.\n",
            "The following operations are disabled in this setup: matmul, matmul_plain, enc_matmul_plain, conv2d_im2col.\n",
            "If you need to use those operations, try increasing the poly_modulus parameter, to fit your input.\n",
            "Round 44, Train loss: 0.2107, Test Loss: 0.4873, Test Accuracy: 86.33%\n"
          ]
        },
        {
          "name": "stderr",
          "output_type": "stream",
          "text": [
            "100%|██████████| 10/10 [00:36<00:00,  3.66s/it]\n",
            "100%|██████████| 10/10 [01:04<00:00,  6.45s/it]\n",
            "100%|██████████| 10/10 [00:59<00:00,  5.96s/it]\n",
            "100%|██████████| 10/10 [01:17<00:00,  7.72s/it]\n",
            "100%|██████████| 10/10 [01:27<00:00,  8.78s/it]\n",
            "100%|██████████| 10/10 [01:13<00:00,  7.33s/it]\n",
            "100%|██████████| 10/10 [01:11<00:00,  7.12s/it]\n",
            "100%|██████████| 10/10 [01:11<00:00,  7.19s/it]\n",
            "100%|██████████| 10/10 [00:43<00:00,  4.37s/it]\n",
            "100%|██████████| 10/10 [01:14<00:00,  7.48s/it]\n"
          ]
        },
        {
          "name": "stdout",
          "output_type": "stream",
          "text": [
            "WARNING: The input does not fit in a single ciphertext, and some operations will be disabled.\n",
            "The following operations are disabled in this setup: matmul, matmul_plain, enc_matmul_plain, conv2d_im2col.\n",
            "If you need to use those operations, try increasing the poly_modulus parameter, to fit your input.\n",
            "WARNING: The input does not fit in a single ciphertext, and some operations will be disabled.\n",
            "The following operations are disabled in this setup: matmul, matmul_plain, enc_matmul_plain, conv2d_im2col.\n",
            "If you need to use those operations, try increasing the poly_modulus parameter, to fit your input.\n",
            "WARNING: The input does not fit in a single ciphertext, and some operations will be disabled.\n",
            "The following operations are disabled in this setup: matmul, matmul_plain, enc_matmul_plain, conv2d_im2col.\n",
            "If you need to use those operations, try increasing the poly_modulus parameter, to fit your input.\n",
            "WARNING: The input does not fit in a single ciphertext, and some operations will be disabled.\n",
            "The following operations are disabled in this setup: matmul, matmul_plain, enc_matmul_plain, conv2d_im2col.\n",
            "If you need to use those operations, try increasing the poly_modulus parameter, to fit your input.\n",
            "WARNING: The input does not fit in a single ciphertext, and some operations will be disabled.\n",
            "The following operations are disabled in this setup: matmul, matmul_plain, enc_matmul_plain, conv2d_im2col.\n",
            "If you need to use those operations, try increasing the poly_modulus parameter, to fit your input.\n",
            "WARNING: The input does not fit in a single ciphertext, and some operations will be disabled.\n",
            "The following operations are disabled in this setup: matmul, matmul_plain, enc_matmul_plain, conv2d_im2col.\n",
            "If you need to use those operations, try increasing the poly_modulus parameter, to fit your input.\n",
            "WARNING: The input does not fit in a single ciphertext, and some operations will be disabled.\n",
            "The following operations are disabled in this setup: matmul, matmul_plain, enc_matmul_plain, conv2d_im2col.\n",
            "If you need to use those operations, try increasing the poly_modulus parameter, to fit your input.\n",
            "WARNING: The input does not fit in a single ciphertext, and some operations will be disabled.\n",
            "The following operations are disabled in this setup: matmul, matmul_plain, enc_matmul_plain, conv2d_im2col.\n",
            "If you need to use those operations, try increasing the poly_modulus parameter, to fit your input.\n",
            "WARNING: The input does not fit in a single ciphertext, and some operations will be disabled.\n",
            "The following operations are disabled in this setup: matmul, matmul_plain, enc_matmul_plain, conv2d_im2col.\n",
            "If you need to use those operations, try increasing the poly_modulus parameter, to fit your input.\n",
            "WARNING: The input does not fit in a single ciphertext, and some operations will be disabled.\n",
            "The following operations are disabled in this setup: matmul, matmul_plain, enc_matmul_plain, conv2d_im2col.\n",
            "If you need to use those operations, try increasing the poly_modulus parameter, to fit your input.\n",
            "Round 45, Train loss: 0.2124, Test Loss: 0.4792, Test Accuracy: 86.79%\n"
          ]
        },
        {
          "name": "stderr",
          "output_type": "stream",
          "text": [
            "100%|██████████| 10/10 [01:15<00:00,  7.56s/it]\n",
            "100%|██████████| 10/10 [01:01<00:00,  6.13s/it]\n",
            "100%|██████████| 10/10 [01:02<00:00,  6.24s/it]\n",
            "100%|██████████| 10/10 [00:58<00:00,  5.88s/it]\n",
            "100%|██████████| 10/10 [00:35<00:00,  3.58s/it]\n",
            "100%|██████████| 10/10 [00:42<00:00,  4.28s/it]\n",
            "100%|██████████| 10/10 [01:14<00:00,  7.41s/it]\n",
            "100%|██████████| 10/10 [01:00<00:00,  6.03s/it]\n",
            "100%|██████████| 10/10 [00:59<00:00,  5.91s/it]\n",
            "100%|██████████| 10/10 [01:20<00:00,  8.09s/it]\n"
          ]
        },
        {
          "name": "stdout",
          "output_type": "stream",
          "text": [
            "WARNING: The input does not fit in a single ciphertext, and some operations will be disabled.\n",
            "The following operations are disabled in this setup: matmul, matmul_plain, enc_matmul_plain, conv2d_im2col.\n",
            "If you need to use those operations, try increasing the poly_modulus parameter, to fit your input.\n",
            "WARNING: The input does not fit in a single ciphertext, and some operations will be disabled.\n",
            "The following operations are disabled in this setup: matmul, matmul_plain, enc_matmul_plain, conv2d_im2col.\n",
            "If you need to use those operations, try increasing the poly_modulus parameter, to fit your input.\n",
            "WARNING: The input does not fit in a single ciphertext, and some operations will be disabled.\n",
            "The following operations are disabled in this setup: matmul, matmul_plain, enc_matmul_plain, conv2d_im2col.\n",
            "If you need to use those operations, try increasing the poly_modulus parameter, to fit your input.\n",
            "WARNING: The input does not fit in a single ciphertext, and some operations will be disabled.\n",
            "The following operations are disabled in this setup: matmul, matmul_plain, enc_matmul_plain, conv2d_im2col.\n",
            "If you need to use those operations, try increasing the poly_modulus parameter, to fit your input.\n",
            "WARNING: The input does not fit in a single ciphertext, and some operations will be disabled.\n",
            "The following operations are disabled in this setup: matmul, matmul_plain, enc_matmul_plain, conv2d_im2col.\n",
            "If you need to use those operations, try increasing the poly_modulus parameter, to fit your input.\n",
            "WARNING: The input does not fit in a single ciphertext, and some operations will be disabled.\n",
            "The following operations are disabled in this setup: matmul, matmul_plain, enc_matmul_plain, conv2d_im2col.\n",
            "If you need to use those operations, try increasing the poly_modulus parameter, to fit your input.\n",
            "WARNING: The input does not fit in a single ciphertext, and some operations will be disabled.\n",
            "The following operations are disabled in this setup: matmul, matmul_plain, enc_matmul_plain, conv2d_im2col.\n",
            "If you need to use those operations, try increasing the poly_modulus parameter, to fit your input.\n",
            "WARNING: The input does not fit in a single ciphertext, and some operations will be disabled.\n",
            "The following operations are disabled in this setup: matmul, matmul_plain, enc_matmul_plain, conv2d_im2col.\n",
            "If you need to use those operations, try increasing the poly_modulus parameter, to fit your input.\n",
            "WARNING: The input does not fit in a single ciphertext, and some operations will be disabled.\n",
            "The following operations are disabled in this setup: matmul, matmul_plain, enc_matmul_plain, conv2d_im2col.\n",
            "If you need to use those operations, try increasing the poly_modulus parameter, to fit your input.\n",
            "WARNING: The input does not fit in a single ciphertext, and some operations will be disabled.\n",
            "The following operations are disabled in this setup: matmul, matmul_plain, enc_matmul_plain, conv2d_im2col.\n",
            "If you need to use those operations, try increasing the poly_modulus parameter, to fit your input.\n",
            "Round 46, Train loss: 0.2129, Test Loss: 0.4537, Test Accuracy: 87.21%\n"
          ]
        },
        {
          "name": "stderr",
          "output_type": "stream",
          "text": [
            "100%|██████████| 10/10 [01:13<00:00,  7.37s/it]\n",
            "100%|██████████| 10/10 [00:58<00:00,  5.87s/it]\n",
            "100%|██████████| 10/10 [00:36<00:00,  3.66s/it]\n",
            "100%|██████████| 10/10 [01:01<00:00,  6.17s/it]\n",
            "100%|██████████| 10/10 [01:01<00:00,  6.18s/it]\n",
            "100%|██████████| 10/10 [00:37<00:00,  3.74s/it]\n",
            "100%|██████████| 10/10 [01:15<00:00,  7.60s/it]\n",
            "100%|██████████| 10/10 [01:03<00:00,  6.38s/it]\n",
            "100%|██████████| 10/10 [01:03<00:00,  6.35s/it]\n",
            "100%|██████████| 10/10 [01:00<00:00,  6.04s/it]\n"
          ]
        },
        {
          "name": "stdout",
          "output_type": "stream",
          "text": [
            "WARNING: The input does not fit in a single ciphertext, and some operations will be disabled.\n",
            "The following operations are disabled in this setup: matmul, matmul_plain, enc_matmul_plain, conv2d_im2col.\n",
            "If you need to use those operations, try increasing the poly_modulus parameter, to fit your input.\n",
            "WARNING: The input does not fit in a single ciphertext, and some operations will be disabled.\n",
            "The following operations are disabled in this setup: matmul, matmul_plain, enc_matmul_plain, conv2d_im2col.\n",
            "If you need to use those operations, try increasing the poly_modulus parameter, to fit your input.\n",
            "WARNING: The input does not fit in a single ciphertext, and some operations will be disabled.\n",
            "The following operations are disabled in this setup: matmul, matmul_plain, enc_matmul_plain, conv2d_im2col.\n",
            "If you need to use those operations, try increasing the poly_modulus parameter, to fit your input.\n",
            "WARNING: The input does not fit in a single ciphertext, and some operations will be disabled.\n",
            "The following operations are disabled in this setup: matmul, matmul_plain, enc_matmul_plain, conv2d_im2col.\n",
            "If you need to use those operations, try increasing the poly_modulus parameter, to fit your input.\n",
            "WARNING: The input does not fit in a single ciphertext, and some operations will be disabled.\n",
            "The following operations are disabled in this setup: matmul, matmul_plain, enc_matmul_plain, conv2d_im2col.\n",
            "If you need to use those operations, try increasing the poly_modulus parameter, to fit your input.\n",
            "WARNING: The input does not fit in a single ciphertext, and some operations will be disabled.\n",
            "The following operations are disabled in this setup: matmul, matmul_plain, enc_matmul_plain, conv2d_im2col.\n",
            "If you need to use those operations, try increasing the poly_modulus parameter, to fit your input.\n",
            "WARNING: The input does not fit in a single ciphertext, and some operations will be disabled.\n",
            "The following operations are disabled in this setup: matmul, matmul_plain, enc_matmul_plain, conv2d_im2col.\n",
            "If you need to use those operations, try increasing the poly_modulus parameter, to fit your input.\n",
            "WARNING: The input does not fit in a single ciphertext, and some operations will be disabled.\n",
            "The following operations are disabled in this setup: matmul, matmul_plain, enc_matmul_plain, conv2d_im2col.\n",
            "If you need to use those operations, try increasing the poly_modulus parameter, to fit your input.\n",
            "WARNING: The input does not fit in a single ciphertext, and some operations will be disabled.\n",
            "The following operations are disabled in this setup: matmul, matmul_plain, enc_matmul_plain, conv2d_im2col.\n",
            "If you need to use those operations, try increasing the poly_modulus parameter, to fit your input.\n",
            "WARNING: The input does not fit in a single ciphertext, and some operations will be disabled.\n",
            "The following operations are disabled in this setup: matmul, matmul_plain, enc_matmul_plain, conv2d_im2col.\n",
            "If you need to use those operations, try increasing the poly_modulus parameter, to fit your input.\n",
            "Round 47, Train loss: 0.2032, Test Loss: 0.4761, Test Accuracy: 87.37%\n"
          ]
        },
        {
          "name": "stderr",
          "output_type": "stream",
          "text": [
            "100%|██████████| 10/10 [00:39<00:00,  3.91s/it]\n",
            "100%|██████████| 10/10 [01:01<00:00,  6.18s/it]\n",
            "100%|██████████| 10/10 [00:37<00:00,  3.75s/it]\n",
            "100%|██████████| 10/10 [01:16<00:00,  7.61s/it]\n",
            "100%|██████████| 10/10 [01:01<00:00,  6.15s/it]\n",
            "100%|██████████| 10/10 [00:52<00:00,  5.24s/it]\n",
            "100%|██████████| 10/10 [01:07<00:00,  6.72s/it]\n",
            "100%|██████████| 10/10 [01:02<00:00,  6.27s/it]\n",
            "100%|██████████| 10/10 [00:56<00:00,  5.64s/it]\n",
            "100%|██████████| 10/10 [01:09<00:00,  6.90s/it]\n"
          ]
        },
        {
          "name": "stdout",
          "output_type": "stream",
          "text": [
            "WARNING: The input does not fit in a single ciphertext, and some operations will be disabled.\n",
            "The following operations are disabled in this setup: matmul, matmul_plain, enc_matmul_plain, conv2d_im2col.\n",
            "If you need to use those operations, try increasing the poly_modulus parameter, to fit your input.\n",
            "WARNING: The input does not fit in a single ciphertext, and some operations will be disabled.\n",
            "The following operations are disabled in this setup: matmul, matmul_plain, enc_matmul_plain, conv2d_im2col.\n",
            "If you need to use those operations, try increasing the poly_modulus parameter, to fit your input.\n",
            "WARNING: The input does not fit in a single ciphertext, and some operations will be disabled.\n",
            "The following operations are disabled in this setup: matmul, matmul_plain, enc_matmul_plain, conv2d_im2col.\n",
            "If you need to use those operations, try increasing the poly_modulus parameter, to fit your input.\n",
            "WARNING: The input does not fit in a single ciphertext, and some operations will be disabled.\n",
            "The following operations are disabled in this setup: matmul, matmul_plain, enc_matmul_plain, conv2d_im2col.\n",
            "If you need to use those operations, try increasing the poly_modulus parameter, to fit your input.\n",
            "WARNING: The input does not fit in a single ciphertext, and some operations will be disabled.\n",
            "The following operations are disabled in this setup: matmul, matmul_plain, enc_matmul_plain, conv2d_im2col.\n",
            "If you need to use those operations, try increasing the poly_modulus parameter, to fit your input.\n",
            "WARNING: The input does not fit in a single ciphertext, and some operations will be disabled.\n",
            "The following operations are disabled in this setup: matmul, matmul_plain, enc_matmul_plain, conv2d_im2col.\n",
            "If you need to use those operations, try increasing the poly_modulus parameter, to fit your input.\n",
            "WARNING: The input does not fit in a single ciphertext, and some operations will be disabled.\n",
            "The following operations are disabled in this setup: matmul, matmul_plain, enc_matmul_plain, conv2d_im2col.\n",
            "If you need to use those operations, try increasing the poly_modulus parameter, to fit your input.\n",
            "WARNING: The input does not fit in a single ciphertext, and some operations will be disabled.\n",
            "The following operations are disabled in this setup: matmul, matmul_plain, enc_matmul_plain, conv2d_im2col.\n",
            "If you need to use those operations, try increasing the poly_modulus parameter, to fit your input.\n",
            "WARNING: The input does not fit in a single ciphertext, and some operations will be disabled.\n",
            "The following operations are disabled in this setup: matmul, matmul_plain, enc_matmul_plain, conv2d_im2col.\n",
            "If you need to use those operations, try increasing the poly_modulus parameter, to fit your input.\n",
            "WARNING: The input does not fit in a single ciphertext, and some operations will be disabled.\n",
            "The following operations are disabled in this setup: matmul, matmul_plain, enc_matmul_plain, conv2d_im2col.\n",
            "If you need to use those operations, try increasing the poly_modulus parameter, to fit your input.\n",
            "Round 48, Train loss: 0.1972, Test Loss: 0.4824, Test Accuracy: 87.43%\n"
          ]
        },
        {
          "name": "stderr",
          "output_type": "stream",
          "text": [
            "100%|██████████| 10/10 [01:05<00:00,  6.51s/it]\n",
            "100%|██████████| 10/10 [01:18<00:00,  7.88s/it]\n",
            "100%|██████████| 10/10 [00:53<00:00,  5.31s/it]\n",
            "100%|██████████| 10/10 [00:59<00:00,  5.95s/it]\n",
            "100%|██████████| 10/10 [00:39<00:00,  3.95s/it]\n",
            "100%|██████████| 10/10 [00:57<00:00,  5.73s/it]\n",
            "100%|██████████| 10/10 [01:00<00:00,  6.05s/it]\n",
            "100%|██████████| 10/10 [00:58<00:00,  5.84s/it]\n",
            "100%|██████████| 10/10 [00:38<00:00,  3.88s/it]\n",
            "100%|██████████| 10/10 [01:19<00:00,  7.96s/it]\n"
          ]
        },
        {
          "name": "stdout",
          "output_type": "stream",
          "text": [
            "WARNING: The input does not fit in a single ciphertext, and some operations will be disabled.\n",
            "The following operations are disabled in this setup: matmul, matmul_plain, enc_matmul_plain, conv2d_im2col.\n",
            "If you need to use those operations, try increasing the poly_modulus parameter, to fit your input.\n",
            "WARNING: The input does not fit in a single ciphertext, and some operations will be disabled.\n",
            "The following operations are disabled in this setup: matmul, matmul_plain, enc_matmul_plain, conv2d_im2col.\n",
            "If you need to use those operations, try increasing the poly_modulus parameter, to fit your input.\n",
            "WARNING: The input does not fit in a single ciphertext, and some operations will be disabled.\n",
            "The following operations are disabled in this setup: matmul, matmul_plain, enc_matmul_plain, conv2d_im2col.\n",
            "If you need to use those operations, try increasing the poly_modulus parameter, to fit your input.\n",
            "WARNING: The input does not fit in a single ciphertext, and some operations will be disabled.\n",
            "The following operations are disabled in this setup: matmul, matmul_plain, enc_matmul_plain, conv2d_im2col.\n",
            "If you need to use those operations, try increasing the poly_modulus parameter, to fit your input.\n",
            "WARNING: The input does not fit in a single ciphertext, and some operations will be disabled.\n",
            "The following operations are disabled in this setup: matmul, matmul_plain, enc_matmul_plain, conv2d_im2col.\n",
            "If you need to use those operations, try increasing the poly_modulus parameter, to fit your input.\n",
            "WARNING: The input does not fit in a single ciphertext, and some operations will be disabled.\n",
            "The following operations are disabled in this setup: matmul, matmul_plain, enc_matmul_plain, conv2d_im2col.\n",
            "If you need to use those operations, try increasing the poly_modulus parameter, to fit your input.\n",
            "WARNING: The input does not fit in a single ciphertext, and some operations will be disabled.\n",
            "The following operations are disabled in this setup: matmul, matmul_plain, enc_matmul_plain, conv2d_im2col.\n",
            "If you need to use those operations, try increasing the poly_modulus parameter, to fit your input.\n",
            "WARNING: The input does not fit in a single ciphertext, and some operations will be disabled.\n",
            "The following operations are disabled in this setup: matmul, matmul_plain, enc_matmul_plain, conv2d_im2col.\n",
            "If you need to use those operations, try increasing the poly_modulus parameter, to fit your input.\n",
            "WARNING: The input does not fit in a single ciphertext, and some operations will be disabled.\n",
            "The following operations are disabled in this setup: matmul, matmul_plain, enc_matmul_plain, conv2d_im2col.\n",
            "If you need to use those operations, try increasing the poly_modulus parameter, to fit your input.\n",
            "WARNING: The input does not fit in a single ciphertext, and some operations will be disabled.\n",
            "The following operations are disabled in this setup: matmul, matmul_plain, enc_matmul_plain, conv2d_im2col.\n",
            "If you need to use those operations, try increasing the poly_modulus parameter, to fit your input.\n",
            "Round 49, Train loss: 0.1986, Test Loss: 0.4669, Test Accuracy: 87.27%\n"
          ]
        },
        {
          "name": "stderr",
          "output_type": "stream",
          "text": [
            "100%|██████████| 10/10 [01:07<00:00,  6.71s/it]\n",
            "100%|██████████| 10/10 [00:38<00:00,  3.80s/it]\n",
            "100%|██████████| 10/10 [00:39<00:00,  3.93s/it]\n",
            "100%|██████████| 10/10 [01:00<00:00,  6.04s/it]\n",
            "100%|██████████| 10/10 [01:01<00:00,  6.11s/it]\n",
            "100%|██████████| 10/10 [00:57<00:00,  5.79s/it]\n",
            "100%|██████████| 10/10 [00:58<00:00,  5.85s/it]\n",
            "100%|██████████| 10/10 [01:14<00:00,  7.42s/it]\n",
            "100%|██████████| 10/10 [01:01<00:00,  6.19s/it]\n",
            "100%|██████████| 10/10 [01:12<00:00,  7.30s/it]\n"
          ]
        },
        {
          "name": "stdout",
          "output_type": "stream",
          "text": [
            "WARNING: The input does not fit in a single ciphertext, and some operations will be disabled.\n",
            "The following operations are disabled in this setup: matmul, matmul_plain, enc_matmul_plain, conv2d_im2col.\n",
            "If you need to use those operations, try increasing the poly_modulus parameter, to fit your input.\n",
            "WARNING: The input does not fit in a single ciphertext, and some operations will be disabled.\n",
            "The following operations are disabled in this setup: matmul, matmul_plain, enc_matmul_plain, conv2d_im2col.\n",
            "If you need to use those operations, try increasing the poly_modulus parameter, to fit your input.\n",
            "WARNING: The input does not fit in a single ciphertext, and some operations will be disabled.\n",
            "The following operations are disabled in this setup: matmul, matmul_plain, enc_matmul_plain, conv2d_im2col.\n",
            "If you need to use those operations, try increasing the poly_modulus parameter, to fit your input.\n",
            "WARNING: The input does not fit in a single ciphertext, and some operations will be disabled.\n",
            "The following operations are disabled in this setup: matmul, matmul_plain, enc_matmul_plain, conv2d_im2col.\n",
            "If you need to use those operations, try increasing the poly_modulus parameter, to fit your input.\n",
            "WARNING: The input does not fit in a single ciphertext, and some operations will be disabled.\n",
            "The following operations are disabled in this setup: matmul, matmul_plain, enc_matmul_plain, conv2d_im2col.\n",
            "If you need to use those operations, try increasing the poly_modulus parameter, to fit your input.\n",
            "WARNING: The input does not fit in a single ciphertext, and some operations will be disabled.\n",
            "The following operations are disabled in this setup: matmul, matmul_plain, enc_matmul_plain, conv2d_im2col.\n",
            "If you need to use those operations, try increasing the poly_modulus parameter, to fit your input.\n",
            "WARNING: The input does not fit in a single ciphertext, and some operations will be disabled.\n",
            "The following operations are disabled in this setup: matmul, matmul_plain, enc_matmul_plain, conv2d_im2col.\n",
            "If you need to use those operations, try increasing the poly_modulus parameter, to fit your input.\n",
            "WARNING: The input does not fit in a single ciphertext, and some operations will be disabled.\n",
            "The following operations are disabled in this setup: matmul, matmul_plain, enc_matmul_plain, conv2d_im2col.\n",
            "If you need to use those operations, try increasing the poly_modulus parameter, to fit your input.\n",
            "WARNING: The input does not fit in a single ciphertext, and some operations will be disabled.\n",
            "The following operations are disabled in this setup: matmul, matmul_plain, enc_matmul_plain, conv2d_im2col.\n",
            "If you need to use those operations, try increasing the poly_modulus parameter, to fit your input.\n",
            "WARNING: The input does not fit in a single ciphertext, and some operations will be disabled.\n",
            "The following operations are disabled in this setup: matmul, matmul_plain, enc_matmul_plain, conv2d_im2col.\n",
            "If you need to use those operations, try increasing the poly_modulus parameter, to fit your input.\n",
            "Round 50, Train loss: 0.1882, Test Loss: 0.4776, Test Accuracy: 87.43%\n"
          ]
        }
      ],
      "source": [
        "import warnings\n",
        "import logging\n",
        "import numpy as np\n",
        "import torch\n",
        "from torch.utils.data import DataLoader\n",
        "\n",
        "# Ignore specific warning messages\n",
        "warnings.filterwarnings(\"ignore\", message=\"The input does not fit in a single ciphertext, and some operations will be disabled. The following operations are disabled in this setup: matmul, matmul_plain, enc_matmul_plain, conv2d_im2col. If you need to use those operations, try increasing the poly_modulus parameter, to fit your input.\")\n",
        "\n",
        "# Set up logging configuration\n",
        "logging.basicConfig(filename='training_log.txt', level=logging.INFO,\n",
        "                    format='%(asctime)s - %(levelname)s - %(message)s')\n",
        "\n",
        "global_model.train()\n",
        "for model in clients_models.values():\n",
        "    model.train()\n",
        "\n",
        "best_auc = 0\n",
        "best_round = 0\n",
        "loss_train = []\n",
        "loss_test = []\n",
        "acc_train = []\n",
        "acc_test= []\n",
        "clients_selected = {}\n",
        "patience = 10\n",
        "patience_counter = 0\n",
        "prev_weights = dict()\n",
        "aggregated_params = list()\n",
        "num_segments = 3\n",
        "time_to_enc = 0.0\n",
        "\n",
        "for round in range(num_rounds):\n",
        "    local_weights = {}\n",
        "    local_losses, local_acc = [], []\n",
        "\n",
        "    # Select a subset of clients to train this round\n",
        "    selected_clients = list(np.random.choice(range(num_clients), num_selected, replace=False))\n",
        "    client_segment_map = {selected_clients[i]: round % 3 for i in range(len(selected_clients))}\n",
        "    logging.info(f'Selected clients: {client_segment_map}')\n",
        "    \n",
        "    for i in selected_clients:\n",
        "        local_loader = DataLoader(CIFAR10_truncated(\n",
        "            './data', dataidxs=noniid_dataidx_map[i], train=True, transform=transform_train), batch_size=local_bs, shuffle=True)\n",
        "\n",
        "        # Train on local data\n",
        "        w, loss, acc = client_train(global_model, clients_models[i], local_loader, device, local_rounds, mu, lr, momentum, weight_decay)\n",
        "\n",
        "        # Collect local model weights\n",
        "        local_weights[i] = w\n",
        "        local_losses.append(loss)\n",
        "        local_acc.append(acc)\n",
        "\n",
        "    # Aggregate local weights to update global model\n",
        "    prev_weights, aggregated_params, t_enc, t_sec, t_dec = handle_partial_updates(local_weights, num_segments, client_segment_map)\n",
        "    logging.info(f\"Encryption took {t_enc} seconds for this round for all clients\")\n",
        "    logging.info(f\"Secure Agg took {t_sec} seconds for this round for all clients\")\n",
        "    logging.info(f\"Decryption took {t_dec} seconds for this round for all clients\")\n",
        "\n",
        "    updated_client_dict = update_client_models(prev_weights, aggregated_params, client_segment_map)\n",
        "\n",
        "    clients_reconstructed_params = {}\n",
        "    for client_id, weights in updated_client_dict.items():\n",
        "        clients_reconstructed_params[client_id] = reconstruct_parameters(weights, shapes, sizes, trained_weights)\n",
        "\n",
        "    for client in selected_clients:\n",
        "        clients_models[client].load_state_dict(clients_reconstructed_params[client])\n",
        "\n",
        "    flat_params_n = flatten_resnet_parameters(global_model.state_dict())\n",
        "    segmented_params = segment_resnet_parameters(flat_params_n, 3)\n",
        "\n",
        "    shared_segment_index = client_segment_map[selected_clients[0]]\n",
        "    updated_global_params = [aggregated_params[i] if i == shared_segment_index else data for i, data in enumerate(segmented_params)]\n",
        "    params = torch.cat(updated_global_params)\n",
        "    updated_server_weights = reconstruct_parameters(params, shapes, sizes, trained_weights)\n",
        "\n",
        "    assert set(updated_server_weights.keys()) == set(trained_weights.keys()), \"Parameter keys do not match.\"\n",
        "\n",
        "    global_model.load_state_dict(updated_server_weights)\n",
        "    for model in clients_models.values():\n",
        "        model.load_state_dict(global_model.state_dict())\n",
        "\n",
        "    loss_avg = sum(local_losses) / len(local_losses)\n",
        "    loss_train.append(loss_avg)\n",
        "    acc_train.append(100 * sum(local_acc) / len(local_acc))\n",
        "\n",
        "    cur_auc, test_loss = evaluate(global_model, test_dataset, test_bs, device)\n",
        "    loss_test.append(test_loss)\n",
        "    acc_test.append(cur_auc)\n",
        "    logging.info(f'Round {round+1}, Train loss: {loss_avg:.4f}, Test Loss: {test_loss:.4f}, Test Accuracy: {cur_auc:.2f}%')\n",
        "    print(f'Round {round+1}, Train loss: {loss_avg:.4f}, Test Loss: {test_loss:.4f}, Test Accuracy: {cur_auc:.2f}%')\n"
      ]
    },
    {
      "cell_type": "code",
      "execution_count": 82,
      "metadata": {
        "colab": {
          "base_uri": "https://localhost:8080/"
        },
        "id": "2-rRSOLOKjjS",
        "outputId": "e17c9482-42d6-45e6-cb2b-13ada46359a3"
      },
      "outputs": [
        {
          "data": {
            "text/plain": [
              "dict_keys([0, 1, 2, 3])"
            ]
          },
          "execution_count": 82,
          "metadata": {},
          "output_type": "execute_result"
        }
      ],
      "source": [
        "cl_weights = {}\n",
        "for i in range(4):\n",
        "  cl_weights[i] = global_model.state_dict()\n",
        "cl_weights.keys()"
      ]
    },
    {
      "cell_type": "code",
      "execution_count": 77,
      "metadata": {
        "colab": {
          "base_uri": "https://localhost:8080/"
        },
        "id": "8KDI1coqLQaZ",
        "outputId": "bd22c9d9-776a-47be-de25-d850d4d2ba2f"
      },
      "outputs": [
        {
          "data": {
            "text/plain": [
              "{2: 0, 3: 0, 6: 0, 7: 0, 5: 0, 1: 0, 9: 0, 4: 0, 0: 0, 8: 0}"
            ]
          },
          "execution_count": 77,
          "metadata": {},
          "output_type": "execute_result"
        }
      ],
      "source": [
        "client_segment_map"
      ]
    },
    {
      "cell_type": "code",
      "execution_count": 104,
      "metadata": {
        "colab": {
          "base_uri": "https://localhost:8080/"
        },
        "id": "ZcVuB_NnLDkp",
        "outputId": "321951eb-4137-4d17-93a1-b37acbcefb6f"
      },
      "outputs": [
        {
          "name": "stdout",
          "output_type": "stream",
          "text": [
            "WARNING: The input does not fit in a single ciphertext, and some operations will be disabled.\n",
            "The following operations are disabled in this setup: matmul, matmul_plain, enc_matmul_plain, conv2d_im2col.\n",
            "If you need to use those operations, try increasing the poly_modulus parameter, to fit your input.\n",
            "WARNING: The input does not fit in a single ciphertext, and some operations will be disabled.\n",
            "The following operations are disabled in this setup: matmul, matmul_plain, enc_matmul_plain, conv2d_im2col.\n",
            "If you need to use those operations, try increasing the poly_modulus parameter, to fit your input.\n",
            "WARNING: The input does not fit in a single ciphertext, and some operations will be disabled.\n",
            "The following operations are disabled in this setup: matmul, matmul_plain, enc_matmul_plain, conv2d_im2col.\n",
            "If you need to use those operations, try increasing the poly_modulus parameter, to fit your input.\n",
            "WARNING: The input does not fit in a single ciphertext, and some operations will be disabled.\n",
            "The following operations are disabled in this setup: matmul, matmul_plain, enc_matmul_plain, conv2d_im2col.\n",
            "If you need to use those operations, try increasing the poly_modulus parameter, to fit your input.\n"
          ]
        }
      ],
      "source": [
        "prev_weights , aggregated_params, t_enc, t_sec, t_dec  = handle_partial_updates(cl_weights, num_segments, {0: 0, 1: 0, 2: 0, 3: 0})"
      ]
    },
    {
      "cell_type": "code",
      "execution_count": 105,
      "metadata": {
        "colab": {
          "base_uri": "https://localhost:8080/"
        },
        "id": "JSMbbu72Mr6_",
        "outputId": "f6089376-2bc5-49db-8b3f-580834def270"
      },
      "outputs": [
        {
          "data": {
            "text/plain": [
              "{0: [tensor([-0.0063,  0.0036, -0.0811,  ..., -0.0126,  0.0082,  0.0042],\n",
              "         device='cuda:0'),\n",
              "  tensor([-0.0139, -0.0135,  0.0141,  ...,  0.0101, -0.0047,  0.0107],\n",
              "         device='cuda:0'),\n",
              "  tensor([-0.0017,  0.0061,  0.0112,  ..., -0.0367,  0.0204,  0.0135],\n",
              "         device='cuda:0')],\n",
              " 1: [tensor([-0.0063,  0.0036, -0.0811,  ..., -0.0126,  0.0082,  0.0042],\n",
              "         device='cuda:0'),\n",
              "  tensor([-0.0139, -0.0135,  0.0141,  ...,  0.0101, -0.0047,  0.0107],\n",
              "         device='cuda:0'),\n",
              "  tensor([-0.0017,  0.0061,  0.0112,  ..., -0.0367,  0.0204,  0.0135],\n",
              "         device='cuda:0')],\n",
              " 2: [tensor([-0.0063,  0.0036, -0.0811,  ..., -0.0126,  0.0082,  0.0042],\n",
              "         device='cuda:0'),\n",
              "  tensor([-0.0139, -0.0135,  0.0141,  ...,  0.0101, -0.0047,  0.0107],\n",
              "         device='cuda:0'),\n",
              "  tensor([-0.0017,  0.0061,  0.0112,  ..., -0.0367,  0.0204,  0.0135],\n",
              "         device='cuda:0')],\n",
              " 3: [tensor([-0.0063,  0.0036, -0.0811,  ..., -0.0126,  0.0082,  0.0042],\n",
              "         device='cuda:0'),\n",
              "  tensor([-0.0139, -0.0135,  0.0141,  ...,  0.0101, -0.0047,  0.0107],\n",
              "         device='cuda:0'),\n",
              "  tensor([-0.0017,  0.0061,  0.0112,  ..., -0.0367,  0.0204,  0.0135],\n",
              "         device='cuda:0')]}"
            ]
          },
          "execution_count": 105,
          "metadata": {},
          "output_type": "execute_result"
        }
      ],
      "source": [
        "prev_weights"
      ]
    },
    {
      "cell_type": "code",
      "execution_count": 106,
      "metadata": {
        "colab": {
          "base_uri": "https://localhost:8080/"
        },
        "id": "vZE-2g7gPibu",
        "outputId": "06de6f21-5bb0-48ed-aa78-c8504a4429c3"
      },
      "outputs": [
        {
          "data": {
            "text/plain": [
              "{0: tensor([-0.0063,  0.0036, -0.0811,  ..., -0.0126,  0.0082,  0.0042],\n",
              "        device='cuda:0')}"
            ]
          },
          "execution_count": 106,
          "metadata": {},
          "output_type": "execute_result"
        }
      ],
      "source": [
        "aggregated_params"
      ]
    },
    {
      "cell_type": "code",
      "execution_count": null,
      "metadata": {
        "id": "BMu4zjVscHpL",
        "outputId": "93be1fe6-888c-4b6a-8c52-13fde780d337"
      },
      "outputs": [
        {
          "name": "stdout",
          "output_type": "stream",
          "text": [
            "Training accuracy: 85.63%\n",
            "Testing accuracy: 84.76%\n"
          ]
        }
      ],
      "source": [
        "# Testing\n",
        "global_model.eval()\n",
        "train_acc, train_loss = evaluate(\n",
        "    global_model, train_dataset, test_bs, device)\n",
        "test_acc, test_loss = evaluate(\n",
        "    global_model, test_dataset, test_bs, device)\n",
        "print(\"Training accuracy: {:.2f}%\".format(train_acc))\n",
        "print(\"Testing accuracy: {:.2f}%\".format(test_acc))"
      ]
    },
    {
      "cell_type": "code",
      "execution_count": null,
      "metadata": {
        "id": "4oqFCCjil_sR"
      },
      "outputs": [],
      "source": [
        "# Save the entire model\n",
        "torch.save(global_model, 'FL_model_resnet9_24_06.pth')\n",
        "\n",
        "# # To load the entire model\n",
        "# model = torch.load('model_complete.pth')\n",
        "# model.eval()"
      ]
    },
    {
      "cell_type": "code",
      "execution_count": null,
      "metadata": {
        "id": "aqVk_oEkl_sR"
      },
      "outputs": [],
      "source": [
        "# Save only the state dictionary\n",
        "torch.save(model.state_dict(), 'FL_model_resnet9_state_dict.pth')\n",
        "\n",
        "# # To load the state dictionary, you need to re-instantiate the model first\n",
        "# model = ResNet18()\n",
        "# model.load_state_dict(torch.load('model_state_dict.pth'))\n",
        "# model.eval()"
      ]
    },
    {
      "cell_type": "code",
      "execution_count": null,
      "metadata": {
        "id": "AWLWYLZn5-xF",
        "outputId": "75cc353a-4a7b-4c3d-a805-7779ec526481"
      },
      "outputs": [
        {
          "data": {
            "image/png": "[encoded data removed]",
            "text/plain": [
              "<Figure size 640x480 with 1 Axes>"
            ]
          },
          "metadata": {},
          "output_type": "display_data"
        }
      ],
      "source": [
        "import matplotlib.pyplot as plt\n",
        "\n",
        "plt.plot(loss_train, label='Training Loss')\n",
        "#plt.plot(loss_test, label='Test Loss')\n",
        "plt.xlabel('Rounds')\n",
        "plt.ylabel('Loss')\n",
        "plt.title('Training and Test Loss Over Rounds')\n",
        "plt.legend()\n",
        "plt.show()"
      ]
    },
    {
      "cell_type": "code",
      "execution_count": null,
      "metadata": {
        "id": "ccuh6WFzCPdj",
        "outputId": "c4d0e445-bbfe-41d2-9e2d-71a22a0129ab"
      },
      "outputs": [
        {
          "data": {
            "text/plain": [
              "array([8, 6, 3, 2, 0, 7, 9, 1, 4, 5])"
            ]
          },
          "execution_count": 26,
          "metadata": {},
          "output_type": "execute_result"
        }
      ],
      "source": [
        "selected_clients"
      ]
    },
    {
      "cell_type": "code",
      "execution_count": null,
      "metadata": {
        "id": "FUIIEofwl_sS"
      },
      "outputs": [],
      "source": [
        "# Plotting the graphs\n",
        "def plot_graphs(train_accuracy, test_accuracy, train_loss, test_loss):\n",
        "    plt.figure(1, figsize=(10,6))\n",
        "    plt.plot(train_accuracy, label='Train Accuracy', color='red', linewidth=2)\n",
        "    plt.plot(test_accuracy, label='Test Accuracy', color='blue', linewidth=2)\n",
        "    plt.xlabel(\"epochs\")\n",
        "    plt.ylabel(\"accuracy\")\n",
        "    plt.title(\"Epoch Accuracy Plot\")\n",
        "    plt.legend()\n",
        "    #plt.savefig('acc'+'_'+str(learning_rate)+'_'+key+'_'+str(weight_decay)+'_'+str(batch_size)+'_'+str(xavier)+'.jpg', dpi=100, bbox_inches='tight')\n",
        "\n",
        "    plt.figure(2, figsize=(10,6))\n",
        "    plt.plot(train_loss, label='Train loss', color='r', linewidth=2)\n",
        "    plt.plot(test_loss, label='Test loss', color='b', linewidth=2)\n",
        "    plt.xlabel(\"epochs\")\n",
        "    plt.ylabel(\"loss\")\n",
        "    plt.title(\"Epoch Loss Plot\")\n",
        "    plt.legend()"
      ]
    },
    {
      "cell_type": "code",
      "execution_count": null,
      "metadata": {
        "id": "ECt8uip1l_sS",
        "outputId": "99d6f8cb-2ff6-47dc-b7b2-b1ab863edbfe"
      },
      "outputs": [
        {
          "data": {
            "image/png": "[encoded data removed]",
            "text/plain": [
              "<Figure size 1000x600 with 1 Axes>"
            ]
          },
          "metadata": {},
          "output_type": "display_data"
        },
        {
          "data": {
            "image/png": "[encoded data removed]",
            "text/plain": [
              "<Figure size 1000x600 with 1 Axes>"
            ]
          },
          "metadata": {},
          "output_type": "display_data"
        }
      ],
      "source": [
        "plot_graphs(acc_train, acc_test, loss_train, loss_test)"
      ]
    },
    {
      "cell_type": "code",
      "execution_count": null,
      "metadata": {
        "id": "CkzE-zKnl_sS"
      },
      "outputs": [],
      "source": [
        "with open('FL_model_resnet9_overfit_train_accuracy.txt', 'w') as file:\n",
        "    # Write each value on a new line\n",
        "    file.write(f\"{acc_train}\\n\")"
      ]
    },
    {
      "cell_type": "code",
      "execution_count": null,
      "metadata": {
        "id": "BMgermT7l_sS"
      },
      "outputs": [],
      "source": [
        "with open('FL_model_resnet9_overfit_test_accuracy.txt', 'w') as file:\n",
        "    # Write each value on a new line\n",
        "    file.write(f\"{acc_test}\\n\")"
      ]
    },
    {
      "cell_type": "code",
      "execution_count": null,
      "metadata": {
        "id": "T9Ucwk_El_sS"
      },
      "outputs": [],
      "source": [
        "with open('FL_model_resnet9_overfit_train_loss.txt', 'w') as file:\n",
        "    # Write each value on a new line\n",
        "    file.write(f\"{loss_train}\\n\")"
      ]
    },
    {
      "cell_type": "code",
      "execution_count": null,
      "metadata": {
        "id": "8qMPy8Nkl_sS"
      },
      "outputs": [],
      "source": [
        "with open('FL_model_resnet9_overfit_test_loss.txt', 'w') as file:\n",
        "    # Write each value on a new line\n",
        "    file.write(f\"{loss_test}\\n\")"
      ]
    },
    {
      "cell_type": "code",
      "execution_count": null,
      "metadata": {
        "id": "689XN_-Gl_sS"
      },
      "outputs": [],
      "source": [
        "# import ast\n",
        "# with open('test_accuracy.txt', 'r') as file:\n",
        "#     loaded_t_acc = file.read()\n",
        "# ast.literal_eval(loaded_t_acc)"
      ]
    },
    {
      "cell_type": "code",
      "execution_count": null,
      "metadata": {
        "id": "Y5EY5n9eFDwa"
      },
      "outputs": [],
      "source": [
        "import os\n",
        "\n",
        "model_path = '/content/drive/MyDrive/Colab Notebooks/FL_Base/global_model_weights_resnet18.pth'\n",
        "\n",
        "# Initialize the model (make sure it has the same architecture as the saved weights)\n",
        "loaded_model = ResNet18(\n",
        "    in_channels=num_channels, num_classes=num_classes).to(device)\n",
        "\n",
        "# Load model weights\n",
        "loaded_model.load_state_dict(torch.load(model_path))\n",
        "print(f'Model weights loaded from {model_path}')"
      ]
    },
    {
      "cell_type": "code",
      "execution_count": null,
      "metadata": {
        "id": "z3T4TaSyUDHL"
      },
      "outputs": [],
      "source": [
        "testloader = torch.utils.data.DataLoader(test_dataset, batch_size=128,\n",
        "                                         shuffle=False, num_workers=2)"
      ]
    },
    {
      "cell_type": "code",
      "execution_count": null,
      "metadata": {
        "id": "7iq3yMzAUZGl"
      },
      "outputs": [],
      "source": [
        "# Use one batch for the attack\n",
        "images, labels = next(iter(testloader))"
      ]
    },
    {
      "cell_type": "code",
      "execution_count": null,
      "metadata": {
        "id": "9vDQLz98Ubpy",
        "outputId": "3e80a436-8838-425f-c56a-996b5a638718"
      },
      "outputs": [
        {
          "name": "stdout",
          "output_type": "stream",
          "text": [
            "Iteration 0, Loss: 9.325345039367676\n",
            "Iteration 10, Loss: 0.11462259292602539\n",
            "Iteration 20, Loss: 0.00682041933760047\n",
            "Iteration 30, Loss: 0.0005145419854670763\n",
            "Iteration 40, Loss: 3.6379995435709134e-05\n",
            "Iteration 50, Loss: 4.279410859453492e-06\n",
            "Iteration 60, Loss: 4.279410859453492e-06\n",
            "Iteration 70, Loss: 4.279410859453492e-06\n",
            "Iteration 80, Loss: 4.279410859453492e-06\n",
            "Iteration 90, Loss: 4.279410859453492e-06\n",
            "Iteration 100, Loss: 4.279410859453492e-06\n",
            "Iteration 110, Loss: 4.279410859453492e-06\n",
            "Iteration 120, Loss: 4.279410859453492e-06\n",
            "Iteration 130, Loss: 4.279410859453492e-06\n",
            "Iteration 140, Loss: 4.279410859453492e-06\n",
            "Iteration 150, Loss: 4.279410859453492e-06\n",
            "Iteration 160, Loss: 4.279410859453492e-06\n",
            "Iteration 170, Loss: 4.279410859453492e-06\n",
            "Iteration 180, Loss: 4.279410859453492e-06\n",
            "Iteration 190, Loss: 4.279410859453492e-06\n",
            "Iteration 200, Loss: 4.279410859453492e-06\n",
            "Iteration 210, Loss: 4.279410859453492e-06\n",
            "Iteration 220, Loss: 4.279410859453492e-06\n",
            "Iteration 230, Loss: 4.279410859453492e-06\n",
            "Iteration 240, Loss: 4.279410859453492e-06\n",
            "Iteration 250, Loss: 4.279410859453492e-06\n",
            "Iteration 260, Loss: 4.279410859453492e-06\n",
            "Iteration 270, Loss: 4.279410859453492e-06\n",
            "Iteration 280, Loss: 4.279410859453492e-06\n",
            "Iteration 290, Loss: 4.279410859453492e-06\n"
          ]
        }
      ],
      "source": [
        "# Initialize dummy data\n",
        "dummy_data = torch.randn_like(images, requires_grad=True, device=device)\n",
        "\n",
        "# Define optimizer for the dummy data\n",
        "optimizer = torch.optim.LBFGS([dummy_data], lr=0.01)\n",
        "\n",
        "def closure():\n",
        "    optimizer.zero_grad()\n",
        "    dummy_outputs = global_model(dummy_data)\n",
        "    dummy_loss = criterion(dummy_outputs, labels.to(device))\n",
        "    dummy_loss.backward()\n",
        "    return dummy_loss\n",
        "\n",
        "# Optimize the dummy data\n",
        "for it in range(300):  # Number of optimization iterations\n",
        "    optimizer.step(closure)\n",
        "\n",
        "    if it % 10 == 0:  # Print loss every 10 iterations\n",
        "        current_loss = closure()\n",
        "        print(f\"Iteration {it}, Loss: {current_loss.item()}\")"
      ]
    },
    {
      "cell_type": "code",
      "execution_count": null,
      "metadata": {
        "id": "XHXwTI_XUdnN",
        "outputId": "ddbbc0a2-8259-4f57-8924-8ad74787e6a9"
      },
      "outputs": [
        {
          "name": "stderr",
          "output_type": "stream",
          "text": [
            "Clipping input data to the valid range for imshow with RGB data ([0..1] for floats or [0..255] for integers).\n",
            "Clipping input data to the valid range for imshow with RGB data ([0..1] for floats or [0..255] for integers).\n",
            "Clipping input data to the valid range for imshow with RGB data ([0..1] for floats or [0..255] for integers).\n",
            "Clipping input data to the valid range for imshow with RGB data ([0..1] for floats or [0..255] for integers).\n",
            "Clipping input data to the valid range for imshow with RGB data ([0..1] for floats or [0..255] for integers).\n",
            "Clipping input data to the valid range for imshow with RGB data ([0..1] for floats or [0..255] for integers).\n",
            "Clipping input data to the valid range for imshow with RGB data ([0..1] for floats or [0..255] for integers).\n",
            "Clipping input data to the valid range for imshow with RGB data ([0..1] for floats or [0..255] for integers).\n"
          ]
        },
        {
          "data": {
            "image/png": "[encoded data removed]",
            "text/plain": [
              "<Figure size 1000x400 with 8 Axes>"
            ]
          },
          "metadata": {},
          "output_type": "display_data"
        }
      ],
      "source": [
        "import matplotlib.pyplot as plt\n",
        "\n",
        "# Move dummy data to CPU and remove gradients for visualization\n",
        "reconstructed = dummy_data.detach().cpu()\n",
        "\n",
        "# Visualize some original and reconstructed images\n",
        "fig, axs = plt.subplots(2, 4, figsize=(10, 4))\n",
        "for i in range(4):\n",
        "    axs[0, i].imshow(np.transpose(images[i].cpu().numpy(), (1, 2, 0)))\n",
        "    axs[0, i].title.set_text(f\"Original {i}\")\n",
        "    axs[0, i].axis('off')\n",
        "\n",
        "    axs[1, i].imshow(np.transpose(reconstructed[i].numpy(), (1, 2, 0)))\n",
        "    axs[1, i].title.set_text(f\"Reconstructed {i}\")\n",
        "    axs[1, i].axis('off')\n",
        "plt.show()"
      ]
    },
    {
      "cell_type": "code",
      "execution_count": null,
      "metadata": {
        "id": "acMMELrdl_sT"
      },
      "outputs": [],
      "source": [
        "import ast\n",
        "with open('test_loss.txt', 'r') as file:\n",
        "    loaded_t_acc = file.read()\n",
        "fl_loss = ast.literal_eval(loaded_t_acc)"
      ]
    },
    {
      "cell_type": "code",
      "execution_count": null,
      "metadata": {
        "id": "LrzYGV-Jl_sT"
      },
      "outputs": [],
      "source": [
        "import ast\n",
        "with open('central_test_loss.txt', 'r') as file:\n",
        "    loaded_t_acc = file.read()\n",
        "centralized_loss = ast.literal_eval(loaded_t_acc)"
      ]
    },
    {
      "cell_type": "code",
      "execution_count": null,
      "metadata": {
        "id": "jVGzXOW5l_sT"
      },
      "outputs": [],
      "source": [
        "import ast\n",
        "with open('test_loss_ps.txt', 'r') as file:\n",
        "    loaded_t_acc = file.read()\n",
        "ps_loss = ast.literal_eval(loaded_t_acc)"
      ]
    },
    {
      "cell_type": "code",
      "execution_count": null,
      "metadata": {
        "id": "tpckDvELl_sT"
      },
      "outputs": [],
      "source": [
        "import ast\n",
        "with open('test_loss_ps_2.txt', 'r') as file:\n",
        "    loaded_t_acc = file.read()\n",
        "ps_loss_2 = ast.literal_eval(loaded_t_acc)"
      ]
    },
    {
      "cell_type": "code",
      "execution_count": null,
      "metadata": {
        "id": "nXeRv13BUoa0"
      },
      "outputs": [],
      "source": [
        "import matplotlib.pyplot as plt\n",
        "from typing import List\n",
        "def plot_ndcg(epochs: int, central_loss: List[float], fed_loss: List[float], ps_loss):\n",
        "    \"\"\"\n",
        "    Plots training loss across epochs for two different models.\n",
        "\n",
        "    :param epochs: Number of global training epochs\n",
        "    :param loss1: List of loss per global epoch for the first model\n",
        "    :param loss2: List of loss per global epoch for the second model\n",
        "    :param num_clients: Number of clients sampled per epoch\n",
        "    \"\"\"\n",
        "    plt.figure(figsize=(10, 6))\n",
        "    plt.plot(list(range(epochs)), central_loss, label='Centralized Model', color=\"blue\")\n",
        "    plt.plot(list(range(epochs)), fed_loss, label='FL', color=\"red\")\n",
        "    plt.plot(list(range(epochs)), ps_loss, label='FL with partial Sharing', color=\"green\")\n",
        "    plt.ylim(0.0, 3.5)\n",
        "    plt.xlabel('Epochs')\n",
        "    plt.ylabel('Loss')\n",
        "    plt.title(f'Loss per epoch')\n",
        "    plt.legend()\n",
        "    plt.show()"
      ]
    },
    {
      "cell_type": "code",
      "execution_count": null,
      "metadata": {
        "id": "JPRik2WHl_sT",
        "outputId": "4e687053-ce61-4279-f3e1-2b159b729d51"
      },
      "outputs": [
        {
          "data": {
            "image/png": "[encoded data removed]",
            "text/plain": [
              "<Figure size 1000x600 with 1 Axes>"
            ]
          },
          "metadata": {},
          "output_type": "display_data"
        }
      ],
      "source": [
        "plot_ndcg(100, centralized_loss[:100], fl_loss[:100], ps_loss_2)"
      ]
    },
    {
      "cell_type": "code",
      "execution_count": null,
      "metadata": {
        "id": "DyveoECrl_sT"
      },
      "outputs": [],
      "source": []
    }
  ],
  "metadata": {
    "accelerator": "GPU",
    "colab": {
      "gpuType": "T4",
      "provenance": []
    },
    "kernelspec": {
      "display_name": "Python 3",
      "name": "python3"
    },
    "language_info": {
      "codemirror_mode": {
        "name": "ipython",
        "version": 3
      },
      "file_extension": ".py",
      "mimetype": "text/x-python",
      "name": "python",
      "nbconvert_exporter": "python",
      "pygments_lexer": "ipython3",
      "version": "3.9.19"
    }
  },
  "nbformat": 4,
  "nbformat_minor": 0
}
